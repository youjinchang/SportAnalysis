
클래스별 반복문 전처리¶
추론 클래스별로 가져오기¶
IOU 박스 수정¶

COCO dataset - Keypoints¶
In [1]:
import os
os.environ["CUDA_DEVICE_ORDER"]="PCI_BUS_ID"
os.environ["CUDA_VISIBLE_DEVICES"]="{}".format(3) # gpu idx
In [292]:
%matplotlib inline
from pycocotools.coco import COCO
import numpy as np
import pandas as pd
import skimage.io as io
import matplotlib.pyplot as plt
import pylab
import glob
import os
import cv2
import matplotlib.image as image
import json
from PIL import Image
from PIL import Image, ImageFont, ImageDraw
pylab.rcParams['figure.figsize'] = (8.0, 10.0)

import torch
In [3]:
# baseDir = '/work/repos_old/HOMEWORK/ML/COCO'
In [4]:
!pwd

/home/joohyun/work/repos_old/HOMEWORK/ML/COCO
In [16]:
%cd ./simple-HRNet

/home/joohyun/work/repos_old/HOMEWORK/ML/COCO/simple-HRNet
In [20]:
baseDir = '.'
In [21]:
img_dir_path = '{}/images'.format(baseDir)
json_dir_path = '{}/json_output'.format(baseDir)
In [22]:
print(img_dir_path)
print(json_dir_path)

./images
./json_output
In [23]:
!ls $img_dir_path

00000226.jpg  beginner_yoga_1.jpeg  goddess  tree      yoga
00000285.jpg  downdog		    plank    warrior2
In [24]:
path01 = '{}/downdog/*'.format(img_dir_path)
path02 = '{}/goddess/*'.format(img_dir_path)
path03 = '{}/tree/*'.format(img_dir_path)
path04 = '{}/plank/*'.format(img_dir_path)
path05 = '{}/warrior2/*'.format(img_dir_path)
In [25]:
path01
Out[25]:
'./images/downdog/*'
In [49]:
img_list_path01 = sorted(glob.glob(path01))
img_list_path02 = sorted(glob.glob(path02))
img_list_path03 = sorted(glob.glob(path03))
img_list_path04 = sorted(glob.glob(path04))
img_list_path05 = sorted(glob.glob(path05))

img_list = [img_list_path01, img_list_path02, img_list_path03, 
            img_list_path04, img_list_path05]
In [296]:
class_name = ['downdog', 'goddess', 'tree', 'plank', 'warrior2']
In [57]:
json_list_path01 = []
json_list_path02 = []
json_list_path03 = []
json_list_path04 = []
json_list_path05 = []

json_list = [json_list_path01, json_list_path02, json_list_path03, 
             json_list_path04, json_list_path05]

for j in range(5):
    temp_output_path = './json_output/{}/'.format(class_name[j])
    print(temp_output_path)
    for i in range(len(img_list[j])):
        temp_file_name = img_list[j][i].split('/')[-1].split('.')[0]
        #print(temp_file_name)
        temp_output_name = temp_output_path+temp_file_name+'.json'
        #print(temp_output_name)
        json_list[j].append(temp_output_name)

./json_output/downdog/
./json_output/goddess/
./json_output/tree/
./json_output/plank/
./json_output/warrior2/

KeyPoint 추출 이미지 1개¶
In [59]:
!echo {img_list_path01[0]}

./images/downdog/00000000.jpg
In [61]:
!echo {json_list_path01[0]}

./json_output/downdog/00000000.json
In [62]:
#!pip install ffmpeg-python
In [63]:
!python3 scripts/extract-keypoints.py \
  --filename {img_list_path01[0]} \
  --format json \
  --hrnet_weights weights/pose_hrnet_w48_384x288.pth \
  --json_output_filename {json_list_path01[0]}

device: 'cuda' - 1 GPU(s) will be used
None
number of people :  1
bbox : 
 [[ 257    0 1167  720]]
frame:    0 / 0 - framerate: 10.442346 fps 

KeyPoint 추출¶
In [64]:
for i in range(len(img_list_path01)):
    !python3 scripts/extract-keypoints.py \
      --filename {img_list_path01[i]} \
      --format json \
      --hrnet_weights weights/pose_hrnet_w48_384x288.pth \
      --json_output_filename {json_list_path01[i]}

device: 'cuda' - 1 GPU(s) will be used
None
number of people :  1
bbox : 
 [[ 257    0 1167  720]]
frame:    0 / 0 - framerate: 10.468644 fps device: 'cuda' - 1 GPU(s) will be used
None
number of people :  1
bbox : 
 [[ 267    0 1401  900]]
frame:    0 / 0 - framerate: 9.262998 fps device: 'cuda' - 1 GPU(s) will be used
None
number of people :  1
bbox : 
 [[ 171    0 2045 1620]]
frame:    0 / 0 - framerate: 7.184303 fps device: 'cuda' - 1 GPU(s) will be used
None
number of people :  1
bbox : 
 [[ 350    0 1850 1365]]
frame:    0 / 0 - framerate: 7.783907 fps device: 'cuda' - 1 GPU(s) will be used
None
number of people :  1
bbox : 
 [[  95    0 1026  675]]
frame:    0 / 0 - framerate: 11.435352 fps device: 'cuda' - 1 GPU(s) will be used
None
number of people :  1
bbox : 
 [[ 110   41  897 1000]]
frame:    0 / 0 - framerate: 11.167033 fps device: 'cuda' - 1 GPU(s) will be used
None
number of people :  1
bbox : 
 [[ 69   0 828 601]]
frame:    0 / 0 - framerate: 11.952921 fps device: 'cuda' - 1 GPU(s) will be used
None
number of people :  1
bbox : 
 [[131   0 519 400]]
frame:    0 / 0 - framerate: 13.180268 fps device: 'cuda' - 1 GPU(s) will be used
None
number of people :  1
bbox : 
 [[ 252    0 1457 1067]]
frame:    0 / 0 - framerate: 9.904280 fps device: 'cuda' - 1 GPU(s) will be used
None
number of people :  1
bbox : 
 [[ 705    0 3742 2547]]
frame:    0 / 0 - framerate: 3.605525 fps device: 'cuda' - 1 GPU(s) will be used
None
number of people :  0
bbox : 
 []
frame:    0 / -9223372036854775808 - framerate: 25.371434 fps device: 'cuda' - 1 GPU(s) will be used
None
number of people :  1
bbox : 
 [[119   0 683 534]]
frame:    0 / 0 - framerate: 13.307140 fps device: 'cuda' - 1 GPU(s) will be used
None
number of people :  1
bbox : 
 [[ 238    0 1494 1061]]
frame:    0 / 0 - framerate: 9.280789 fps device: 'cuda' - 1 GPU(s) will be used
None
number of people :  1
bbox : 
 [[ 266    0 1623 1131]]
frame:    0 / 0 - framerate: 8.117531 fps device: 'cuda' - 1 GPU(s) will be used
None
number of people :  1
bbox : 
 [[102   0 665 461]]
frame:    0 / 0 - framerate: 11.465392 fps device: 'cuda' - 1 GPU(s) will be used
None
number of people :  1
bbox : 
 [[ 60   0 660 406]]
frame:    0 / 0 - framerate: 12.369002 fps device: 'cuda' - 1 GPU(s) will be used
None
number of people :  1
bbox : 
 [[167   0 789 602]]
frame:    0 / -9223372036854775808 - framerate: 11.215376 fps device: 'cuda' - 1 GPU(s) will be used
None
number of people :  1
bbox : 
 [[253   9 785 601]]
frame:    0 / 0 - framerate: 11.551215 fps device: 'cuda' - 1 GPU(s) will be used
None
number of people :  1
bbox : 
 [[ 282    0 1451 1078]]
frame:    0 / 0 - framerate: 8.337333 fps device: 'cuda' - 1 GPU(s) will be used
None
number of people :  1
bbox : 
 [[ 71   0 409 300]]
frame:    0 / 0 - framerate: 13.273240 fps device: 'cuda' - 1 GPU(s) will be used
None
number of people :  1
bbox : 
 [[169   0 880 700]]
frame:    0 / 0 - framerate: 11.616897 fps device: 'cuda' - 1 GPU(s) will be used
None
number of people :  1
bbox : 
 [[ 50   0 646 462]]
frame:    0 / 0 - framerate: 13.147547 fps device: 'cuda' - 1 GPU(s) will be used
None
number of people :  1
bbox : 
 [[ 73   0 618 388]]
frame:    0 / 0 - framerate: 13.506833 fps device: 'cuda' - 1 GPU(s) will be used
None
number of people :  1
bbox : 
 [[ 96   0 941 667]]
frame:    0 / 0 - framerate: 12.148705 fps device: 'cuda' - 1 GPU(s) will be used
None
number of people :  2
bbox : 
 [[ 155    0 1942 1414]
 [1297  598 1937 1414]]
frame:    0 / 0 - framerate: 5.900265 fps device: 'cuda' - 1 GPU(s) will be used
None
number of people :  1
bbox : 
 [[174   0 926 768]]
frame:    0 / 0 - framerate: 12.149163 fps device: 'cuda' - 1 GPU(s) will be used
None
number of people :  1
bbox : 
 [[ 36   0 359 281]]
frame:    0 / 0 - framerate: 13.107241 fps device: 'cuda' - 1 GPU(s) will be used
None
number of people :  1
bbox : 
 [[205   0 936 683]]
frame:    0 / 0 - framerate: 12.487470 fps device: 'cuda' - 1 GPU(s) will be used
None
number of people :  1
bbox : 
 [[125   0 584 400]]
frame:    0 / 0 - framerate: 13.505442 fps device: 'cuda' - 1 GPU(s) will be used
None
number of people :  1
bbox : 
 [[171   0 927 500]]
frame:    0 / 0 - framerate: 12.122056 fps device: 'cuda' - 1 GPU(s) will be used
None
number of people :  1
bbox : 
 [[ 69   0 779 565]]
frame:    0 / 0 - framerate: 12.196822 fps device: 'cuda' - 1 GPU(s) will be used
None
number of people :  1
bbox : 
 [[ 82   0 571 349]]
frame:    0 / 0 - framerate: 13.692423 fps device: 'cuda' - 1 GPU(s) will be used
None
number of people :  2
bbox : 
 [[  7   0 584 600]
 [231 160 594 600]]
frame:    0 / 0 - framerate: 11.065772 fps device: 'cuda' - 1 GPU(s) will be used
None
number of people :  1
bbox : 
 [[ 184  260 2455 2687]]
frame:    0 / 0 - framerate: 4.470386 fps device: 'cuda' - 1 GPU(s) will be used
None
number of people :  1
bbox : 
 [[ 239    0 1183 1018]]
frame:    0 / 0 - framerate: 10.820352 fps device: 'cuda' - 1 GPU(s) will be used
None
number of people :  1
bbox : 
 [[ 48   0 451 335]]
frame:    0 / 0 - framerate: 13.551126 fps device: 'cuda' - 1 GPU(s) will be used
None
number of people :  1
bbox : 
 [[ 62   0 885 714]]
frame:    0 / 0 - framerate: 11.959226 fps device: 'cuda' - 1 GPU(s) will be used
None
number of people :  1
bbox : 
 [[ 169    0 1494  991]]
frame:    0 / -9223372036854775808 - framerate: 8.528093 fps device: 'cuda' - 1 GPU(s) will be used
None
number of people :  2
bbox : 
 [[  7   0 584 600]
 [231 160 594 600]]
frame:    0 / 0 - framerate: 10.139104 fps device: 'cuda' - 1 GPU(s) will be used
None
number of people :  2
bbox : 
 [[ 155    0 1942 1414]
 [1297  598 1937 1414]]
frame:    0 / 0 - framerate: 4.985053 fps device: 'cuda' - 1 GPU(s) will be used
None
number of people :  1
bbox : 
 [[205   0 936 683]]
frame:    0 / 0 - framerate: 10.895938 fps device: 'cuda' - 1 GPU(s) will be used
None
number of people :  1
bbox : 
 [[171   0 927 500]]
frame:    0 / 0 - framerate: 11.224350 fps device: 'cuda' - 1 GPU(s) will be used
None
number of people :  1
bbox : 
 [[ 82   0 571 349]]
frame:    0 / 0 - framerate: 13.105930 fps device: 'cuda' - 1 GPU(s) will be used
None
number of people :  1
bbox : 
 [[ 813   41 4003 3328]]
frame:    0 / 0 - framerate: 2.543071 fps device: 'cuda' - 1 GPU(s) will be used
None
number of people :  1
bbox : 
 [[ 194    0 1047  960]]
frame:    0 / 0 - framerate: 9.778665 fps device: 'cuda' - 1 GPU(s) will be used
None
number of people :  1
bbox : 
 [[ 157    0 1049  675]]
frame:    0 / 0 - framerate: 10.676169 fps device: 'cuda' - 1 GPU(s) will be used
None
number of people :  1
bbox : 
 [[ 72   0 427 336]]
frame:    0 / 0 - framerate: 13.583822 fps device: 'cuda' - 1 GPU(s) will be used
None
number of people :  1
bbox : 
 [[ 42   0 420 327]]
frame:    0 / 0 - framerate: 13.580480 fps device: 'cuda' - 1 GPU(s) will be used
None
number of people :  1
bbox : 
 [[ 48   0 451 335]]
frame:    0 / 0 - framerate: 13.522728 fps device: 'cuda' - 1 GPU(s) will be used
None
number of people :  1
bbox : 
 [[ 62   0 885 714]]
frame:    0 / 0 - framerate: 11.749639 fps device: 'cuda' - 1 GPU(s) will be used
None
number of people :  1
bbox : 
 [[ 180  238  860 1024]]
frame:    0 / 0 - framerate: 12.208644 fps device: 'cuda' - 1 GPU(s) will be used
None
number of people :  1
bbox : 
 [[ 312    0 1433 1224]]
frame:    0 / 0 - framerate: 9.237985 fps device: 'cuda' - 1 GPU(s) will be used
None
number of people :  2
bbox : 
 [[ 450    0 1403 1000]
 [ 497  606  742  932]]
frame:    0 / 0 - framerate: 8.875312 fps device: 'cuda' - 1 GPU(s) will be used
None
number of people :  1
bbox : 
 [[ 239    0 1183 1018]]
frame:    0 / 0 - framerate: 9.631141 fps device: 'cuda' - 1 GPU(s) will be used
None
number of people :  1
bbox : 
 [[  87    0 1131  675]]
frame:    0 / 0 - framerate: 10.067868 fps device: 'cuda' - 1 GPU(s) will be used
None
number of people :  1
bbox : 
 [[ 27   0 332 212]]
frame:    0 / 0 - framerate: 12.026954 fps device: 'cuda' - 1 GPU(s) will be used
None
number of people :  1
bbox : 
 [[ 116    0 1114  675]]
frame:    0 / 0 - framerate: 9.952741 fps device: 'cuda' - 1 GPU(s) will be used
None
number of people :  1
bbox : 
 [[ 208    0 2414 2664]]
frame:    0 / 0 - framerate: 4.681639 fps device: 'cuda' - 1 GPU(s) will be used
None
number of people :  1
bbox : 
 [[ 146    0 1048  818]]
frame:    0 / 0 - framerate: 9.877108 fps device: 'cuda' - 1 GPU(s) will be used
None
number of people :  1
bbox : 
 [[ 36   0 476 333]]
frame:    0 / 0 - framerate: 13.334088 fps device: 'cuda' - 1 GPU(s) will be used
None
number of people :  1
bbox : 
 [[227 116 453 416]]
frame:    0 / 0 - framerate: 13.861344 fps device: 'cuda' - 1 GPU(s) will be used
None
number of people :  1
bbox : 
 [[ 119    0 1037  675]]
frame:    0 / 0 - framerate: 11.476497 fps device: 'cuda' - 1 GPU(s) will be used
None
number of people :  1
bbox : 
 [[ 169    0 1494  991]]
frame:    0 / -9223372036854775808 - framerate: 8.723630 fps device: 'cuda' - 1 GPU(s) will be used
None
number of people :  1
bbox : 
 [[ 66   0 602 480]]
frame:    0 / 0 - framerate: 13.388185 fps device: 'cuda' - 1 GPU(s) will be used
None
number of people :  0
bbox : 
 []
frame:    0 / 0 - framerate: 31.184880 fps device: 'cuda' - 1 GPU(s) will be used
None
number of people :  1
bbox : 
 [[ 813   41 4003 3328]]
frame:    0 / 0 - framerate: 2.512038 fps device: 'cuda' - 1 GPU(s) will be used
None
number of people :  1
bbox : 
 [[ 27   0 332 212]]
frame:    0 / 0 - framerate: 14.254897 fps device: 'cuda' - 1 GPU(s) will be used
None
number of people :  1
bbox : 
 [[330   0 997 720]]
frame:    0 / 0 - framerate: 10.843010 fps device: 'cuda' - 1 GPU(s) will be used
None
number of people :  1
bbox : 
 [[ 312    0 1433 1224]]
frame:    0 / 0 - framerate: 9.995243 fps device: 'cuda' - 1 GPU(s) will be used
None
number of people :  2
bbox : 
 [[ 52   0 589 463]
 [163 237 285 400]]
frame:    0 / 0 - framerate: 11.674615 fps device: 'cuda' - 1 GPU(s) will be used
None
number of people :  1
bbox : 
 [[ 208    0 2414 2664]]
frame:    0 / 0 - framerate: 4.688820 fps device: 'cuda' - 1 GPU(s) will be used
None
number of people :  1
bbox : 
 [[ 119    0 1037  675]]
frame:    0 / 0 - framerate: 10.126717 fps device: 'cuda' - 1 GPU(s) will be used
None
number of people :  1
bbox : 
 [[ 32   0 276 300]]
frame:    0 / 0 - framerate: 12.556180 fps device: 'cuda' - 1 GPU(s) will be used
None
number of people :  1
bbox : 
 [[ 79   0 619 500]]
frame:    0 / 0 - framerate: 11.927259 fps device: 'cuda' - 1 GPU(s) will be used
None
number of people :  1
bbox : 
 [[ 160    0 1172  850]]
frame:    0 / 0 - framerate: 9.489011 fps device: 'cuda' - 1 GPU(s) will be used
None
number of people :  1
bbox : 
 [[  87    0 1131  675]]
frame:    0 / 0 - framerate: 10.559093 fps device: 'cuda' - 1 GPU(s) will be used
None
number of people :  1
bbox : 
 [[ 36   0 476 333]]
frame:    0 / 0 - framerate: 13.641788 fps device: 'cuda' - 1 GPU(s) will be used
None
number of people :  1
bbox : 
 [[ 64   0 563 456]]
frame:    0 / 0 - framerate: 13.351703 fps device: 'cuda' - 1 GPU(s) will be used
None
number of people :  1
bbox : 
 [[227 116 453 416]]
frame:    0 / 0 - framerate: 13.178156 fps device: 'cuda' - 1 GPU(s) will be used
None
number of people :  1
bbox : 
 [[ 81 141 280 380]]
frame:    0 / -9223372036854775808 - framerate: 13.814002 fps device: 'cuda' - 1 GPU(s) will be used
None
number of people :  1
bbox : 
 [[ 66   0 602 480]]
frame:    0 / 0 - framerate: 13.506225 fps device: 'cuda' - 1 GPU(s) will be used
None
number of people :  1
bbox : 
 [[ 65   0 567 425]]
frame:    0 / 0 - framerate: 13.011282 fps device: 'cuda' - 1 GPU(s) will be used
None
number of people :  1
bbox : 
 [[ 46 103 366 450]]
frame:    0 / 0 - framerate: 11.089148 fps device: 'cuda' - 1 GPU(s) will be used
None
number of people :  1
bbox : 
 [[ 556   69 1563 1080]]
frame:    0 / 0 - framerate: 7.521041 fps device: 'cuda' - 1 GPU(s) will be used
None
number of people :  1
bbox : 
 [[ 175    0 1945 1409]]
frame:    0 / 0 - framerate: 6.190873 fps device: 'cuda' - 1 GPU(s) will be used
None
number of people :  1
bbox : 
 [[365  59 980 720]]
frame:    0 / 0 - framerate: 11.636202 fps device: 'cuda' - 1 GPU(s) will be used
None
number of people :  0
bbox : 
 []
frame:    0 / 0 - framerate: 35.577813 fps device: 'cuda' - 1 GPU(s) will be used
None
number of people :  1
bbox : 
 [[ 158    0 1225  720]]
frame:    0 / 0 - framerate: 11.675785 fps device: 'cuda' - 1 GPU(s) will be used
None
number of people :  1
bbox : 
 [[ 24   0 390 474]]
frame:    0 / 0 - framerate: 12.912106 fps device: 'cuda' - 1 GPU(s) will be used
None
number of people :  1
bbox : 
 [[110 105 480 550]]
frame:    0 / 0 - framerate: 13.486812 fps device: 'cuda' - 1 GPU(s) will be used
None
number of people :  1
bbox : 
 [[ 60   0 934 667]]
frame:    0 / 0 - framerate: 11.548798 fps device: 'cuda' - 1 GPU(s) will be used
None
number of people :  0
bbox : 
 []
frame:    0 / 0 - framerate: 30.528452 fps device: 'cuda' - 1 GPU(s) will be used
None
number of people :  1
bbox : 
 [[ 57   0 922 667]]
frame:    0 / 0 - framerate: 12.033579 fps device: 'cuda' - 1 GPU(s) will be used
None
number of people :  1
bbox : 
 [[ 64   0 563 456]]
frame:    0 / 0 - framerate: 13.165622 fps device: 'cuda' - 1 GPU(s) will be used
None
number of people :  1
bbox : 
 [[110 105 480 550]]
frame:    0 / 0 - framerate: 12.334447 fps device: 'cuda' - 1 GPU(s) will be used
None
number of people :  1
bbox : 
 [[ 32   0 276 300]]
frame:    0 / 0 - framerate: 12.052875 fps device: 'cuda' - 1 GPU(s) will be used
None
number of people :  1
bbox : 
 [[ 81 141 280 380]]
frame:    0 / -9223372036854775808 - framerate: 13.220025 fps device: 'cuda' - 1 GPU(s) will be used
None
number of people :  1
bbox : 
 [[ 67   0 806 564]]
frame:    0 / 0 - framerate: 11.810616 fps device: 'cuda' - 1 GPU(s) will be used
None
number of people :  2
bbox : 
 [[ 52   0 589 463]
 [163 237 285 400]]
frame:    0 / 0 - framerate: 11.707267 fps device: 'cuda' - 1 GPU(s) will be used
None
number of people :  1
bbox : 
 [[ 160    0 1172  850]]
frame:    0 / 0 - framerate: 10.661271 fps device: 'cuda' - 1 GPU(s) will be used
None
number of people :  1
bbox : 
 [[ 48   0 455 335]]
frame:    0 / 0 - framerate: 13.564361 fps device: 'cuda' - 1 GPU(s) will be used
None
number of people :  1
bbox : 
 [[ 445    0 1244  706]]
frame:    0 / -9223372036854775808 - framerate: 9.841349 fps device: 'cuda' - 1 GPU(s) will be used
None
number of people :  1
bbox : 
 [[365  59 980 720]]
frame:    0 / 0 - framerate: 12.582774 fps device: 'cuda' - 1 GPU(s) will be used
None
number of people :  1
bbox : 
 [[ 175    0 1945 1409]]
frame:    0 / 0 - framerate: 6.415869 fps device: 'cuda' - 1 GPU(s) will be used
None
number of people :  0
bbox : 
 []
frame:    0 / 0 - framerate: 36.993332 fps device: 'cuda' - 1 GPU(s) will be used
None
number of people :  1
bbox : 
 [[ 97   0 722 500]]
frame:    0 / 0 - framerate: 12.856183 fps device: 'cuda' - 1 GPU(s) will be used
None
number of people :  1
bbox : 
 [[ 57   0 922 667]]
frame:    0 / 0 - framerate: 11.274344 fps device: 'cuda' - 1 GPU(s) will be used
None
number of people :  1
bbox : 
 [[ 109    0 1210  905]]
frame:    0 / 0 - framerate: 8.936315 fps device: 'cuda' - 1 GPU(s) will be used
None
number of people :  1
bbox : 
 [[ 60   0 934 667]]
frame:    0 / 0 - framerate: 10.080959 fps device: 'cuda' - 1 GPU(s) will be used
None
number of people :  1
bbox : 
 [[ 46   9 390 417]]
frame:    0 / 0 - framerate: 11.589260 fps device: 'cuda' - 1 GPU(s) will be used
None
number of people :  1
bbox : 
 [[ 72   0 571 360]]
frame:    0 / 0 - framerate: 11.383336 fps device: 'cuda' - 1 GPU(s) will be used
None
number of people :  1
bbox : 
 [[112   0 683 506]]
frame:    0 / 0 - framerate: 11.546350 fps device: 'cuda' - 1 GPU(s) will be used
None
number of people :  1
bbox : 
 [[ 267    0 1209  876]]
frame:    0 / 0 - framerate: 10.039792 fps device: 'cuda' - 1 GPU(s) will be used
None
number of people :  1
bbox : 
 [[ 64   0 597 413]]
frame:    0 / 0 - framerate: 13.212404 fps device: 'cuda' - 1 GPU(s) will be used
None
number of people :  0
bbox : 
 []
frame:    0 / 0 - framerate: 31.263680 fps device: 'cuda' - 1 GPU(s) will be used
None
number of people :  1
bbox : 
 [[ 194    0 1046  957]]
frame:    0 / 0 - framerate: 10.932004 fps device: 'cuda' - 1 GPU(s) will be used
None
number of people :  1
bbox : 
 [[ 55   0 424 350]]
frame:    0 / 0 - framerate: 13.831540 fps device: 'cuda' - 1 GPU(s) will be used
None
number of people :  1
bbox : 
 [[ 53   0 762 600]]
frame:    0 / 0 - framerate: 12.737881 fps device: 'cuda' - 1 GPU(s) will be used
None
number of people :  1
bbox : 
 [[ 71   0 549 400]]
frame:    0 / 0 - framerate: 13.453027 fps device: 'cuda' - 1 GPU(s) will be used
None
number of people :  1
bbox : 
 [[175   0 646 450]]
frame:    0 / 0 - framerate: 13.171411 fps device: 'cuda' - 1 GPU(s) will be used
None
number of people :  1
bbox : 
 [[179   0 898 720]]
frame:    0 / 0 - framerate: 10.640958 fps device: 'cuda' - 1 GPU(s) will be used
None
number of people :  1
bbox : 
 [[ 193  256  837 1024]]
frame:    0 / 0 - framerate: 10.357125 fps device: 'cuda' - 1 GPU(s) will be used
None
number of people :  1
bbox : 
 [[ 267    0 1209  876]]
frame:    0 / 0 - framerate: 9.526577 fps device: 'cuda' - 1 GPU(s) will be used
None
number of people :  1
bbox : 
 [[ 53   0 762 600]]
frame:    0 / 0 - framerate: 11.397039 fps device: 'cuda' - 1 GPU(s) will be used
None
number of people :  1
bbox : 
 [[175   0 646 450]]
frame:    0 / 0 - framerate: 12.616307 fps device: 'cuda' - 1 GPU(s) will be used
None
number of people :  1
bbox : 
 [[ 64   0 597 413]]
frame:    0 / 0 - framerate: 13.514319 fps device: 'cuda' - 1 GPU(s) will be used
None
number of people :  1
bbox : 
 [[ 55   0 424 350]]
frame:    0 / 0 - framerate: 13.782409 fps device: 'cuda' - 1 GPU(s) will be used
None
number of people :  1
bbox : 
 [[ 71   0 549 400]]
frame:    0 / 0 - framerate: 13.196524 fps device: 'cuda' - 1 GPU(s) will be used
None
number of people :  1
bbox : 
 [[179   0 898 720]]
frame:    0 / 0 - framerate: 12.213301 fps device: 'cuda' - 1 GPU(s) will be used
None
number of people :  1
bbox : 
 [[ 193  256  837 1024]]
frame:    0 / 0 - framerate: 12.088795 fps device: 'cuda' - 1 GPU(s) will be used
None
number of people :  1
bbox : 
 [[ 194    0 1046  957]]
frame:    0 / 0 - framerate: 11.062241 fps device: 'cuda' - 1 GPU(s) will be used
None
number of people :  0
bbox : 
 []
frame:    0 / 0 - framerate: 32.611313 fps device: 'cuda' - 1 GPU(s) will be used
None
number of people :  1
bbox : 
 [[192   0 641 415]]
frame:    0 / 0 - framerate: 10.986065 fps device: 'cuda' - 1 GPU(s) will be used
None
number of people :  1
bbox : 
 [[  82    0 1137  957]]
frame:    0 / 0 - framerate: 9.868904 fps device: 'cuda' - 1 GPU(s) will be used
None
number of people :  1
bbox : 
 [[ 164    0 1124  628]]
frame:    0 / 0 - framerate: 11.332649 fps device: 'cuda' - 1 GPU(s) will be used
None
number of people :  1
bbox : 
 [[ 46   0 585 480]]
frame:    0 / 0 - framerate: 12.659527 fps device: 'cuda' - 1 GPU(s) will be used
None
number of people :  1
bbox : 
 [[ 74   0 604 519]]
frame:    0 / 0 - framerate: 13.234875 fps device: 'cuda' - 1 GPU(s) will be used
None
number of people :  1
bbox : 
 [[ 26   0 673 581]]
frame:    0 / 0 - framerate: 12.895591 fps device: 'cuda' - 1 GPU(s) will be used
None
number of people :  1
bbox : 
 [[ 96   0 669 598]]
frame:    0 / 0 - framerate: 11.509912 fps device: 'cuda' - 1 GPU(s) will be used
None
number of people :  1
bbox : 
 [[ 74   0 600 415]]
frame:    0 / 0 - framerate: 12.919106 fps device: 'cuda' - 1 GPU(s) will be used
None
number of people :  1
bbox : 
 [[ 37   0 253 222]]
frame:    0 / 0 - framerate: 13.998932 fps device: 'cuda' - 1 GPU(s) will be used
None
number of people :  1
bbox : 
 [[ 38  30 287 362]]
frame:    0 / 0 - framerate: 13.608282 fps device: 'cuda' - 1 GPU(s) will be used
None
number of people :  2
bbox : 
 [[ 35   0 450 360]
 [  0   7 160 314]]
frame:    0 / 0 - framerate: 11.996305 fps device: 'cuda' - 1 GPU(s) will be used
None
number of people :  1
bbox : 
 [[ 41   0 669 567]]
frame:    0 / 0 - framerate: 12.634854 fps device: 'cuda' - 1 GPU(s) will be used
None
number of people :  0
bbox : 
 []
frame:    0 / -9223372036854775808 - framerate: 28.778373 fps device: 'cuda' - 1 GPU(s) will be used
None
number of people :  1
bbox : 
 [[153  25 544 512]]
frame:    0 / 0 - framerate: 11.635879 fps device: 'cuda' - 1 GPU(s) will be used
None
number of people :  0
bbox : 
 []
frame:    0 / -9223372036854775808 - framerate: 31.360455 fps device: 'cuda' - 1 GPU(s) will be used
None
number of people :  1
bbox : 
 [[ 432    0 1205  720]]
frame:    0 / 0 - framerate: 11.254891 fps device: 'cuda' - 1 GPU(s) will be used
None
number of people :  0
bbox : 
 []
frame:    0 / 0 - framerate: 35.307075 fps device: 'cuda' - 1 GPU(s) will be used
None
number of people :  1
bbox : 
 [[122  35 490 450]]
frame:    0 / 0 - framerate: 12.951379 fps device: 'cuda' - 1 GPU(s) will be used
None
number of people :  1
bbox : 
 [[ 226    0 1474 1080]]
frame:    0 / -9223372036854775808 - framerate: 7.678472 fps device: 'cuda' - 1 GPU(s) will be used
None
number of people :  1
bbox : 
 [[ 37   0 253 222]]
frame:    0 / 0 - framerate: 13.984556 fps device: 'cuda' - 1 GPU(s) will be used
None
number of people :  0
bbox : 
 []
frame:    0 / 0 - framerate: 37.620113 fps device: 'cuda' - 1 GPU(s) will be used
None
number of people :  1
bbox : 
 [[ 74   0 600 415]]
frame:    0 / 0 - framerate: 13.102778 fps device: 'cuda' - 1 GPU(s) will be used
None
number of people :  0
bbox : 
 []
frame:    0 / -9223372036854775808 - framerate: 29.441563 fps device: 'cuda' - 1 GPU(s) will be used
None
number of people :  1
bbox : 
 [[ 29   0 270 300]]
frame:    0 / 0 - framerate: 13.972490 fps device: 'cuda' - 1 GPU(s) will be used
None
number of people :  1
bbox : 
 [[ 40   0 233 186]]
frame:    0 / 0 - framerate: 14.041720 fps device: 'cuda' - 1 GPU(s) will be used
None
number of people :  1
bbox : 
 [[ 83   0 625 406]]
frame:    0 / 0 - framerate: 11.576242 fps device: 'cuda' - 1 GPU(s) will be used
None
number of people :  1
bbox : 
 [[152   9 820 822]]
frame:    0 / 0 - framerate: 11.567526 fps device: 'cuda' - 1 GPU(s) will be used
None
number of people :  1
bbox : 
 [[149   0 901 651]]
frame:    0 / 0 - framerate: 11.978968 fps device: 'cuda' - 1 GPU(s) will be used
None
number of people :  0
bbox : 
 []
frame:    0 / -9223372036854775808 - framerate: 36.249981 fps device: 'cuda' - 1 GPU(s) will be used
None
number of people :  1
bbox : 
 [[206   0 950 675]]
frame:    0 / 0 - framerate: 11.511839 fps device: 'cuda' - 1 GPU(s) will be used
None
number of people :  1
bbox : 
 [[107   0 768 496]]
frame:    0 / 0 - framerate: 12.081517 fps device: 'cuda' - 1 GPU(s) will be used
None
number of people :  1
bbox : 
 [[ 26   0 417 281]]
frame:    0 / 0 - framerate: 13.739023 fps device: 'cuda' - 1 GPU(s) will be used
None
number of people :  1
bbox : 
 [[383 120 863 720]]
frame:    0 / 0 - framerate: 12.934883 fps device: 'cuda' - 1 GPU(s) will be used
None
number of people :  1
bbox : 
 [[336   0 733 428]]
frame:    0 / 0 - framerate: 12.656548 fps device: 'cuda' - 1 GPU(s) will be used
None
number of people :  1
bbox : 
 [[ 78   0 649 732]]
frame:    0 / 0 - framerate: 12.629033 fps device: 'cuda' - 1 GPU(s) will be used
None
number of people :  2
bbox : 
 [[ 647  105 1244  720]
 [  42  103  554  720]]
frame:    0 / 0 - framerate: 9.658531 fps device: 'cuda' - 1 GPU(s) will be used
None
number of people :  0
bbox : 
 []
frame:    0 / 0 - framerate: 29.344546 fps device: 'cuda' - 1 GPU(s) will be used
None
number of people :  0
bbox : 
 []
frame:    0 / 0 - framerate: 23.417083 fps device: 'cuda' - 1 GPU(s) will be used
None
number of people :  1
bbox : 
 [[ 96 125 566 751]]
frame:    0 / 0 - framerate: 10.520187 fps device: 'cuda' - 1 GPU(s) will be used
None
number of people :  1
bbox : 
 [[ 186    0 1193 1200]]
frame:    0 / 0 - framerate: 9.716572 fps device: 'cuda' - 1 GPU(s) will be used
None
number of people :  0
bbox : 
 []
frame:    0 / 0 - framerate: 31.566975 fps device: 'cuda' - 1 GPU(s) will be used
None
number of people :  2
bbox : 
 [[ 38   0 250 193]
 [151  78 246 193]]
frame:    0 / 0 - framerate: 11.437347 fps device: 'cuda' - 1 GPU(s) will be used
None
number of people :  2
bbox : 
 [[1161    0 3064 1984]
 [ 157    0 1440 1405]]
frame:    0 / 0 - framerate: 4.554828 fps device: 'cuda' - 1 GPU(s) will be used
None
number of people :  1
bbox : 
 [[ 417    0 2867 2304]]
frame:    0 / 0 - framerate: 4.850387 fps device: 'cuda' - 1 GPU(s) will be used
None
number of people :  2
bbox : 
 [[ 77 179 515 697]
 [323  98 572 430]]
frame:    0 / -9223372036854775808 - framerate: 9.224657 fps device: 'cuda' - 1 GPU(s) will be used
None
number of people :  1
bbox : 
 [[ 52   0 577 439]]
frame:    0 / 0 - framerate: 11.741186 fps device: 'cuda' - 1 GPU(s) will be used
None
number of people :  1
bbox : 
 [[ 84   0 533 299]]
frame:    0 / 0 - framerate: 12.219350 fps device: 'cuda' - 1 GPU(s) will be used
None
number of people :  0
bbox : 
 []
frame:    0 / 0 - framerate: 27.188602 fps device: 'cuda' - 1 GPU(s) will be used
None
number of people :  2
bbox : 
 [[ 38   0 250 193]
 [151  78 246 193]]
frame:    0 / 0 - framerate: 11.530574 fps device: 'cuda' - 1 GPU(s) will be used
None
number of people :  1
bbox : 
 [[ 186    0 1193 1200]]
frame:    0 / 0 - framerate: 9.382622 fps device: 'cuda' - 1 GPU(s) will be used
None
number of people :  0
bbox : 
 []
frame:    0 / 0 - framerate: 31.525691 fps device: 'cuda' - 1 GPU(s) will be used
None
number of people :  2
bbox : 
 [[1161    0 3064 1984]
 [ 157    0 1440 1405]]
frame:    0 / 0 - framerate: 4.553102 fps device: 'cuda' - 1 GPU(s) will be used
None
number of people :  1
bbox : 
 [[ 96 125 566 751]]
frame:    0 / 0 - framerate: 11.238335 fps device: 'cuda' - 1 GPU(s) will be used
None
number of people :  1
bbox : 
 [[ 417    0 2867 2304]]
frame:    0 / 0 - framerate: 5.068339 fps device: 'cuda' - 1 GPU(s) will be used
None
number of people :  0
bbox : 
 []
frame:    0 / 0 - framerate: 24.595119 fps device: 'cuda' - 1 GPU(s) will be used
None
number of people :  1
bbox : 
 [[ 52   0 577 439]]
frame:    0 / 0 - framerate: 12.808326 fps device: 'cuda' - 1 GPU(s) will be used
None
number of people :  1
bbox : 
 [[ 62   0 555 416]]
frame:    0 / 0 - framerate: 13.621054 fps device: 'cuda' - 1 GPU(s) will be used
None
number of people :  2
bbox : 
 [[ 77 179 515 697]
 [323  98 572 430]]
frame:    0 / -9223372036854775808 - framerate: 10.148353 fps device: 'cuda' - 1 GPU(s) will be used
None
number of people :  1
bbox : 
 [[ 223    0 1253  720]]
frame:    0 / 0 - framerate: 11.460035 fps device: 'cuda' - 1 GPU(s) will be used
None
number of people :  1
bbox : 
 [[ 27   0 491 349]]
frame:    0 / 0 - framerate: 13.629198 fps device: 'cuda' - 1 GPU(s) will be used
None
number of people :  2
bbox : 
 [[ 58   0 838 658]
 [616 255 737 415]]
frame:    0 / -9223372036854775808 - framerate: 9.251352 fps device: 'cuda' - 1 GPU(s) will be used
None
number of people :  2
bbox : 
 [[ 30   0 584 400]
 [377 169 579 400]]
frame:    0 / 0 - framerate: 10.281568 fps device: 'cuda' - 1 GPU(s) will be used
None
number of people :  1
bbox : 
 [[ 66   0 547 349]]
frame:    0 / 0 - framerate: 12.385695 fps device: 'cuda' - 1 GPU(s) will be used
None
number of people :  1
bbox : 
 [[ 35   0 610 431]]
frame:    0 / 0 - framerate: 13.029795 fps device: 'cuda' - 1 GPU(s) will be used
None
number of people :  1
bbox : 
 [[ 89   0 527 402]]
frame:    0 / 0 - framerate: 13.041260 fps device: 'cuda' - 1 GPU(s) will be used
None
number of people :  2
bbox : 
 [[ 253    0 3149 3246]
 [1642 1379 2469 2481]]
frame:    0 / 0 - framerate: 3.174257 fps device: 'cuda' - 1 GPU(s) will be used
None
number of people :  1
bbox : 
 [[148   0 617 435]]
frame:    0 / 0 - framerate: 13.069380 fps device: 'cuda' - 1 GPU(s) will be used
None
number of people :  2
bbox : 
 [[ 896   15 1255  493]
 [  74    0  569  618]]
frame:    0 / 0 - framerate: 11.105797 fps device: 'cuda' - 1 GPU(s) will be used
None
number of people :  1
bbox : 
 [[ 54   0 569 442]]
frame:    0 / 0 - framerate: 13.666991 fps device: 'cuda' - 1 GPU(s) will be used
None
number of people :  1
bbox : 
 [[ 142    0 1320 1200]]
frame:    0 / 0 - framerate: 10.135355 fps device: 'cuda' - 1 GPU(s) will be used
None
number of people :  1
bbox : 
 [[ 68   0 807 546]]
frame:    0 / 0 - framerate: 12.588514 fps device: 'cuda' - 1 GPU(s) will be used
None
number of people :  1
bbox : 
 [[ 101    0 1102  630]]
frame:    0 / 0 - framerate: 12.139387 fps device: 'cuda' - 1 GPU(s) will be used
None
number of people :  1
bbox : 
 [[197   0 743 536]]
frame:    0 / 0 - framerate: 12.503515 fps device: 'cuda' - 1 GPU(s) will be used
None
number of people :  0
bbox : 
 []
frame:    0 / 0 - framerate: 31.745690 fps device: 'cuda' - 1 GPU(s) will be used
None
number of people :  1
bbox : 
 [[ 68   0 807 546]]
frame:    0 / 0 - framerate: 10.566115 fps device: 'cuda' - 1 GPU(s) will be used
None
number of people :  3
bbox : 
 [[221  19 394 249]
 [429  21 594 241]
 [223 199 379 385]]
frame:    0 / 0 - framerate: 8.776457 fps device: 'cuda' - 1 GPU(s) will be used
None
number of people :  1
bbox : 
 [[ 101    0 1102  630]]
frame:    0 / 0 - framerate: 11.255133 fps device: 'cuda' - 1 GPU(s) will be used
None
number of people :  1
bbox : 
 [[ 72  13 380 423]]
frame:    0 / 0 - framerate: 12.412599 fps device: 'cuda' - 1 GPU(s) will be used
None
number of people :  1
bbox : 
 [[ 16   0 202 150]]
frame:    0 / 0 - framerate: 13.240515 fps device: 'cuda' - 1 GPU(s) will be used
None
number of people :  1
bbox : 
 [[197   0 743 536]]
frame:    0 / 0 - framerate: 12.512877 fps device: 'cuda' - 1 GPU(s) will be used
None
number of people :  1
bbox : 
 [[ 85   0 669 665]]
frame:    0 / 0 - framerate: 12.093779 fps device: 'cuda' - 1 GPU(s) will be used
None
number of people :  0
bbox : 
 []
frame:    0 / 0 - framerate: 34.652787 fps device: 'cuda' - 1 GPU(s) will be used
None
number of people :  1
bbox : 
 [[ 60  83 412 553]]
frame:    0 / 0 - framerate: 12.881690 fps device: 'cuda' - 1 GPU(s) will be used
None
number of people :  2
bbox : 
 [[ 126    0 1053  801]
 [ 813  372 1142  801]]
frame:    0 / 0 - framerate: 10.045082 fps device: 'cuda' - 1 GPU(s) will be used
None
number of people :  1
bbox : 
 [[ 24   0 244 166]]
frame:    0 / 0 - framerate: 14.141043 fps device: 'cuda' - 1 GPU(s) will be used
None
number of people :  0
bbox : 
 []
frame:    0 / 0 - framerate: 31.002779 fps device: 'cuda' - 1 GPU(s) will be used
None
number of people :  1
bbox : 
 [[176   0 530 345]]
frame:    0 / -9223372036854775808 - framerate: 11.225282 fps device: 'cuda' - 1 GPU(s) will be used
None
number of people :  1
bbox : 
 [[ 700  351 1949 1715]]
frame:    0 / 0 - framerate: 6.076702 fps device: 'cuda' - 1 GPU(s) will be used
None
number of people :  1
bbox : 
 [[159   0 698 512]]
frame:    0 / 0 - framerate: 11.357505 fps device: 'cuda' - 1 GPU(s) will be used
None
number of people :  1
bbox : 
 [[263   1 583 360]]
frame:    0 / -9223372036854775808 - framerate: 12.508399 fps device: 'cuda' - 1 GPU(s) will be used
None
number of people :  1
bbox : 
 [[ 43   0 350 268]]
frame:    0 / 0 - framerate: 12.665720 fps device: 'cuda' - 1 GPU(s) will be used
None
number of people :  1
bbox : 
 [[ 87   0 461 360]]
frame:    0 / 0 - framerate: 12.433130 fps device: 'cuda' - 1 GPU(s) will be used
None
number of people :  2
bbox : 
 [[ 82   0 688 518]
 [300 248 464 467]]
frame:    0 / 0 - framerate: 10.629390 fps device: 'cuda' - 1 GPU(s) will be used
None
number of people :  1
bbox : 
 [[ 65   0 338 267]]
frame:    0 / 0 - framerate: 12.770731 fps device: 'cuda' - 1 GPU(s) will be used
None
number of people :  1
bbox : 
 [[ 46   0 545 466]]
frame:    0 / 0 - framerate: 12.050832 fps device: 'cuda' - 1 GPU(s) will be used
None
number of people :  1
bbox : 
 [[ 86   0 574 418]]
frame:    0 / 0 - framerate: 13.121182 fps device: 'cuda' - 1 GPU(s) will be used
None
number of people :  1
bbox : 
 [[ 22   0 253 240]]
frame:    0 / 0 - framerate: 14.108460 fps device: 'cuda' - 1 GPU(s) will be used
None
number of people :  1
bbox : 
 [[ 95   0 354 339]]
frame:    0 / 0 - framerate: 13.065798 fps device: 'cuda' - 1 GPU(s) will be used
None
number of people :  0
bbox : 
 []
frame:    0 / 0 - framerate: 35.969265 fps device: 'cuda' - 1 GPU(s) will be used
None
number of people :  1
bbox : 
 [[121   0 641 350]]
frame:    0 / 0 - framerate: 11.372194 fps device: 'cuda' - 1 GPU(s) will be used
None
number of people :  1
bbox : 
 [[100   0 573 401]]
frame:    0 / 0 - framerate: 12.817916 fps device: 'cuda' - 1 GPU(s) will be used
None
number of people :  1
bbox : 
 [[ 56   0 337 238]]
frame:    0 / 0 - framerate: 13.895510 fps device: 'cuda' - 1 GPU(s) will be used
None
number of people :  1
bbox : 
 [[163   0 506 449]]
frame:    0 / -9223372036854775808 - framerate: 11.602372 fps device: 'cuda' - 1 GPU(s) will be used
None
number of people :  1
bbox : 
 [[ 75 124 675 924]]
frame:    0 / 0 - framerate: 11.922546 fps device: 'cuda' - 1 GPU(s) will be used
None
number of people :  1
bbox : 
 [[ 270    0 1018  925]]
frame:    0 / 0 - framerate: 10.457420 fps device: 'cuda' - 1 GPU(s) will be used
None
number of people :  1
bbox : 
 [[ 95   0 354 339]]
frame:    0 / 0 - framerate: 13.574370 fps device: 'cuda' - 1 GPU(s) will be used
None
number of people :  1
bbox : 
 [[ 69   0 535 320]]
frame:    0 / -9223372036854775808 - framerate: 12.754421 fps device: 'cuda' - 1 GPU(s) will be used
None
number of people :  1
bbox : 
 [[121   0 641 350]]
frame:    0 / 0 - framerate: 13.433551 fps device: 'cuda' - 1 GPU(s) will be used
None
number of people :  1
bbox : 
 [[100   0 573 401]]
frame:    0 / 0 - framerate: 13.371666 fps device: 'cuda' - 1 GPU(s) will be used
None
number of people :  1
bbox : 
 [[ 56   0 337 238]]
frame:    0 / 0 - framerate: 14.090118 fps device: 'cuda' - 1 GPU(s) will be used
None
number of people :  1
bbox : 
 [[ 75 124 675 924]]
frame:    0 / 0 - framerate: 12.215506 fps device: 'cuda' - 1 GPU(s) will be used
None
number of people :  1
bbox : 
 [[ 103    0 1172  957]]
frame:    0 / 0 - framerate: 9.774813 fps device: 'cuda' - 1 GPU(s) will be used
None
number of people :  0
bbox : 
 []
frame:    0 / 0 - framerate: 29.613053 fps device: 'cuda' - 1 GPU(s) will be used
None
number of people :  0
bbox : 
 []
frame:    0 / 0 - framerate: 32.473456 fps device: 'cuda' - 1 GPU(s) will be used
None
number of people :  1
bbox : 
 [[ 109    0 1201 1001]]
frame:    0 / 0 - framerate: 8.740300 fps device: 'cuda' - 1 GPU(s) will be used
None
number of people :  1
bbox : 
 [[ 270    0 1018  925]]
frame:    0 / 0 - framerate: 9.706206 fps device: 'cuda' - 1 GPU(s) will be used
None
number of people :  1
bbox : 
 [[ 51   0 667 390]]
frame:    0 / 0 - framerate: 12.623028 fps device: 'cuda' - 1 GPU(s) will be used
None
number of people :  1
bbox : 
 [[ 46   0 618 365]]
frame:    0 / 0 - framerate: 13.021462 fps device: 'cuda' - 1 GPU(s) will be used
None
number of people :  1
bbox : 
 [[102  50 443 504]]
frame:    0 / 0 - framerate: 13.059167 fps device: 'cuda' - 1 GPU(s) will be used
None
number of people :  1
bbox : 
 [[ 32   0 267 215]]
frame:    0 / 0 - framerate: 14.121855 fps device: 'cuda' - 1 GPU(s) will be used
None
number of people :  1
bbox : 
 [[ 43   0 373 267]]
frame:    0 / 0 - framerate: 13.917503 fps device: 'cuda' - 1 GPU(s) will be used
None
number of people :  1
bbox : 
 [[ 51   0 583 330]]
frame:    0 / 0 - framerate: 13.344269 fps device: 'cuda' - 1 GPU(s) will be used
None
number of people :  1
bbox : 
 [[  71  123  791 1084]]
frame:    0 / 0 - framerate: 10.650442 fps device: 'cuda' - 1 GPU(s) will be used
None
number of people :  1
bbox : 
 [[ 58   0 426 353]]
frame:    0 / 0 - framerate: 13.607090 fps device: 'cuda' - 1 GPU(s) will be used
None
number of people :  1
bbox : 
 [[265 135 653 652]]
frame:    0 / 0 - framerate: 11.389425 fps device: 'cuda' - 1 GPU(s) will be used
None
number of people :  1
bbox : 
 [[ 34   0 354 280]]
frame:    0 / 0 - framerate: 12.153422 fps device: 'cuda' - 1 GPU(s) will be used
None
number of people :  1
bbox : 
 [[110 103 482 550]]
frame:    0 / 0 - framerate: 13.506964 fps device: 'cuda' - 1 GPU(s) will be used
None
number of people :  1
bbox : 
 [[ 63   0 429 360]]
frame:    0 / 0 - framerate: 13.791971 fps device: 'cuda' - 1 GPU(s) will be used
None
number of people :  1
bbox : 
 [[ 70   0 635 484]]
frame:    0 / 0 - framerate: 13.342020 fps device: 'cuda' - 1 GPU(s) will be used
None
number of people :  0
bbox : 
 []
frame:    0 / 0 - framerate: 32.657780 fps device: 'cuda' - 1 GPU(s) will be used
None
number of people :  1
bbox : 
 [[ 55   0 296 193]]
frame:    0 / 0 - framerate: 14.188784 fps device: 'cuda' - 1 GPU(s) will be used
None
number of people :  1
bbox : 
 [[ 99   0 651 575]]
frame:    0 / 0 - framerate: 12.027092 fps device: 'cuda' - 1 GPU(s) will be used
None
number of people :  1
bbox : 
 [[ 50   0 581 349]]
frame:    0 / 0 - framerate: 13.682239 fps device: 'cuda' - 1 GPU(s) will be used
None
number of people :  1
bbox : 
 [[ 560    0 1611 1068]]
frame:    0 / 0 - framerate: 9.220703 fps device: 'cuda' - 1 GPU(s) will be used
None
number of people :  1
bbox : 
 [[ 83 139 280 380]]
frame:    0 / -9223372036854775808 - framerate: 13.666012 fps device: 'cuda' - 1 GPU(s) will be used
None
number of people :  1
bbox : 
 [[134   0 514 329]]
frame:    0 / 0 - framerate: 13.822014 fps device: 'cuda' - 1 GPU(s) will be used
None
number of people :  1
bbox : 
 [[ 68   0 778 562]]
frame:    0 / 0 - framerate: 11.108503 fps device: 'cuda' - 1 GPU(s) will be used
None
number of people :  1
bbox : 
 [[  35  113  823 1163]]
frame:    0 / 0 - framerate: 10.554948 fps device: 'cuda' - 1 GPU(s) will be used
None
number of people :  1
bbox : 
 [[ 61   5 249 232]]
frame:    0 / -9223372036854775808 - framerate: 13.858642 fps device: 'cuda' - 1 GPU(s) will be used
None
number of people :  0
bbox : 
 []
frame:    0 / 0 - framerate: 35.537721 fps device: 'cuda' - 1 GPU(s) will be used
None
number of people :  1
bbox : 
 [[ 61   5 249 232]]
frame:    0 / -9223372036854775808 - framerate: 13.813138 fps device: 'cuda' - 1 GPU(s) will be used
None
number of people :  1
bbox : 
 [[ 85   0 621 375]]
frame:    0 / -9223372036854775808 - framerate: 13.426542 fps device: 'cuda' - 1 GPU(s) will be used
None
number of people :  1
bbox : 
 [[243   0 769 500]]
frame:    0 / 0 - framerate: 12.313372 fps device: 'cuda' - 1 GPU(s) will be used
None
number of people :  1
bbox : 
 [[ 362    0 1225  720]]
frame:    0 / 0 - framerate: 12.064350 fps device: 'cuda' - 1 GPU(s) will be used
None
number of people :  1
bbox : 
 [[ 662    0 2467 1920]]
frame:    0 / 0 - framerate: 6.815607 fps device: 'cuda' - 1 GPU(s) will be used
None
number of people :  1
bbox : 
 [[113   0 590 424]]
frame:    0 / 0 - framerate: 13.408815 fps device: 'cuda' - 1 GPU(s) will be used
None
number of people :  1
bbox : 
 [[ 75   0 656 378]]
frame:    0 / 0 - framerate: 13.689786 fps device: 'cuda' - 1 GPU(s) will be used
None
number of people :  1
bbox : 
 [[ 88   0 675 546]]
frame:    0 / 0 - framerate: 12.950779 fps device: 'cuda' - 1 GPU(s) will be used
None
number of people :  1
bbox : 
 [[110   0 576 430]]
frame:    0 / 0 - framerate: 11.603977 fps device: 'cuda' - 1 GPU(s) will be used
None
number of people :  0
bbox : 
 []
frame:    0 / 0 - framerate: 33.275979 fps device: 'cuda' - 1 GPU(s) will be used
None
number of people :  1
bbox : 
 [[  13    0 2586 2399]]
frame:    0 / 0 - framerate: 3.479076 fps device: 'cuda' - 1 GPU(s) will be used
None
number of people :  1
bbox : 
 [[301 159 623 577]]
frame:    0 / 0 - framerate: 12.216609 fps device: 'cuda' - 1 GPU(s) will be used
None
number of people :  1
bbox : 
 [[149   0 701 533]]
frame:    0 / -9223372036854775808 - framerate: 11.079833 fps device: 'cuda' - 1 GPU(s) will be used
None
number of people :  0
bbox : 
 []
frame:    0 / -9223372036854775808 - framerate: 38.979071 fps device: 'cuda' - 1 GPU(s) will be used
None
number of people :  1
bbox : 
 [[ 210    0 1114  628]]
frame:    0 / -9223372036854775808 - framerate: 11.439656 fps device: 'cuda' - 1 GPU(s) will be used
None
number of people :  2
bbox : 
 [[ 12   0 296 354]
 [320   2 595 354]]
frame:    0 / 0 - framerate: 12.058384 fps device: 'cuda' - 1 GPU(s) will be used
None
number of people :  1
bbox : 
 [[102   0 603 355]]
frame:    0 / 0 - framerate: 13.430927 fps device: 'cuda' - 1 GPU(s) will be used
None
number of people :  1
bbox : 
 [[ 58   0 618 440]]
frame:    0 / 0 - framerate: 12.891707 fps device: 'cuda' - 1 GPU(s) will be used
None
number of people :  1
bbox : 
 [[ 56   7 401 400]]
frame:    0 / 0 - framerate: 13.548369 fps device: 'cuda' - 1 GPU(s) will be used
None
number of people :  1
bbox : 
 [[168   0 852 502]]
frame:    0 / 0 - framerate: 11.953398 fps device: 'cuda' - 1 GPU(s) will be used
None
number of people :  1
bbox : 
 [[ 234    0 4044 2848]]
frame:    0 / 0 - framerate: 2.578814 fps device: 'cuda' - 1 GPU(s) will be used
None
number of people :  1
bbox : 
 [[ 15   0 268 190]]
frame:    0 / -9223372036854775808 - framerate: 11.869070 fps device: 'cuda' - 1 GPU(s) will be used
None
number of people :  0
bbox : 
 []
frame:    0 / 0 - framerate: 26.356395 fps device: 'cuda' - 1 GPU(s) will be used
None
number of people :  1
bbox : 
 [[ 83  59 438 531]]
frame:    0 / 0 - framerate: 12.170561 fps device: 'cuda' - 1 GPU(s) will be used
None
number of people :  1
bbox : 
 [[ 77   0 659 450]]
frame:    0 / -9223372036854775808 - framerate: 11.989960 fps device: 'cuda' - 1 GPU(s) will be used
None
number of people :  0
bbox : 
 []
frame:    0 / 0 - framerate: 33.493340 fps device: 'cuda' - 1 GPU(s) will be used
None
number of people :  1
bbox : 
 [[ 77   0 659 450]]
frame:    0 / -9223372036854775808 - framerate: 11.585131 fps device: 'cuda' - 1 GPU(s) will be used
None
number of people :  2
bbox : 
 [[135   0 890 720]
 [548  93 922 593]]
frame:    0 / 0 - framerate: 10.746497 fps device: 'cuda' - 1 GPU(s) will be used
None
number of people :  1
bbox : 
 [[ 88 161 500 614]]
frame:    0 / 0 - framerate: 13.106258 fps device: 'cuda' - 1 GPU(s) will be used
None
number of people :  1
bbox : 
 [[ 377    0 1456 1080]]
frame:    0 / 0 - framerate: 9.569700 fps device: 'cuda' - 1 GPU(s) will be used
None
number of people :  1
bbox : 
 [[ 18   0 410 420]]
frame:    0 / 0 - framerate: 13.529446 fps device: 'cuda' - 1 GPU(s) will be used
None
number of people :  1
bbox : 
 [[ 260    0 1204  720]]
frame:    0 / 0 - framerate: 12.176921 fps device: 'cuda' - 1 GPU(s) will be used
None
number of people :  1
bbox : 
 [[ 57   0 425 353]]
frame:    0 / 0 - framerate: 11.715868 fps device: 'cuda' - 1 GPU(s) will be used
None
number of people :  2
bbox : 
 [[179   0 895 768]
 [153 407 414 755]]
frame:    0 / 0 - framerate: 10.240000 fps device: 'cuda' - 1 GPU(s) will be used
None
number of people :  1
bbox : 
 [[224  98 601 512]]
frame:    0 / 0 - framerate: 12.461611 fps device: 'cuda' - 1 GPU(s) will be used
None
number of people :  1
bbox : 
 [[ 54   0 550 400]]
frame:    0 / 0 - framerate: 12.236068 fps device: 'cuda' - 1 GPU(s) will be used
None
number of people :  1
bbox : 
 [[ 83   0 637 450]]
frame:    0 / 0 - framerate: 12.089945 fps device: 'cuda' - 1 GPU(s) will be used
None
number of people :  1
bbox : 
 [[ 94   0 429 360]]
frame:    0 / 0 - framerate: 13.010475 fps device: 'cuda' - 1 GPU(s) will be used
None
number of people :  0
bbox : 
 []
frame:    0 / 0 - framerate: 33.632459 fps device: 'cuda' - 1 GPU(s) will be used
None
number of people :  1
bbox : 
 [[ 62   0 526 417]]
frame:    0 / 0 - framerate: 13.259100 fps device: 'cuda' - 1 GPU(s) will be used
None
number of people :  1
bbox : 
 [[ 40   0 511 426]]
frame:    0 / 0 - framerate: 13.134454 fps device: 'cuda' - 1 GPU(s) will be used
None
number of people :  1
bbox : 
 [[ 71  39 322 360]]
frame:    0 / 0 - framerate: 14.102103 fps device: 'cuda' - 1 GPU(s) will be used
None
number of people :  1
bbox : 
 [[119   0 642 533]]
frame:    0 / 0 - framerate: 12.454099 fps device: 'cuda' - 1 GPU(s) will be used
None
number of people :  2
bbox : 
 [[ 30   0 372 360]
 [414  46 480 190]]
frame:    0 / 0 - framerate: 12.326110 fps device: 'cuda' - 1 GPU(s) will be used
None
number of people :  5
bbox : 
 [[ 88   0 570 417]
 [547  89 626 212]
 [155 113 225 208]
 [114 134 170 209]
 [512 108 562 176]]
frame:    0 / 0 - framerate: 8.155476 fps device: 'cuda' - 1 GPU(s) will be used
None
number of people :  1
bbox : 
 [[  72  519  729 1341]]
frame:    0 / 0 - framerate: 10.202538 fps device: 'cuda' - 1 GPU(s) will be used
None
number of people :  1
bbox : 
 [[  7   0 144 160]]
frame:    0 / 0 - framerate: 12.192106 fps device: 'cuda' - 1 GPU(s) will be used
None
number of people :  1
bbox : 
 [[ 32 137 469 719]]
frame:    0 / 0 - framerate: 11.095719 fps usage: extract-keypoints.py [-h] [--format FORMAT] [--filename FILENAME]
                            [--hrnet_m HRNET_M] [--hrnet_c HRNET_C]
                            [--hrnet_j HRNET_J]
                            [--hrnet_weights HRNET_WEIGHTS]
                            [--image_resolution IMAGE_RESOLUTION]
                            [--single_person] [--use_tiny_yolo]
                            [--max_batch_size MAX_BATCH_SIZE]
                            [--csv_output_filename CSV_OUTPUT_FILENAME]
                            [--csv_delimiter CSV_DELIMITER]
                            [--json_output_filename JSON_OUTPUT_FILENAME]
                            [--device DEVICE]
extract-keypoints.py: error: unrecognized arguments: 1.png
usage: extract-keypoints.py [-h] [--format FORMAT] [--filename FILENAME]
                            [--hrnet_m HRNET_M] [--hrnet_c HRNET_C]
                            [--hrnet_j HRNET_J]
                            [--hrnet_weights HRNET_WEIGHTS]
                            [--image_resolution IMAGE_RESOLUTION]
                            [--single_person] [--use_tiny_yolo]
                            [--max_batch_size MAX_BATCH_SIZE]
                            [--csv_output_filename CSV_OUTPUT_FILENAME]
                            [--csv_delimiter CSV_DELIMITER]
                            [--json_output_filename JSON_OUTPUT_FILENAME]
                            [--device DEVICE]
extract-keypoints.py: error: unrecognized arguments: 5-benefits-of-downward-facing-dog-pose.png
device: 'cuda' - 1 GPU(s) will be used
None
number of people :  1
bbox : 
 [[ 67   0 806 564]]
frame:    0 / 0 - framerate: 11.003935 fps usage: extract-keypoints.py [-h] [--format FORMAT] [--filename FILENAME]
                            [--hrnet_m HRNET_M] [--hrnet_c HRNET_C]
                            [--hrnet_j HRNET_J]
                            [--hrnet_weights HRNET_WEIGHTS]
                            [--image_resolution IMAGE_RESOLUTION]
                            [--single_person] [--use_tiny_yolo]
                            [--max_batch_size MAX_BATCH_SIZE]
                            [--csv_output_filename CSV_OUTPUT_FILENAME]
                            [--csv_delimiter CSV_DELIMITER]
                            [--json_output_filename JSON_OUTPUT_FILENAME]
                            [--device DEVICE]
extract-keypoints.py: error: unrecognized arguments: screen-shot-2017-09-15-at-17.00.06-1024x585.png
device: 'cuda' - 1 GPU(s) will be used
None
number of people :  1
bbox : 
 [[ 57   0 922 667]]
frame:    0 / 0 - framerate: 10.838975 fps device: 'cuda' - 1 GPU(s) will be used
None
number of people :  2
bbox : 
 [[ 253    0 3149 3246]
 [1642 1379 2469 2481]]
frame:    0 / 0 - framerate: 3.005000 fps device: 'cuda' - 1 GPU(s) will be used
None
number of people :  1
bbox : 
 [[148   0 617 435]]
frame:    0 / 0 - framerate: 13.272904 fps device: 'cuda' - 1 GPU(s) will be used
None
number of people :  1
bbox : 
 [[ 54   0 569 442]]
frame:    0 / 0 - framerate: 12.945263 fps device: 'cuda' - 1 GPU(s) will be used
None
number of people :  1
bbox : 
 [[ 142    0 1320 1200]]
frame:    0 / 0 - framerate: 10.240450 fps device: 'cuda' - 1 GPU(s) will be used
None
number of people :  1
bbox : 
 [[ 68   0 807 546]]
frame:    0 / 0 - framerate: 12.580660 fps device: 'cuda' - 1 GPU(s) will be used
None
number of people :  1
bbox : 
 [[ 101    0 1102  630]]
frame:    0 / 0 - framerate: 12.022369 fps device: 'cuda' - 1 GPU(s) will be used
None
number of people :  1
bbox : 
 [[197   0 743 536]]
frame:    0 / 0 - framerate: 12.418626 fps device: 'cuda' - 1 GPU(s) will be used
None
number of people :  1
bbox : 
 [[ 68   0 807 546]]
frame:    0 / 0 - framerate: 12.027575 fps usage: extract-keypoints.py [-h] [--format FORMAT] [--filename FILENAME]
                            [--hrnet_m HRNET_M] [--hrnet_c HRNET_C]
                            [--hrnet_j HRNET_J]
                            [--hrnet_weights HRNET_WEIGHTS]
                            [--image_resolution IMAGE_RESOLUTION]
                            [--single_person] [--use_tiny_yolo]
                            [--max_batch_size MAX_BATCH_SIZE]
                            [--csv_output_filename CSV_OUTPUT_FILENAME]
                            [--csv_delimiter CSV_DELIMITER]
                            [--json_output_filename JSON_OUTPUT_FILENAME]
                            [--device DEVICE]
extract-keypoints.py: error: unrecognized arguments: yoga_anatomy_using_muscle_awareness_to_lower_your_heels_in_downward_facing_dog_pose.png
device: 'cuda' - 1 GPU(s) will be used
None
number of people :  1
bbox : 
 [[ 109    0 1210  905]]
frame:    0 / 0 - framerate: 10.745643 fps /bin/bash: -c: line 0: syntax error near unexpected token `('
/bin/bash: -c: line 0: `python3 scripts/extract-keypoints.py        --filename ./images/downdog/110(A).jpg        --format json        --hrnet_weights weights/pose_hrnet_w48_384x288.pth        --json_output_filename ./json_output/downdog/110(A).json'
/bin/bash: -c: line 0: syntax error near unexpected token `('
/bin/bash: -c: line 0: `python3 scripts/extract-keypoints.py        --filename ./images/downdog/110(B).jpg        --format json        --hrnet_weights weights/pose_hrnet_w48_384x288.pth        --json_output_filename ./json_output/downdog/110(B).json'
/bin/bash: -c: line 0: syntax error near unexpected token `('
/bin/bash: -c: line 0: `python3 scripts/extract-keypoints.py        --filename ./images/downdog/110(C).jpg        --format json        --hrnet_weights weights/pose_hrnet_w48_384x288.pth        --json_output_filename ./json_output/downdog/110(C).json'
device: 'cuda' - 1 GPU(s) will be used
None
number of people :  1
bbox : 
 [[ 101    0 1102  630]]
frame:    0 / 0 - framerate: 10.573254 fps device: 'cuda' - 1 GPU(s) will be used
None
number of people :  1
bbox : 
 [[ 72  13 380 423]]
frame:    0 / 0 - framerate: 11.834242 fps device: 'cuda' - 1 GPU(s) will be used
None
number of people :  1
bbox : 
 [[ 16   0 202 150]]
frame:    0 / 0 - framerate: 14.043742 fps device: 'cuda' - 1 GPU(s) will be used
None
number of people :  1
bbox : 
 [[197   0 743 536]]
frame:    0 / 0 - framerate: 12.427310 fps device: 'cuda' - 1 GPU(s) will be used
None
number of people :  1
bbox : 
 [[ 85   0 669 665]]
frame:    0 / 0 - framerate: 11.985780 fps device: 'cuda' - 1 GPU(s) will be used
None
number of people :  0
bbox : 
 []
frame:    0 / 0 - framerate: 35.748534 fps device: 'cuda' - 1 GPU(s) will be used
None
number of people :  2
bbox : 
 [[ 126    0 1053  801]
 [ 813  372 1142  801]]
frame:    0 / 0 - framerate: 9.976248 fps device: 'cuda' - 1 GPU(s) will be used
None
number of people :  1
bbox : 
 [[ 24   0 244 166]]
frame:    0 / 0 - framerate: 13.907720 fps usage: extract-keypoints.py [-h] [--format FORMAT] [--filename FILENAME]
                            [--hrnet_m HRNET_M] [--hrnet_c HRNET_C]
                            [--hrnet_j HRNET_J]
                            [--hrnet_weights HRNET_WEIGHTS]
                            [--image_resolution IMAGE_RESOLUTION]
                            [--single_person] [--use_tiny_yolo]
                            [--max_batch_size MAX_BATCH_SIZE]
                            [--csv_output_filename CSV_OUTPUT_FILENAME]
                            [--csv_delimiter CSV_DELIMITER]
                            [--json_output_filename JSON_OUTPUT_FILENAME]
                            [--device DEVICE]
extract-keypoints.py: error: unrecognized arguments: 66a62b8c606fd88e0401b5af0a7cbca7.png
usage: extract-keypoints.py [-h] [--format FORMAT] [--filename FILENAME]
                            [--hrnet_m HRNET_M] [--hrnet_c HRNET_C]
                            [--hrnet_j HRNET_J]
                            [--hrnet_weights HRNET_WEIGHTS]
                            [--image_resolution IMAGE_RESOLUTION]
                            [--single_person] [--use_tiny_yolo]
                            [--max_batch_size MAX_BATCH_SIZE]
                            [--csv_output_filename CSV_OUTPUT_FILENAME]
                            [--csv_delimiter CSV_DELIMITER]
                            [--json_output_filename JSON_OUTPUT_FILENAME]
                            [--device DEVICE]
extract-keypoints.py: error: unrecognized arguments: downward-facing-dog-pose.png
device: 'cuda' - 1 GPU(s) will be used
None
number of people :  1
bbox : 
 [[ 60   0 934 667]]
frame:    0 / 0 - framerate: 11.450493 fps device: 'cuda' - 1 GPU(s) will be used
None
number of people :  0
bbox : 
 []
frame:    0 / 0 - framerate: 33.594477 fps device: 'cuda' - 1 GPU(s) will be used
None
number of people :  1
bbox : 
 [[176   0 510 345]]
frame:    0 / 0 - framerate: 13.504355 fps device: 'cuda' - 1 GPU(s) will be used
None
number of people :  1
bbox : 
 [[  45    0  942 1059]]
frame:    0 / 0 - framerate: 10.894409 fps device: 'cuda' - 1 GPU(s) will be used
None
number of people :  1
bbox : 
 [[ 700  351 1949 1715]]
frame:    0 / 0 - framerate: 6.917299 fps device: 'cuda' - 1 GPU(s) will be used
None
number of people :  1
bbox : 
 [[159   0 698 512]]
frame:    0 / 0 - framerate: 11.404569 fps device: 'cuda' - 1 GPU(s) will be used
None
number of people :  1
bbox : 
 [[270   4 585 360]]
frame:    0 / 0 - framerate: 12.015171 fps device: 'cuda' - 1 GPU(s) will be used
None
number of people :  1
bbox : 
 [[ 43   0 350 268]]
frame:    0 / 0 - framerate: 12.044533 fps device: 'cuda' - 1 GPU(s) will be used
None
number of people :  1
bbox : 
 [[ 65   0 338 267]]
frame:    0 / 0 - framerate: 12.265589 fps device: 'cuda' - 1 GPU(s) will be used
None
number of people :  1
bbox : 
 [[ 46   0 545 466]]
frame:    0 / 0 - framerate: 12.451548 fps device: 'cuda' - 1 GPU(s) will be used
None
number of people :  3
bbox : 
 [[ 123   51  905 1079]
 [ 878  189  924  251]
 [ 133  529  171  579]]
frame:    0 / 0 - framerate: 8.963146 fps usage: extract-keypoints.py [-h] [--format FORMAT] [--filename FILENAME]
                            [--hrnet_m HRNET_M] [--hrnet_c HRNET_C]
                            [--hrnet_j HRNET_J]
                            [--hrnet_weights HRNET_WEIGHTS]
                            [--image_resolution IMAGE_RESOLUTION]
                            [--single_person] [--use_tiny_yolo]
                            [--max_batch_size MAX_BATCH_SIZE]
                            [--csv_output_filename CSV_OUTPUT_FILENAME]
                            [--csv_delimiter CSV_DELIMITER]
                            [--json_output_filename JSON_OUTPUT_FILENAME]
                            [--device DEVICE]
extract-keypoints.py: error: unrecognized arguments: downward-facing-dog-800x490.png
device: 'cuda' - 1 GPU(s) will be used
None
number of people :  1
bbox : 
 [[ 46   9 390 417]]
frame:    0 / 0 - framerate: 13.359486 fps device: 'cuda' - 1 GPU(s) will be used
None
number of people :  1
bbox : 
 [[ 86   0 574 418]]
frame:    0 / 0 - framerate: 13.603692 fps device: 'cuda' - 1 GPU(s) will be used
None
number of people :  1
bbox : 
 [[ 22   0 253 240]]
frame:    0 / 0 - framerate: 14.274448 fps device: 'cuda' - 1 GPU(s) will be used
None
number of people :  1
bbox : 
 [[ 95   0 354 339]]
frame:    0 / 0 - framerate: 13.962908 fps device: 'cuda' - 1 GPU(s) will be used
None
number of people :  0
bbox : 
 []
frame:    0 / 0 - framerate: 40.412614 fps device: 'cuda' - 1 GPU(s) will be used
None
number of people :  1
bbox : 
 [[121   0 641 350]]
frame:    0 / 0 - framerate: 11.604748 fps device: 'cuda' - 1 GPU(s) will be used
None
number of people :  1
bbox : 
 [[100   0 573 401]]
frame:    0 / 0 - framerate: 11.486398 fps device: 'cuda' - 1 GPU(s) will be used
None
number of people :  1
bbox : 
 [[ 56   0 337 238]]
frame:    0 / 0 - framerate: 12.251509 fps device: 'cuda' - 1 GPU(s) will be used
None
number of people :  1
bbox : 
 [[ 75 124 675 924]]
frame:    0 / 0 - framerate: 11.246321 fps device: 'cuda' - 1 GPU(s) will be used
None
number of people :  1
bbox : 
 [[ 270    0 1018  925]]
frame:    0 / 0 - framerate: 10.884514 fps usage: extract-keypoints.py [-h] [--format FORMAT] [--filename FILENAME]
                            [--hrnet_m HRNET_M] [--hrnet_c HRNET_C]
                            [--hrnet_j HRNET_J]
                            [--hrnet_weights HRNET_WEIGHTS]
                            [--image_resolution IMAGE_RESOLUTION]
                            [--single_person] [--use_tiny_yolo]
                            [--max_batch_size MAX_BATCH_SIZE]
                            [--csv_output_filename CSV_OUTPUT_FILENAME]
                            [--csv_delimiter CSV_DELIMITER]
                            [--json_output_filename JSON_OUTPUT_FILENAME]
                            [--device DEVICE]
extract-keypoints.py: error: unrecognized arguments: downward-dog-pose-as-done-by-a-dog.png
usage: extract-keypoints.py [-h] [--format FORMAT] [--filename FILENAME]
                            [--hrnet_m HRNET_M] [--hrnet_c HRNET_C]
                            [--hrnet_j HRNET_J]
                            [--hrnet_weights HRNET_WEIGHTS]
                            [--image_resolution IMAGE_RESOLUTION]
                            [--single_person] [--use_tiny_yolo]
                            [--max_batch_size MAX_BATCH_SIZE]
                            [--csv_output_filename CSV_OUTPUT_FILENAME]
                            [--csv_delimiter CSV_DELIMITER]
                            [--json_output_filename JSON_OUTPUT_FILENAME]
                            [--device DEVICE]
extract-keypoints.py: error: unrecognized arguments: untitled_design_33.png
device: 'cuda' - 1 GPU(s) will be used
None
number of people :  1
bbox : 
 [[ 72   0 571 360]]
frame:    0 / 0 - framerate: 13.486855 fps device: 'cuda' - 1 GPU(s) will be used
None
number of people :  1
bbox : 
 [[ 95   0 354 339]]
frame:    0 / 0 - framerate: 13.899792 fps device: 'cuda' - 1 GPU(s) will be used
None
number of people :  1
bbox : 
 [[ 69   0 534 320]]
frame:    0 / 0 - framerate: 13.642808 fps device: 'cuda' - 1 GPU(s) will be used
None
number of people :  1
bbox : 
 [[121   0 641 350]]
frame:    0 / 0 - framerate: 13.631590 fps device: 'cuda' - 1 GPU(s) will be used
None
number of people :  1
bbox : 
 [[100   0 573 401]]
frame:    0 / 0 - framerate: 13.406714 fps device: 'cuda' - 1 GPU(s) will be used
None
number of people :  1
bbox : 
 [[ 56   0 337 238]]
frame:    0 / 0 - framerate: 14.097221 fps device: 'cuda' - 1 GPU(s) will be used
None
number of people :  1
bbox : 
 [[282 182 864 958]]
frame:    0 / 0 - framerate: 10.326779 fps device: 'cuda' - 1 GPU(s) will be used
None
number of people :  1
bbox : 
 [[ 75 124 675 924]]
frame:    0 / 0 - framerate: 11.314063 fps device: 'cuda' - 1 GPU(s) will be used
None
number of people :  1
bbox : 
 [[ 103    0 1172  957]]
frame:    0 / 0 - framerate: 10.573813 fps device: 'cuda' - 1 GPU(s) will be used
None
number of people :  0
bbox : 
 []
frame:    0 / 0 - framerate: 36.269415 fps device: 'cuda' - 1 GPU(s) will be used
None
number of people :  0
bbox : 
 []
frame:    0 / 0 - framerate: 36.961385 fps device: 'cuda' - 1 GPU(s) will be used
None
number of people :  1
bbox : 
 [[ 81  68 632 736]]
frame:    0 / 0 - framerate: 12.691168 fps device: 'cuda' - 1 GPU(s) will be used
None
number of people :  1
bbox : 
 [[ 109    0 1201 1001]]
frame:    0 / 0 - framerate: 9.863357 fps device: 'cuda' - 1 GPU(s) will be used
None
number of people :  1
bbox : 
 [[  50   44  948 1080]]
frame:    0 / 0 - framerate: 10.884768 fps device: 'cuda' - 1 GPU(s) will be used
None
number of people :  1
bbox : 
 [[ 197  480  965 1302]]
frame:    0 / 0 - framerate: 10.680166 fps device: 'cuda' - 1 GPU(s) will be used
None
number of people :  1
bbox : 
 [[206   0 808 608]]
frame:    0 / 0 - framerate: 12.697392 fps device: 'cuda' - 1 GPU(s) will be used
None
number of people :  1
bbox : 
 [[  38    0 1014 1080]]
frame:    0 / 0 - framerate: 10.838023 fps device: 'cuda' - 1 GPU(s) will be used
None
number of people :  1
bbox : 
 [[ 187  348 1021 1294]]
frame:    0 / 0 - framerate: 10.964469 fps device: 'cuda' - 1 GPU(s) will be used
None
number of people :  1
bbox : 
 [[  24  370  949 1302]]
frame:    0 / 0 - framerate: 9.755216 fps device: 'cuda' - 1 GPU(s) will be used
None
number of people :  1
bbox : 
 [[ 47  28 733 778]]
frame:    0 / 0 - framerate: 10.623090 fps device: 'cuda' - 1 GPU(s) will be used
None
number of people :  1
bbox : 
 [[ 68   0 658 703]]
frame:    0 / 0 - framerate: 11.680370 fps device: 'cuda' - 1 GPU(s) will be used
None
number of people :  2
bbox : 
 [[ 70 130 413 583]
 [323 235 476 439]]
frame:    0 / 0 - framerate: 11.515885 fps device: 'cuda' - 1 GPU(s) will be used
None
number of people :  1
bbox : 
 [[121 162 537 716]]
frame:    0 / 0 - framerate: 12.093221 fps device: 'cuda' - 1 GPU(s) will be used
None
number of people :  0
bbox : 
 []
frame:    0 / 0 - framerate: 31.075594 fps device: 'cuda' - 1 GPU(s) will be used
None
number of people :  1
bbox : 
 [[  12   79 1049 1350]]
frame:    0 / 0 - framerate: 10.307264 fps device: 'cuda' - 1 GPU(s) will be used
None
number of people :  1
bbox : 
 [[ 132   49 1001 1080]]
frame:    0 / 0 - framerate: 11.298762 fps device: 'cuda' - 1 GPU(s) will be used
None
number of people :  1
bbox : 
 [[ 120  279 1009 1302]]
frame:    0 / 0 - framerate: 10.970807 fps device: 'cuda' - 1 GPU(s) will be used
None
number of people :  2
bbox : 
 [[ 145  121  960 1080]
 [ 567    0  799  311]]
frame:    0 / 0 - framerate: 10.151619 fps device: 'cuda' - 1 GPU(s) will be used
None
number of people :  1
bbox : 
 [[ 105  376  908 1349]]
frame:    0 / 0 - framerate: 10.790317 fps device: 'cuda' - 1 GPU(s) will be used
None
number of people :  1
bbox : 
 [[ 71   0 997 883]]
frame:    0 / 0 - framerate: 11.254106 fps device: 'cuda' - 1 GPU(s) will be used
None
number of people :  1
bbox : 
 [[ 131  150  959 1080]]
frame:    0 / 0 - framerate: 10.070527 fps device: 'cuda' - 1 GPU(s) will be used
None
number of people :  1
bbox : 
 [[112   0 683 506]]
frame:    0 / 0 - framerate: 11.627815 fps device: 'cuda' - 1 GPU(s) will be used
None
number of people :  1
bbox : 
 [[ 270    0 1018  925]]
frame:    0 / 0 - framerate: 11.007690 fps device: 'cuda' - 1 GPU(s) will be used
None
number of people :  1
bbox : 
 [[  42  136  908 1290]]
frame:    0 / 0 - framerate: 10.410570 fps device: 'cuda' - 1 GPU(s) will be used
None
number of people :  1
bbox : 
 [[ 197  108  976 1080]]
frame:    0 / 0 - framerate: 9.261464 fps device: 'cuda' - 1 GPU(s) will be used
None
number of people :  1
bbox : 
 [[114 146 583 734]]
frame:    0 / 0 - framerate: 12.348428 fps device: 'cuda' - 1 GPU(s) will be used
None
number of people :  1
bbox : 
 [[162  65 840 810]]
frame:    0 / 0 - framerate: 12.021198 fps device: 'cuda' - 1 GPU(s) will be used
None
number of people :  1
bbox : 
 [[  84    0 1007 1080]]
frame:    0 / 0 - framerate: 10.738408 fps device: 'cuda' - 1 GPU(s) will be used
None
number of people :  2
bbox : 
 [[  98  209  939 1079]
 [ 143  451  297  655]]
frame:    0 / 0 - framerate: 10.352804 fps device: 'cuda' - 1 GPU(s) will be used
None
number of people :  1
bbox : 
 [[ 81   0 974 978]]
frame:    0 / 0 - framerate: 11.056904 fps device: 'cuda' - 1 GPU(s) will be used
None
number of people :  1
bbox : 
 [[ 78   0 640 600]]
frame:    0 / 0 - framerate: 12.865213 fps device: 'cuda' - 1 GPU(s) will be used
None
number of people :  1
bbox : 
 [[242 144 989 957]]
frame:    0 / 0 - framerate: 11.340524 fps device: 'cuda' - 1 GPU(s) will be used
None
number of people :  1
bbox : 
 [[255 126 750 786]]
frame:    0 / 0 - framerate: 10.187966 fps device: 'cuda' - 1 GPU(s) will be used
None
number of people :  1
bbox : 
 [[ 64 115 492 642]]
frame:    0 / 0 - framerate: 11.302964 fps device: 'cuda' - 1 GPU(s) will be used
None
number of people :  2
bbox : 
 [[  22    0 1066 1271]
 [ 336  450  720  962]]
frame:    0 / 0 - framerate: 7.982369 fps device: 'cuda' - 1 GPU(s) will be used
None
number of people :  1
bbox : 
 [[282  63 878 810]]
frame:    0 / 0 - framerate: 9.938002 fps device: 'cuda' - 1 GPU(s) will be used
None
number of people :  1
bbox : 
 [[ 118   20 1076 1080]]
frame:    0 / 0 - framerate: 9.658108 fps device: 'cuda' - 1 GPU(s) will be used
None
number of people :  1
bbox : 
 [[ 89   0 831 720]]
frame:    0 / 0 - framerate: 10.584246 fps device: 'cuda' - 1 GPU(s) will be used
None
number of people :  1
bbox : 
 [[ 30   0 738 767]]
frame:    0 / 0 - framerate: 9.775747 fps device: 'cuda' - 1 GPU(s) will be used
None
number of people :  2
bbox : 
 [[111 115 627 803]
 [751 427 809 506]]
frame:    0 / 0 - framerate: 9.713399 fps device: 'cuda' - 1 GPU(s) will be used
None
number of people :  1
bbox : 
 [[209   0 916 864]]
frame:    0 / 0 - framerate: 10.915816 fps device: 'cuda' - 1 GPU(s) will be used
None
number of people :  1
bbox : 
 [[ 179  217  967 1267]]
frame:    0 / 0 - framerate: 10.327237 fps device: 'cuda' - 1 GPU(s) will be used
None
number of people :  1
bbox : 
 [[197 257 737 973]]
frame:    0 / 0 - framerate: 10.439513 fps device: 'cuda' - 1 GPU(s) will be used
None
number of people :  1
bbox : 
 [[ 27   0 905 915]]
frame:    0 / 0 - framerate: 10.207205 fps device: 'cuda' - 1 GPU(s) will be used
None
number of people :  1
bbox : 
 [[  51    0 1032 1080]]
frame:    0 / 0 - framerate: 10.089252 fps device: 'cuda' - 1 GPU(s) will be used
None
number of people :  2
bbox : 
 [[  58    0 1062 1202]
 [ 288  372  786 1036]]
frame:    0 / 0 - framerate: 9.124340 fps device: 'cuda' - 1 GPU(s) will be used
None
number of people :  1
bbox : 
 [[ 86   6 987 960]]
frame:    0 / 0 - framerate: 10.695062 fps device: 'cuda' - 1 GPU(s) will be used
None
number of people :  1
bbox : 
 [[264  10 972 954]]
frame:    0 / 0 - framerate: 10.760641 fps device: 'cuda' - 1 GPU(s) will be used
None
number of people :  1
bbox : 
 [[ 116   46 1073 1079]]
frame:    0 / 0 - framerate: 10.888809 fps device: 'cuda' - 1 GPU(s) will be used
None
number of people :  1
bbox : 
 [[ 27 110 559 818]]
frame:    0 / 0 - framerate: 11.120637 fps device: 'cuda' - 1 GPU(s) will be used
None
number of people :  3
bbox : 
 [[  56  215  973 1080]
 [ 807  720  821  740]
 [ 519  504 1081 1080]]
frame:    0 / 0 - framerate: 8.628284 fps device: 'cuda' - 1 GPU(s) will be used
None
number of people :  1
bbox : 
 [[ 154   31  900 1025]]
frame:    0 / 0 - framerate: 9.935883 fps device: 'cuda' - 1 GPU(s) will be used
None
number of people :  1
bbox : 
 [[107   0 994 810]]
frame:    0 / 0 - framerate: 9.922908 fps device: 'cuda' - 1 GPU(s) will be used
None
number of people :  1
bbox : 
 [[  47    0 1022 1080]]
frame:    0 / 0 - framerate: 9.688785 fps device: 'cuda' - 1 GPU(s) will be used
None
number of people :  1
bbox : 
 [[ 106  173  878 1080]]
frame:    0 / 0 - framerate: 9.925021 fps device: 'cuda' - 1 GPU(s) will be used
None
number of people :  1
bbox : 
 [[340   0 965 720]]
frame:    0 / 0 - framerate: 10.405017 fps device: 'cuda' - 1 GPU(s) will be used
None
number of people :  1
bbox : 
 [[213   0 878 708]]
frame:    0 / 0 - framerate: 10.494155 fps device: 'cuda' - 1 GPU(s) will be used
None
number of people :  1
bbox : 
 [[  43    0 1073 1080]]
frame:    0 / 0 - framerate: 9.299720 fps device: 'cuda' - 1 GPU(s) will be used
None
number of people :  1
bbox : 
 [[ 303    0 1064  810]]
frame:    0 / 0 - framerate: 10.280762 fps device: 'cuda' - 1 GPU(s) will be used
None
number of people :  1
bbox : 
 [[ 98   0 876 687]]
frame:    0 / 0 - framerate: 10.711231 fps device: 'cuda' - 1 GPU(s) will be used
None
number of people :  2
bbox : 
 [[ 133  257  862 1080]
 [ 173  752  343  978]]
frame:    0 / 0 - framerate: 9.519679 fps device: 'cuda' - 1 GPU(s) will be used
None
number of people :  1
bbox : 
 [[  56   40 1020 1324]]
frame:    0 / 0 - framerate: 9.263878 fps device: 'cuda' - 1 GPU(s) will be used
None
number of people :  1
bbox : 
 [[277 170 875 966]]
frame:    0 / 0 - framerate: 10.445805 fps device: 'cuda' - 1 GPU(s) will be used
None
number of people :  1
bbox : 
 [[ 30   0 514 481]]
frame:    0 / 0 - framerate: 11.076731 fps device: 'cuda' - 1 GPU(s) will be used
None
number of people :  1
bbox : 
 [[  58    0 1030 1079]]
frame:    0 / 0 - framerate: 9.683416 fps device: 'cuda' - 1 GPU(s) will be used
None
number of people :  1
bbox : 
 [[ 173   97  897 1061]]
frame:    0 / 0 - framerate: 11.153640 fps device: 'cuda' - 1 GPU(s) will be used
None
number of people :  1
bbox : 
 [[  40    0 1039 1072]]
frame:    0 / 0 - framerate: 10.630979 fps device: 'cuda' - 1 GPU(s) will be used
None
number of people :  1
bbox : 
 [[  67   89  969 1080]]
frame:    0 / 0 - framerate: 10.768763 fps device: 'cuda' - 1 GPU(s) will be used
None
number of people :  2
bbox : 
 [[   0    0  958 1197]
 [   0  598  398 1152]]
frame:    0 / 0 - framerate: 8.719930 fps device: 'cuda' - 1 GPU(s) will be used
None
number of people :  5
bbox : 
 [[ 401  834  682 1208]
 [  81  825  324 1149]
 [ 432  511  656  809]
 [ 760  487  994  799]
 [ 124  492  309  738]]
frame:    0 / 0 - framerate: 7.310920 fps device: 'cuda' - 1 GPU(s) will be used
None
number of people :  1
bbox : 
 [[  44    0 1007 1232]]
frame:    0 / 0 - framerate: 10.385282 fps device: 'cuda' - 1 GPU(s) will be used
None
number of people :  2
bbox : 
 [[ 444  277 1064 1080]
 [ 339  469  580  789]]
frame:    0 / 0 - framerate: 10.639177 fps device: 'cuda' - 1 GPU(s) will be used
None
number of people :  1
bbox : 
 [[  96   15 1007 1229]]
frame:    0 / 0 - framerate: 10.600269 fps device: 'cuda' - 1 GPU(s) will be used
None
number of people :  1
bbox : 
 [[ 245  261  836 1049]]
frame:    0 / 0 - framerate: 11.230451 fps device: 'cuda' - 1 GPU(s) will be used
None
number of people :  1
bbox : 
 [[ 137    0 1094 1079]]
frame:    0 / 0 - framerate: 10.728218 fps device: 'cuda' - 1 GPU(s) will be used
None
number of people :  1
bbox : 
 [[ 51   0 667 390]]
frame:    0 / 0 - framerate: 11.215196 fps device: 'cuda' - 1 GPU(s) will be used
None
number of people :  1
bbox : 
 [[286 185 870 963]]
frame:    0 / 0 - framerate: 10.936622 fps device: 'cuda' - 1 GPU(s) will be used
None
number of people :  1
bbox : 
 [[ 331  327 1068 1309]]
frame:    0 / 0 - framerate: 10.468121 fps /bin/bash: -c: line 0: syntax error near unexpected token `('
/bin/bash: -c: line 0: `python3 scripts/extract-keypoints.py        --filename ./images/downdog/151021919_195622135587525_7314863198165677845_n (1).jpg        --format json        --hrnet_weights weights/pose_hrnet_w48_384x288.pth        --json_output_filename ./json_output/downdog/151021919_195622135587525_7314863198165677845_n (1).json'
device: 'cuda' - 1 GPU(s) will be used
None
number of people :  1
bbox : 
 [[121   0 877 565]]
frame:    0 / 0 - framerate: 11.624045 fps device: 'cuda' - 1 GPU(s) will be used
None
number of people :  1
bbox : 
 [[273 157 854 931]]
frame:    0 / 0 - framerate: 11.693004 fps device: 'cuda' - 1 GPU(s) will be used
None
number of people :  1
bbox : 
 [[   0    8  829 1080]]
frame:    0 / 0 - framerate: 10.757963 fps device: 'cuda' - 1 GPU(s) will be used
None
number of people :  1
bbox : 
 [[  74    0 1004  845]]
frame:    0 / 0 - framerate: 11.539393 fps device: 'cuda' - 1 GPU(s) will be used
None
number of people :  1
bbox : 
 [[ 96 473 118 502]]
frame:    0 / 0 - framerate: 12.201150 fps device: 'cuda' - 1 GPU(s) will be used
None
number of people :  1
bbox : 
 [[  95    0 1029 1079]]
frame:    0 / 0 - framerate: 11.221588 fps device: 'cuda' - 1 GPU(s) will be used
None
number of people :  1
bbox : 
 [[ 47  90 852 962]]
frame:    0 / 0 - framerate: 11.435882 fps device: 'cuda' - 1 GPU(s) will be used
None
number of people :  1
bbox : 
 [[119  56 713 720]]
frame:    0 / 0 - framerate: 12.607168 fps device: 'cuda' - 1 GPU(s) will be used
None
number of people :  1
bbox : 
 [[304   0 718 502]]
frame:    0 / 0 - framerate: 12.275497 fps device: 'cuda' - 1 GPU(s) will be used
None
number of people :  1
bbox : 
 [[ 220  225  996 1080]]
frame:    0 / 0 - framerate: 9.477432 fps device: 'cuda' - 1 GPU(s) will be used
None
number of people :  1
bbox : 
 [[239 159 550 573]]
frame:    0 / 0 - framerate: 10.863708 fps device: 'cuda' - 1 GPU(s) will be used
None
number of people :  1
bbox : 
 [[ 69   0 685 567]]
frame:    0 / 0 - framerate: 11.584779 fps device: 'cuda' - 1 GPU(s) will be used
None
number of people :  1
bbox : 
 [[ 210  157  872 1039]]
frame:    0 / 0 - framerate: 10.782910 fps device: 'cuda' - 1 GPU(s) will be used
None
number of people :  2
bbox : 
 [[  62   48 1020 1080]
 [ 722  625 1031 1037]]
frame:    0 / 0 - framerate: 9.826408 fps device: 'cuda' - 1 GPU(s) will be used
None
number of people :  1
bbox : 
 [[ 228  248  847 1072]]
frame:    0 / 0 - framerate: 11.602790 fps device: 'cuda' - 1 GPU(s) will be used
None
number of people :  1
bbox : 
 [[120  82 644 739]]
frame:    0 / 0 - framerate: 12.065079 fps device: 'cuda' - 1 GPU(s) will be used
None
number of people :  1
bbox : 
 [[344 124 774 606]]
frame:    0 / 0 - framerate: 13.151999 fps device: 'cuda' - 1 GPU(s) will be used
None
number of people :  1
bbox : 
 [[ 108  184  871 1079]]
frame:    0 / 0 - framerate: 10.756336 fps device: 'cuda' - 1 GPU(s) will be used
None
number of people :  1
bbox : 
 [[  15    0 1001 1080]]
frame:    0 / 0 - framerate: 10.275095 fps device: 'cuda' - 1 GPU(s) will be used
None
number of people :  1
bbox : 
 [[ 127    0 1069  983]]
frame:    0 / 0 - framerate: 10.773548 fps device: 'cuda' - 1 GPU(s) will be used
None
number of people :  1
bbox : 
 [[ 32   0 807 989]]
frame:    0 / 0 - framerate: 11.041507 fps device: 'cuda' - 1 GPU(s) will be used
None
number of people :  1
bbox : 
 [[140   0 999 744]]
frame:    0 / 0 - framerate: 10.515835 fps device: 'cuda' - 1 GPU(s) will be used
None
number of people :  1
bbox : 
 [[ 143   30 1006 1080]]
frame:    0 / 0 - framerate: 9.857053 fps device: 'cuda' - 1 GPU(s) will be used
None
number of people :  1
bbox : 
 [[ 228    0 1016  690]]
frame:    0 / 0 - framerate: 10.460081 fps device: 'cuda' - 1 GPU(s) will be used
None
number of people :  1
bbox : 
 [[ 35   0 531 544]]
frame:    0 / 0 - framerate: 11.479041 fps device: 'cuda' - 1 GPU(s) will be used
None
number of people :  1
bbox : 
 [[   0  115  788 1077]]
frame:    0 / 0 - framerate: 10.240900 fps device: 'cuda' - 1 GPU(s) will be used
None
number of people :  1
bbox : 
 [[ 166  289  873 1080]]
frame:    0 / 0 - framerate: 11.124708 fps device: 'cuda' - 1 GPU(s) will be used
None
number of people :  1
bbox : 
 [[209 151 703 633]]
frame:    0 / 0 - framerate: 12.325929 fps device: 'cuda' - 1 GPU(s) will be used
None
number of people :  1
bbox : 
 [[ 82 150 862 970]]
frame:    0 / 0 - framerate: 11.759654 fps device: 'cuda' - 1 GPU(s) will be used
None
number of people :  1
bbox : 
 [[  59  178  918 1322]]
frame:    0 / 0 - framerate: 10.559784 fps device: 'cuda' - 1 GPU(s) will be used
None
number of people :  1
bbox : 
 [[ 127    0  952 1080]]
frame:    0 / 0 - framerate: 10.998049 fps device: 'cuda' - 1 GPU(s) will be used
None
number of people :  1
bbox : 
 [[234 145 797 828]]
frame:    0 / 0 - framerate: 12.722658 fps device: 'cuda' - 1 GPU(s) will be used
None
number of people :  1
bbox : 
 [[361 255 727 743]]
frame:    0 / 0 - framerate: 12.815605 fps device: 'cuda' - 1 GPU(s) will be used
None
number of people :  2
bbox : 
 [[ 156  171  713  868]
 [ 811  356 1018  632]]
frame:    0 / 0 - framerate: 11.001828 fps device: 'cuda' - 1 GPU(s) will be used
None
number of people :  1
bbox : 
 [[  43    0 1098 1080]]
frame:    0 / 0 - framerate: 10.124175 fps device: 'cuda' - 1 GPU(s) will be used
None
number of people :  1
bbox : 
 [[ 335  237  961 1071]]
frame:    0 / 0 - framerate: 11.185556 fps device: 'cuda' - 1 GPU(s) will be used
None
number of people :  1
bbox : 
 [[ 46   0 618 365]]
frame:    0 / 0 - framerate: 12.170879 fps device: 'cuda' - 1 GPU(s) will be used
None
number of people :  1
bbox : 
 [[  37    0 1031 1080]]
frame:    0 / 0 - framerate: 10.314412 fps device: 'cuda' - 1 GPU(s) will be used
None
number of people :  1
bbox : 
 [[ 296  539  862 1259]]
frame:    0 / 0 - framerate: 10.668457 fps device: 'cuda' - 1 GPU(s) will be used
None
number of people :  1
bbox : 
 [[  42    0  933 1080]]
frame:    0 / 0 - framerate: 10.194156 fps device: 'cuda' - 1 GPU(s) will be used
None
number of people :  1
bbox : 
 [[ 291  148 1034 1077]]
frame:    0 / 0 - framerate: 10.779335 fps device: 'cuda' - 1 GPU(s) will be used
None
number of people :  1
bbox : 
 [[   0    0 1035 1080]]
frame:    0 / 0 - framerate: 10.446247 fps device: 'cuda' - 1 GPU(s) will be used
None
number of people :  2
bbox : 
 [[  30    0 1048 1080]
 [ 901  455  953  526]]
frame:    0 / 0 - framerate: 9.737528 fps device: 'cuda' - 1 GPU(s) will be used
None
number of people :  1
bbox : 
 [[189  19 896 961]]
frame:    0 / 0 - framerate: 11.665751 fps device: 'cuda' - 1 GPU(s) will be used
None
number of people :  1
bbox : 
 [[  90    0 1031 1080]]
frame:    0 / 0 - framerate: 11.149637 fps device: 'cuda' - 1 GPU(s) will be used
None
number of people :  6
bbox : 
 [[   4    0 1043 1350]
 [ 663    0  820  189]
 [ 409    0  587  203]
 [ 930    6 1080  218]
 [ 823    0 1003  228]
 [ 804    7  936  184]]
frame:    0 / 0 - framerate: 6.254144 fps device: 'cuda' - 1 GPU(s) will be used
None
number of people :  1
bbox : 
 [[ 119  177  872 1080]]
frame:    0 / 0 - framerate: 11.445868 fps device: 'cuda' - 1 GPU(s) will be used
None
number of people :  1
bbox : 
 [[ 106   82  882 1080]]
frame:    0 / 0 - framerate: 11.450274 fps device: 'cuda' - 1 GPU(s) will be used
None
number of people :  1
bbox : 
 [[ 180  219  826 1079]]
frame:    0 / 0 - framerate: 10.734945 fps device: 'cuda' - 1 GPU(s) will be used
None
number of people :  1
bbox : 
 [[  67    0 1034 1061]]
frame:    0 / 0 - framerate: 8.918586 fps device: 'cuda' - 1 GPU(s) will be used
None
number of people :  1
bbox : 
 [[  20    0 1070 1320]]
frame:    0 / 0 - framerate: 8.883621 fps device: 'cuda' - 1 GPU(s) will be used
None
number of people :  1
bbox : 
 [[100   0 869 960]]
frame:    0 / 0 - framerate: 10.023046 fps device: 'cuda' - 1 GPU(s) will be used
None
number of people :  1
bbox : 
 [[269   0 923 720]]
frame:    0 / 0 - framerate: 10.199709 fps device: 'cuda' - 1 GPU(s) will be used
None
number of people :  1
bbox : 
 [[ 216  323  834 1147]]
frame:    0 / 0 - framerate: 9.925749 fps device: 'cuda' - 1 GPU(s) will be used
None
number of people :  1
bbox : 
 [[ 28 109 548 745]]
frame:    0 / 0 - framerate: 10.460289 fps device: 'cuda' - 1 GPU(s) will be used
None
number of people :  2
bbox : 
 [[ 153   53 1019 1080]
 [ 599  726  841 1048]]
frame:    0 / 0 - framerate: 8.854384 fps device: 'cuda' - 1 GPU(s) will be used
None
number of people :  1
bbox : 
 [[ 85   8 721 758]]
frame:    0 / 0 - framerate: 10.715829 fps device: 'cuda' - 1 GPU(s) will be used
None
number of people :  1
bbox : 
 [[ 135  149  985 1080]]
frame:    0 / 0 - framerate: 9.976889 fps device: 'cuda' - 1 GPU(s) will be used
None
number of people :  1
bbox : 
 [[ 89   0 399 380]]
frame:    0 / 0 - framerate: 11.457843 fps device: 'cuda' - 1 GPU(s) will be used
None
number of people :  7
bbox : 
 [[  24    0 1005  847]
 [ 100    4  246  199]
 [ 787    0 1006  258]
 [ 684    9  793  153]
 [ 911   54 1072  268]
 [ 483    8  591  152]
 [ 605   25  669  109]]
frame:    0 / 0 - framerate: 5.464186 fps device: 'cuda' - 1 GPU(s) will be used
None
number of people :  1
bbox : 
 [[  48   11  977 1080]]
frame:    0 / 0 - framerate: 10.490586 fps device: 'cuda' - 1 GPU(s) will be used
None
number of people :  1
bbox : 
 [[  0   0 705 702]]
frame:    0 / 0 - framerate: 11.809319 fps device: 'cuda' - 1 GPU(s) will be used
None
number of people :  1
bbox : 
 [[141  52 804 936]]
frame:    0 / 0 - framerate: 11.376759 fps device: 'cuda' - 1 GPU(s) will be used
None
number of people :  1
bbox : 
 [[167   0 881 728]]
frame:    0 / 0 - framerate: 11.176942 fps device: 'cuda' - 1 GPU(s) will be used
None
number of people :  1
bbox : 
 [[   4   29 1039 1080]]
frame:    0 / 0 - framerate: 10.046598 fps device: 'cuda' - 1 GPU(s) will be used
None
number of people :  1
bbox : 
 [[ 115  125  927 1080]]
frame:    0 / 0 - framerate: 11.298884 fps device: 'cuda' - 1 GPU(s) will be used
None
number of people :  1
bbox : 
 [[ 77   0 904 810]]
frame:    0 / 0 - framerate: 11.270708 fps device: 'cuda' - 1 GPU(s) will be used
None
number of people :  1
bbox : 
 [[ 209  495  919 1350]]
frame:    0 / 0 - framerate: 10.019335 fps device: 'cuda' - 1 GPU(s) will be used
None
number of people :  1
bbox : 
 [[  44  140 1013 1350]]
frame:    0 / 0 - framerate: 10.249609 fps device: 'cuda' - 1 GPU(s) will be used
None
number of people :  1
bbox : 
 [[ 224  193  866 1049]]
frame:    0 / 0 - framerate: 11.789204 fps device: 'cuda' - 1 GPU(s) will be used
None
number of people :  1
bbox : 
 [[320 306 614 688]]
frame:    0 / 0 - framerate: 13.241602 fps device: 'cuda' - 1 GPU(s) will be used
None
number of people :  1
bbox : 
 [[  35    0  937 1080]]
frame:    0 / 0 - framerate: 10.896674 fps device: 'cuda' - 1 GPU(s) will be used
None
number of people :  1
bbox : 
 [[ 264  180  893 1018]]
frame:    0 / 0 - framerate: 11.494834 fps device: 'cuda' - 1 GPU(s) will be used
None
number of people :  1
bbox : 
 [[102  50 443 504]]
frame:    0 / 0 - framerate: 13.752177 fps device: 'cuda' - 1 GPU(s) will be used
None
number of people :  1
bbox : 
 [[ 136  202  950 1080]]
frame:    0 / 0 - framerate: 10.997559 fps device: 'cuda' - 1 GPU(s) will be used
None
number of people :  1
bbox : 
 [[168  81 814 863]]
frame:    0 / 0 - framerate: 10.756501 fps /bin/bash: -c: line 0: syntax error near unexpected token `('
/bin/bash: -c: line 0: `python3 scripts/extract-keypoints.py        --filename ./images/downdog/153089224_2887205008187667_5932162848398288723_n (1).jpg        --format json        --hrnet_weights weights/pose_hrnet_w48_384x288.pth        --json_output_filename ./json_output/downdog/153089224_2887205008187667_5932162848398288723_n (1).json'
device: 'cuda' - 1 GPU(s) will be used
None
number of people :  1
bbox : 
 [[  76   88 1034 1350]]
frame:    0 / 0 - framerate: 10.281140 fps device: 'cuda' - 1 GPU(s) will be used
None
number of people :  2
bbox : 
 [[ 106    0 1028  719]
 [ 664  183 1035  677]]
frame:    0 / 0 - framerate: 10.067602 fps device: 'cuda' - 1 GPU(s) will be used
None
number of people :  1
bbox : 
 [[113   0 952 780]]
frame:    0 / 0 - framerate: 11.779867 fps device: 'cuda' - 1 GPU(s) will be used
None
number of people :  2
bbox : 
 [[ 131   42 1009 1080]
 [ 565  689  846 1063]]
frame:    0 / 0 - framerate: 8.892530 fps device: 'cuda' - 1 GPU(s) will be used
None
number of people :  1
bbox : 
 [[  58    0 1032 1093]]
frame:    0 / 0 - framerate: 10.588308 fps device: 'cuda' - 1 GPU(s) will be used
None
number of people :  1
bbox : 
 [[ 92   0 980 936]]
frame:    0 / 0 - framerate: 11.310249 fps device: 'cuda' - 1 GPU(s) will be used
None
number of people :  1
bbox : 
 [[  86   45  980 1080]]
frame:    0 / 0 - framerate: 10.389373 fps device: 'cuda' - 1 GPU(s) will be used
None
number of people :  1
bbox : 
 [[ 190    0 1041  810]]
frame:    0 / 0 - framerate: 11.547399 fps device: 'cuda' - 1 GPU(s) will be used
None
number of people :  1
bbox : 
 [[ 129  216 1067 1350]]
frame:    0 / 0 - framerate: 10.353443 fps device: 'cuda' - 1 GPU(s) will be used
None
number of people :  1
bbox : 
 [[356 102 851 607]]
frame:    0 / 0 - framerate: 12.211096 fps device: 'cuda' - 1 GPU(s) will be used
None
number of people :  1
bbox : 
 [[ 154  198  968 1080]]
frame:    0 / 0 - framerate: 10.884853 fps device: 'cuda' - 1 GPU(s) will be used
None
number of people :  1
bbox : 
 [[  63  177  955 1080]]
frame:    0 / 0 - framerate: 10.988944 fps device: 'cuda' - 1 GPU(s) will be used
None
number of people :  2
bbox : 
 [[ 307  195 1028 1080]
 [  86  562  517 1080]]
frame:    0 / 0 - framerate: 10.233604 fps device: 'cuda' - 1 GPU(s) will be used
None
number of people :  1
bbox : 
 [[ 149  169  961 1080]]
frame:    0 / 0 - framerate: 10.465770 fps device: 'cuda' - 1 GPU(s) will be used
None
number of people :  1
bbox : 
 [[ 32   0 267 215]]
frame:    0 / 0 - framerate: 14.149248 fps device: 'cuda' - 1 GPU(s) will be used
None
number of people :  1
bbox : 
 [[ 136  155  854 1080]]
frame:    0 / 0 - framerate: 9.802020 fps device: 'cuda' - 1 GPU(s) will be used
None
number of people :  1
bbox : 
 [[ 38   0 735 763]]
frame:    0 / 0 - framerate: 10.080208 fps device: 'cuda' - 1 GPU(s) will be used
None
number of people :  1
bbox : 
 [[128   0 994 781]]
frame:    0 / 0 - framerate: 9.875806 fps device: 'cuda' - 1 GPU(s) will be used
None
number of people :  1
bbox : 
 [[ 43   0 373 267]]
frame:    0 / 0 - framerate: 11.794243 fps device: 'cuda' - 1 GPU(s) will be used
None
number of people :  1
bbox : 
 [[ 51   0 583 330]]
frame:    0 / 0 - framerate: 12.534154 fps device: 'cuda' - 1 GPU(s) will be used
None
number of people :  1
bbox : 
 [[ 58   0 426 353]]
frame:    0 / 0 - framerate: 13.733490 fps usage: extract-keypoints.py [-h] [--format FORMAT] [--filename FILENAME]
                            [--hrnet_m HRNET_M] [--hrnet_c HRNET_C]
                            [--hrnet_j HRNET_J]
                            [--hrnet_weights HRNET_WEIGHTS]
                            [--image_resolution IMAGE_RESOLUTION]
                            [--single_person] [--use_tiny_yolo]
                            [--max_batch_size MAX_BATCH_SIZE]
                            [--csv_output_filename CSV_OUTPUT_FILENAME]
                            [--csv_delimiter CSV_DELIMITER]
                            [--json_output_filename JSON_OUTPUT_FILENAME]
                            [--device DEVICE]
extract-keypoints.py: error: unrecognized arguments: one-leg-downward-facing-dog-yoga-pose.png
device: 'cuda' - 1 GPU(s) will be used
None
number of people :  1
bbox : 
 [[ 267    0 1209  876]]
frame:    0 / 0 - framerate: 10.864102 fps device: 'cuda' - 1 GPU(s) will be used
None
number of people :  1
bbox : 
 [[ 34   0 354 280]]
frame:    0 / 0 - framerate: 13.958958 fps device: 'cuda' - 1 GPU(s) will be used
None
number of people :  1
bbox : 
 [[110 103 482 550]]
frame:    0 / 0 - framerate: 13.687106 fps device: 'cuda' - 1 GPU(s) will be used
None
number of people :  1
bbox : 
 [[ 63   0 429 360]]
frame:    0 / 0 - framerate: 13.849535 fps device: 'cuda' - 1 GPU(s) will be used
None
number of people :  1
bbox : 
 [[ 70   0 635 484]]
frame:    0 / 0 - framerate: 13.372477 fps device: 'cuda' - 1 GPU(s) will be used
None
number of people :  1
bbox : 
 [[ 55   0 296 193]]
frame:    0 / 0 - framerate: 13.893622 fps device: 'cuda' - 1 GPU(s) will be used
None
number of people :  1
bbox : 
 [[ 99   0 651 575]]
frame:    0 / 0 - framerate: 12.387414 fps device: 'cuda' - 1 GPU(s) will be used
None
number of people :  1
bbox : 
 [[ 50   0 581 349]]
frame:    0 / 0 - framerate: 13.594653 fps device: 'cuda' - 1 GPU(s) will be used
None
number of people :  1
bbox : 
 [[ 560    0 1611 1068]]
frame:    0 / 0 - framerate: 9.187659 fps device: 'cuda' - 1 GPU(s) will be used
None
number of people :  1
bbox : 
 [[ 81 135 282 380]]
frame:    0 / 0 - framerate: 12.523563 fps usage: extract-keypoints.py [-h] [--format FORMAT] [--filename FILENAME]
                            [--hrnet_m HRNET_M] [--hrnet_c HRNET_C]
                            [--hrnet_j HRNET_J]
                            [--hrnet_weights HRNET_WEIGHTS]
                            [--image_resolution IMAGE_RESOLUTION]
                            [--single_person] [--use_tiny_yolo]
                            [--max_batch_size MAX_BATCH_SIZE]
                            [--csv_output_filename CSV_OUTPUT_FILENAME]
                            [--csv_delimiter CSV_DELIMITER]
                            [--json_output_filename JSON_OUTPUT_FILENAME]
                            [--device DEVICE]
extract-keypoints.py: error: unrecognized arguments: screen_shot_2014-03-20_at_2.05.15_pm.png
device: 'cuda' - 1 GPU(s) will be used
None
number of people :  1
bbox : 
 [[ 64   0 597 413]]
frame:    0 / 0 - framerate: 11.253079 fps device: 'cuda' - 1 GPU(s) will be used
None
number of people :  1
bbox : 
 [[134   0 514 329]]
frame:    0 / 0 - framerate: 12.627170 fps device: 'cuda' - 1 GPU(s) will be used
None
number of people :  1
bbox : 
 [[ 68   0 778 562]]
frame:    0 / 0 - framerate: 12.903129 fps device: 'cuda' - 1 GPU(s) will be used
None
number of people :  1
bbox : 
 [[  35  113  823 1163]]
frame:    0 / 0 - framerate: 11.338592 fps device: 'cuda' - 1 GPU(s) will be used
None
number of people :  1
bbox : 
 [[ 61   5 250 232]]
frame:    0 / 0 - framerate: 14.192145 fps device: 'cuda' - 1 GPU(s) will be used
None
number of people :  1
bbox : 
 [[ 84   0 616 375]]
frame:    0 / 0 - framerate: 13.154639 fps device: 'cuda' - 1 GPU(s) will be used
None
number of people :  1
bbox : 
 [[243   0 769 500]]
frame:    0 / 0 - framerate: 12.700468 fps device: 'cuda' - 1 GPU(s) will be used
None
number of people :  1
bbox : 
 [[ 362    0 1225  720]]
frame:    0 / 0 - framerate: 11.599003 fps device: 'cuda' - 1 GPU(s) will be used
None
number of people :  1
bbox : 
 [[ 662    0 2467 1920]]
frame:    0 / 0 - framerate: 6.748701 fps usage: extract-keypoints.py [-h] [--format FORMAT] [--filename FILENAME]
                            [--hrnet_m HRNET_M] [--hrnet_c HRNET_C]
                            [--hrnet_j HRNET_J]
                            [--hrnet_weights HRNET_WEIGHTS]
                            [--image_resolution IMAGE_RESOLUTION]
                            [--single_person] [--use_tiny_yolo]
                            [--max_batch_size MAX_BATCH_SIZE]
                            [--csv_output_filename CSV_OUTPUT_FILENAME]
                            [--csv_delimiter CSV_DELIMITER]
                            [--json_output_filename JSON_OUTPUT_FILENAME]
                            [--device DEVICE]
extract-keypoints.py: error: unrecognized arguments: screenshot_20180504-085613-450x800.png
device: 'cuda' - 1 GPU(s) will be used
None
number of people :  1
bbox : 
 [[113   0 590 424]]
frame:    0 / 0 - framerate: 13.239262 fps device: 'cuda' - 1 GPU(s) will be used
None
number of people :  1
bbox : 
 [[ 75   0 656 378]]
frame:    0 / 0 - framerate: 13.586506 fps device: 'cuda' - 1 GPU(s) will be used
None
number of people :  1
bbox : 
 [[ 88   0 675 546]]
frame:    0 / 0 - framerate: 12.241318 fps device: 'cuda' - 1 GPU(s) will be used
None
number of people :  1
bbox : 
 [[110   0 576 430]]
frame:    0 / 0 - framerate: 11.756951 fps device: 'cuda' - 1 GPU(s) will be used
None
number of people :  1
bbox : 
 [[  13    0 2586 2399]]
frame:    0 / 0 - framerate: 3.707049 fps device: 'cuda' - 1 GPU(s) will be used
None
number of people :  1
bbox : 
 [[301 159 623 577]]
frame:    0 / 0 - framerate: 12.383756 fps device: 'cuda' - 1 GPU(s) will be used
None
number of people :  1
bbox : 
 [[149   0 701 533]]
frame:    0 / 0 - framerate: 13.195943 fps device: 'cuda' - 1 GPU(s) will be used
None
number of people :  1
bbox : 
 [[ 248    0 1121  628]]
frame:    0 / 0 - framerate: 12.331800 fps usage: extract-keypoints.py [-h] [--format FORMAT] [--filename FILENAME]
                            [--hrnet_m HRNET_M] [--hrnet_c HRNET_C]
                            [--hrnet_j HRNET_J]
                            [--hrnet_weights HRNET_WEIGHTS]
                            [--image_resolution IMAGE_RESOLUTION]
                            [--single_person] [--use_tiny_yolo]
                            [--max_batch_size MAX_BATCH_SIZE]
                            [--csv_output_filename CSV_OUTPUT_FILENAME]
                            [--csv_delimiter CSV_DELIMITER]
                            [--json_output_filename JSON_OUTPUT_FILENAME]
                            [--device DEVICE]
extract-keypoints.py: error: unrecognized arguments: 1-adho-mukha-svanasana.png
device: 'cuda' - 1 GPU(s) will be used
None
number of people :  1
bbox : 
 [[ 194    0 1046  957]]
frame:    0 / 0 - framerate: 10.803268 fps device: 'cuda' - 1 GPU(s) will be used
None
number of people :  2
bbox : 
 [[ 12   0 296 354]
 [320   2 595 354]]
frame:    0 / 0 - framerate: 12.078977 fps device: 'cuda' - 1 GPU(s) will be used
None
number of people :  1
bbox : 
 [[102   0 603 355]]
frame:    0 / 0 - framerate: 13.327394 fps device: 'cuda' - 1 GPU(s) will be used
None
number of people :  1
bbox : 
 [[ 58   0 618 440]]
frame:    0 / 0 - framerate: 13.015037 fps device: 'cuda' - 1 GPU(s) will be used
None
number of people :  1
bbox : 
 [[ 56   7 401 400]]
frame:    0 / 0 - framerate: 13.685944 fps device: 'cuda' - 1 GPU(s) will be used
None
number of people :  1
bbox : 
 [[168   0 852 502]]
frame:    0 / 0 - framerate: 12.216075 fps device: 'cuda' - 1 GPU(s) will be used
None
number of people :  1
bbox : 
 [[ 234    0 4044 2848]]
frame:    0 / 0 - framerate: 2.679649 fps device: 'cuda' - 1 GPU(s) will be used
None
number of people :  1
bbox : 
 [[ 19   0 254 190]]
frame:    0 / 0 - framerate: 12.071468 fps device: 'cuda' - 1 GPU(s) will be used
None
number of people :  1
bbox : 
 [[ 83  59 438 531]]
frame:    0 / 0 - framerate: 12.432282 fps device: 'cuda' - 1 GPU(s) will be used
None
number of people :  1
bbox : 
 [[ 78   0 659 450]]
frame:    0 / 0 - framerate: 12.272803 fps usage: extract-keypoints.py [-h] [--format FORMAT] [--filename FILENAME]
                            [--hrnet_m HRNET_M] [--hrnet_c HRNET_C]
                            [--hrnet_j HRNET_J]
                            [--hrnet_weights HRNET_WEIGHTS]
                            [--image_resolution IMAGE_RESOLUTION]
                            [--single_person] [--use_tiny_yolo]
                            [--max_batch_size MAX_BATCH_SIZE]
                            [--csv_output_filename CSV_OUTPUT_FILENAME]
                            [--csv_delimiter CSV_DELIMITER]
                            [--json_output_filename JSON_OUTPUT_FILENAME]
                            [--device DEVICE]
extract-keypoints.py: error: unrecognized arguments: screen-shot-2017-09-15-at-17.00.06-1024x585.png
device: 'cuda' - 1 GPU(s) will be used
None
number of people :  2
bbox : 
 [[ 52   0 589 463]
 [163 237 285 400]]
frame:    0 / 0 - framerate: 10.483611 fps device: 'cuda' - 1 GPU(s) will be used
None
number of people :  1
bbox : 
 [[ 55   0 424 350]]
frame:    0 / 0 - framerate: 12.376886 fps device: 'cuda' - 1 GPU(s) will be used
None
number of people :  1
bbox : 
 [[ 78   0 659 450]]
frame:    0 / 0 - framerate: 12.292874 fps device: 'cuda' - 1 GPU(s) will be used
None
number of people :  1
bbox : 
 [[ 658  113 2375 2250]]
frame:    0 / 0 - framerate: 5.152492 fps device: 'cuda' - 1 GPU(s) will be used
None
number of people :  1
bbox : 
 [[ 344   50 2160 2250]]
frame:    0 / 0 - framerate: 4.970073 fps device: 'cuda' - 1 GPU(s) will be used
None
number of people :  2
bbox : 
 [[ 966  111 2686 2250]
 [3639 1672 4000 2249]]
frame:    0 / 0 - framerate: 4.761493 fps device: 'cuda' - 1 GPU(s) will be used
None
number of people :  1
bbox : 
 [[ 280    0 2981 2250]]
frame:    0 / 0 - framerate: 4.192011 fps device: 'cuda' - 1 GPU(s) will be used
None
number of people :  1
bbox : 
 [[ 317    0 2463 1836]]
frame:    0 / 0 - framerate: 6.193469 fps device: 'cuda' - 1 GPU(s) will be used
None
number of people :  1
bbox : 
 [[1205  189 2420 1809]]
frame:    0 / 0 - framerate: 7.251024 fps device: 'cuda' - 1 GPU(s) will be used
None
number of people :  1
bbox : 
 [[1241  335 2271 1707]]
frame:    0 / 0 - framerate: 7.160949 fps device: 'cuda' - 1 GPU(s) will be used
None
number of people :  1
bbox : 
 [[1055   56 2491 1836]]
frame:    0 / 0 - framerate: 5.850082 fps device: 'cuda' - 1 GPU(s) will be used
None
number of people :  1
bbox : 
 [[ 88 161 500 614]]
frame:    0 / 0 - framerate: 11.336233 fps device: 'cuda' - 1 GPU(s) will be used
None
number of people :  1
bbox : 
 [[ 377    0 1456 1080]]
frame:    0 / 0 - framerate: 9.735585 fps device: 'cuda' - 1 GPU(s) will be used
None
number of people :  1
bbox : 
 [[ 18   0 410 420]]
frame:    0 / 0 - framerate: 13.481653 fps device: 'cuda' - 1 GPU(s) will be used
None
number of people :  1
bbox : 
 [[ 260    0 1204  720]]
frame:    0 / 0 - framerate: 12.066953 fps device: 'cuda' - 1 GPU(s) will be used
None
number of people :  1
bbox : 
 [[ 57   0 425 353]]
frame:    0 / 0 - framerate: 13.627693 fps device: 'cuda' - 1 GPU(s) will be used
None
number of people :  2
bbox : 
 [[179   0 895 768]
 [153 407 414 755]]
frame:    0 / 0 - framerate: 10.850752 fps device: 'cuda' - 1 GPU(s) will be used
None
number of people :  1
bbox : 
 [[224  98 601 512]]
frame:    0 / 0 - framerate: 13.553666 fps usage: extract-keypoints.py [-h] [--format FORMAT] [--filename FILENAME]
                            [--hrnet_m HRNET_M] [--hrnet_c HRNET_C]
                            [--hrnet_j HRNET_J]
                            [--hrnet_weights HRNET_WEIGHTS]
                            [--image_resolution IMAGE_RESOLUTION]
                            [--single_person] [--use_tiny_yolo]
                            [--max_batch_size MAX_BATCH_SIZE]
                            [--csv_output_filename CSV_OUTPUT_FILENAME]
                            [--csv_delimiter CSV_DELIMITER]
                            [--json_output_filename JSON_OUTPUT_FILENAME]
                            [--device DEVICE]
extract-keypoints.py: error: unrecognized arguments: adho-mukha-svanasana.png
device: 'cuda' - 1 GPU(s) will be used
None
number of people :  1
bbox : 
 [[ 53   0 762 600]]
frame:    0 / 0 - framerate: 12.831915 fps device: 'cuda' - 1 GPU(s) will be used
None
number of people :  1
bbox : 
 [[ 54   0 550 400]]
frame:    0 / 0 - framerate: 13.604310 fps device: 'cuda' - 1 GPU(s) will be used
None
number of people :  1
bbox : 
 [[ 83   0 637 450]]
frame:    0 / 0 - framerate: 11.458063 fps device: 'cuda' - 1 GPU(s) will be used
None
number of people :  1
bbox : 
 [[ 94   0 429 360]]
frame:    0 / 0 - framerate: 12.619306 fps device: 'cuda' - 1 GPU(s) will be used
None
number of people :  0
bbox : 
 []
frame:    0 / 0 - framerate: 35.262550 fps device: 'cuda' - 1 GPU(s) will be used
None
number of people :  1
bbox : 
 [[ 62   0 526 417]]
frame:    0 / 0 - framerate: 13.385236 fps device: 'cuda' - 1 GPU(s) will be used
None
number of people :  1
bbox : 
 [[ 40   0 511 426]]
frame:    0 / 0 - framerate: 13.171452 fps device: 'cuda' - 1 GPU(s) will be used
None
number of people :  1
bbox : 
 [[ 71  39 322 360]]
frame:    0 / 0 - framerate: 14.031808 fps device: 'cuda' - 1 GPU(s) will be used
None
number of people :  1
bbox : 
 [[119   0 642 533]]
frame:    0 / 0 - framerate: 12.953859 fps device: 'cuda' - 1 GPU(s) will be used
None
number of people :  2
bbox : 
 [[ 30   0 372 360]
 [414  46 480 190]]
frame:    0 / 0 - framerate: 12.575870 fps device: 'cuda' - 1 GPU(s) will be used
None
number of people :  5
bbox : 
 [[ 88   0 570 417]
 [547  89 626 212]
 [155 113 225 208]
 [114 134 170 209]
 [512 108 562 176]]
frame:    0 / 0 - framerate: 8.145735 fps usage: extract-keypoints.py [-h] [--format FORMAT] [--filename FILENAME]
                            [--hrnet_m HRNET_M] [--hrnet_c HRNET_C]
                            [--hrnet_j HRNET_J]
                            [--hrnet_weights HRNET_WEIGHTS]
                            [--image_resolution IMAGE_RESOLUTION]
                            [--single_person] [--use_tiny_yolo]
                            [--max_batch_size MAX_BATCH_SIZE]
                            [--csv_output_filename CSV_OUTPUT_FILENAME]
                            [--csv_delimiter CSV_DELIMITER]
                            [--json_output_filename JSON_OUTPUT_FILENAME]
                            [--device DEVICE]
extract-keypoints.py: error: unrecognized arguments: photo-17-05-2015-18-28-30.png
device: 'cuda' - 1 GPU(s) will be used
None
number of people :  1
bbox : 
 [[ 71   0 549 400]]
frame:    0 / 0 - framerate: 13.800866 fps device: 'cuda' - 1 GPU(s) will be used
None
number of people :  1
bbox : 
 [[  72  519  729 1341]]
frame:    0 / 0 - framerate: 11.603399 fps device: 'cuda' - 1 GPU(s) will be used
None
number of people :  1
bbox : 
 [[  7   0 144 160]]
frame:    0 / 0 - framerate: 14.423478 fps usage: extract-keypoints.py [-h] [--format FORMAT] [--filename FILENAME]
                            [--hrnet_m HRNET_M] [--hrnet_c HRNET_C]
                            [--hrnet_j HRNET_J]
                            [--hrnet_weights HRNET_WEIGHTS]
                            [--image_resolution IMAGE_RESOLUTION]
                            [--single_person] [--use_tiny_yolo]
                            [--max_batch_size MAX_BATCH_SIZE]
                            [--csv_output_filename CSV_OUTPUT_FILENAME]
                            [--csv_delimiter CSV_DELIMITER]
                            [--json_output_filename JSON_OUTPUT_FILENAME]
                            [--device DEVICE]
extract-keypoints.py: error: unrecognized arguments: george7.png
device: 'cuda' - 1 GPU(s) will be used
None
number of people :  1
bbox : 
 [[175   0 646 450]]
frame:    0 / 0 - framerate: 11.390044 fps usage: extract-keypoints.py [-h] [--format FORMAT] [--filename FILENAME]
                            [--hrnet_m HRNET_M] [--hrnet_c HRNET_C]
                            [--hrnet_j HRNET_J]
                            [--hrnet_weights HRNET_WEIGHTS]
                            [--image_resolution IMAGE_RESOLUTION]
                            [--single_person] [--use_tiny_yolo]
                            [--max_batch_size MAX_BATCH_SIZE]
                            [--csv_output_filename CSV_OUTPUT_FILENAME]
                            [--csv_delimiter CSV_DELIMITER]
                            [--json_output_filename JSON_OUTPUT_FILENAME]
                            [--device DEVICE]
extract-keypoints.py: error: unrecognized arguments: dsc_1007-resized-600.jpg
device: 'cuda' - 1 GPU(s) will be used
None
number of people :  1
bbox : 
 [[179   0 898 720]]
frame:    0 / 0 - framerate: 11.256643 fps usage: extract-keypoints.py [-h] [--format FORMAT] [--filename FILENAME]
                            [--hrnet_m HRNET_M] [--hrnet_c HRNET_C]
                            [--hrnet_j HRNET_J]
                            [--hrnet_weights HRNET_WEIGHTS]
                            [--image_resolution IMAGE_RESOLUTION]
                            [--single_person] [--use_tiny_yolo]
                            [--max_batch_size MAX_BATCH_SIZE]
                            [--csv_output_filename CSV_OUTPUT_FILENAME]
                            [--csv_delimiter CSV_DELIMITER]
                            [--json_output_filename JSON_OUTPUT_FILENAME]
                            [--device DEVICE]
extract-keypoints.py: error: unrecognized arguments: 11.png
device: 'cuda' - 1 GPU(s) will be used
None
number of people :  1
bbox : 
 [[ 193  256  837 1024]]
frame:    0 / 0 - framerate: 12.209212 fps device: 'cuda' - 1 GPU(s) will be used
None
number of people :  1
bbox : 
 [[ 267    0 1209  876]]
frame:    0 / 0 - framerate: 10.009197 fps device: 'cuda' - 1 GPU(s) will be used
None
number of people :  1
bbox : 
 [[ 53   0 762 600]]
frame:    0 / 0 - framerate: 12.799766 fps usage: extract-keypoints.py [-h] [--format FORMAT] [--filename FILENAME]
                            [--hrnet_m HRNET_M] [--hrnet_c HRNET_C]
                            [--hrnet_j HRNET_J]
                            [--hrnet_weights HRNET_WEIGHTS]
                            [--image_resolution IMAGE_RESOLUTION]
                            [--single_person] [--use_tiny_yolo]
                            [--max_batch_size MAX_BATCH_SIZE]
                            [--csv_output_filename CSV_OUTPUT_FILENAME]
                            [--csv_delimiter CSV_DELIMITER]
                            [--json_output_filename JSON_OUTPUT_FILENAME]
                            [--device DEVICE]
extract-keypoints.py: error: unrecognized arguments: screen-shot-2017-10-30-at-2.24.06-pm.png
device: 'cuda' - 1 GPU(s) will be used
None
number of people :  1
bbox : 
 [[175   0 646 450]]
frame:    0 / 0 - framerate: 13.274122 fps usage: extract-keypoints.py [-h] [--format FORMAT] [--filename FILENAME]
                            [--hrnet_m HRNET_M] [--hrnet_c HRNET_C]
                            [--hrnet_j HRNET_J]
                            [--hrnet_weights HRNET_WEIGHTS]
                            [--image_resolution IMAGE_RESOLUTION]
                            [--single_person] [--use_tiny_yolo]
                            [--max_batch_size MAX_BATCH_SIZE]
                            [--csv_output_filename CSV_OUTPUT_FILENAME]
                            [--csv_delimiter CSV_DELIMITER]
                            [--json_output_filename JSON_OUTPUT_FILENAME]
                            [--device DEVICE]
extract-keypoints.py: error: unrecognized arguments: adho-mukha-svanasana.png
device: 'cuda' - 1 GPU(s) will be used
None
number of people :  1
bbox : 
 [[ 64   0 597 413]]
frame:    0 / 0 - framerate: 13.083690 fps usage: extract-keypoints.py [-h] [--format FORMAT] [--filename FILENAME]
                            [--hrnet_m HRNET_M] [--hrnet_c HRNET_C]
                            [--hrnet_j HRNET_J]
                            [--hrnet_weights HRNET_WEIGHTS]
                            [--image_resolution IMAGE_RESOLUTION]
                            [--single_person] [--use_tiny_yolo]
                            [--max_batch_size MAX_BATCH_SIZE]
                            [--csv_output_filename CSV_OUTPUT_FILENAME]
                            [--csv_delimiter CSV_DELIMITER]
                            [--json_output_filename JSON_OUTPUT_FILENAME]
                            [--device DEVICE]
extract-keypoints.py: error: unrecognized arguments: downward-facing-dog-pose-567x567.png
device: 'cuda' - 1 GPU(s) will be used
None
number of people :  1
bbox : 
 [[ 160    0 1172  850]]
frame:    0 / 0 - framerate: 10.934142 fps device: 'cuda' - 1 GPU(s) will be used
None
number of people :  1
bbox : 
 [[ 55   0 424 350]]
frame:    0 / 0 - framerate: 13.852554 fps device: 'cuda' - 1 GPU(s) will be used
None
number of people :  1
bbox : 
 [[ 71   0 549 400]]
frame:    0 / 0 - framerate: 13.652400 fps usage: extract-keypoints.py [-h] [--format FORMAT] [--filename FILENAME]
                            [--hrnet_m HRNET_M] [--hrnet_c HRNET_C]
                            [--hrnet_j HRNET_J]
                            [--hrnet_weights HRNET_WEIGHTS]
                            [--image_resolution IMAGE_RESOLUTION]
                            [--single_person] [--use_tiny_yolo]
                            [--max_batch_size MAX_BATCH_SIZE]
                            [--csv_output_filename CSV_OUTPUT_FILENAME]
                            [--csv_delimiter CSV_DELIMITER]
                            [--json_output_filename JSON_OUTPUT_FILENAME]
                            [--device DEVICE]
extract-keypoints.py: error: unrecognized arguments: 1473984207.png
usage: extract-keypoints.py [-h] [--format FORMAT] [--filename FILENAME]
                            [--hrnet_m HRNET_M] [--hrnet_c HRNET_C]
                            [--hrnet_j HRNET_J]
                            [--hrnet_weights HRNET_WEIGHTS]
                            [--image_resolution IMAGE_RESOLUTION]
                            [--single_person] [--use_tiny_yolo]
                            [--max_batch_size MAX_BATCH_SIZE]
                            [--csv_output_filename CSV_OUTPUT_FILENAME]
                            [--csv_delimiter CSV_DELIMITER]
                            [--json_output_filename JSON_OUTPUT_FILENAME]
                            [--device DEVICE]
extract-keypoints.py: error: unrecognized arguments: down_dog_orthocarolina_winston.png
device: 'cuda' - 1 GPU(s) will be used
None
number of people :  1
bbox : 
 [[179   0 898 720]]
frame:    0 / 0 - framerate: 10.714652 fps usage: extract-keypoints.py [-h] [--format FORMAT] [--filename FILENAME]
                            [--hrnet_m HRNET_M] [--hrnet_c HRNET_C]
                            [--hrnet_j HRNET_J]
                            [--hrnet_weights HRNET_WEIGHTS]
                            [--image_resolution IMAGE_RESOLUTION]
                            [--single_person] [--use_tiny_yolo]
                            [--max_batch_size MAX_BATCH_SIZE]
                            [--csv_output_filename CSV_OUTPUT_FILENAME]
                            [--csv_delimiter CSV_DELIMITER]
                            [--json_output_filename JSON_OUTPUT_FILENAME]
                            [--device DEVICE]
extract-keypoints.py: error: unrecognized arguments: screenshot_2015-02-10-12-04-46.png
device: 'cuda' - 1 GPU(s) will be used
None
number of people :  1
bbox : 
 [[ 193  256  837 1024]]
frame:    0 / 0 - framerate: 10.927134 fps usage: extract-keypoints.py [-h] [--format FORMAT] [--filename FILENAME]
                            [--hrnet_m HRNET_M] [--hrnet_c HRNET_C]
                            [--hrnet_j HRNET_J]
                            [--hrnet_weights HRNET_WEIGHTS]
                            [--image_resolution IMAGE_RESOLUTION]
                            [--single_person] [--use_tiny_yolo]
                            [--max_batch_size MAX_BATCH_SIZE]
                            [--csv_output_filename CSV_OUTPUT_FILENAME]
                            [--csv_delimiter CSV_DELIMITER]
                            [--json_output_filename JSON_OUTPUT_FILENAME]
                            [--device DEVICE]
extract-keypoints.py: error: unrecognized arguments: adho-mukha-svanasana.png
device: 'cuda' - 1 GPU(s) will be used
None
number of people :  1
bbox : 
 [[ 194    0 1046  957]]
frame:    0 / 0 - framerate: 10.945041 fps usage: extract-keypoints.py [-h] [--format FORMAT] [--filename FILENAME]
                            [--hrnet_m HRNET_M] [--hrnet_c HRNET_C]
                            [--hrnet_j HRNET_J]
                            [--hrnet_weights HRNET_WEIGHTS]
                            [--image_resolution IMAGE_RESOLUTION]
                            [--single_person] [--use_tiny_yolo]
                            [--max_batch_size MAX_BATCH_SIZE]
                            [--csv_output_filename CSV_OUTPUT_FILENAME]
                            [--csv_delimiter CSV_DELIMITER]
                            [--json_output_filename JSON_OUTPUT_FILENAME]
                            [--device DEVICE]
extract-keypoints.py: error: unrecognized arguments: 068155f5a8d0310c34a6ed06cb089294.png
usage: extract-keypoints.py [-h] [--format FORMAT] [--filename FILENAME]
                            [--hrnet_m HRNET_M] [--hrnet_c HRNET_C]
                            [--hrnet_j HRNET_J]
                            [--hrnet_weights HRNET_WEIGHTS]
                            [--image_resolution IMAGE_RESOLUTION]
                            [--single_person] [--use_tiny_yolo]
                            [--max_batch_size MAX_BATCH_SIZE]
                            [--csv_output_filename CSV_OUTPUT_FILENAME]
                            [--csv_delimiter CSV_DELIMITER]
                            [--json_output_filename JSON_OUTPUT_FILENAME]
                            [--device DEVICE]
extract-keypoints.py: error: unrecognized arguments: downward-facing-dog-800x490.png
device: 'cuda' - 1 GPU(s) will be used
None
number of people :  1
bbox : 
 [[192   0 641 415]]
frame:    0 / 0 - framerate: 12.924918 fps device: 'cuda' - 1 GPU(s) will be used
None
number of people :  1
bbox : 
 [[  82    0 1137  957]]
frame:    0 / 0 - framerate: 10.489405 fps device: 'cuda' - 1 GPU(s) will be used
None
number of people :  1
bbox : 
 [[ 164    0 1124  628]]
frame:    0 / 0 - framerate: 11.839587 fps usage: extract-keypoints.py [-h] [--format FORMAT] [--filename FILENAME]
                            [--hrnet_m HRNET_M] [--hrnet_c HRNET_C]
                            [--hrnet_j HRNET_J]
                            [--hrnet_weights HRNET_WEIGHTS]
                            [--image_resolution IMAGE_RESOLUTION]
                            [--single_person] [--use_tiny_yolo]
                            [--max_batch_size MAX_BATCH_SIZE]
                            [--csv_output_filename CSV_OUTPUT_FILENAME]
                            [--csv_delimiter CSV_DELIMITER]
                            [--json_output_filename JSON_OUTPUT_FILENAME]
                            [--device DEVICE]
extract-keypoints.py: error: unrecognized arguments: screen-shot-2019-01-02-at-5.02.56-pm.png
usage: extract-keypoints.py [-h] [--format FORMAT] [--filename FILENAME]
                            [--hrnet_m HRNET_M] [--hrnet_c HRNET_C]
                            [--hrnet_j HRNET_J]
                            [--hrnet_weights HRNET_WEIGHTS]
                            [--image_resolution IMAGE_RESOLUTION]
                            [--single_person] [--use_tiny_yolo]
                            [--max_batch_size MAX_BATCH_SIZE]
                            [--csv_output_filename CSV_OUTPUT_FILENAME]
                            [--csv_delimiter CSV_DELIMITER]
                            [--json_output_filename JSON_OUTPUT_FILENAME]
                            [--device DEVICE]
extract-keypoints.py: error: unrecognized arguments: untitled10.png
device: 'cuda' - 1 GPU(s) will be used
None
number of people :  1
bbox : 
 [[ 46   0 585 480]]
frame:    0 / 0 - framerate: 12.643881 fps usage: extract-keypoints.py [-h] [--format FORMAT] [--filename FILENAME]
                            [--hrnet_m HRNET_M] [--hrnet_c HRNET_C]
                            [--hrnet_j HRNET_J]
                            [--hrnet_weights HRNET_WEIGHTS]
                            [--image_resolution IMAGE_RESOLUTION]
                            [--single_person] [--use_tiny_yolo]
                            [--max_batch_size MAX_BATCH_SIZE]
                            [--csv_output_filename CSV_OUTPUT_FILENAME]
                            [--csv_delimiter CSV_DELIMITER]
                            [--json_output_filename JSON_OUTPUT_FILENAME]
                            [--device DEVICE]
extract-keypoints.py: error: unrecognized arguments: adho-mukha-svanasana-downward-dog-pose.png
usage: extract-keypoints.py [-h] [--format FORMAT] [--filename FILENAME]
                            [--hrnet_m HRNET_M] [--hrnet_c HRNET_C]
                            [--hrnet_j HRNET_J]
                            [--hrnet_weights HRNET_WEIGHTS]
                            [--image_resolution IMAGE_RESOLUTION]
                            [--single_person] [--use_tiny_yolo]
                            [--max_batch_size MAX_BATCH_SIZE]
                            [--csv_output_filename CSV_OUTPUT_FILENAME]
                            [--csv_delimiter CSV_DELIMITER]
                            [--json_output_filename JSON_OUTPUT_FILENAME]
                            [--device DEVICE]
extract-keypoints.py: error: unrecognized arguments: downward-facing-dog.png
device: 'cuda' - 1 GPU(s) will be used
None
number of people :  1
bbox : 
 [[ 74   0 604 519]]
frame:    0 / 0 - framerate: 13.210240 fps device: 'cuda' - 1 GPU(s) will be used
None
number of people :  1
bbox : 
 [[ 26   0 673 581]]
frame:    0 / 0 - framerate: 12.609404 fps usage: extract-keypoints.py [-h] [--format FORMAT] [--filename FILENAME]
                            [--hrnet_m HRNET_M] [--hrnet_c HRNET_C]
                            [--hrnet_j HRNET_J]
                            [--hrnet_weights HRNET_WEIGHTS]
                            [--image_resolution IMAGE_RESOLUTION]
                            [--single_person] [--use_tiny_yolo]
                            [--max_batch_size MAX_BATCH_SIZE]
                            [--csv_output_filename CSV_OUTPUT_FILENAME]
                            [--csv_delimiter CSV_DELIMITER]
                            [--json_output_filename JSON_OUTPUT_FILENAME]
                            [--device DEVICE]
extract-keypoints.py: error: unrecognized arguments: img_1199.png
device: 'cuda' - 1 GPU(s) will be used
None
number of people :  1
bbox : 
 [[ 96   0 669 598]]
frame:    0 / 0 - framerate: 12.209461 fps usage: extract-keypoints.py [-h] [--format FORMAT] [--filename FILENAME]
                            [--hrnet_m HRNET_M] [--hrnet_c HRNET_C]
                            [--hrnet_j HRNET_J]
                            [--hrnet_weights HRNET_WEIGHTS]
                            [--image_resolution IMAGE_RESOLUTION]
                            [--single_person] [--use_tiny_yolo]
                            [--max_batch_size MAX_BATCH_SIZE]
                            [--csv_output_filename CSV_OUTPUT_FILENAME]
                            [--csv_delimiter CSV_DELIMITER]
                            [--json_output_filename JSON_OUTPUT_FILENAME]
                            [--device DEVICE]
extract-keypoints.py: error: unrecognized arguments: down_dog.png
usage: extract-keypoints.py [-h] [--format FORMAT] [--filename FILENAME]
                            [--hrnet_m HRNET_M] [--hrnet_c HRNET_C]
                            [--hrnet_j HRNET_J]
                            [--hrnet_weights HRNET_WEIGHTS]
                            [--image_resolution IMAGE_RESOLUTION]
                            [--single_person] [--use_tiny_yolo]
                            [--max_batch_size MAX_BATCH_SIZE]
                            [--csv_output_filename CSV_OUTPUT_FILENAME]
                            [--csv_delimiter CSV_DELIMITER]
                            [--json_output_filename JSON_OUTPUT_FILENAME]
                            [--device DEVICE]
extract-keypoints.py: error: unrecognized arguments: downward-facing-dog-reboot-1.png
device: 'cuda' - 1 GPU(s) will be used
None
number of people :  1
bbox : 
 [[ 74   0 600 415]]
frame:    0 / 0 - framerate: 11.271678 fps device: 'cuda' - 1 GPU(s) will be used
None
number of people :  1
bbox : 
 [[ 37   0 253 222]]
frame:    0 / 0 - framerate: 12.846575 fps usage: extract-keypoints.py [-h] [--format FORMAT] [--filename FILENAME]
                            [--hrnet_m HRNET_M] [--hrnet_c HRNET_C]
                            [--hrnet_j HRNET_J]
                            [--hrnet_weights HRNET_WEIGHTS]
                            [--image_resolution IMAGE_RESOLUTION]
                            [--single_person] [--use_tiny_yolo]
                            [--max_batch_size MAX_BATCH_SIZE]
                            [--csv_output_filename CSV_OUTPUT_FILENAME]
                            [--csv_delimiter CSV_DELIMITER]
                            [--json_output_filename JSON_OUTPUT_FILENAME]
                            [--device DEVICE]
extract-keypoints.py: error: unrecognized arguments: 3_alignment_instructions_to_reconsider.png
usage: extract-keypoints.py [-h] [--format FORMAT] [--filename FILENAME]
                            [--hrnet_m HRNET_M] [--hrnet_c HRNET_C]
                            [--hrnet_j HRNET_J]
                            [--hrnet_weights HRNET_WEIGHTS]
                            [--image_resolution IMAGE_RESOLUTION]
                            [--single_person] [--use_tiny_yolo]
                            [--max_batch_size MAX_BATCH_SIZE]
                            [--csv_output_filename CSV_OUTPUT_FILENAME]
                            [--csv_delimiter CSV_DELIMITER]
                            [--json_output_filename JSON_OUTPUT_FILENAME]
                            [--device DEVICE]
extract-keypoints.py: error: unrecognized arguments: yoga7b-754x394.png
device: 'cuda' - 1 GPU(s) will be used
None
number of people :  1
bbox : 
 [[ 41   0 669 567]]
frame:    0 / 0 - framerate: 11.939583 fps usage: extract-keypoints.py [-h] [--format FORMAT] [--filename FILENAME]
                            [--hrnet_m HRNET_M] [--hrnet_c HRNET_C]
                            [--hrnet_j HRNET_J]
                            [--hrnet_weights HRNET_WEIGHTS]
                            [--image_resolution IMAGE_RESOLUTION]
                            [--single_person] [--use_tiny_yolo]
                            [--max_batch_size MAX_BATCH_SIZE]
                            [--csv_output_filename CSV_OUTPUT_FILENAME]
                            [--csv_delimiter CSV_DELIMITER]
                            [--json_output_filename JSON_OUTPUT_FILENAME]
                            [--device DEVICE]
extract-keypoints.py: error: unrecognized arguments: downward-facing-dog-520x400.png
usage: extract-keypoints.py [-h] [--format FORMAT] [--filename FILENAME]
                            [--hrnet_m HRNET_M] [--hrnet_c HRNET_C]
                            [--hrnet_j HRNET_J]
                            [--hrnet_weights HRNET_WEIGHTS]
                            [--image_resolution IMAGE_RESOLUTION]
                            [--single_person] [--use_tiny_yolo]
                            [--max_batch_size MAX_BATCH_SIZE]
                            [--csv_output_filename CSV_OUTPUT_FILENAME]
                            [--csv_delimiter CSV_DELIMITER]
                            [--json_output_filename JSON_OUTPUT_FILENAME]
                            [--device DEVICE]
extract-keypoints.py: error: unrecognized arguments: downward-facing-dog.png
device: 'cuda' - 1 GPU(s) will be used
None
number of people :  1
bbox : 
 [[153  25 544 512]]
frame:    0 / 0 - framerate: 12.789969 fps usage: extract-keypoints.py [-h] [--format FORMAT] [--filename FILENAME]
                            [--hrnet_m HRNET_M] [--hrnet_c HRNET_C]
                            [--hrnet_j HRNET_J]
                            [--hrnet_weights HRNET_WEIGHTS]
                            [--image_resolution IMAGE_RESOLUTION]
                            [--single_person] [--use_tiny_yolo]
                            [--max_batch_size MAX_BATCH_SIZE]
                            [--csv_output_filename CSV_OUTPUT_FILENAME]
                            [--csv_delimiter CSV_DELIMITER]
                            [--json_output_filename JSON_OUTPUT_FILENAME]
                            [--device DEVICE]
extract-keypoints.py: error: unrecognized arguments: adho-mukha-svanasana-768x429.png
usage: extract-keypoints.py [-h] [--format FORMAT] [--filename FILENAME]
                            [--hrnet_m HRNET_M] [--hrnet_c HRNET_C]
                            [--hrnet_j HRNET_J]
                            [--hrnet_weights HRNET_WEIGHTS]
                            [--image_resolution IMAGE_RESOLUTION]
                            [--single_person] [--use_tiny_yolo]
                            [--max_batch_size MAX_BATCH_SIZE]
                            [--csv_output_filename CSV_OUTPUT_FILENAME]
                            [--csv_delimiter CSV_DELIMITER]
                            [--json_output_filename JSON_OUTPUT_FILENAME]
                            [--device DEVICE]
extract-keypoints.py: error: unrecognized arguments: f3949d27c6de7f86a293f207a49e1cf4.png
device: 'cuda' - 1 GPU(s) will be used
None
number of people :  1
bbox : 
 [[ 449    0 1244  706]]
frame:    0 / 0 - framerate: 11.544062 fps usage: extract-keypoints.py [-h] [--format FORMAT] [--filename FILENAME]
                            [--hrnet_m HRNET_M] [--hrnet_c HRNET_C]
                            [--hrnet_j HRNET_J]
                            [--hrnet_weights HRNET_WEIGHTS]
                            [--image_resolution IMAGE_RESOLUTION]
                            [--single_person] [--use_tiny_yolo]
                            [--max_batch_size MAX_BATCH_SIZE]
                            [--csv_output_filename CSV_OUTPUT_FILENAME]
                            [--csv_delimiter CSV_DELIMITER]
                            [--json_output_filename JSON_OUTPUT_FILENAME]
                            [--device DEVICE]
extract-keypoints.py: error: unrecognized arguments: blog-14-size.png
device: 'cuda' - 1 GPU(s) will be used
None
number of people :  1
bbox : 
 [[ 432    0 1205  720]]
frame:    0 / 0 - framerate: 11.688182 fps usage: extract-keypoints.py [-h] [--format FORMAT] [--filename FILENAME]
                            [--hrnet_m HRNET_M] [--hrnet_c HRNET_C]
                            [--hrnet_j HRNET_J]
                            [--hrnet_weights HRNET_WEIGHTS]
                            [--image_resolution IMAGE_RESOLUTION]
                            [--single_person] [--use_tiny_yolo]
                            [--max_batch_size MAX_BATCH_SIZE]
                            [--csv_output_filename CSV_OUTPUT_FILENAME]
                            [--csv_delimiter CSV_DELIMITER]
                            [--json_output_filename JSON_OUTPUT_FILENAME]
                            [--device DEVICE]
extract-keypoints.py: error: unrecognized arguments: screenshot_20180409-154224.png
device: 'cuda' - 1 GPU(s) will be used
None
number of people :  1
bbox : 
 [[122  35 490 450]]
frame:    0 / 0 - framerate: 13.022311 fps device: 'cuda' - 1 GPU(s) will be used
None
number of people :  1
bbox : 
 [[ 232    0 1468 1080]]
frame:    0 / 0 - framerate: 10.362037 fps usage: extract-keypoints.py [-h] [--format FORMAT] [--filename FILENAME]
                            [--hrnet_m HRNET_M] [--hrnet_c HRNET_C]
                            [--hrnet_j HRNET_J]
                            [--hrnet_weights HRNET_WEIGHTS]
                            [--image_resolution IMAGE_RESOLUTION]
                            [--single_person] [--use_tiny_yolo]
                            [--max_batch_size MAX_BATCH_SIZE]
                            [--csv_output_filename CSV_OUTPUT_FILENAME]
                            [--csv_delimiter CSV_DELIMITER]
                            [--json_output_filename JSON_OUTPUT_FILENAME]
                            [--device DEVICE]
extract-keypoints.py: error: unrecognized arguments: bc56388aad161f17b93f5fb21faeddca.png
device: 'cuda' - 1 GPU(s) will be used
None
number of people :  1
bbox : 
 [[ 37   0 253 222]]
frame:    0 / 0 - framerate: 14.185042 fps usage: extract-keypoints.py [-h] [--format FORMAT] [--filename FILENAME]
                            [--hrnet_m HRNET_M] [--hrnet_c HRNET_C]
                            [--hrnet_j HRNET_J]
                            [--hrnet_weights HRNET_WEIGHTS]
                            [--image_resolution IMAGE_RESOLUTION]
                            [--single_person] [--use_tiny_yolo]
                            [--max_batch_size MAX_BATCH_SIZE]
                            [--csv_output_filename CSV_OUTPUT_FILENAME]
                            [--csv_delimiter CSV_DELIMITER]
                            [--json_output_filename JSON_OUTPUT_FILENAME]
                            [--device DEVICE]
extract-keypoints.py: error: unrecognized arguments: screen+shot+2017-12-13+at+9.12.42+am.png
device: 'cuda' - 1 GPU(s) will be used
None
number of people :  0
bbox : 
 []
frame:    0 / 0 - framerate: 33.565979 fps usage: extract-keypoints.py [-h] [--format FORMAT] [--filename FILENAME]
                            [--hrnet_m HRNET_M] [--hrnet_c HRNET_C]
                            [--hrnet_j HRNET_J]
                            [--hrnet_weights HRNET_WEIGHTS]
                            [--image_resolution IMAGE_RESOLUTION]
                            [--single_person] [--use_tiny_yolo]
                            [--max_batch_size MAX_BATCH_SIZE]
                            [--csv_output_filename CSV_OUTPUT_FILENAME]
                            [--csv_delimiter CSV_DELIMITER]
                            [--json_output_filename JSON_OUTPUT_FILENAME]
                            [--device DEVICE]
extract-keypoints.py: error: unrecognized arguments: dd2.png
device: 'cuda' - 1 GPU(s) will be used
None
number of people :  1
bbox : 
 [[ 74   0 600 415]]
frame:    0 / 0 - framerate: 11.244059 fps device: 'cuda' - 1 GPU(s) will be used
None
number of people :  1
bbox : 
 [[ 484    0 1142  600]]
frame:    0 / 0 - framerate: 11.685414 fps device: 'cuda' - 1 GPU(s) will be used
None
number of people :  1
bbox : 
 [[ 29   0 270 300]]
frame:    0 / 0 - framerate: 14.115724 fps usage: extract-keypoints.py [-h] [--format FORMAT] [--filename FILENAME]
                            [--hrnet_m HRNET_M] [--hrnet_c HRNET_C]
                            [--hrnet_j HRNET_J]
                            [--hrnet_weights HRNET_WEIGHTS]
                            [--image_resolution IMAGE_RESOLUTION]
                            [--single_person] [--use_tiny_yolo]
                            [--max_batch_size MAX_BATCH_SIZE]
                            [--csv_output_filename CSV_OUTPUT_FILENAME]
                            [--csv_delimiter CSV_DELIMITER]
                            [--json_output_filename JSON_OUTPUT_FILENAME]
                            [--device DEVICE]
extract-keypoints.py: error: unrecognized arguments: 1511793208433233.png
device: 'cuda' - 1 GPU(s) will be used
None
number of people :  1
bbox : 
 [[ 40   0 233 186]]
frame:    0 / 0 - framerate: 14.285679 fps device: 'cuda' - 1 GPU(s) will be used
None
number of people :  1
bbox : 
 [[365  59 980 720]]
frame:    0 / 0 - framerate: 12.485537 fps usage: extract-keypoints.py [-h] [--format FORMAT] [--filename FILENAME]
                            [--hrnet_m HRNET_M] [--hrnet_c HRNET_C]
                            [--hrnet_j HRNET_J]
                            [--hrnet_weights HRNET_WEIGHTS]
                            [--image_resolution IMAGE_RESOLUTION]
                            [--single_person] [--use_tiny_yolo]
                            [--max_batch_size MAX_BATCH_SIZE]
                            [--csv_output_filename CSV_OUTPUT_FILENAME]
                            [--csv_delimiter CSV_DELIMITER]
                            [--json_output_filename JSON_OUTPUT_FILENAME]
                            [--device DEVICE]
extract-keypoints.py: error: unrecognized arguments: adho-mukha-svanasana-downward-dog.png
device: 'cuda' - 1 GPU(s) will be used
None
number of people :  1
bbox : 
 [[152   9 820 822]]
frame:    0 / 0 - framerate: 12.302826 fps usage: extract-keypoints.py [-h] [--format FORMAT] [--filename FILENAME]
                            [--hrnet_m HRNET_M] [--hrnet_c HRNET_C]
                            [--hrnet_j HRNET_J]
                            [--hrnet_weights HRNET_WEIGHTS]
                            [--image_resolution IMAGE_RESOLUTION]
                            [--single_person] [--use_tiny_yolo]
                            [--max_batch_size MAX_BATCH_SIZE]
                            [--csv_output_filename CSV_OUTPUT_FILENAME]
                            [--csv_delimiter CSV_DELIMITER]
                            [--json_output_filename JSON_OUTPUT_FILENAME]
                            [--device DEVICE]
extract-keypoints.py: error: unrecognized arguments: dog-base.png
device: 'cuda' - 1 GPU(s) will be used
None
number of people :  1
bbox : 
 [[149   0 901 651]]
frame:    0 / 0 - framerate: 12.107219 fps usage: extract-keypoints.py [-h] [--format FORMAT] [--filename FILENAME]
                            [--hrnet_m HRNET_M] [--hrnet_c HRNET_C]
                            [--hrnet_j HRNET_J]
                            [--hrnet_weights HRNET_WEIGHTS]
                            [--image_resolution IMAGE_RESOLUTION]
                            [--single_person] [--use_tiny_yolo]
                            [--max_batch_size MAX_BATCH_SIZE]
                            [--csv_output_filename CSV_OUTPUT_FILENAME]
                            [--csv_delimiter CSV_DELIMITER]
                            [--json_output_filename JSON_OUTPUT_FILENAME]
                            [--device DEVICE]
extract-keypoints.py: error: unrecognized arguments: downward-facing-dog-yoga-pose-2.png
device: 'cuda' - 1 GPU(s) will be used
None
number of people :  1
bbox : 
 [[206   0 950 675]]
frame:    0 / 0 - framerate: 11.815007 fps device: 'cuda' - 1 GPU(s) will be used
None
number of people :  1
bbox : 
 [[107   0 768 496]]
frame:    0 / 0 - framerate: 12.590819 fps device: 'cuda' - 1 GPU(s) will be used
None
number of people :  1
bbox : 
 [[ 26   0 417 281]]
frame:    0 / 0 - framerate: 13.737898 fps usage: extract-keypoints.py [-h] [--format FORMAT] [--filename FILENAME]
                            [--hrnet_m HRNET_M] [--hrnet_c HRNET_C]
                            [--hrnet_j HRNET_J]
                            [--hrnet_weights HRNET_WEIGHTS]
                            [--image_resolution IMAGE_RESOLUTION]
                            [--single_person] [--use_tiny_yolo]
                            [--max_batch_size MAX_BATCH_SIZE]
                            [--csv_output_filename CSV_OUTPUT_FILENAME]
                            [--csv_delimiter CSV_DELIMITER]
                            [--json_output_filename JSON_OUTPUT_FILENAME]
                            [--device DEVICE]
extract-keypoints.py: error: unrecognized arguments: downward-facing-dog-adho-mukha-svanasana.png
device: 'cuda' - 1 GPU(s) will be used
None
number of people :  1
bbox : 
 [[383 120 863 720]]
frame:    0 / 0 - framerate: 12.916719 fps device: 'cuda' - 1 GPU(s) will be used
None
number of people :  1
bbox : 
 [[ 24   0 400 284]]
frame:    0 / 0 - framerate: 11.604748 fps usage: extract-keypoints.py [-h] [--format FORMAT] [--filename FILENAME]
                            [--hrnet_m HRNET_M] [--hrnet_c HRNET_C]
                            [--hrnet_j HRNET_J]
                            [--hrnet_weights HRNET_WEIGHTS]
                            [--image_resolution IMAGE_RESOLUTION]
                            [--single_person] [--use_tiny_yolo]
                            [--max_batch_size MAX_BATCH_SIZE]
                            [--csv_output_filename CSV_OUTPUT_FILENAME]
                            [--csv_delimiter CSV_DELIMITER]
                            [--json_output_filename JSON_OUTPUT_FILENAME]
                            [--device DEVICE]
extract-keypoints.py: error: unrecognized arguments: 23-downward-facing-dog.png
usage: extract-keypoints.py [-h] [--format FORMAT] [--filename FILENAME]
                            [--hrnet_m HRNET_M] [--hrnet_c HRNET_C]
                            [--hrnet_j HRNET_J]
                            [--hrnet_weights HRNET_WEIGHTS]
                            [--image_resolution IMAGE_RESOLUTION]
                            [--single_person] [--use_tiny_yolo]
                            [--max_batch_size MAX_BATCH_SIZE]
                            [--csv_output_filename CSV_OUTPUT_FILENAME]
                            [--csv_delimiter CSV_DELIMITER]
                            [--json_output_filename JSON_OUTPUT_FILENAME]
                            [--device DEVICE]
extract-keypoints.py: error: unrecognized arguments: downward-facing-dog-yoga-pose-adjustment-adho-mukha-svanasana.png
device: 'cuda' - 1 GPU(s) will be used
None
number of people :  1
bbox : 
 [[ 175    0 1945 1409]]
frame:    0 / 0 - framerate: 7.002364 fps usage: extract-keypoints.py [-h] [--format FORMAT] [--filename FILENAME]
                            [--hrnet_m HRNET_M] [--hrnet_c HRNET_C]
                            [--hrnet_j HRNET_J]
                            [--hrnet_weights HRNET_WEIGHTS]
                            [--image_resolution IMAGE_RESOLUTION]
                            [--single_person] [--use_tiny_yolo]
                            [--max_batch_size MAX_BATCH_SIZE]
                            [--csv_output_filename CSV_OUTPUT_FILENAME]
                            [--csv_delimiter CSV_DELIMITER]
                            [--json_output_filename JSON_OUTPUT_FILENAME]
                            [--device DEVICE]
extract-keypoints.py: error: unrecognized arguments: ff-4.png
device: 'cuda' - 1 GPU(s) will be used
None
number of people :  0
bbox : 
 []
frame:    0 / 0 - framerate: 24.499296 fps device: 'cuda' - 1 GPU(s) will be used
None
number of people :  1
bbox : 
 [[ 71   0 562 381]]
frame:    0 / -9223372036854775808 - framerate: 11.667990 fps usage: extract-keypoints.py [-h] [--format FORMAT] [--filename FILENAME]
                            [--hrnet_m HRNET_M] [--hrnet_c HRNET_C]
                            [--hrnet_j HRNET_J]
                            [--hrnet_weights HRNET_WEIGHTS]
                            [--image_resolution IMAGE_RESOLUTION]
                            [--single_person] [--use_tiny_yolo]
                            [--max_batch_size MAX_BATCH_SIZE]
                            [--csv_output_filename CSV_OUTPUT_FILENAME]
                            [--csv_delimiter CSV_DELIMITER]
                            [--json_output_filename JSON_OUTPUT_FILENAME]
                            [--device DEVICE]
extract-keypoints.py: error: unrecognized arguments: d0c097f5131a546a004be3f0045aa074.png
device: 'cuda' - 1 GPU(s) will be used
None
number of people :  1
bbox : 
 [[ 96 125 566 751]]
frame:    0 / 0 - framerate: 11.695417 fps device: 'cuda' - 1 GPU(s) will be used
None
number of people :  1
bbox : 
 [[ 186    0 1193 1200]]
frame:    0 / 0 - framerate: 10.398439 fps usage: extract-keypoints.py [-h] [--format FORMAT] [--filename FILENAME]
                            [--hrnet_m HRNET_M] [--hrnet_c HRNET_C]
                            [--hrnet_j HRNET_J]
                            [--hrnet_weights HRNET_WEIGHTS]
                            [--image_resolution IMAGE_RESOLUTION]
                            [--single_person] [--use_tiny_yolo]
                            [--max_batch_size MAX_BATCH_SIZE]
                            [--csv_output_filename CSV_OUTPUT_FILENAME]
                            [--csv_delimiter CSV_DELIMITER]
                            [--json_output_filename JSON_OUTPUT_FILENAME]
                            [--device DEVICE]
extract-keypoints.py: error: unrecognized arguments: tri-pada-adho-mukha-svanasana1.png
device: 'cuda' - 1 GPU(s) will be used
None
number of people :  2
bbox : 
 [[ 38   0 250 193]
 [151  78 246 193]]
frame:    0 / 0 - framerate: 12.020061 fps device: 'cuda' - 1 GPU(s) will be used
None
number of people :  1
bbox : 
 [[ 417    0 2867 2304]]
frame:    0 / 0 - framerate: 5.029895 fps usage: extract-keypoints.py [-h] [--format FORMAT] [--filename FILENAME]
                            [--hrnet_m HRNET_M] [--hrnet_c HRNET_C]
                            [--hrnet_j HRNET_J]
                            [--hrnet_weights HRNET_WEIGHTS]
                            [--image_resolution IMAGE_RESOLUTION]
                            [--single_person] [--use_tiny_yolo]
                            [--max_batch_size MAX_BATCH_SIZE]
                            [--csv_output_filename CSV_OUTPUT_FILENAME]
                            [--csv_delimiter CSV_DELIMITER]
                            [--json_output_filename JSON_OUTPUT_FILENAME]
                            [--device DEVICE]
extract-keypoints.py: error: unrecognized arguments: benefits-of-downward-dog_orig.png
device: 'cuda' - 1 GPU(s) will be used
None
number of people :  0
bbox : 
 []
frame:    0 / 0 - framerate: 35.118468 fps usage: extract-keypoints.py [-h] [--format FORMAT] [--filename FILENAME]
                            [--hrnet_m HRNET_M] [--hrnet_c HRNET_C]
                            [--hrnet_j HRNET_J]
                            [--hrnet_weights HRNET_WEIGHTS]
                            [--image_resolution IMAGE_RESOLUTION]
                            [--single_person] [--use_tiny_yolo]
                            [--max_batch_size MAX_BATCH_SIZE]
                            [--csv_output_filename CSV_OUTPUT_FILENAME]
                            [--csv_delimiter CSV_DELIMITER]
                            [--json_output_filename JSON_OUTPUT_FILENAME]
                            [--device DEVICE]
extract-keypoints.py: error: unrecognized arguments: down-dog-in-stowe-vt-blog-1.png
device: 'cuda' - 1 GPU(s) will be used
None
number of people :  1
bbox : 
 [[ 52   0 577 439]]
frame:    0 / 0 - framerate: 12.994876 fps usage: extract-keypoints.py [-h] [--format FORMAT] [--filename FILENAME]
                            [--hrnet_m HRNET_M] [--hrnet_c HRNET_C]
                            [--hrnet_j HRNET_J]
                            [--hrnet_weights HRNET_WEIGHTS]
                            [--image_resolution IMAGE_RESOLUTION]
                            [--single_person] [--use_tiny_yolo]
                            [--max_batch_size MAX_BATCH_SIZE]
                            [--csv_output_filename CSV_OUTPUT_FILENAME]
                            [--csv_delimiter CSV_DELIMITER]
                            [--json_output_filename JSON_OUTPUT_FILENAME]
                            [--device DEVICE]
extract-keypoints.py: error: unrecognized arguments: untitled1.png
device: 'cuda' - 1 GPU(s) will be used
None
number of people :  1
bbox : 
 [[ 84   0 533 299]]
frame:    0 / 0 - framerate: 11.671529 fps device: 'cuda' - 1 GPU(s) will be used
None
number of people :  0
bbox : 
 []
frame:    0 / 0 - framerate: 27.935767 fps usage: extract-keypoints.py [-h] [--format FORMAT] [--filename FILENAME]
                            [--hrnet_m HRNET_M] [--hrnet_c HRNET_C]
                            [--hrnet_j HRNET_J]
                            [--hrnet_weights HRNET_WEIGHTS]
                            [--image_resolution IMAGE_RESOLUTION]
                            [--single_person] [--use_tiny_yolo]
                            [--max_batch_size MAX_BATCH_SIZE]
                            [--csv_output_filename CSV_OUTPUT_FILENAME]
                            [--csv_delimiter CSV_DELIMITER]
                            [--json_output_filename JSON_OUTPUT_FILENAME]
                            [--device DEVICE]
extract-keypoints.py: error: unrecognized arguments: downward-dog_final_rev2.png
device: 'cuda' - 1 GPU(s) will be used
None
number of people :  2
bbox : 
 [[ 38   0 250 193]
 [151  78 246 193]]
frame:    0 / 0 - framerate: 11.548416 fps usage: extract-keypoints.py [-h] [--format FORMAT] [--filename FILENAME]
                            [--hrnet_m HRNET_M] [--hrnet_c HRNET_C]
                            [--hrnet_j HRNET_J]
                            [--hrnet_weights HRNET_WEIGHTS]
                            [--image_resolution IMAGE_RESOLUTION]
                            [--single_person] [--use_tiny_yolo]
                            [--max_batch_size MAX_BATCH_SIZE]
                            [--csv_output_filename CSV_OUTPUT_FILENAME]
                            [--csv_delimiter CSV_DELIMITER]
                            [--json_output_filename JSON_OUTPUT_FILENAME]
                            [--device DEVICE]
extract-keypoints.py: error: unrecognized arguments: adhomukhasavanasana-buildup.png
device: 'cuda' - 1 GPU(s) will be used
None
number of people :  0
bbox : 
 []
frame:    0 / 0 - framerate: 31.845960 fps device: 'cuda' - 1 GPU(s) will be used
None
number of people :  1
bbox : 
 [[ 96 125 566 751]]
frame:    0 / 0 - framerate: 10.855470 fps usage: extract-keypoints.py [-h] [--format FORMAT] [--filename FILENAME]
                            [--hrnet_m HRNET_M] [--hrnet_c HRNET_C]
                            [--hrnet_j HRNET_J]
                            [--hrnet_weights HRNET_WEIGHTS]
                            [--image_resolution IMAGE_RESOLUTION]
                            [--single_person] [--use_tiny_yolo]
                            [--max_batch_size MAX_BATCH_SIZE]
                            [--csv_output_filename CSV_OUTPUT_FILENAME]
                            [--csv_delimiter CSV_DELIMITER]
                            [--json_output_filename JSON_OUTPUT_FILENAME]
                            [--device DEVICE]
extract-keypoints.py: error: unrecognized arguments: adho-mukha-svanasana-pies-z-glowacca8-w-dol-840x400.png
device: 'cuda' - 1 GPU(s) will be used
None
number of people :  1
bbox : 
 [[ 417    0 2867 2304]]
frame:    0 / 0 - framerate: 4.988183 fps usage: extract-keypoints.py [-h] [--format FORMAT] [--filename FILENAME]
                            [--hrnet_m HRNET_M] [--hrnet_c HRNET_C]
                            [--hrnet_j HRNET_J]
                            [--hrnet_weights HRNET_WEIGHTS]
                            [--image_resolution IMAGE_RESOLUTION]
                            [--single_person] [--use_tiny_yolo]
                            [--max_batch_size MAX_BATCH_SIZE]
                            [--csv_output_filename CSV_OUTPUT_FILENAME]
                            [--csv_delimiter CSV_DELIMITER]
                            [--json_output_filename JSON_OUTPUT_FILENAME]
                            [--device DEVICE]
extract-keypoints.py: error: unrecognized arguments: downward-facing-dog-yoga-pose.png
device: 'cuda' - 1 GPU(s) will be used
None
number of people :  0
bbox : 
 []
frame:    0 / 0 - framerate: 19.757892 fps device: 'cuda' - 1 GPU(s) will be used
None
number of people :  1
bbox : 
 [[ 97   0 722 500]]
frame:    0 / 0 - framerate: 13.005957 fps device: 'cuda' - 1 GPU(s) will be used
None
number of people :  1
bbox : 
 [[ 52   0 577 439]]
frame:    0 / 0 - framerate: 12.893411 fps usage: extract-keypoints.py [-h] [--format FORMAT] [--filename FILENAME]
                            [--hrnet_m HRNET_M] [--hrnet_c HRNET_C]
                            [--hrnet_j HRNET_J]
                            [--hrnet_weights HRNET_WEIGHTS]
                            [--image_resolution IMAGE_RESOLUTION]
                            [--single_person] [--use_tiny_yolo]
                            [--max_batch_size MAX_BATCH_SIZE]
                            [--csv_output_filename CSV_OUTPUT_FILENAME]
                            [--csv_delimiter CSV_DELIMITER]
                            [--json_output_filename JSON_OUTPUT_FILENAME]
                            [--device DEVICE]
extract-keypoints.py: error: unrecognized arguments: screen-shot-2016-04-11-at-2.41.39-pm.png
device: 'cuda' - 1 GPU(s) will be used
None
number of people :  1
bbox : 
 [[ 62   0 555 416]]
frame:    0 / 0 - framerate: 13.610800 fps usage: extract-keypoints.py [-h] [--format FORMAT] [--filename FILENAME]
                            [--hrnet_m HRNET_M] [--hrnet_c HRNET_C]
                            [--hrnet_j HRNET_J]
                            [--hrnet_weights HRNET_WEIGHTS]
                            [--image_resolution IMAGE_RESOLUTION]
                            [--single_person] [--use_tiny_yolo]
                            [--max_batch_size MAX_BATCH_SIZE]
                            [--csv_output_filename CSV_OUTPUT_FILENAME]
                            [--csv_delimiter CSV_DELIMITER]
                            [--json_output_filename JSON_OUTPUT_FILENAME]
                            [--device DEVICE]
extract-keypoints.py: error: unrecognized arguments: down-dog.png
device: 'cuda' - 1 GPU(s) will be used
None
number of people :  1
bbox : 
 [[ 223    0 1253  720]]
frame:    0 / 0 - framerate: 11.983041 fps usage: extract-keypoints.py [-h] [--format FORMAT] [--filename FILENAME]
                            [--hrnet_m HRNET_M] [--hrnet_c HRNET_C]
                            [--hrnet_j HRNET_J]
                            [--hrnet_weights HRNET_WEIGHTS]
                            [--image_resolution IMAGE_RESOLUTION]
                            [--single_person] [--use_tiny_yolo]
                            [--max_batch_size MAX_BATCH_SIZE]
                            [--csv_output_filename CSV_OUTPUT_FILENAME]
                            [--csv_delimiter CSV_DELIMITER]
                            [--json_output_filename JSON_OUTPUT_FILENAME]
                            [--device DEVICE]
extract-keypoints.py: error: unrecognized arguments: dog.png
device: 'cuda' - 1 GPU(s) will be used
None
number of people :  1
bbox : 
 [[ 27   0 491 349]]
frame:    0 / 0 - framerate: 11.705960 fps usage: extract-keypoints.py [-h] [--format FORMAT] [--filename FILENAME]
                            [--hrnet_m HRNET_M] [--hrnet_c HRNET_C]
                            [--hrnet_j HRNET_J]
                            [--hrnet_weights HRNET_WEIGHTS]
                            [--image_resolution IMAGE_RESOLUTION]
                            [--single_person] [--use_tiny_yolo]
                            [--max_batch_size MAX_BATCH_SIZE]
                            [--csv_output_filename CSV_OUTPUT_FILENAME]
                            [--csv_delimiter CSV_DELIMITER]
                            [--json_output_filename JSON_OUTPUT_FILENAME]
                            [--device DEVICE]
extract-keypoints.py: error: unrecognized arguments: downward-facing-dog-pose.png
usage: extract-keypoints.py [-h] [--format FORMAT] [--filename FILENAME]
                            [--hrnet_m HRNET_M] [--hrnet_c HRNET_C]
                            [--hrnet_j HRNET_J]
                            [--hrnet_weights HRNET_WEIGHTS]
                            [--image_resolution IMAGE_RESOLUTION]
                            [--single_person] [--use_tiny_yolo]
                            [--max_batch_size MAX_BATCH_SIZE]
                            [--csv_output_filename CSV_OUTPUT_FILENAME]
                            [--csv_delimiter CSV_DELIMITER]
                            [--json_output_filename JSON_OUTPUT_FILENAME]
                            [--device DEVICE]
extract-keypoints.py: error: unrecognized arguments: screen-shot-2018-06-03-at-10-46-24-pm.png
device: 'cuda' - 1 GPU(s) will be used
None
number of people :  2
bbox : 
 [[ 57   0 840 658]
 [616 253 738 415]]
frame:    0 / 0 - framerate: 9.716009 fps device: 'cuda' - 1 GPU(s) will be used
None
number of people :  2
bbox : 
 [[ 30   0 584 400]
 [377 169 579 400]]
frame:    0 / 0 - framerate: 9.873155 fps device: 'cuda' - 1 GPU(s) will be used
None
number of people :  1
bbox : 
 [[ 66   0 547 349]]
frame:    0 / 0 - framerate: 11.929498 fps device: 'cuda' - 1 GPU(s) will be used
None
number of people :  1
bbox : 
 [[ 35   0 610 431]]
frame:    0 / 0 - framerate: 12.972047 fps device: 'cuda' - 1 GPU(s) will be used
None
number of people :  1
bbox : 
 [[ 89   0 527 402]]
frame:    0 / 0 - framerate: 13.110396 fps device: 'cuda' - 1 GPU(s) will be used
None
number of people :  1
bbox : 
 [[ 39   0 260 168]]
frame:    0 / 0 - framerate: 14.486345 fps device: 'cuda' - 1 GPU(s) will be used
None
number of people :  1
bbox : 
 [[ 76  97 640 666]]
frame:    0 / -9223372036854775808 - framerate: 11.230962 fps device: 'cuda' - 1 GPU(s) will be used
None
number of people :  1
bbox : 
 [[ 15   0 673 686]]
frame:    0 / -9223372036854775808 - framerate: 10.827056 fps device: 'cuda' - 1 GPU(s) will be used
None
number of people :  1
bbox : 
 [[103  47 213 168]]
frame:    0 / 0 - framerate: 14.606818 fps device: 'cuda' - 1 GPU(s) will be used
None
number of people :  1
bbox : 
 [[ 37   0 227 194]]
frame:    0 / 0 - framerate: 14.104190 fps device: 'cuda' - 1 GPU(s) will be used
None
number of people :  1
bbox : 
 [[ 45   0 245 168]]
frame:    0 / 0 - framerate: 14.740441 fps device: 'cuda' - 1 GPU(s) will be used
None
number of people :  1
bbox : 
 [[ 71 101 473 541]]
frame:    0 / -9223372036854775808 - framerate: 10.374160 fps usage: extract-keypoints.py [-h] [--format FORMAT] [--filename FILENAME]
                            [--hrnet_m HRNET_M] [--hrnet_c HRNET_C]
                            [--hrnet_j HRNET_J]
                            [--hrnet_weights HRNET_WEIGHTS]
                            [--image_resolution IMAGE_RESOLUTION]
                            [--single_person] [--use_tiny_yolo]
                            [--max_batch_size MAX_BATCH_SIZE]
                            [--csv_output_filename CSV_OUTPUT_FILENAME]
                            [--csv_delimiter CSV_DELIMITER]
                            [--json_output_filename JSON_OUTPUT_FILENAME]
                            [--device DEVICE]
extract-keypoints.py: error: unrecognized arguments: Image 2021-02-25 at 12.06.36 AM.jpeg Image 2021-02-25 at 12.json
/bin/bash: -c: line 0: syntax error near unexpected token `('
/bin/bash: -c: line 0: `python3 scripts/extract-keypoints.py        --filename ./images/downdog/WhatsApp Image 2021-02-25 at 12.06.39 AM (1).jpeg        --format json        --hrnet_weights weights/pose_hrnet_w48_384x288.pth        --json_output_filename ./json_output/downdog/WhatsApp Image 2021-02-25 at 12.json'
usage: extract-keypoints.py [-h] [--format FORMAT] [--filename FILENAME]
                            [--hrnet_m HRNET_M] [--hrnet_c HRNET_C]
                            [--hrnet_j HRNET_J]
                            [--hrnet_weights HRNET_WEIGHTS]
                            [--image_resolution IMAGE_RESOLUTION]
                            [--single_person] [--use_tiny_yolo]
                            [--max_batch_size MAX_BATCH_SIZE]
                            [--csv_output_filename CSV_OUTPUT_FILENAME]
                            [--csv_delimiter CSV_DELIMITER]
                            [--json_output_filename JSON_OUTPUT_FILENAME]
                            [--device DEVICE]
extract-keypoints.py: error: unrecognized arguments: Image 2021-02-25 at 12.06.39 AM.jpeg Image 2021-02-25 at 12.json
usage: extract-keypoints.py [-h] [--format FORMAT] [--filename FILENAME]
                            [--hrnet_m HRNET_M] [--hrnet_c HRNET_C]
                            [--hrnet_j HRNET_J]
                            [--hrnet_weights HRNET_WEIGHTS]
                            [--image_resolution IMAGE_RESOLUTION]
                            [--single_person] [--use_tiny_yolo]
                            [--max_batch_size MAX_BATCH_SIZE]
                            [--csv_output_filename CSV_OUTPUT_FILENAME]
                            [--csv_delimiter CSV_DELIMITER]
                            [--json_output_filename JSON_OUTPUT_FILENAME]
                            [--device DEVICE]
extract-keypoints.py: error: unrecognized arguments: Image 2021-02-25 at 12.06.40 AM.jpeg Image 2021-02-25 at 12.json
usage: extract-keypoints.py [-h] [--format FORMAT] [--filename FILENAME]
                            [--hrnet_m HRNET_M] [--hrnet_c HRNET_C]
                            [--hrnet_j HRNET_J]
                            [--hrnet_weights HRNET_WEIGHTS]
                            [--image_resolution IMAGE_RESOLUTION]
                            [--single_person] [--use_tiny_yolo]
                            [--max_batch_size MAX_BATCH_SIZE]
                            [--csv_output_filename CSV_OUTPUT_FILENAME]
                            [--csv_delimiter CSV_DELIMITER]
                            [--json_output_filename JSON_OUTPUT_FILENAME]
                            [--device DEVICE]
extract-keypoints.py: error: unrecognized arguments: Image 2021-02-25 at 12.06.41 AM.jpeg Image 2021-02-25 at 12.json
usage: extract-keypoints.py [-h] [--format FORMAT] [--filename FILENAME]
                            [--hrnet_m HRNET_M] [--hrnet_c HRNET_C]
                            [--hrnet_j HRNET_J]
                            [--hrnet_weights HRNET_WEIGHTS]
                            [--image_resolution IMAGE_RESOLUTION]
                            [--single_person] [--use_tiny_yolo]
                            [--max_batch_size MAX_BATCH_SIZE]
                            [--csv_output_filename CSV_OUTPUT_FILENAME]
                            [--csv_delimiter CSV_DELIMITER]
                            [--json_output_filename JSON_OUTPUT_FILENAME]
                            [--device DEVICE]
extract-keypoints.py: error: unrecognized arguments: Image 2021-02-25 at 12.06.42 AM.jpeg Image 2021-02-25 at 12.json
usage: extract-keypoints.py [-h] [--format FORMAT] [--filename FILENAME]
                            [--hrnet_m HRNET_M] [--hrnet_c HRNET_C]
                            [--hrnet_j HRNET_J]
                            [--hrnet_weights HRNET_WEIGHTS]
                            [--image_resolution IMAGE_RESOLUTION]
                            [--single_person] [--use_tiny_yolo]
                            [--max_batch_size MAX_BATCH_SIZE]
                            [--csv_output_filename CSV_OUTPUT_FILENAME]
                            [--csv_delimiter CSV_DELIMITER]
                            [--json_output_filename JSON_OUTPUT_FILENAME]
                            [--device DEVICE]
extract-keypoints.py: error: unrecognized arguments: Image 2021-02-25 at 12.06.43 AM.jpeg Image 2021-02-25 at 12.json
device: 'cuda' - 1 GPU(s) will be used
None
number of people :  1
bbox : 
 [[1434    0 5838 4368]]
frame:    0 / 0 - framerate: 1.460984 fps device: 'cuda' - 1 GPU(s) will be used
None
number of people :  1
bbox : 
 [[ 97   0 438 360]]
frame:    0 / 0 - framerate: 12.653340 fps device: 'cuda' - 1 GPU(s) will be used
None
number of people :  1
bbox : 
 [[148  94 445 490]]
frame:    0 / 0 - framerate: 13.567784 fps device: 'cuda' - 1 GPU(s) will be used
None
number of people :  1
bbox : 
 [[200  14 683 600]]
frame:    0 / 0 - framerate: 12.334157 fps device: 'cuda' - 1 GPU(s) will be used
None
number of people :  1
bbox : 
 [[ 42   0 443 400]]
frame:    0 / 0 - framerate: 13.333282 fps device: 'cuda' - 1 GPU(s) will be used
None
number of people :  1
bbox : 
 [[107   0 536 398]]
frame:    0 / 0 - framerate: 13.457343 fps device: 'cuda' - 1 GPU(s) will be used
None
number of people :  1
bbox : 
 [[ 57   0 425 353]]
frame:    0 / 0 - framerate: 13.881713 fps device: 'cuda' - 1 GPU(s) will be used
None
number of people :  1
bbox : 
 [[111   0 683 400]]
frame:    0 / 0 - framerate: 13.069991 fps device: 'cuda' - 1 GPU(s) will be used
None
number of people :  1
bbox : 
 [[132 146 502 638]]
frame:    0 / 0 - framerate: 13.278997 fps device: 'cuda' - 1 GPU(s) will be used
None
number of people :  1
bbox : 
 [[ 279    0 1586 1080]]
frame:    0 / 0 - framerate: 7.924412 fps device: 'cuda' - 1 GPU(s) will be used
None
number of people :  1
bbox : 
 [[ 93   0 582 428]]
frame:    0 / -9223372036854775808 - framerate: 9.717675 fps device: 'cuda' - 1 GPU(s) will be used
None
number of people :  1
bbox : 
 [[134   0 575 436]]
frame:    0 / 0 - framerate: 11.337305 fps device: 'cuda' - 1 GPU(s) will be used
None
number of people :  1
bbox : 
 [[133   0 691 533]]
frame:    0 / 0 - framerate: 11.111328 fps device: 'cuda' - 1 GPU(s) will be used
None
number of people :  1
bbox : 
 [[ 61  43 472 500]]
frame:    0 / 0 - framerate: 11.617734 fps device: 'cuda' - 1 GPU(s) will be used
None
number of people :  1
bbox : 
 [[ 43   0 938 990]]
frame:    0 / 0 - framerate: 9.934683 fps device: 'cuda' - 1 GPU(s) will be used
None
number of people :  1
bbox : 
 [[ 28   0 377 394]]
frame:    0 / 0 - framerate: 11.812445 fps device: 'cuda' - 1 GPU(s) will be used
None
number of people :  1
bbox : 
 [[ 31   0 542 444]]
frame:    0 / -9223372036854775808 - framerate: 11.593649 fps device: 'cuda' - 1 GPU(s) will be used
None
number of people :  1
bbox : 
 [[134 163 548 575]]
frame:    0 / 0 - framerate: 13.446083 fps device: 'cuda' - 1 GPU(s) will be used
None
number of people :  1
bbox : 
 [[ 52   0 419 300]]
frame:    0 / 0 - framerate: 13.825067 fps device: 'cuda' - 1 GPU(s) will be used
None
number of people :  1
bbox : 
 [[ 90   0 389 321]]
frame:    0 / 0 - framerate: 13.744516 fps device: 'cuda' - 1 GPU(s) will be used
None
number of people :  1
bbox : 
 [[  72    0 1222  955]]
frame:    0 / 0 - framerate: 10.244627 fps device: 'cuda' - 1 GPU(s) will be used
None
number of people :  1
bbox : 
 [[ 35   0 207 160]]
frame:    0 / 0 - framerate: 14.158657 fps device: 'cuda' - 1 GPU(s) will be used
None
number of people :  1
bbox : 
 [[ 595    0 3221 2448]]
frame:    0 / 0 - framerate: 4.164197 fps device: 'cuda' - 1 GPU(s) will be used
None
number of people :  1
bbox : 
 [[171   0 557 204]]
frame:    0 / 0 - framerate: 11.864035 fps device: 'cuda' - 1 GPU(s) will be used
None
number of people :  1
bbox : 
 [[ 30   0 461 366]]
frame:    0 / 0 - framerate: 13.073128 fps device: 'cuda' - 1 GPU(s) will be used
None
number of people :  1
bbox : 
 [[ 94   0 883 800]]
frame:    0 / 0 - framerate: 11.064225 fps device: 'cuda' - 1 GPU(s) will be used
None
number of people :  1
bbox : 
 [[ 98   0 723 471]]
frame:    0 / 0 - framerate: 12.998178 fps device: 'cuda' - 1 GPU(s) will be used
None
number of people :  1
bbox : 
 [[149   0 967 630]]
frame:    0 / 0 - framerate: 11.924309 fps device: 'cuda' - 1 GPU(s) will be used
None
number of people :  1
bbox : 
 [[ 54   0 670 380]]
frame:    0 / 0 - framerate: 13.280847 fps device: 'cuda' - 1 GPU(s) will be used
None
number of people :  1
bbox : 
 [[ 811  397 1345 1101]]
frame:    0 / 0 - framerate: 11.135310 fps device: 'cuda' - 1 GPU(s) will be used
None
number of people :  1
bbox : 
 [[ 530    0 3666 3000]]
frame:    0 / 0 - framerate: 3.349856 fps device: 'cuda' - 1 GPU(s) will be used
None
number of people :  1
bbox : 
 [[ 64   0 958 598]]
frame:    0 / 0 - framerate: 12.517844 fps device: 'cuda' - 1 GPU(s) will be used
None
number of people :  1
bbox : 
 [[ 223    0 1446  992]]
frame:    0 / 0 - framerate: 10.719745 fps device: 'cuda' - 1 GPU(s) will be used
None
number of people :  1
bbox : 
 [[201   0 782 673]]
frame:    0 / 0 - framerate: 12.012384 fps device: 'cuda' - 1 GPU(s) will be used
None
number of people :  1
bbox : 
 [[  96    0 1498 1171]]
frame:    0 / 0 - framerate: 7.347150 fps device: 'cuda' - 1 GPU(s) will be used
None
number of people :  1
bbox : 
 [[ 11   0 473 276]]
frame:    0 / 0 - framerate: 12.046990 fps device: 'cuda' - 1 GPU(s) will be used
None
number of people :  1
bbox : 
 [[ 170    0 1420 1061]]
frame:    0 / 0 - framerate: 9.417699 fps device: 'cuda' - 1 GPU(s) will be used
None
number of people :  1
bbox : 
 [[ 692  453 1012  879]]
frame:    0 / 0 - framerate: 11.191406 fps device: 'cuda' - 1 GPU(s) will be used
None
number of people :  1
bbox : 
 [[132   0 587 531]]
frame:    0 / 0 - framerate: 13.074677 fps device: 'cuda' - 1 GPU(s) will be used
None
number of people :  2
bbox : 
 [[ 65   0 390 300]
 [ 80 161 154 259]]
frame:    0 / 0 - framerate: 12.567128 fps device: 'cuda' - 1 GPU(s) will be used
None
number of people :  1
bbox : 
 [[  87    0 1040  734]]
frame:    0 / -9223372036854775808 - framerate: 10.881069 fps device: 'cuda' - 1 GPU(s) will be used
None
number of people :  1
bbox : 
 [[108 102 482 550]]
frame:    0 / 0 - framerate: 13.795963 fps device: 'cuda' - 1 GPU(s) will be used
None
number of people :  1
bbox : 
 [[ 65  90 474 634]]
frame:    0 / 0 - framerate: 12.952099 fps device: 'cuda' - 1 GPU(s) will be used
None
number of people :  1
bbox : 
 [[ 19   0 421 330]]
frame:    0 / 0 - framerate: 13.851273 fps device: 'cuda' - 1 GPU(s) will be used
None
number of people :  1
bbox : 
 [[ 83   0 414 300]]
frame:    0 / 0 - framerate: 14.090639 fps device: 'cuda' - 1 GPU(s) will be used
None
number of people :  1
bbox : 
 [[ 79   0 555 353]]
frame:    0 / 0 - framerate: 13.203669 fps device: 'cuda' - 1 GPU(s) will be used
None
number of people :  1
bbox : 
 [[224 162 417 398]]
frame:    0 / 0 - framerate: 11.814808 fps device: 'cuda' - 1 GPU(s) will be used
None
number of people :  1
bbox : 
 [[ 122    0 1213  957]]
frame:    0 / 0 - framerate: 9.845668 fps device: 'cuda' - 1 GPU(s) will be used
None
number of people :  1
bbox : 
 [[  5   6 220 292]]
frame:    0 / 0 - framerate: 13.639924 fps device: 'cuda' - 1 GPU(s) will be used
None
number of people :  1
bbox : 
 [[ 31   0 417 448]]
frame:    0 / 0 - framerate: 13.816550 fps device: 'cuda' - 1 GPU(s) will be used
None
number of people :  1
bbox : 
 [[ 212    0 1173  957]]
frame:    0 / 0 - framerate: 10.450516 fps device: 'cuda' - 1 GPU(s) will be used
None
number of people :  1
bbox : 
 [[  80    0 1168  824]]
frame:    0 / 0 - framerate: 11.187943 fps device: 'cuda' - 1 GPU(s) will be used
None
number of people :  1
bbox : 
 [[215 114 587 490]]
frame:    0 / 0 - framerate: 13.377083 fps device: 'cuda' - 1 GPU(s) will be used
None
number of people :  1
bbox : 
 [[ 16   0 411 342]]
frame:    0 / 0 - framerate: 13.690903 fps device: 'cuda' - 1 GPU(s) will be used
None
number of people :  1
bbox : 
 [[209  31 608 534]]
frame:    0 / 0 - framerate: 12.512840 fps device: 'cuda' - 1 GPU(s) will be used
None
number of people :  1
bbox : 
 [[ 147    0 1057  939]]
frame:    0 / 0 - framerate: 10.847974 fps device: 'cuda' - 1 GPU(s) will be used
None
number of people :  1
bbox : 
 [[171   0 927 500]]
frame:    0 / 0 - framerate: 12.035616 fps device: 'cuda' - 1 GPU(s) will be used
None
number of people :  1
bbox : 
 [[148   0 671 512]]
frame:    0 / 0 - framerate: 13.183997 fps device: 'cuda' - 1 GPU(s) will be used
None
number of people :  1
bbox : 
 [[ 47   0 608 400]]
frame:    0 / -9223372036854775808 - framerate: 10.409149 fps device: 'cuda' - 1 GPU(s) will be used
None
number of people :  1
bbox : 
 [[ 43   0 454 400]]
frame:    0 / 0 - framerate: 11.146763 fps device: 'cuda' - 1 GPU(s) will be used
None
number of people :  1
bbox : 
 [[  76   28 1027 1199]]
frame:    0 / 0 - framerate: 8.192064 fps device: 'cuda' - 1 GPU(s) will be used
None
number of people :  1
bbox : 
 [[ 69   0 723 500]]
frame:    0 / 0 - framerate: 10.914566 fps device: 'cuda' - 1 GPU(s) will be used
None
number of people :  1
bbox : 
 [[ 95   0 354 339]]
frame:    0 / 0 - framerate: 11.784368 fps device: 'cuda' - 1 GPU(s) will be used
None
number of people :  1
bbox : 
 [[ 247    0 1548 1330]]
frame:    0 / 0 - framerate: 7.336521 fps device: 'cuda' - 1 GPU(s) will be used
None
number of people :  1
bbox : 
 [[105   0 646 400]]
frame:    0 / 0 - framerate: 12.653951 fps device: 'cuda' - 1 GPU(s) will be used
None
number of people :  1
bbox : 
 [[ 159    0 1110  800]]
frame:    0 / 0 - framerate: 11.992532 fps device: 'cuda' - 1 GPU(s) will be used
None
number of people :  1
bbox : 
 [[123   0 671 495]]
frame:    0 / 0 - framerate: 12.845906 fps device: 'cuda' - 1 GPU(s) will be used
None
number of people :  1
bbox : 
 [[173   0 855 617]]
frame:    0 / 0 - framerate: 12.116138 fps device: 'cuda' - 1 GPU(s) will be used
None
number of people :  1
bbox : 
 [[ 96 125 566 751]]
frame:    0 / 0 - framerate: 12.269967 fps device: 'cuda' - 1 GPU(s) will be used
None
number of people :  1
bbox : 
 [[ 28  99 492 625]]
frame:    0 / 0 - framerate: 13.091327 fps device: 'cuda' - 1 GPU(s) will be used
None
number of people :  1
bbox : 
 [[  9   5 141 150]]
frame:    0 / 0 - framerate: 12.033683 fps device: 'cuda' - 1 GPU(s) will be used
None
number of people :  1
bbox : 
 [[ 322    0 1547 1333]]
frame:    0 / 0 - framerate: 8.398485 fps device: 'cuda' - 1 GPU(s) will be used
None
number of people :  2
bbox : 
 [[ 47 148 541 760]
 [520 286 532 302]]
frame:    0 / 0 - framerate: 10.459428 fps device: 'cuda' - 1 GPU(s) will be used
None
number of people :  1
bbox : 
 [[167  32 594 567]]
frame:    0 / 0 - framerate: 12.328537 fps device: 'cuda' - 1 GPU(s) will be used
None
number of people :  1
bbox : 
 [[281  32 627 467]]
frame:    0 / 0 - framerate: 12.518816 fps device: 'cuda' - 1 GPU(s) will be used
None
number of people :  1
bbox : 
 [[ 11   0 470 393]]
frame:    0 / 0 - framerate: 13.054574 fps device: 'cuda' - 1 GPU(s) will be used
None
number of people :  1
bbox : 
 [[1351  636 3463 3000]]
frame:    0 / 0 - framerate: 4.180487 fps device: 'cuda' - 1 GPU(s) will be used
None
number of people :  1
bbox : 
 [[ 758    0 3178 2322]]
frame:    0 / 0 - framerate: 3.646653 fps device: 'cuda' - 1 GPU(s) will be used
None
number of people :  1
bbox : 
 [[141   3 521 396]]
frame:    0 / 0 - framerate: 12.967997 fps device: 'cuda' - 1 GPU(s) will be used
None
number of people :  1
bbox : 
 [[ 813   41 4003 3328]]
frame:    0 / 0 - framerate: 2.600324 fps device: 'cuda' - 1 GPU(s) will be used
None
number of people :  1
bbox : 
 [[  60    0 1359 1102]]
frame:    0 / 0 - framerate: 9.711487 fps device: 'cuda' - 1 GPU(s) will be used
None
number of people :  1
bbox : 
 [[ 63  62 659 810]]
frame:    0 / 0 - framerate: 12.281212 fps device: 'cuda' - 1 GPU(s) will be used
None
number of people :  1
bbox : 
 [[ 214    0 1385 1200]]
frame:    0 / 0 - framerate: 8.917695 fps device: 'cuda' - 1 GPU(s) will be used
None
number of people :  1
bbox : 
 [[ 60   0 363 331]]
frame:    0 / 0 - framerate: 12.035202 fps device: 'cuda' - 1 GPU(s) will be used
None
number of people :  1
bbox : 
 [[ 71   0 601 421]]
frame:    0 / 0 - framerate: 13.247290 fps device: 'cuda' - 1 GPU(s) will be used
None
number of people :  1
bbox : 
 [[ 234    0 1128  630]]
frame:    0 / 0 - framerate: 12.246644 fps device: 'cuda' - 1 GPU(s) will be used
None
number of people :  1
bbox : 
 [[ 13   0 184 190]]
frame:    0 / 0 - framerate: 14.353683 fps device: 'cuda' - 1 GPU(s) will be used
None
number of people :  1
bbox : 
 [[ 29 206 605 973]]
frame:    0 / 0 - framerate: 11.422552 fps device: 'cuda' - 1 GPU(s) will be used
None
number of people :  1
bbox : 
 [[  77    0  975 1063]]
frame:    0 / 0 - framerate: 11.301107 fps device: 'cuda' - 1 GPU(s) will be used
None
number of people :  1
bbox : 
 [[255 203 731 837]]
frame:    0 / 0 - framerate: 12.101805 fps device: 'cuda' - 1 GPU(s) will be used
None
number of people :  1
bbox : 
 [[228   0 855 685]]
frame:    0 / 0 - framerate: 11.496378 fps device: 'cuda' - 1 GPU(s) will be used
None
number of people :  1
bbox : 
 [[ 27   0 332 212]]
frame:    0 / 0 - framerate: 13.248504 fps device: 'cuda' - 1 GPU(s) will be used
None
number of people :  1
bbox : 
 [[ 54   0 887 648]]
frame:    0 / 0 - framerate: 11.840523 fps device: 'cuda' - 1 GPU(s) will be used
None
number of people :  1
bbox : 
 [[ 335    0 1458  900]]
frame:    0 / 0 - framerate: 10.449370 fps device: 'cuda' - 1 GPU(s) will be used
None
number of people :  1
bbox : 
 [[ 62   0 555 416]]
frame:    0 / 0 - framerate: 11.508901 fps device: 'cuda' - 1 GPU(s) will be used
None
number of people :  1
bbox : 
 [[ 80 145 469 663]]
frame:    0 / 0 - framerate: 12.466907 fps device: 'cuda' - 1 GPU(s) will be used
None
number of people :  1
bbox : 
 [[ 83   0 440 454]]
frame:    0 / 0 - framerate: 12.704699 fps device: 'cuda' - 1 GPU(s) will be used
None
number of people :  1
bbox : 
 [[212   0 877 523]]
frame:    0 / 0 - framerate: 11.526075 fps device: 'cuda' - 1 GPU(s) will be used
None
number of people :  1
bbox : 
 [[126   0 874 602]]
frame:    0 / 0 - framerate: 12.574889 fps device: 'cuda' - 1 GPU(s) will be used
None
number of people :  1
bbox : 
 [[414 131 975 720]]
frame:    0 / 0 - framerate: 12.968197 fps device: 'cuda' - 1 GPU(s) will be used
None
number of people :  1
bbox : 
 [[123   0 553 353]]
frame:    0 / 0 - framerate: 13.253820 fps device: 'cuda' - 1 GPU(s) will be used
None
number of people :  1
bbox : 
 [[117   0 386 300]]
frame:    0 / 0 - framerate: 13.866339 fps device: 'cuda' - 1 GPU(s) will be used
None
number of people :  1
bbox : 
 [[ 594    0 3627 2578]]
frame:    0 / 0 - framerate: 3.199182 fps device: 'cuda' - 1 GPU(s) will be used
None
number of people :  1
bbox : 
 [[ 49   0 387 360]]
frame:    0 / 0 - framerate: 13.546925 fps device: 'cuda' - 1 GPU(s) will be used
None
number of people :  1
bbox : 
 [[  72    0 1394 1148]]
frame:    0 / 0 - framerate: 10.061371 fps device: 'cuda' - 1 GPU(s) will be used
None
number of people :  1
bbox : 
 [[ 85   0 272 229]]
frame:    0 / 0 - framerate: 14.106989 fps device: 'cuda' - 1 GPU(s) will be used
None
number of people :  1
bbox : 
 [[  92    0 1467 1600]]
frame:    0 / 0 - framerate: 7.957216 fps device: 'cuda' - 1 GPU(s) will be used
None
number of people :  1
bbox : 
 [[ 277    0 1180 1156]]
frame:    0 / 0 - framerate: 9.352870 fps device: 'cuda' - 1 GPU(s) will be used
None
number of people :  1
bbox : 
 [[ 41   0 524 429]]
frame:    0 / 0 - framerate: 13.154103 fps device: 'cuda' - 1 GPU(s) will be used
None
number of people :  1
bbox : 
 [[141   0 496 408]]
frame:    0 / 0 - framerate: 13.557609 fps device: 'cuda' - 1 GPU(s) will be used
None
number of people :  1
bbox : 
 [[ 597    0 4132 3264]]
frame:    0 / 0 - framerate: 2.860366 fps device: 'cuda' - 1 GPU(s) will be used
None
number of people :  1
bbox : 
 [[ 16  47 412 474]]
frame:    0 / 0 - framerate: 12.868016 fps device: 'cuda' - 1 GPU(s) will be used
None
number of people :  1
bbox : 
 [[ 78   0 700 707]]
frame:    0 / 0 - framerate: 12.532094 fps device: 'cuda' - 1 GPU(s) will be used
None
number of people :  1
bbox : 
 [[122  28 230 172]]
frame:    0 / -9223372036854775808 - framerate: 13.555287 fps device: 'cuda' - 1 GPU(s) will be used
None
number of people :  1
bbox : 
 [[ 261    0 2046 2066]]
frame:    0 / 0 - framerate: 6.890978 fps device: 'cuda' - 1 GPU(s) will be used
None
number of people :  1
bbox : 
 [[ 88   0 497 400]]
frame:    0 / 0 - framerate: 13.684426 fps device: 'cuda' - 1 GPU(s) will be used
None
number of people :  1
bbox : 
 [[303 185 575 480]]
frame:    0 / 0 - framerate: 13.913902 fps device: 'cuda' - 1 GPU(s) will be used
None
number of people :  1
bbox : 
 [[190 112 480 498]]
frame:    0 / 0 - framerate: 13.765221 fps device: 'cuda' - 1 GPU(s) will be used
None
number of people :  1
bbox : 
 [[ 709    0 3121 2304]]
frame:    0 / 0 - framerate: 4.530440 fps 
In [65]:
for i in range(len(img_list_path02)):
    !python3 scripts/extract-keypoints.py \
      --filename {img_list_path02[i]} \
      --format json \
      --hrnet_weights weights/pose_hrnet_w48_384x288.pth \
      --json_output_filename {json_list_path02[i]}

device: 'cuda' - 1 GPU(s) will be used
None
number of people :  1
bbox : 
 [[276 212 817 932]]
frame:    0 / 0 - framerate: 10.008863 fps device: 'cuda' - 1 GPU(s) will be used
None
number of people :  1
bbox : 
 [[253   0 492 309]]
frame:    0 / 0 - framerate: 12.103621 fps device: 'cuda' - 1 GPU(s) will be used
None
number of people :  1
bbox : 
 [[158  15 723 720]]
frame:    0 / 0 - framerate: 11.415371 fps device: 'cuda' - 1 GPU(s) will be used
None
number of people :  1
bbox : 
 [[ 428  458 1487 1870]]
frame:    0 / 0 - framerate: 6.676160 fps device: 'cuda' - 1 GPU(s) will be used
None
number of people :  1
bbox : 
 [[ 348    0 1328 1186]]
frame:    0 / 0 - framerate: 10.410596 fps device: 'cuda' - 1 GPU(s) will be used
None
number of people :  1
bbox : 
 [[204   3 491 385]]
frame:    0 / 0 - framerate: 13.957843 fps device: 'cuda' - 1 GPU(s) will be used
None
number of people :  1
bbox : 
 [[  29   12 1251 1643]]
frame:    0 / -9223372036854775808 - framerate: 7.186433 fps device: 'cuda' - 1 GPU(s) will be used
None
number of people :  1
bbox : 
 [[ 105  166 1071 1518]]
frame:    0 / 0 - framerate: 10.502906 fps device: 'cuda' - 1 GPU(s) will be used
None
number of people :  1
bbox : 
 [[ 401   92 1183 1134]]
frame:    0 / 0 - framerate: 10.103640 fps device: 'cuda' - 1 GPU(s) will be used
None
number of people :  1
bbox : 
 [[147  55 515 545]]
frame:    0 / 0 - framerate: 13.598664 fps device: 'cuda' - 1 GPU(s) will be used
None
number of people :  1
bbox : 
 [[128  44 399 404]]
frame:    0 / 0 - framerate: 13.715975 fps device: 'cuda' - 1 GPU(s) will be used
None
number of people :  1
bbox : 
 [[142   7 472 448]]
frame:    0 / 0 - framerate: 11.271375 fps device: 'cuda' - 1 GPU(s) will be used
None
number of people :  2
bbox : 
 [[200  10 504 417]
 [  9  55 127 212]]
frame:    0 / 0 - framerate: 11.318856 fps device: 'cuda' - 1 GPU(s) will be used
None
number of people :  1
bbox : 
 [[153   0 533 427]]
frame:    0 / 0 - framerate: 13.634072 fps device: 'cuda' - 1 GPU(s) will be used
None
number of people :  1
bbox : 
 [[ 78 212 588 893]]
frame:    0 / 0 - framerate: 12.887825 fps device: 'cuda' - 1 GPU(s) will be used
None
number of people :  1
bbox : 
 [[ 130   26  878 1000]]
frame:    0 / 0 - framerate: 11.283231 fps device: 'cuda' - 1 GPU(s) will be used
None
number of people :  1
bbox : 
 [[339   2 677 453]]
frame:    0 / 0 - framerate: 13.015280 fps device: 'cuda' - 1 GPU(s) will be used
None
number of people :  1
bbox : 
 [[240  34 494 372]]
frame:    0 / 0 - framerate: 13.848346 fps device: 'cuda' - 1 GPU(s) will be used
None
number of people :  1
bbox : 
 [[128 117 411 493]]
frame:    0 / 0 - framerate: 13.329384 fps device: 'cuda' - 1 GPU(s) will be used
None
number of people :  1
bbox : 
 [[178   0 707 686]]
frame:    0 / -9223372036854775808 - framerate: 11.970797 fps device: 'cuda' - 1 GPU(s) will be used
None
number of people :  1
bbox : 
 [[157  27 449 416]]
frame:    0 / -9223372036854775808 - framerate: 12.206619 fps device: 'cuda' - 1 GPU(s) will be used
None
number of people :  1
bbox : 
 [[166   7 582 561]]
frame:    0 / 0 - framerate: 13.203212 fps device: 'cuda' - 1 GPU(s) will be used
None
number of people :  1
bbox : 
 [[ 727  212 2385 2422]]
frame:    0 / 0 - framerate: 5.063456 fps device: 'cuda' - 1 GPU(s) will be used
None
number of people :  1
bbox : 
 [[151   0 463 347]]
frame:    0 / 0 - framerate: 13.632521 fps device: 'cuda' - 1 GPU(s) will be used
None
number of people :  1
bbox : 
 [[195  37 398 307]]
frame:    0 / 0 - framerate: 11.639173 fps device: 'cuda' - 1 GPU(s) will be used
None
number of people :  1
bbox : 
 [[259  89 525 443]]
frame:    0 / 0 - framerate: 12.139141 fps device: 'cuda' - 1 GPU(s) will be used
None
number of people :  1
bbox : 
 [[141  31 416 394]]
frame:    0 / 0 - framerate: 13.723290 fps device: 'cuda' - 1 GPU(s) will be used
None
number of people :  1
bbox : 
 [[470  98 887 654]]
frame:    0 / 0 - framerate: 13.058516 fps device: 'cuda' - 1 GPU(s) will be used
None
number of people :  1
bbox : 
 [[  59    0 1853 2048]]
frame:    0 / 0 - framerate: 5.712630 fps device: 'cuda' - 1 GPU(s) will be used
None
number of people :  1
bbox : 
 [[145  46 349 318]]
frame:    0 / 0 - framerate: 13.991974 fps device: 'cuda' - 1 GPU(s) will be used
None
number of people :  1
bbox : 
 [[ 21 100 391 593]]
frame:    0 / 0 - framerate: 13.508835 fps device: 'cuda' - 1 GPU(s) will be used
None
number of people :  1
bbox : 
 [[466 129 798 571]]
frame:    0 / 0 - framerate: 13.013099 fps device: 'cuda' - 1 GPU(s) will be used
None
number of people :  1
bbox : 
 [[200 140 582 648]]
frame:    0 / 0 - framerate: 13.036275 fps device: 'cuda' - 1 GPU(s) will be used
None
number of people :  1
bbox : 
 [[155   0 798 602]]
frame:    0 / -9223372036854775808 - framerate: 11.092228 fps device: 'cuda' - 1 GPU(s) will be used
None
number of people :  1
bbox : 
 [[235 127 490 467]]
frame:    0 / 0 - framerate: 13.993748 fps device: 'cuda' - 1 GPU(s) will be used
None
number of people :  1
bbox : 
 [[186   0 868 792]]
frame:    0 / 0 - framerate: 11.545969 fps device: 'cuda' - 1 GPU(s) will be used
None
number of people :  1
bbox : 
 [[ 36  31 256 326]]
frame:    0 / 0 - framerate: 12.550169 fps device: 'cuda' - 1 GPU(s) will be used
None
number of people :  1
bbox : 
 [[ 51   0 473 525]]
frame:    0 / 0 - framerate: 11.404228 fps device: 'cuda' - 1 GPU(s) will be used
None
number of people :  1
bbox : 
 [[204   3 491 385]]
frame:    0 / 0 - framerate: 12.333540 fps device: 'cuda' - 1 GPU(s) will be used
None
number of people :  1
bbox : 
 [[ 82  13 588 687]]
frame:    0 / 0 - framerate: 12.780927 fps device: 'cuda' - 1 GPU(s) will be used
None
number of people :  1
bbox : 
 [[ 32   8 448 563]]
frame:    0 / -9223372036854775808 - framerate: 12.142410 fps device: 'cuda' - 1 GPU(s) will be used
None
number of people :  1
bbox : 
 [[ 149    0 1853 2116]]
frame:    0 / 0 - framerate: 5.756243 fps device: 'cuda' - 1 GPU(s) will be used
None
number of people :  1
bbox : 
 [[ 184    0  955 1026]]
frame:    0 / 0 - framerate: 11.282502 fps device: 'cuda' - 1 GPU(s) will be used
None
number of people :  1
bbox : 
 [[235 127 490 467]]
frame:    0 / 0 - framerate: 13.765085 fps device: 'cuda' - 1 GPU(s) will be used
None
number of people :  1
bbox : 
 [[ 41   0 556 615]]
frame:    0 / -9223372036854775808 - framerate: 12.103446 fps device: 'cuda' - 1 GPU(s) will be used
None
number of people :  1
bbox : 
 [[294 133 642 597]]
frame:    0 / 0 - framerate: 13.494883 fps device: 'cuda' - 1 GPU(s) will be used
None
number of people :  1
bbox : 
 [[203   0 734 704]]
frame:    0 / 0 - framerate: 12.029024 fps device: 'cuda' - 1 GPU(s) will be used
None
number of people :  1
bbox : 
 [[ 78 212 588 893]]
frame:    0 / 0 - framerate: 12.167701 fps device: 'cuda' - 1 GPU(s) will be used
None
number of people :  1
bbox : 
 [[ 123    0 1795 1856]]
frame:    0 / 0 - framerate: 6.201289 fps device: 'cuda' - 1 GPU(s) will be used
None
number of people :  1
bbox : 
 [[ 130   26  878 1000]]
frame:    0 / 0 - framerate: 9.909404 fps device: 'cuda' - 1 GPU(s) will be used
None
number of people :  1
bbox : 
 [[147  55 515 545]]
frame:    0 / 0 - framerate: 12.531870 fps device: 'cuda' - 1 GPU(s) will be used
None
number of people :  1
bbox : 
 [[237   0 847 800]]
frame:    0 / 0 - framerate: 11.708901 fps device: 'cuda' - 1 GPU(s) will be used
None
number of people :  1
bbox : 
 [[393  14 827 540]]
frame:    0 / 0 - framerate: 12.713634 fps device: 'cuda' - 1 GPU(s) will be used
None
number of people :  1
bbox : 
 [[ 727  212 2385 2422]]
frame:    0 / 0 - framerate: 5.253841 fps device: 'cuda' - 1 GPU(s) will be used
None
number of people :  1
bbox : 
 [[111   0 549 544]]
frame:    0 / 0 - framerate: 12.259924 fps device: 'cuda' - 1 GPU(s) will be used
None
number of people :  1
bbox : 
 [[120  85 486 573]]
frame:    0 / 0 - framerate: 13.688267 fps device: 'cuda' - 1 GPU(s) will be used
None
number of people :  1
bbox : 
 [[138  42 467 477]]
frame:    0 / 0 - framerate: 13.494535 fps device: 'cuda' - 1 GPU(s) will be used
None
number of people :  1
bbox : 
 [[155  90 347 346]]
frame:    0 / 0 - framerate: 14.138802 fps device: 'cuda' - 1 GPU(s) will be used
None
number of people :  1
bbox : 
 [[147  16 441 409]]
frame:    0 / 0 - framerate: 13.488590 fps device: 'cuda' - 1 GPU(s) will be used
None
number of people :  1
bbox : 
 [[110   0 540 413]]
frame:    0 / 0 - framerate: 13.166573 fps device: 'cuda' - 1 GPU(s) will be used
None
number of people :  1
bbox : 
 [[142   6 472 447]]
frame:    0 / 0 - framerate: 11.436661 fps device: 'cuda' - 1 GPU(s) will be used
None
number of people :  1
bbox : 
 [[240  34 494 372]]
frame:    0 / 0 - framerate: 11.705209 fps device: 'cuda' - 1 GPU(s) will be used
None
number of people :  1
bbox : 
 [[ 64   0 322 341]]
frame:    0 / 0 - framerate: 11.716555 fps device: 'cuda' - 1 GPU(s) will be used
None
number of people :  1
bbox : 
 [[361   0 669 401]]
frame:    0 / 0 - framerate: 11.712858 fps device: 'cuda' - 1 GPU(s) will be used
None
number of people :  1
bbox : 
 [[332  51 686 524]]
frame:    0 / 0 - framerate: 11.347887 fps device: 'cuda' - 1 GPU(s) will be used
None
number of people :  1
bbox : 
 [[ 78   0 725 533]]
frame:    0 / 0 - framerate: 11.514968 fps device: 'cuda' - 1 GPU(s) will be used
None
number of people :  1
bbox : 
 [[126  33 838 984]]
frame:    0 / 0 - framerate: 10.457603 fps device: 'cuda' - 1 GPU(s) will be used
None
number of people :  1
bbox : 
 [[  62  117  758 1046]]
frame:    0 / 0 - framerate: 10.753771 fps device: 'cuda' - 1 GPU(s) will be used
None
number of people :  1
bbox : 
 [[128  44 399 404]]
frame:    0 / 0 - framerate: 12.918628 fps device: 'cuda' - 1 GPU(s) will be used
None
number of people :  1
bbox : 
 [[111   0 549 544]]
frame:    0 / 0 - framerate: 12.259996 fps device: 'cuda' - 1 GPU(s) will be used
None
number of people :  1
bbox : 
 [[ 797  152 1397  952]]
frame:    0 / 0 - framerate: 11.766615 fps device: 'cuda' - 1 GPU(s) will be used
None
number of people :  1
bbox : 
 [[453 144 776 574]]
frame:    0 / 0 - framerate: 13.355317 fps device: 'cuda' - 1 GPU(s) will be used
None
number of people :  1
bbox : 
 [[393  14 827 540]]
frame:    0 / 0 - framerate: 12.741054 fps device: 'cuda' - 1 GPU(s) will be used
None
number of people :  1
bbox : 
 [[100   0 387 360]]
frame:    0 / 0 - framerate: 13.756913 fps device: 'cuda' - 1 GPU(s) will be used
None
number of people :  1
bbox : 
 [[292   1 666 501]]
frame:    0 / 0 - framerate: 12.765134 fps device: 'cuda' - 1 GPU(s) will be used
None
number of people :  2
bbox : 
 [[539 160 917 665]
 [123  75 257 254]]
frame:    0 / 0 - framerate: 10.213320 fps device: 'cuda' - 1 GPU(s) will be used
None
number of people :  1
bbox : 
 [[155  90 347 346]]
frame:    0 / 0 - framerate: 12.831994 fps device: 'cuda' - 1 GPU(s) will be used
None
number of people :  1
bbox : 
 [[ 14   3 742 975]]
frame:    0 / -9223372036854775808 - framerate: 9.586586 fps device: 'cuda' - 1 GPU(s) will be used
None
number of people :  1
bbox : 
 [[147  16 441 409]]
frame:    0 / 0 - framerate: 13.328113 fps device: 'cuda' - 1 GPU(s) will be used
None
number of people :  1
bbox : 
 [[223  33 535 449]]
frame:    0 / 0 - framerate: 13.087609 fps device: 'cuda' - 1 GPU(s) will be used
None
number of people :  1
bbox : 
 [[208   0 625 548]]
frame:    0 / 0 - framerate: 13.402345 fps device: 'cuda' - 1 GPU(s) will be used
None
number of people :  1
bbox : 
 [[195  37 398 307]]
frame:    0 / 0 - framerate: 13.855071 fps device: 'cuda' - 1 GPU(s) will be used
None
number of people :  1
bbox : 
 [[271 255 830 999]]
frame:    0 / 0 - framerate: 11.668022 fps device: 'cuda' - 1 GPU(s) will be used
None
number of people :  1
bbox : 
 [[ 479    0 1320 1120]]
frame:    0 / 0 - framerate: 10.649388 fps device: 'cuda' - 1 GPU(s) will be used
None
number of people :  1
bbox : 
 [[199  17 541 461]]
frame:    0 / 0 - framerate: 13.092471 fps device: 'cuda' - 1 GPU(s) will be used
None
number of people :  1
bbox : 
 [[  26  200  714 1118]]
frame:    0 / 0 - framerate: 12.052528 fps device: 'cuda' - 1 GPU(s) will be used
None
number of people :  1
bbox : 
 [[108  98 342 410]]
frame:    0 / 0 - framerate: 13.969279 fps device: 'cuda' - 1 GPU(s) will be used
None
number of people :  1
bbox : 
 [[321  52 973 920]]
frame:    0 / 0 - framerate: 9.722405 fps device: 'cuda' - 1 GPU(s) will be used
None
number of people :  1
bbox : 
 [[166  39 396 339]]
frame:    0 / 0 - framerate: 12.519189 fps device: 'cuda' - 1 GPU(s) will be used
None
number of people :  1
bbox : 
 [[ 51   0 257 272]]
frame:    0 / 0 - framerate: 12.966032 fps device: 'cuda' - 1 GPU(s) will be used
None
number of people :  1
bbox : 
 [[124   0 441 383]]
frame:    0 / 0 - framerate: 12.564831 fps device: 'cuda' - 1 GPU(s) will be used
None
number of people :  1
bbox : 
 [[ 28   0 481 516]]
frame:    0 / 0 - framerate: 12.561633 fps device: 'cuda' - 1 GPU(s) will be used
None
number of people :  1
bbox : 
 [[480 139 804 571]]
frame:    0 / 0 - framerate: 13.292253 fps device: 'cuda' - 1 GPU(s) will be used
None
number of people :  1
bbox : 
 [[ 70  25 324 365]]
frame:    0 / 0 - framerate: 13.577710 fps device: 'cuda' - 1 GPU(s) will be used
None
number of people :  1
bbox : 
 [[619 377 896 745]]
frame:    0 / 0 - framerate: 11.166468 fps device: 'cuda' - 1 GPU(s) will be used
None
number of people :  1
bbox : 
 [[ 67   0 602 566]]
frame:    0 / 0 - framerate: 12.816741 fps device: 'cuda' - 1 GPU(s) will be used
None
number of people :  1
bbox : 
 [[  59    0 1853 2048]]
frame:    0 / 0 - framerate: 5.654431 fps device: 'cuda' - 1 GPU(s) will be used
None
number of people :  1
bbox : 
 [[  95    0 1748 1322]]
frame:    0 / 0 - framerate: 7.931560 fps device: 'cuda' - 1 GPU(s) will be used
None
number of people :  2
bbox : 
 [[539 160 917 665]
 [123  75 257 254]]
frame:    0 / 0 - framerate: 11.823267 fps device: 'cuda' - 1 GPU(s) will be used
None
number of people :  1
bbox : 
 [[480 139 804 571]]
frame:    0 / 0 - framerate: 11.271405 fps device: 'cuda' - 1 GPU(s) will be used
None
number of people :  1
bbox : 
 [[ 66   0 456 518]]
frame:    0 / 0 - framerate: 11.825434 fps device: 'cuda' - 1 GPU(s) will be used
None
number of people :  1
bbox : 
 [[157  27 449 416]]
frame:    0 / -9223372036854775808 - framerate: 11.097863 fps device: 'cuda' - 1 GPU(s) will be used
None
number of people :  1
bbox : 
 [[ 71   0 245 201]]
frame:    0 / 0 - framerate: 12.842288 fps device: 'cuda' - 1 GPU(s) will be used
None
number of people :  1
bbox : 
 [[ 51   0 257 272]]
frame:    0 / 0 - framerate: 12.852716 fps device: 'cuda' - 1 GPU(s) will be used
None
number of people :  1
bbox : 
 [[ 233    0 1395 1504]]
frame:    0 / 0 - framerate: 9.512037 fps device: 'cuda' - 1 GPU(s) will be used
None
number of people :  0
bbox : 
 []
frame:    0 / -9223372036854775808 - framerate: 35.074417 fps device: 'cuda' - 1 GPU(s) will be used
None
number of people :  1
bbox : 
 [[141  31 416 394]]
frame:    0 / 0 - framerate: 13.780552 fps device: 'cuda' - 1 GPU(s) will be used
None
number of people :  1
bbox : 
 [[ 324    0 1056  934]]
frame:    0 / 0 - framerate: 11.012661 fps device: 'cuda' - 1 GPU(s) will be used
None
number of people :  1
bbox : 
 [[157  37 427 382]]
frame:    0 / 0 - framerate: 13.914271 fps device: 'cuda' - 1 GPU(s) will be used
None
number of people :  1
bbox : 
 [[221  17 393 248]]
frame:    0 / 0 - framerate: 13.941605 fps device: 'cuda' - 1 GPU(s) will be used
None
number of people :  1
bbox : 
 [[190  29 514 462]]
frame:    0 / 0 - framerate: 13.465768 fps device: 'cuda' - 1 GPU(s) will be used
None
number of people :  1
bbox : 
 [[ 21 100 391 593]]
frame:    0 / 0 - framerate: 11.582028 fps device: 'cuda' - 1 GPU(s) will be used
None
number of people :  1
bbox : 
 [[181 270 599 829]]
frame:    0 / 0 - framerate: 11.001424 fps device: 'cuda' - 1 GPU(s) will be used
None
number of people :  1
bbox : 
 [[ 38   0 473 500]]
frame:    0 / 0 - framerate: 11.943969 fps device: 'cuda' - 1 GPU(s) will be used
None
number of people :  1
bbox : 
 [[ 222    0 1207 1001]]
frame:    0 / 0 - framerate: 9.895540 fps device: 'cuda' - 1 GPU(s) will be used
None
number of people :  1
bbox : 
 [[329   0 964 673]]
frame:    0 / 0 - framerate: 10.710848 fps device: 'cuda' - 1 GPU(s) will be used
None
number of people :  1
bbox : 
 [[619 377 896 745]]
frame:    0 / 0 - framerate: 10.355693 fps device: 'cuda' - 1 GPU(s) will be used
None
number of people :  1
bbox : 
 [[203   0 734 704]]
frame:    0 / 0 - framerate: 11.382811 fps device: 'cuda' - 1 GPU(s) will be used
None
number of people :  1
bbox : 
 [[ 230 1305  500 1665]]
frame:    0 / 0 - framerate: 12.674868 fps device: 'cuda' - 1 GPU(s) will be used
None
number of people :  0
bbox : 
 []
frame:    0 / 0 - framerate: 30.629890 fps device: 'cuda' - 1 GPU(s) will be used
None
number of people :  1
bbox : 
 [[141  51 499 528]]
frame:    0 / 0 - framerate: 13.216900 fps device: 'cuda' - 1 GPU(s) will be used
None
number of people :  1
bbox : 
 [[ 60   0 271 248]]
frame:    0 / 0 - framerate: 13.959609 fps device: 'cuda' - 1 GPU(s) will be used
None
number of people :  1
bbox : 
 [[1123   46 2741 2202]]
frame:    0 / 0 - framerate: 4.948856 fps device: 'cuda' - 1 GPU(s) will be used
None
number of people :  1
bbox : 
 [[346 130 712 618]]
frame:    0 / -9223372036854775808 - framerate: 9.643320 fps device: 'cuda' - 1 GPU(s) will be used
None
number of people :  1
bbox : 
 [[ 30   5 573 686]]
frame:    0 / 0 - framerate: 10.886831 fps device: 'cuda' - 1 GPU(s) will be used
None
number of people :  1
bbox : 
 [[141  51 499 528]]
frame:    0 / 0 - framerate: 11.530606 fps device: 'cuda' - 1 GPU(s) will be used
None
number of people :  1
bbox : 
 [[ 19  31 319 432]]
frame:    0 / 0 - framerate: 11.733041 fps device: 'cuda' - 1 GPU(s) will be used
None
number of people :  0
bbox : 
 []
frame:    0 / 0 - framerate: 28.382850 fps device: 'cuda' - 1 GPU(s) will be used
None
number of people :  1
bbox : 
 [[ 66  41 684 750]]
frame:    0 / 0 - framerate: 11.030037 fps device: 'cuda' - 1 GPU(s) will be used
None
number of people :  1
bbox : 
 [[304  39 797 695]]
frame:    0 / 0 - framerate: 11.268498 fps device: 'cuda' - 1 GPU(s) will be used
None
number of people :  1
bbox : 
 [[150   0 476 349]]
frame:    0 / 0 - framerate: 11.849187 fps device: 'cuda' - 1 GPU(s) will be used
None
number of people :  1
bbox : 
 [[249  59 517 415]]
frame:    0 / 0 - framerate: 12.750466 fps device: 'cuda' - 1 GPU(s) will be used
None
number of people :  1
bbox : 
 [[462  76 816 548]]
frame:    0 / 0 - framerate: 12.739351 fps device: 'cuda' - 1 GPU(s) will be used
None
number of people :  1
bbox : 
 [[ 599  162 1011  710]]
frame:    0 / 0 - framerate: 12.848267 fps device: 'cuda' - 1 GPU(s) will be used
None
number of people :  1
bbox : 
 [[267   0 791 696]]
frame:    0 / 0 - framerate: 11.846074 fps device: 'cuda' - 1 GPU(s) will be used
None
number of people :  1
bbox : 
 [[  9   0 194 239]]
frame:    0 / 0 - framerate: 12.031404 fps device: 'cuda' - 1 GPU(s) will be used
None
number of people :  1
bbox : 
 [[ 212    0 1048  957]]
frame:    0 / 0 - framerate: 10.314767 fps device: 'cuda' - 1 GPU(s) will be used
None
number of people :  1
bbox : 
 [[ 67   0 379 360]]
frame:    0 / 0 - framerate: 12.819130 fps device: 'cuda' - 1 GPU(s) will be used
None
number of people :  1
bbox : 
 [[1428  886 2688 2567]]
frame:    0 / 0 - framerate: 4.858421 fps device: 'cuda' - 1 GPU(s) will be used
None
number of people :  1
bbox : 
 [[176  15 436 361]]
frame:    0 / 0 - framerate: 12.703122 fps device: 'cuda' - 1 GPU(s) will be used
None
number of people :  1
bbox : 
 [[282   0 846 667]]
frame:    0 / 0 - framerate: 11.984856 fps device: 'cuda' - 1 GPU(s) will be used
None
number of people :  1
bbox : 
 [[462 177 735 541]]
frame:    0 / 0 - framerate: 12.837846 fps device: 'cuda' - 1 GPU(s) will be used
None
number of people :  1
bbox : 
 [[ 78  26 525 600]]
frame:    0 / 0 - framerate: 12.438034 fps device: 'cuda' - 1 GPU(s) will be used
None
number of people :  0
bbox : 
 []
frame:    0 / -9223372036854775808 - framerate: 38.628342 fps device: 'cuda' - 1 GPU(s) will be used
None
number of people :  1
bbox : 
 [[ 85   0 751 451]]
frame:    0 / 0 - framerate: 12.880543 fps device: 'cuda' - 1 GPU(s) will be used
None
number of people :  1
bbox : 
 [[176  15 436 361]]
frame:    0 / 0 - framerate: 13.596240 fps device: 'cuda' - 1 GPU(s) will be used
None
number of people :  1
bbox : 
 [[462 177 735 541]]
frame:    0 / 0 - framerate: 13.607046 fps device: 'cuda' - 1 GPU(s) will be used
None
number of people :  0
bbox : 
 []
frame:    0 / 0 - framerate: 39.441280 fps device: 'cuda' - 1 GPU(s) will be used
None
number of people :  1
bbox : 
 [[221   0 817 653]]
frame:    0 / 0 - framerate: 10.647522 fps device: 'cuda' - 1 GPU(s) will be used
None
number of people :  2
bbox : 
 [[507   3 702 263]
 [ 99  31 285 267]]
frame:    0 / 0 - framerate: 11.122790 fps device: 'cuda' - 1 GPU(s) will be used
None
number of people :  1
bbox : 
 [[221  95 478 437]]
frame:    0 / 0 - framerate: 13.029754 fps device: 'cuda' - 1 GPU(s) will be used
None
number of people :  1
bbox : 
 [[ 10  44 200 296]]
frame:    0 / 0 - framerate: 13.689384 fps device: 'cuda' - 1 GPU(s) will be used
None
number of people :  1
bbox : 
 [[373  74 951 844]]
frame:    0 / 0 - framerate: 11.353939 fps device: 'cuda' - 1 GPU(s) will be used
None
number of people :  1
bbox : 
 [[187 120 326 304]]
frame:    0 / 0 - framerate: 14.258435 fps device: 'cuda' - 1 GPU(s) will be used
None
number of people :  1
bbox : 
 [[443  93 898 699]]
frame:    0 / 0 - framerate: 12.442203 fps device: 'cuda' - 1 GPU(s) will be used
None
number of people :  2
bbox : 
 [[ 15  42 379 529]
 [109 113 289 354]]
frame:    0 / 0 - framerate: 12.171515 fps device: 'cuda' - 1 GPU(s) will be used
None
number of people :  1
bbox : 
 [[282 197 819 913]]
frame:    0 / 0 - framerate: 11.725890 fps device: 'cuda' - 1 GPU(s) will be used
None
number of people :  1
bbox : 
 [[116   9 467 477]]
frame:    0 / 0 - framerate: 13.309758 fps device: 'cuda' - 1 GPU(s) will be used
None
number of people :  1
bbox : 
 [[ 438   35 2639 2969]]
frame:    0 / 0 - framerate: 3.582068 fps device: 'cuda' - 1 GPU(s) will be used
None
number of people :  1
bbox : 
 [[ 474    0 1109  720]]
frame:    0 / 0 - framerate: 11.748586 fps device: 'cuda' - 1 GPU(s) will be used
None
number of people :  1
bbox : 
 [[176   0 686 533]]
frame:    0 / 0 - framerate: 10.943185 fps device: 'cuda' - 1 GPU(s) will be used
None
number of people :  1
bbox : 
 [[123  88 701 859]]
frame:    0 / 0 - framerate: 11.139480 fps device: 'cuda' - 1 GPU(s) will be used
None
number of people :  1
bbox : 
 [[12  4 67 76]]
frame:    0 / 0 - framerate: 13.695865 fps device: 'cuda' - 1 GPU(s) will be used
None
number of people :  1
bbox : 
 [[169   6 557 524]]
frame:    0 / 0 - framerate: 12.571723 fps device: 'cuda' - 1 GPU(s) will be used
None
number of people :  1
bbox : 
 [[ 683  550 1242 1280]]
frame:    0 / 0 - framerate: 11.706744 fps device: 'cuda' - 1 GPU(s) will be used
None
number of people :  1
bbox : 
 [[305  32 801 695]]
frame:    0 / 0 - framerate: 12.581981 fps device: 'cuda' - 1 GPU(s) will be used
None
number of people :  1
bbox : 
 [[1098  260 2674 2363]]
frame:    0 / 0 - framerate: 4.920288 fps device: 'cuda' - 1 GPU(s) will be used
None
number of people :  1
bbox : 
 [[ 352    0 1208 1086]]
frame:    0 / 0 - framerate: 10.233504 fps device: 'cuda' - 1 GPU(s) will be used
None
number of people :  1
bbox : 
 [[154   8 445 396]]
frame:    0 / 0 - framerate: 13.618268 fps device: 'cuda' - 1 GPU(s) will be used
None
number of people :  1
bbox : 
 [[ 474    0 1109  720]]
frame:    0 / 0 - framerate: 11.633233 fps device: 'cuda' - 1 GPU(s) will be used
None
number of people :  1
bbox : 
 [[12  4 67 76]]
frame:    0 / 0 - framerate: 14.252040 fps device: 'cuda' - 1 GPU(s) will be used
None
number of people :  1
bbox : 
 [[123  88 701 859]]
frame:    0 / 0 - framerate: 12.309072 fps device: 'cuda' - 1 GPU(s) will be used
None
number of people :  1
bbox : 
 [[169   6 557 524]]
frame:    0 / 0 - framerate: 11.123940 fps device: 'cuda' - 1 GPU(s) will be used
None
number of people :  1
bbox : 
 [[ 683  550 1242 1280]]
frame:    0 / 0 - framerate: 10.915305 fps device: 'cuda' - 1 GPU(s) will be used
None
number of people :  1
bbox : 
 [[ 77   0 583 359]]
frame:    0 / 0 - framerate: 12.570555 fps device: 'cuda' - 1 GPU(s) will be used
None
number of people :  1
bbox : 
 [[305  32 801 695]]
frame:    0 / 0 - framerate: 12.084267 fps device: 'cuda' - 1 GPU(s) will be used
None
number of people :  1
bbox : 
 [[ 352    0 1208 1086]]
frame:    0 / 0 - framerate: 9.668127 fps device: 'cuda' - 1 GPU(s) will be used
None
number of people :  1
bbox : 
 [[154   8 445 396]]
frame:    0 / 0 - framerate: 12.711861 fps device: 'cuda' - 1 GPU(s) will be used
None
number of people :  1
bbox : 
 [[128  12 534 554]]
frame:    0 / 0 - framerate: 13.426198 fps device: 'cuda' - 1 GPU(s) will be used
None
number of people :  1
bbox : 
 [[431 102 855 668]]
frame:    0 / 0 - framerate: 12.164984 fps device: 'cuda' - 1 GPU(s) will be used
None
number of people :  0
bbox : 
 []
frame:    0 / -9223372036854775808 - framerate: 36.285104 fps device: 'cuda' - 1 GPU(s) will be used
None
number of people :  1
bbox : 
 [[ 96   0 586 627]]
frame:    0 / 0 - framerate: 12.148283 fps device: 'cuda' - 1 GPU(s) will be used
None
number of people :  1
bbox : 
 [[407  60 859 664]]
frame:    0 / 0 - framerate: 12.504409 fps device: 'cuda' - 1 GPU(s) will be used
None
number of people :  2
bbox : 
 [[273  67 545 431]
 [285 117 493 395]]
frame:    0 / 0 - framerate: 12.022989 fps device: 'cuda' - 1 GPU(s) will be used
None
number of people :  1
bbox : 
 [[145   5 447 407]]
frame:    0 / 0 - framerate: 11.687433 fps device: 'cuda' - 1 GPU(s) will be used
None
number of people :  1
bbox : 
 [[150   0 590 419]]
frame:    0 / 0 - framerate: 12.139844 fps device: 'cuda' - 1 GPU(s) will be used
None
number of people :  1
bbox : 
 [[142  44 451 456]]
frame:    0 / 0 - framerate: 13.340237 fps device: 'cuda' - 1 GPU(s) will be used
None
number of people :  1
bbox : 
 [[ 8  1 69 80]]
frame:    0 / 0 - framerate: 14.363956 fps device: 'cuda' - 1 GPU(s) will be used
None
number of people :  1
bbox : 
 [[ 12  33 580 791]]
frame:    0 / 0 - framerate: 12.176992 fps device: 'cuda' - 1 GPU(s) will be used
None
number of people :  0
bbox : 
 []
frame:    0 / -9223372036854775808 - framerate: 36.682094 fps device: 'cuda' - 1 GPU(s) will be used
None
number of people :  1
bbox : 
 [[ 189  122  867 1027]]
frame:    0 / 0 - framerate: 11.414656 fps device: 'cuda' - 1 GPU(s) will be used
None
number of people :  1
bbox : 
 [[359  73 811 677]]
frame:    0 / 0 - framerate: 12.995560 fps device: 'cuda' - 1 GPU(s) will be used
None
number of people :  1
bbox : 
 [[168  39 440 402]]
frame:    0 / 0 - framerate: 13.274710 fps device: 'cuda' - 1 GPU(s) will be used
None
number of people :  1
bbox : 
 [[268  99 526 443]]
frame:    0 / -9223372036854775808 - framerate: 12.919225 fps device: 'cuda' - 1 GPU(s) will be used
None
number of people :  1
bbox : 
 [[142  44 451 456]]
frame:    0 / 0 - framerate: 13.295835 fps device: 'cuda' - 1 GPU(s) will be used
None
number of people :  1
bbox : 
 [[ 189  122  867 1027]]
frame:    0 / 0 - framerate: 11.457687 fps device: 'cuda' - 1 GPU(s) will be used
None
number of people :  0
bbox : 
 []
frame:    0 / -9223372036854775808 - framerate: 33.167041 fps device: 'cuda' - 1 GPU(s) will be used
None
number of people :  1
bbox : 
 [[ 12  33 580 791]]
frame:    0 / 0 - framerate: 10.170525 fps device: 'cuda' - 1 GPU(s) will be used
None
number of people :  1
bbox : 
 [[ 8  1 69 80]]
frame:    0 / 0 - framerate: 12.156346 fps device: 'cuda' - 1 GPU(s) will be used
None
number of people :  1
bbox : 
 [[268  99 526 443]]
frame:    0 / -9223372036854775808 - framerate: 11.507701 fps device: 'cuda' - 1 GPU(s) will be used
None
number of people :  1
bbox : 
 [[ 66  42 384 466]]
frame:    0 / 0 - framerate: 13.648890 fps device: 'cuda' - 1 GPU(s) will be used
[mjpeg @ 0x3fa4180] error dc
[mjpeg @ 0x3fa4180] error y=28 x=37
None
number of people :  1
bbox : 
 [[232 133 366 313]]
frame:    0 / 0 - framerate: 14.121855 fps device: 'cuda' - 1 GPU(s) will be used
None
number of people :  1
bbox : 
 [[189   0 802 720]]
frame:    0 / 0 - framerate: 11.694537 fps device: 'cuda' - 1 GPU(s) will be used
None
number of people :  1
bbox : 
 [[195   0 580 504]]
frame:    0 / 0 - framerate: 12.683646 fps device: 'cuda' - 1 GPU(s) will be used
None
number of people :  1
bbox : 
 [[110 316 541 890]]
frame:    0 / 0 - framerate: 12.407568 fps device: 'cuda' - 1 GPU(s) will be used
None
number of people :  0
bbox : 
 []
frame:    0 / 0 - framerate: 36.782138 fps device: 'cuda' - 1 GPU(s) will be used
None
number of people :  1
bbox : 
 [[ 266  165  977 1113]]
frame:    0 / 0 - framerate: 10.579868 fps device: 'cuda' - 1 GPU(s) will be used
None
number of people :  1
bbox : 
 [[ 98  63 423 495]]
frame:    0 / 0 - framerate: 13.193411 fps device: 'cuda' - 1 GPU(s) will be used
None
number of people :  1
bbox : 
 [[160   0 500 315]]
frame:    0 / 0 - framerate: 11.538155 fps device: 'cuda' - 1 GPU(s) will be used
None
number of people :  1
bbox : 
 [[ 77   2 286 276]]
frame:    0 / 0 - framerate: 12.234641 fps device: 'cuda' - 1 GPU(s) will be used
None
number of people :  1
bbox : 
 [[201 251 745 960]]
frame:    0 / 0 - framerate: 10.745891 fps device: 'cuda' - 1 GPU(s) will be used
None
number of people :  1
bbox : 
 [[395  35 989 827]]
frame:    0 / 0 - framerate: 10.297041 fps device: 'cuda' - 1 GPU(s) will be used
None
number of people :  1
bbox : 
 [[1395  640 3217 3069]]
frame:    0 / 0 - framerate: 4.008291 fps device: 'cuda' - 1 GPU(s) will be used
None
number of people :  1
bbox : 
 [[ 34 163 288 501]]
frame:    0 / 0 - framerate: 12.146383 fps device: 'cuda' - 1 GPU(s) will be used
None
number of people :  12
bbox : 
 [[ 99 138 289 392]
 [301 163 443 352]
 [391 172 507 326]
 [221 180 297 282]
 [453 171 549 300]
 [ 99 187 175 289]
 [  9 188 109 323]
 [522 172 612 293]
 [264 181 320 255]
 [ 90 194 138 259]
 [  0 185  60 290]
 [384 178 448 263]]
frame:    0 / 0 - framerate: 4.477893 fps device: 'cuda' - 1 GPU(s) will be used
None
number of people :  1
bbox : 
 [[ 17   0 634 496]]
frame:    0 / 0 - framerate: 12.872597 fps device: 'cuda' - 1 GPU(s) will be used
None
number of people :  1
bbox : 
 [[467 131 797 571]]
frame:    0 / 0 - framerate: 13.027852 fps device: 'cuda' - 1 GPU(s) will be used
None
number of people :  1
bbox : 
 [[1502  259 2623 1753]]
frame:    0 / 0 - framerate: 6.214640 fps device: 'cuda' - 1 GPU(s) will be used
None
number of people :  1
bbox : 
 [[160   0 500 315]]
frame:    0 / 0 - framerate: 13.818052 fps device: 'cuda' - 1 GPU(s) will be used
None
number of people :  1
bbox : 
 [[ 77   2 286 276]]
frame:    0 / 0 - framerate: 14.072296 fps device: 'cuda' - 1 GPU(s) will be used
None
number of people :  1
bbox : 
 [[1395  640 3217 3069]]
frame:    0 / 0 - framerate: 3.840730 fps device: 'cuda' - 1 GPU(s) will be used
None
number of people :  1
bbox : 
 [[ 34 163 288 501]]
frame:    0 / 0 - framerate: 11.758269 fps device: 'cuda' - 1 GPU(s) will be used
None
number of people :  1
bbox : 
 [[395  35 989 827]]
frame:    0 / 0 - framerate: 10.054015 fps device: 'cuda' - 1 GPU(s) will be used
None
number of people :  5
bbox : 
 [[  16  692  335 1080]
 [ 390  682  759 1080]
 [ 781  733 1056 1080]
 [  47  156  333  536]
 [ 378  113  710  555]]
frame:    0 / 0 - framerate: 6.465159 fps device: 'cuda' - 1 GPU(s) will be used
None
number of people :  1
bbox : 
 [[ 31   0 489 346]]
frame:    0 / 0 - framerate: 12.268244 fps device: 'cuda' - 1 GPU(s) will be used
None
number of people :  1
bbox : 
 [[ 82 156 264 400]]
frame:    0 / 0 - framerate: 13.169136 fps device: 'cuda' - 1 GPU(s) will be used
None
number of people :  1
bbox : 
 [[ 927  146 2488 2226]]
frame:    0 / 0 - framerate: 5.484851 fps device: 'cuda' - 1 GPU(s) will be used
None
number of people :  1
bbox : 
 [[467 131 797 571]]
frame:    0 / 0 - framerate: 12.794768 fps device: 'cuda' - 1 GPU(s) will be used
None
number of people :  1
bbox : 
 [[241  62 503 410]]
frame:    0 / 0 - framerate: 12.996929 fps device: 'cuda' - 1 GPU(s) will be used
None
number of people :  1
bbox : 
 [[222  35 514 424]]
frame:    0 / 0 - framerate: 13.313011 fps device: 'cuda' - 1 GPU(s) will be used
None
number of people :  0
bbox : 
 []
frame:    0 / 0 - framerate: 35.260475 fps device: 'cuda' - 1 GPU(s) will be used
None
number of people :  1
bbox : 
 [[10  0 67 76]]
frame:    0 / -9223372036854775808 - framerate: 14.452552 fps device: 'cuda' - 1 GPU(s) will be used
None
number of people :  1
bbox : 
 [[159   0 515 474]]
frame:    0 / 0 - framerate: 10.903302 fps device: 'cuda' - 1 GPU(s) will be used
None
number of people :  1
bbox : 
 [[237  37 531 429]]
frame:    0 / 0 - framerate: 12.392355 fps device: 'cuda' - 1 GPU(s) will be used
None
number of people :  1
bbox : 
 [[ 40 198 573 908]]
frame:    0 / 0 - framerate: 12.171515 fps device: 'cuda' - 1 GPU(s) will be used
None
number of people :  1
bbox : 
 [[125  78 282 286]]
frame:    0 / 0 - framerate: 13.146516 fps device: 'cuda' - 1 GPU(s) will be used
None
number of people :  1
bbox : 
 [[239  28 501 377]]
frame:    0 / 0 - framerate: 12.653646 fps device: 'cuda' - 1 GPU(s) will be used
None
number of people :  1
bbox : 
 [[159   0 515 474]]
frame:    0 / 0 - framerate: 12.259602 fps device: 'cuda' - 1 GPU(s) will be used
None
number of people :  1
bbox : 
 [[114   0 372 342]]
frame:    0 / 0 - framerate: 13.605943 fps device: 'cuda' - 1 GPU(s) will be used
None
number of people :  1
bbox : 
 [[237  37 531 429]]
frame:    0 / 0 - framerate: 13.309209 fps device: 'cuda' - 1 GPU(s) will be used
None
number of people :  1
bbox : 
 [[ 40 198 573 908]]
frame:    0 / 0 - framerate: 12.689133 fps device: 'cuda' - 1 GPU(s) will be used
None
number of people :  1
bbox : 
 [[125  78 282 286]]
frame:    0 / 0 - framerate: 14.103668 fps device: 'cuda' - 1 GPU(s) will be used
None
number of people :  1
bbox : 
 [[ 40  74 292 410]]
frame:    0 / 0 - framerate: 13.933361 fps device: 'cuda' - 1 GPU(s) will be used
None
number of people :  1
bbox : 
 [[  0  79 511 771]]
frame:    0 / 0 - framerate: 11.426940 fps device: 'cuda' - 1 GPU(s) will be used
None
number of people :  1
bbox : 
 [[ 1  0 79 80]]
frame:    0 / 0 - framerate: 13.018754 fps device: 'cuda' - 1 GPU(s) will be used
None
number of people :  1
bbox : 
 [[ 803  258 1155  720]]
frame:    0 / 0 - framerate: 11.898971 fps device: 'cuda' - 1 GPU(s) will be used
None
number of people :  1
bbox : 
 [[234   0 998 675]]
frame:    0 / 0 - framerate: 11.847547 fps device: 'cuda' - 1 GPU(s) will be used
None
number of people :  1
bbox : 
 [[ 4  0 72 80]]
frame:    0 / 0 - framerate: 14.533278 fps device: 'cuda' - 1 GPU(s) will be used
None
number of people :  1
bbox : 
 [[467 131 797 571]]
frame:    0 / 0 - framerate: 13.235543 fps device: 'cuda' - 1 GPU(s) will be used
None
number of people :  0
bbox : 
 []
frame:    0 / 0 - framerate: 28.080714 fps device: 'cuda' - 1 GPU(s) will be used
None
number of people :  1
bbox : 
 [[138  57 532 582]]
frame:    0 / 0 - framerate: 13.114864 fps device: 'cuda' - 1 GPU(s) will be used
None
number of people :  1
bbox : 
 [[ 44  34 127 144]]
frame:    0 / 0 - framerate: 14.226660 fps device: 'cuda' - 1 GPU(s) will be used
None
number of people :  1
bbox : 
 [[239  28 501 377]]
frame:    0 / 0 - framerate: 13.139885 fps device: 'cuda' - 1 GPU(s) will be used
None
number of people :  1
bbox : 
 [[124   2 455 400]]
frame:    0 / 0 - framerate: 13.749337 fps device: 'cuda' - 1 GPU(s) will be used
None
number of people :  1
bbox : 
 [[186  49 541 521]]
frame:    0 / 0 - framerate: 13.112814 fps device: 'cuda' - 1 GPU(s) will be used
None
number of people :  1
bbox : 
 [[126   0 738 772]]
frame:    0 / 0 - framerate: 12.155183 fps device: 'cuda' - 1 GPU(s) will be used
None
number of people :  1
bbox : 
 [[ 17  30 321 436]]
frame:    0 / 0 - framerate: 12.626296 fps device: 'cuda' - 1 GPU(s) will be used
None
number of people :  1
bbox : 
 [[167   0 474 400]]
frame:    0 / 0 - framerate: 11.311652 fps device: 'cuda' - 1 GPU(s) will be used
None
number of people :  0
bbox : 
 []
frame:    0 / 0 - framerate: 34.130834 fps device: 'cuda' - 1 GPU(s) will be used
None
number of people :  1
bbox : 
 [[ 70 161 296 461]]
frame:    0 / 0 - framerate: 12.619192 fps 
In [66]:
for i in range(len(img_list_path03)):
    !python3 scripts/extract-keypoints.py \
      --filename {img_list_path03[i]} \
      --format json \
      --hrnet_weights weights/pose_hrnet_w48_384x288.pth \
      --json_output_filename {json_list_path03[i]}

device: 'cuda' - 1 GPU(s) will be used
None
number of people :  2
bbox : 
 [[100   3 241 191]
 [  0  14 242 523]]
frame:    0 / -9223372036854775808 - framerate: 11.100418 fps device: 'cuda' - 1 GPU(s) will be used
None
number of people :  1
bbox : 
 [[ 534  230 1712 1802]]
frame:    0 / 0 - framerate: 8.211792 fps device: 'cuda' - 1 GPU(s) will be used
None
number of people :  1
bbox : 
 [[   0  121  663 1020]]
frame:    0 / 0 - framerate: 10.853167 fps device: 'cuda' - 1 GPU(s) will be used
None
number of people :  1
bbox : 
 [[  78  168 1000 1432]]
frame:    0 / 0 - framerate: 9.177607 fps device: 'cuda' - 1 GPU(s) will be used
None
number of people :  1
bbox : 
 [[ 985   80 2229 1738]]
frame:    0 / 0 - framerate: 7.668463 fps device: 'cuda' - 1 GPU(s) will be used
None
number of people :  1
bbox : 
 [[   0  116 1331 1966]]
frame:    0 / 0 - framerate: 8.083161 fps device: 'cuda' - 1 GPU(s) will be used
None
number of people :  1
bbox : 
 [[   0  135 1545 2261]]
frame:    0 / 0 - framerate: 6.263998 fps device: 'cuda' - 1 GPU(s) will be used
None
number of people :  1
bbox : 
 [[ 199  391 2271 3153]]
frame:    0 / 0 - framerate: 4.167412 fps device: 'cuda' - 1 GPU(s) will be used
None
number of people :  1
bbox : 
 [[   0  165 1257 1932]]
frame:    0 / 0 - framerate: 8.495085 fps device: 'cuda' - 1 GPU(s) will be used
None
number of people :  1
bbox : 
 [[303  61 989 975]]
frame:    0 / 0 - framerate: 9.760278 fps device: 'cuda' - 1 GPU(s) will be used
None
number of people :  1
bbox : 
 [[1995  323 4039 3049]]
frame:    0 / 0 - framerate: 2.721621 fps device: 'cuda' - 1 GPU(s) will be used
None
number of people :  1
bbox : 
 [[  0  96 556 837]]
frame:    0 / 0 - framerate: 10.906789 fps device: 'cuda' - 1 GPU(s) will be used
None
number of people :  1
bbox : 
 [[ 534   37 1012  676]]
frame:    0 / 0 - framerate: 11.473013 fps device: 'cuda' - 1 GPU(s) will be used
None
number of people :  1
bbox : 
 [[  29  199 1371 1988]]
frame:    0 / 0 - framerate: 8.251874 fps device: 'cuda' - 1 GPU(s) will be used
None
number of people :  1
bbox : 
 [[202 106 722 801]]
frame:    0 / 0 - framerate: 11.612973 fps device: 'cuda' - 1 GPU(s) will be used
None
number of people :  1
bbox : 
 [[ 20  44 333 464]]
frame:    0 / 0 - framerate: 12.671843 fps device: 'cuda' - 1 GPU(s) will be used
None
number of people :  1
bbox : 
 [[   0  135 1091 1658]]
frame:    0 / 0 - framerate: 7.760920 fps device: 'cuda' - 1 GPU(s) will be used
None
number of people :  1
bbox : 
 [[ 190   44 1018 1148]]
frame:    0 / 0 - framerate: 10.048211 fps device: 'cuda' - 1 GPU(s) will be used
None
number of people :  1
bbox : 
 [[340   0 939 720]]
frame:    0 / 0 - framerate: 11.356983 fps device: 'cuda' - 1 GPU(s) will be used
None
number of people :  1
bbox : 
 [[352  36 724 533]]
frame:    0 / 0 - framerate: 12.465685 fps device: 'cuda' - 1 GPU(s) will be used
None
number of people :  1
bbox : 
 [[1278  457 3028 2792]]
frame:    0 / -9223372036854775808 - framerate: 2.562066 fps device: 'cuda' - 1 GPU(s) will be used
None
number of people :  1
bbox : 
 [[337  54 783 648]]
frame:    0 / 0 - framerate: 10.382146 fps device: 'cuda' - 1 GPU(s) will be used
None
number of people :  1
bbox : 
 [[ 168   27 1030 1178]]
frame:    0 / 0 - framerate: 8.798790 fps device: 'cuda' - 1 GPU(s) will be used
None
number of people :  1
bbox : 
 [[ 981  195 2199 1819]]
frame:    0 / 0 - framerate: 7.756256 fps device: 'cuda' - 1 GPU(s) will be used
None
number of people :  1
bbox : 
 [[  0  37 670 949]]
frame:    0 / 0 - framerate: 10.307137 fps device: 'cuda' - 1 GPU(s) will be used
None
number of people :  1
bbox : 
 [[ 33  31 450 592]]
frame:    0 / 0 - framerate: 12.193453 fps device: 'cuda' - 1 GPU(s) will be used
None
number of people :  1
bbox : 
 [[306  11 674 503]]
frame:    0 / 0 - framerate: 12.373600 fps device: 'cuda' - 1 GPU(s) will be used
None
number of people :  1
bbox : 
 [[ 82  51 370 436]]
frame:    0 / 0 - framerate: 12.573118 fps device: 'cuda' - 1 GPU(s) will be used
None
number of people :  1
bbox : 
 [[116  24 482 513]]
frame:    0 / 0 - framerate: 13.612611 fps device: 'cuda' - 1 GPU(s) will be used
None
number of people :  1
bbox : 
 [[ 24  34 327 457]]
frame:    0 / 0 - framerate: 13.657512 fps device: 'cuda' - 1 GPU(s) will be used
None
number of people :  1
bbox : 
 [[189  12 475 395]]
frame:    0 / 0 - framerate: 13.780914 fps device: 'cuda' - 1 GPU(s) will be used
None
number of people :  1
bbox : 
 [[   0  221 3456 5003]]
frame:    0 / 0 - framerate: 2.176470 fps device: 'cuda' - 1 GPU(s) will be used
None
number of people :  1
bbox : 
 [[  0  63 508 748]]
frame:    0 / 0 - framerate: 12.678125 fps device: 'cuda' - 1 GPU(s) will be used
None
number of people :  1
bbox : 
 [[ 649  174 2597 2773]]
frame:    0 / 0 - framerate: 4.216292 fps device: 'cuda' - 1 GPU(s) will be used
None
number of people :  1
bbox : 
 [[156   7 722 761]]
frame:    0 / 0 - framerate: 11.873707 fps device: 'cuda' - 1 GPU(s) will be used
None
number of people :  1
bbox : 
 [[   0   41  622 1072]]
frame:    0 / 0 - framerate: 11.917736 fps device: 'cuda' - 1 GPU(s) will be used
None
number of people :  1
bbox : 
 [[ 177   22 1251 1455]]
frame:    0 / 0 - framerate: 7.911363 fps device: 'cuda' - 1 GPU(s) will be used
None
number of people :  1
bbox : 
 [[  9  46 545 760]]
frame:    0 / 0 - framerate: 12.201647 fps device: 'cuda' - 1 GPU(s) will be used
None
number of people :  1
bbox : 
 [[143   3 429 384]]
frame:    0 / 0 - framerate: 13.863635 fps device: 'cuda' - 1 GPU(s) will be used
None
number of people :  1
bbox : 
 [[1263  216 3763 3551]]
frame:    0 / 0 - framerate: 2.554241 fps device: 'cuda' - 1 GPU(s) will be used
None
number of people :  1
bbox : 
 [[ 158  153  816 1032]]
frame:    0 / 0 - framerate: 8.088649 fps device: 'cuda' - 1 GPU(s) will be used
None
number of people :  1
bbox : 
 [[136  44 812 945]]
frame:    0 / 0 - framerate: 11.192690 fps device: 'cuda' - 1 GPU(s) will be used
None
number of people :  1
bbox : 
 [[372  24 724 495]]
frame:    0 / 0 - framerate: 13.136675 fps device: 'cuda' - 1 GPU(s) will be used
None
number of people :  1
bbox : 
 [[  0  53 384 577]]
frame:    0 / 0 - framerate: 13.178694 fps device: 'cuda' - 1 GPU(s) will be used
None
number of people :  1
bbox : 
 [[ 981  195 2199 1819]]
frame:    0 / 0 - framerate: 7.518884 fps device: 'cuda' - 1 GPU(s) will be used
None
number of people :  1
bbox : 
 [[ 64  30 362 427]]
frame:    0 / 0 - framerate: 13.914733 fps device: 'cuda' - 1 GPU(s) will be used
None
number of people :  1
bbox : 
 [[148  62 456 474]]
frame:    0 / 0 - framerate: 13.717052 fps device: 'cuda' - 1 GPU(s) will be used
None
number of people :  1
bbox : 
 [[270  41 658 558]]
frame:    0 / 0 - framerate: 12.768088 fps device: 'cuda' - 1 GPU(s) will be used
None
number of people :  1
bbox : 
 [[1278  457 3028 2792]]
frame:    0 / -9223372036854775808 - framerate: 2.557563 fps device: 'cuda' - 1 GPU(s) will be used
None
number of people :  1
bbox : 
 [[ 897  209 2079 1786]]
frame:    0 / 0 - framerate: 7.103127 fps device: 'cuda' - 1 GPU(s) will be used
None
number of people :  1
bbox : 
 [[121  78 471 546]]
frame:    0 / 0 - framerate: 11.091553 fps device: 'cuda' - 1 GPU(s) will be used
None
number of people :  1
bbox : 
 [[156   7 722 761]]
frame:    0 / 0 - framerate: 10.359273 fps device: 'cuda' - 1 GPU(s) will be used
None
number of people :  1
bbox : 
 [[274  43 582 454]]
frame:    0 / -9223372036854775808 - framerate: 11.132532 fps device: 'cuda' - 1 GPU(s) will be used
None
number of people :  1
bbox : 
 [[ 190   44 1018 1148]]
frame:    0 / 0 - framerate: 10.405456 fps device: 'cuda' - 1 GPU(s) will be used
None
number of people :  1
bbox : 
 [[   0   94  695 1057]]
frame:    0 / 0 - framerate: 10.815358 fps device: 'cuda' - 1 GPU(s) will be used
None
number of people :  1
bbox : 
 [[ 44  60 492 658]]
frame:    0 / 0 - framerate: 12.535915 fps device: 'cuda' - 1 GPU(s) will be used
None
number of people :  2
bbox : 
 [[ 23  90 657 936]
 [308  61 490 304]]
frame:    0 / 0 - framerate: 10.638313 fps device: 'cuda' - 1 GPU(s) will be used
None
number of people :  1
bbox : 
 [[ 51  14 307 355]]
frame:    0 / 0 - framerate: 13.997951 fps device: 'cuda' - 1 GPU(s) will be used
None
number of people :  1
bbox : 
 [[116  24 482 513]]
frame:    0 / 0 - framerate: 13.644983 fps device: 'cuda' - 1 GPU(s) will be used
None
number of people :  1
bbox : 
 [[  0  63 508 748]]
frame:    0 / 0 - framerate: 12.800078 fps device: 'cuda' - 1 GPU(s) will be used
None
number of people :  0
bbox : 
 []
frame:    0 / 0 - framerate: 29.555668 fps device: 'cuda' - 1 GPU(s) will be used
None
number of people :  1
bbox : 
 [[  0  96 556 837]]
frame:    0 / 0 - framerate: 11.000789 fps device: 'cuda' - 1 GPU(s) will be used
None
number of people :  1
bbox : 
 [[ 65  46 297 355]]
frame:    0 / 0 - framerate: 12.092803 fps device: 'cuda' - 1 GPU(s) will be used
None
number of people :  1
bbox : 
 [[444  36 930 684]]
frame:    0 / 0 - framerate: 12.629870 fps device: 'cuda' - 1 GPU(s) will be used
None
number of people :  1
bbox : 
 [[136   8 472 456]]
frame:    0 / 0 - framerate: 13.679918 fps device: 'cuda' - 1 GPU(s) will be used
None
number of people :  1
bbox : 
 [[  0  77 438 852]]
frame:    0 / 0 - framerate: 12.643042 fps device: 'cuda' - 1 GPU(s) will be used
None
number of people :  1
bbox : 
 [[ 73  81 477 621]]
frame:    0 / 0 - framerate: 13.158064 fps device: 'cuda' - 1 GPU(s) will be used
None
number of people :  1
bbox : 
 [[   0  116 1331 1966]]
frame:    0 / 0 - framerate: 8.789294 fps device: 'cuda' - 1 GPU(s) will be used
None
number of people :  1
bbox : 
 [[  0  63 364 563]]
frame:    0 / -9223372036854775808 - framerate: 12.130610 fps device: 'cuda' - 1 GPU(s) will be used
None
number of people :  1
bbox : 
 [[187  34 465 404]]
frame:    0 / 0 - framerate: 13.415505 fps device: 'cuda' - 1 GPU(s) will be used
None
number of people :  1
bbox : 
 [[  61  156 1023 1457]]
frame:    0 / 0 - framerate: 10.350786 fps device: 'cuda' - 1 GPU(s) will be used
None
number of people :  1
bbox : 
 [[  0  51 634 925]]
frame:    0 / 0 - framerate: 12.272946 fps device: 'cuda' - 1 GPU(s) will be used
None
number of people :  1
bbox : 
 [[ 177   22 1251 1455]]
frame:    0 / 0 - framerate: 7.443480 fps device: 'cuda' - 1 GPU(s) will be used
None
number of people :  1
bbox : 
 [[1263  216 3763 3551]]
frame:    0 / 0 - framerate: 2.405119 fps device: 'cuda' - 1 GPU(s) will be used
None
number of people :  1
bbox : 
 [[  0  37 670 949]]
frame:    0 / 0 - framerate: 9.964492 fps device: 'cuda' - 1 GPU(s) will be used
None
number of people :  1
bbox : 
 [[ 87  80 297 361]]
frame:    0 / 0 - framerate: 11.861921 fps device: 'cuda' - 1 GPU(s) will be used
None
number of people :  1
bbox : 
 [[  55  121  750 1076]]
frame:    0 / 0 - framerate: 10.177237 fps device: 'cuda' - 1 GPU(s) will be used
None
number of people :  1
bbox : 
 [[ 71  61 405 508]]
frame:    0 / 0 - framerate: 11.358213 fps device: 'cuda' - 1 GPU(s) will be used
None
number of people :  1
bbox : 
 [[125  64 431 472]]
frame:    0 / 0 - framerate: 11.448774 fps device: 'cuda' - 1 GPU(s) will be used
None
number of people :  3
bbox : 
 [[190 222 264 321]
 [ 41  43 165 208]
 [158  72 251 196]]
frame:    0 / 0 - framerate: 9.704252 fps device: 'cuda' - 1 GPU(s) will be used
None
number of people :  1
bbox : 
 [[ 58  28 336 399]]
frame:    0 / 0 - framerate: 13.730343 fps device: 'cuda' - 1 GPU(s) will be used
None
number of people :  1
bbox : 
 [[ 49  64 566 786]]
frame:    0 / 0 - framerate: 12.504297 fps device: 'cuda' - 1 GPU(s) will be used
None
number of people :  1
bbox : 
 [[ 329  607 2029 2873]]
frame:    0 / 0 - framerate: 5.847953 fps device: 'cuda' - 1 GPU(s) will be used
None
number of people :  1
bbox : 
 [[ 51  14 307 355]]
frame:    0 / 0 - framerate: 14.058711 fps device: 'cuda' - 1 GPU(s) will be used
None
number of people :  1
bbox : 
 [[187  34 465 404]]
frame:    0 / 0 - framerate: 11.819136 fps device: 'cuda' - 1 GPU(s) will be used
None
number of people :  1
bbox : 
 [[ 82  28 360 399]]
frame:    0 / 0 - framerate: 12.403862 fps device: 'cuda' - 1 GPU(s) will be used
None
number of people :  1
bbox : 
 [[273  49 581 460]]
frame:    0 / -9223372036854775808 - framerate: 12.403092 fps device: 'cuda' - 1 GPU(s) will be used
None
number of people :  1
bbox : 
 [[444  36 930 684]]
frame:    0 / 0 - framerate: 12.914213 fps device: 'cuda' - 1 GPU(s) will be used
None
number of people :  1
bbox : 
 [[ 452   53 1140  972]]
frame:    0 / 0 - framerate: 9.559863 fps device: 'cuda' - 1 GPU(s) will be used
None
number of people :  1
bbox : 
 [[ 41  41 381 495]]
frame:    0 / 0 - framerate: 13.386689 fps device: 'cuda' - 1 GPU(s) will be used
None
number of people :  1
bbox : 
 [[ 700  105 1374 1004]]
frame:    0 / -9223372036854775808 - framerate: 8.758533 fps device: 'cuda' - 1 GPU(s) will be used
None
number of people :  1
bbox : 
 [[   0   94  695 1057]]
frame:    0 / 0 - framerate: 11.700605 fps device: 'cuda' - 1 GPU(s) will be used
None
number of people :  1
bbox : 
 [[319 131 885 885]]
frame:    0 / 0 - framerate: 11.307413 fps device: 'cuda' - 1 GPU(s) will be used
None
number of people :  2
bbox : 
 [[ 564    0 1022  612]
 [  36  106  420  618]]
frame:    0 / 0 - framerate: 11.243698 fps device: 'cuda' - 1 GPU(s) will be used
None
number of people :  1
bbox : 
 [[ 71  61 405 508]]
frame:    0 / 0 - framerate: 13.418466 fps device: 'cuda' - 1 GPU(s) will be used
None
number of people :  1
bbox : 
 [[ 34  40 361 476]]
frame:    0 / 0 - framerate: 12.960223 fps device: 'cuda' - 1 GPU(s) will be used
None
number of people :  3
bbox : 
 [[ 93 102 329 418]
 [385 450 533 649]
 [321 147 512 401]]
frame:    0 / 0 - framerate: 9.138674 fps device: 'cuda' - 1 GPU(s) will be used
None
number of people :  1
bbox : 
 [[297  63 645 527]]
frame:    0 / 0 - framerate: 11.442496 fps device: 'cuda' - 1 GPU(s) will be used
None
number of people :  1
bbox : 
 [[ 37  95 635 893]]
frame:    0 / 0 - framerate: 10.829768 fps device: 'cuda' - 1 GPU(s) will be used
None
number of people :  0
bbox : 
 []
frame:    0 / 0 - framerate: 27.062645 fps device: 'cuda' - 1 GPU(s) will be used
None
number of people :  1
bbox : 
 [[136  44 812 945]]
frame:    0 / 0 - framerate: 10.050426 fps device: 'cuda' - 1 GPU(s) will be used
None
number of people :  1
bbox : 
 [[  45  148 1363 1905]]
frame:    0 / 0 - framerate: 7.677516 fps device: 'cuda' - 1 GPU(s) will be used
None
number of people :  1
bbox : 
 [[ 44  59 492 658]]
frame:    0 / 0 - framerate: 10.776926 fps device: 'cuda' - 1 GPU(s) will be used
None
number of people :  1
bbox : 
 [[ 169  816 2319 3682]]
frame:    0 / 0 - framerate: 3.896770 fps device: 'cuda' - 1 GPU(s) will be used
None
number of people :  1
bbox : 
 [[374  17 850 652]]
frame:    0 / 0 - framerate: 10.151054 fps device: 'cuda' - 1 GPU(s) will be used
None
number of people :  1
bbox : 
 [[   0   86  863 1241]]
frame:    0 / 0 - framerate: 10.322967 fps device: 'cuda' - 1 GPU(s) will be used
None
number of people :  0
bbox : 
 []
frame:    0 / 0 - framerate: 31.398016 fps device: 'cuda' - 1 GPU(s) will be used
None
number of people :  1
bbox : 
 [[ 25  68 233 346]]
frame:    0 / 0 - framerate: 13.472905 fps device: 'cuda' - 1 GPU(s) will be used
None
number of people :  1
bbox : 
 [[188  26 408 319]]
frame:    0 / 0 - framerate: 13.488850 fps device: 'cuda' - 1 GPU(s) will be used
None
number of people :  1
bbox : 
 [[  30   67  832 1138]]
frame:    0 / 0 - framerate: 10.047513 fps device: 'cuda' - 1 GPU(s) will be used
None
number of people :  1
bbox : 
 [[ 88  81 296 360]]
frame:    0 / 0 - framerate: 13.775212 fps device: 'cuda' - 1 GPU(s) will be used
None
number of people :  1
bbox : 
 [[420  76 872 678]]
frame:    0 / 0 - framerate: 12.996849 fps device: 'cuda' - 1 GPU(s) will be used
None
number of people :  1
bbox : 
 [[316  33 782 656]]
frame:    0 / 0 - framerate: 12.544501 fps device: 'cuda' - 1 GPU(s) will be used
None
number of people :  1
bbox : 
 [[  0  17 218 326]]
frame:    0 / 0 - framerate: 14.155456 fps device: 'cuda' - 1 GPU(s) will be used
[mjpeg @ 0x490ab00] error y=100 x=91
None
number of people :  1
bbox : 
 [[1759  845 2895 2360]]
frame:    0 / 0 - framerate: 4.450110 fps device: 'cuda' - 1 GPU(s) will be used
None
number of people :  1
bbox : 
 [[ 25  68 233 346]]
frame:    0 / 0 - framerate: 13.872530 fps device: 'cuda' - 1 GPU(s) will be used
None
number of people :  1
bbox : 
 [[   0   94  695 1057]]
frame:    0 / 0 - framerate: 10.073695 fps device: 'cuda' - 1 GPU(s) will be used
None
number of people :  1
bbox : 
 [[ 34  40 361 476]]
frame:    0 / 0 - framerate: 11.687237 fps device: 'cuda' - 1 GPU(s) will be used
None
number of people :  1
bbox : 
 [[316  33 782 656]]
frame:    0 / 0 - framerate: 11.053612 fps device: 'cuda' - 1 GPU(s) will be used
None
number of people :  1
bbox : 
 [[ 41  18 337 413]]
frame:    0 / 0 - framerate: 11.959192 fps device: 'cuda' - 1 GPU(s) will be used
None
number of people :  1
bbox : 
 [[   0  119  674 1048]]
frame:    0 / 0 - framerate: 11.230752 fps device: 'cuda' - 1 GPU(s) will be used
None
number of people :  1
bbox : 
 [[420  76 872 678]]
frame:    0 / 0 - framerate: 12.909960 fps device: 'cuda' - 1 GPU(s) will be used
None
number of people :  2
bbox : 
 [[ 564    0 1022  612]
 [  36  106  420  618]]
frame:    0 / 0 - framerate: 11.213427 fps device: 'cuda' - 1 GPU(s) will be used
None
number of people :  1
bbox : 
 [[   0  233  746 1240]]
frame:    0 / 0 - framerate: 10.984224 fps device: 'cuda' - 1 GPU(s) will be used
None
number of people :  1
bbox : 
 [[ 37  95 635 893]]
frame:    0 / 0 - framerate: 12.668628 fps device: 'cuda' - 1 GPU(s) will be used
None
number of people :  0
bbox : 
 []
frame:    0 / 0 - framerate: 29.314193 fps device: 'cuda' - 1 GPU(s) will be used
None
number of people :  1
bbox : 
 [[407 127 719 543]]
frame:    0 / 0 - framerate: 13.329427 fps device: 'cuda' - 1 GPU(s) will be used
None
number of people :  1
bbox : 
 [[297  63 645 527]]
frame:    0 / 0 - framerate: 13.473901 fps device: 'cuda' - 1 GPU(s) will be used
None
number of people :  1
bbox : 
 [[136  44 812 945]]
frame:    0 / 0 - framerate: 9.415648 fps device: 'cuda' - 1 GPU(s) will be used
None
number of people :  1
bbox : 
 [[  45  148 1363 1905]]
frame:    0 / 0 - framerate: 7.235925 fps device: 'cuda' - 1 GPU(s) will be used
None
number of people :  1
bbox : 
 [[ 44  59 492 658]]
frame:    0 / 0 - framerate: 10.815944 fps device: 'cuda' - 1 GPU(s) will be used
None
number of people :  1
bbox : 
 [[ 700  105 1374 1004]]
frame:    0 / -9223372036854775808 - framerate: 7.735186 fps device: 'cuda' - 1 GPU(s) will be used
None
number of people :  1
bbox : 
 [[374  17 850 652]]
frame:    0 / 0 - framerate: 10.497176 fps device: 'cuda' - 1 GPU(s) will be used
None
number of people :  1
bbox : 
 [[   0   86  863 1241]]
frame:    0 / 0 - framerate: 9.290307 fps device: 'cuda' - 1 GPU(s) will be used
None
number of people :  0
bbox : 
 []
frame:    0 / 0 - framerate: 29.394520 fps device: 'cuda' - 1 GPU(s) will be used
None
number of people :  2
bbox : 
 [[  0  99 407 681]
 [202 233 533 683]]
frame:    0 / 0 - framerate: 9.987627 fps device: 'cuda' - 1 GPU(s) will be used
None
number of people :  1
bbox : 
 [[ 216  161 1004 1211]]
frame:    0 / 0 - framerate: 10.505274 fps device: 'cuda' - 1 GPU(s) will be used
None
number of people :  0
bbox : 
 []
frame:    0 / 0 - framerate: 26.648944 fps device: 'cuda' - 1 GPU(s) will be used
None
number of people :  1
bbox : 
 [[470  78 820 546]]
frame:    0 / 0 - framerate: 12.648952 fps device: 'cuda' - 1 GPU(s) will be used
None
number of people :  1
bbox : 
 [[ 484   28 1206  990]]
frame:    0 / 0 - framerate: 11.156696 fps device: 'cuda' - 1 GPU(s) will be used
None
number of people :  1
bbox : 
 [[246  49 588 506]]
frame:    0 / -9223372036854775808 - framerate: 11.572633 fps device: 'cuda' - 1 GPU(s) will be used
None
number of people :  1
bbox : 
 [[  7  29 236 345]]
frame:    0 / 0 - framerate: 14.158036 fps device: 'cuda' - 1 GPU(s) will be used
None
number of people :  1
bbox : 
 [[  0  20 255 364]]
frame:    0 / 0 - framerate: 13.721135 fps device: 'cuda' - 1 GPU(s) will be used
None
number of people :  1
bbox : 
 [[1310  123 1920  962]]
frame:    0 / -9223372036854775808 - framerate: 8.841524 fps device: 'cuda' - 1 GPU(s) will be used
None
number of people :  1
bbox : 
 [[   4  130 1326 1892]]
frame:    0 / 0 - framerate: 7.215448 fps device: 'cuda' - 1 GPU(s) will be used
None
number of people :  1
bbox : 
 [[  3  17 300 481]]
frame:    0 / -9223372036854775808 - framerate: 10.914055 fps device: 'cuda' - 1 GPU(s) will be used
None
number of people :  1
bbox : 
 [[ 256  182  874 1006]]
frame:    0 / 0 - framerate: 10.022112 fps device: 'cuda' - 1 GPU(s) will be used
None
number of people :  1
bbox : 
 [[ 16  20 148 196]]
frame:    0 / 0 - framerate: 13.602766 fps device: 'cuda' - 1 GPU(s) will be used
None
number of people :  1
bbox : 
 [[360  94 826 717]]
frame:    0 / 0 - framerate: 12.165584 fps device: 'cuda' - 1 GPU(s) will be used
None
number of people :  1
bbox : 
 [[   0  127  740 1716]]
frame:    0 / 0 - framerate: 9.751905 fps device: 'cuda' - 1 GPU(s) will be used
None
number of people :  2
bbox : 
 [[ 409  411  909 1079]
 [   0  218  634 1079]]
frame:    0 / 0 - framerate: 9.816289 fps device: 'cuda' - 1 GPU(s) will be used
None
number of people :  0
bbox : 
 []
frame:    0 / 0 - framerate: 6.781917 fps device: 'cuda' - 1 GPU(s) will be used
None
number of people :  1
bbox : 
 [[125  64 431 472]]
frame:    0 / 0 - framerate: 13.013503 fps device: 'cuda' - 1 GPU(s) will be used
None
number of people :  1
bbox : 
 [[400   8 914 695]]
frame:    0 / 0 - framerate: 12.989644 fps device: 'cuda' - 1 GPU(s) will be used
None
number of people :  1
bbox : 
 [[230  41 470 362]]
frame:    0 / -9223372036854775808 - framerate: 11.784004 fps device: 'cuda' - 1 GPU(s) will be used
None
number of people :  2
bbox : 
 [[  0  30 296 501]
 [412 194 550 396]]
frame:    0 / 0 - framerate: 12.044015 fps device: 'cuda' - 1 GPU(s) will be used
None
number of people :  1
bbox : 
 [[ 177  561 2579 3765]]
frame:    0 / 0 - framerate: 3.507668 fps device: 'cuda' - 1 GPU(s) will be used
None
number of people :  1
bbox : 
 [[  3  17 300 481]]
frame:    0 / -9223372036854775808 - framerate: 11.104885 fps device: 'cuda' - 1 GPU(s) will be used
None
number of people :  1
bbox : 
 [[407 127 719 543]]
frame:    0 / 0 - framerate: 11.307840 fps device: 'cuda' - 1 GPU(s) will be used
None
number of people :  1
bbox : 
 [[400   8 914 695]]
frame:    0 / 0 - framerate: 11.048924 fps device: 'cuda' - 1 GPU(s) will be used
None
number of people :  1
bbox : 
 [[125  64 431 472]]
frame:    0 / 0 - framerate: 11.573559 fps device: 'cuda' - 1 GPU(s) will be used
None
number of people :  1
bbox : 
 [[ 16  20 148 196]]
frame:    0 / 0 - framerate: 12.637595 fps device: 'cuda' - 1 GPU(s) will be used
None
number of people :  1
bbox : 
 [[   0  127  740 1716]]
frame:    0 / 0 - framerate: 10.531414 fps device: 'cuda' - 1 GPU(s) will be used
None
number of people :  1
bbox : 
 [[   0   62  858 1262]]
frame:    0 / 0 - framerate: 10.162885 fps device: 'cuda' - 1 GPU(s) will be used
None
number of people :  2
bbox : 
 [[ 409  411  909 1079]
 [   0  218  634 1079]]
frame:    0 / 0 - framerate: 9.494767 fps device: 'cuda' - 1 GPU(s) will be used
None
number of people :  1
bbox : 
 [[360  94 826 717]]
frame:    0 / 0 - framerate: 12.739235 fps device: 'cuda' - 1 GPU(s) will be used
None
number of people :  0
bbox : 
 []
frame:    0 / 0 - framerate: 6.941201 fps device: 'cuda' - 1 GPU(s) will be used
None
number of people :  1
bbox : 
 [[374  46 798 612]]
frame:    0 / 0 - framerate: 13.061770 fps device: 'cuda' - 1 GPU(s) will be used
None
number of people :  1
bbox : 
 [[ 256  182  874 1006]]
frame:    0 / 0 - framerate: 8.750676 fps device: 'cuda' - 1 GPU(s) will be used
None
number of people :  1
bbox : 
 [[ 873  177 3287 3397]]
frame:    0 / 0 - framerate: 2.299487 fps device: 'cuda' - 1 GPU(s) will be used
None
number of people :  1
bbox : 
 [[   0  233  746 1240]]
frame:    0 / 0 - framerate: 10.334871 fps device: 'cuda' - 1 GPU(s) will be used
None
number of people :  1
bbox : 
 [[121  78 471 546]]
frame:    0 / 0 - framerate: 12.162021 fps device: 'cuda' - 1 GPU(s) will be used
None
number of people :  1
bbox : 
 [[202  26 434 335]]
frame:    0 / 0 - framerate: 13.596989 fps device: 'cuda' - 1 GPU(s) will be used
None
number of people :  1
bbox : 
 [[502 195 864 677]]
frame:    0 / 0 - framerate: 12.668819 fps device: 'cuda' - 1 GPU(s) will be used
None
number of people :  2
bbox : 
 [[ 221  275  740 1002]
 [   0  239  520  996]]
frame:    0 / 0 - framerate: 10.188609 fps device: 'cuda' - 1 GPU(s) will be used
None
number of people :  1
bbox : 
 [[  0  48 263 510]]
frame:    0 / 0 - framerate: 13.555813 fps device: 'cuda' - 1 GPU(s) will be used
None
number of people :  1
bbox : 
 [[   0  191  943 1634]]
frame:    0 / 0 - framerate: 8.938124 fps device: 'cuda' - 1 GPU(s) will be used
None
number of people :  1
bbox : 
 [[  0   1 492 805]]
frame:    0 / -9223372036854775808 - framerate: 10.374596 fps device: 'cuda' - 1 GPU(s) will be used
None
number of people :  1
bbox : 
 [[ 15  35 245 362]]
frame:    0 / 0 - framerate: 13.832863 fps device: 'cuda' - 1 GPU(s) will be used
None
number of people :  1
bbox : 
 [[ 73  81 477 621]]
frame:    0 / 0 - framerate: 13.190009 fps device: 'cuda' - 1 GPU(s) will be used
None
number of people :  1
bbox : 
 [[ 205  237 1597 2048]]
frame:    0 / 0 - framerate: 7.534836 fps [mjpeg @ 0x4fc6280] mjpeg: error decoding EXIF data
device: 'cuda' - 1 GPU(s) will be used
[mjpeg @ 0x4fc5b80] mjpeg: error decoding EXIF data
None
number of people :  1
bbox : 
 [[320 163 864 888]]
frame:    0 / 0 - framerate: 10.397047 fps device: 'cuda' - 1 GPU(s) will be used
None
number of people :  1
bbox : 
 [[  0  31 205 374]]
frame:    0 / 0 - framerate: 12.186368 fps device: 'cuda' - 1 GPU(s) will be used
None
number of people :  1
bbox : 
 [[  0 104 553 859]]
frame:    0 / 0 - framerate: 11.870448 fps device: 'cuda' - 1 GPU(s) will be used
None
number of people :  1
bbox : 
 [[167  36 435 393]]
frame:    0 / 0 - framerate: 14.000988 fps device: 'cuda' - 1 GPU(s) will be used
None
number of people :  2
bbox : 
 [[  0  65 209 391]
 [126  77 321 346]]
frame:    0 / 0 - framerate: 12.194552 fps device: 'cuda' - 1 GPU(s) will be used
None
number of people :  1
bbox : 
 [[ 80  48 432 518]]
frame:    0 / 0 - framerate: 13.672070 fps device: 'cuda' - 1 GPU(s) will be used
None
number of people :  1
bbox : 
 [[148 262 620 892]]
frame:    0 / 0 - framerate: 12.948220 fps device: 'cuda' - 1 GPU(s) will be used
None
number of people :  1
bbox : 
 [[390  21 827 603]]
frame:    0 / 0 - framerate: 13.126438 fps device: 'cuda' - 1 GPU(s) will be used
None
number of people :  1
bbox : 
 [[295  27 529 340]]
frame:    0 / 0 - framerate: 13.885711 fps device: 'cuda' - 1 GPU(s) will be used
None
number of people :  1
bbox : 
 [[465 120 895 693]]
frame:    0 / 0 - framerate: 12.062719 fps device: 'cuda' - 1 GPU(s) will be used
None
number of people :  2
bbox : 
 [[  0 234 517 989]
 [271 252 740 972]]
frame:    0 / 0 - framerate: 10.235127 fps device: 'cuda' - 1 GPU(s) will be used
None
number of people :  1
bbox : 
 [[  0  21 153 243]]
frame:    0 / 0 - framerate: 14.153115 fps device: 'cuda' - 1 GPU(s) will be used
None
number of people :  1
bbox : 
 [[  0  30 184 280]]
frame:    0 / 0 - framerate: 14.285387 fps device: 'cuda' - 1 GPU(s) will be used
None
number of people :  1
bbox : 
 [[ 21  75 187 297]]
frame:    0 / 0 - framerate: 13.161243 fps device: 'cuda' - 1 GPU(s) will be used
None
number of people :  1
bbox : 
 [[  73   54  897 1154]]
frame:    0 / 0 - framerate: 8.941801 fps device: 'cuda' - 1 GPU(s) will be used
None
number of people :  1
bbox : 
 [[119 237 567 836]]
frame:    0 / 0 - framerate: 10.629686 fps device: 'cuda' - 1 GPU(s) will be used
None
number of people :  1
bbox : 
 [[ 177  561 2579 3765]]
frame:    0 / 0 - framerate: 3.701494 fps device: 'cuda' - 1 GPU(s) will be used
None
number of people :  1
bbox : 
 [[   0   84 1050 1770]]
frame:    0 / -9223372036854775808 - framerate: 6.931439 fps device: 'cuda' - 1 GPU(s) will be used
None
number of people :  1
bbox : 
 [[ 62  57 756 983]]
frame:    0 / 0 - framerate: 9.854436 fps device: 'cuda' - 1 GPU(s) will be used
None
number of people :  1
bbox : 
 [[245 449 477 759]]
frame:    0 / 0 - framerate: 11.487341 fps device: 'cuda' - 1 GPU(s) will be used
None
number of people :  1
bbox : 
 [[247  47 575 484]]
frame:    0 / -9223372036854775808 - framerate: 10.391535 fps device: 'cuda' - 1 GPU(s) will be used
None
number of people :  1
bbox : 
 [[119 222 701 998]]
frame:    0 / 0 - framerate: 10.442216 fps device: 'cuda' - 1 GPU(s) will be used
None
number of people :  1
bbox : 
 [[  0  40 193 583]]
frame:    0 / -9223372036854775808 - framerate: 12.969721 fps device: 'cuda' - 1 GPU(s) will be used
None
number of people :  1
bbox : 
 [[ 534  230 1712 1802]]
frame:    0 / 0 - framerate: 8.697761 fps device: 'cuda' - 1 GPU(s) will be used
None
number of people :  1
bbox : 
 [[1995  323 4039 3049]]
frame:    0 / 0 - framerate: 2.787337 fps device: 'cuda' - 1 GPU(s) will be used
None
number of people :  1
bbox : 
 [[ 873  177 3287 3397]]
frame:    0 / 0 - framerate: 2.259745 fps device: 'cuda' - 1 GPU(s) will be used
None
number of people :  1
bbox : 
 [[365   0 933 759]]
frame:    0 / 0 - framerate: 10.466946 fps device: 'cuda' - 1 GPU(s) will be used
None
number of people :  1
bbox : 
 [[   0  233  746 1240]]
frame:    0 / 0 - framerate: 10.652363 fps device: 'cuda' - 1 GPU(s) will be used
None
number of people :  1
bbox : 
 [[ 112  238  718 1047]]
frame:    0 / 0 - framerate: 11.353908 fps device: 'cuda' - 1 GPU(s) will be used
None
number of people :  1
bbox : 
 [[175  30 705 736]]
frame:    0 / 0 - framerate: 11.191854 fps device: 'cuda' - 1 GPU(s) will be used
None
number of people :  1
bbox : 
 [[ 32  54 714 964]]
frame:    0 / 0 - framerate: 11.401779 fps device: 'cuda' - 1 GPU(s) will be used
None
number of people :  1
bbox : 
 [[121  78 471 546]]
frame:    0 / 0 - framerate: 12.271367 fps device: 'cuda' - 1 GPU(s) will be used
None
number of people :  1
bbox : 
 [[ 122  104 1040 1328]]
frame:    0 / 0 - framerate: 10.288907 fps device: 'cuda' - 1 GPU(s) will be used
None
number of people :  1
bbox : 
 [[ 287  408  843 1149]]
frame:    0 / 0 - framerate: 11.431985 fps device: 'cuda' - 1 GPU(s) will be used
None
number of people :  1
bbox : 
 [[  45   99  721 1001]]
frame:    0 / 0 - framerate: 11.588204 fps device: 'cuda' - 1 GPU(s) will be used
None
number of people :  1
bbox : 
 [[246  93 896 960]]
frame:    0 / 0 - framerate: 11.812978 fps device: 'cuda' - 1 GPU(s) will be used
None
number of people :  1
bbox : 
 [[258 187 858 988]]
frame:    0 / 0 - framerate: 11.706450 fps device: 'cuda' - 1 GPU(s) will be used
None
number of people :  1
bbox : 
 [[ 144  144 1030 1327]]
frame:    0 / 0 - framerate: 10.675381 fps device: 'cuda' - 1 GPU(s) will be used
None
number of people :  1
bbox : 
 [[ 211  312  777 1066]]
frame:    0 / 0 - framerate: 10.339355 fps device: 'cuda' - 1 GPU(s) will be used
None
number of people :  1
bbox : 
 [[  0  48 263 510]]
frame:    0 / 0 - framerate: 12.156029 fps device: 'cuda' - 1 GPU(s) will be used
None
number of people :  1
bbox : 
 [[ 196   34  926 1009]]
frame:    0 / 0 - framerate: 10.538929 fps device: 'cuda' - 1 GPU(s) will be used
None
number of people :  1
bbox : 
 [[ 241  251  879 1101]]
frame:    0 / 0 - framerate: 11.292587 fps device: 'cuda' - 1 GPU(s) will be used
None
number of people :  1
bbox : 
 [[ 238  393  742 1066]]
frame:    0 / 0 - framerate: 12.157262 fps device: 'cuda' - 1 GPU(s) will be used
None
number of people :  3
bbox : 
 [[ 105   42 1057 1311]
 [ 741  375  959  665]
 [ 620  370  816  633]]
frame:    0 / 0 - framerate: 8.306523 fps device: 'cuda' - 1 GPU(s) will be used
None
number of people :  3
bbox : 
 [[ 126  100 1038 1316]
 [ 751  674  981  981]
 [ 667  679  791  846]]
frame:    0 / 0 - framerate: 8.426409 fps device: 'cuda' - 1 GPU(s) will be used
None
number of people :  1
bbox : 
 [[344 359 700 833]]
frame:    0 / 0 - framerate: 12.499118 fps device: 'cuda' - 1 GPU(s) will be used
None
number of people :  1
bbox : 
 [[  0  32 254 749]]
frame:    0 / -9223372036854775808 - framerate: 12.749226 fps device: 'cuda' - 1 GPU(s) will be used
None
number of people :  1
bbox : 
 [[  0  96 556 837]]
frame:    0 / 0 - framerate: 12.674753 fps device: 'cuda' - 1 GPU(s) will be used
None
number of people :  1
bbox : 
 [[227  31 935 975]]
frame:    0 / 0 - framerate: 10.034460 fps device: 'cuda' - 1 GPU(s) will be used
None
number of people :  1
bbox : 
 [[270 163 626 639]]
frame:    0 / 0 - framerate: 12.335281 fps device: 'cuda' - 1 GPU(s) will be used
None
number of people :  1
bbox : 
 [[ 181   73  901 1034]]
frame:    0 / 0 - framerate: 10.777313 fps device: 'cuda' - 1 GPU(s) will be used
None
number of people :  1
bbox : 
 [[ 135   72  875 1059]]
frame:    0 / 0 - framerate: 11.413476 fps device: 'cuda' - 1 GPU(s) will be used
None
number of people :  1
bbox : 
 [[  0 104 553 859]]
frame:    0 / 0 - framerate: 12.738848 fps device: 'cuda' - 1 GPU(s) will be used
None
number of people :  1
bbox : 
 [[ 263  198  903 1053]]
frame:    0 / 0 - framerate: 11.272465 fps device: 'cuda' - 1 GPU(s) will be used
None
number of people :  1
bbox : 
 [[  86   92  952 1246]]
frame:    0 / 0 - framerate: 10.667019 fps device: 'cuda' - 1 GPU(s) will be used
None
number of people :  1
bbox : 
 [[   0  133  865 1332]]
frame:    0 / 0 - framerate: 10.732116 fps device: 'cuda' - 1 GPU(s) will be used
None
number of people :  1
bbox : 
 [[   0   19  852 1163]]
frame:    0 / 0 - framerate: 10.060913 fps device: 'cuda' - 1 GPU(s) will be used
None
number of people :  1
bbox : 
 [[131  80 793 962]]
frame:    0 / 0 - framerate: 12.085764 fps device: 'cuda' - 1 GPU(s) will be used
None
number of people :  0
bbox : 
 []
frame:    0 / 0 - framerate: 29.921272 fps device: 'cuda' - 1 GPU(s) will be used
None
number of people :  0
bbox : 
 []
frame:    0 / 0 - framerate: 26.484542 fps device: 'cuda' - 1 GPU(s) will be used
None
number of people :  2
bbox : 
 [[742 869 764 900]
 [731 866 753 897]]
frame:    0 / 0 - framerate: 11.918142 fps device: 'cuda' - 1 GPU(s) will be used
None
number of people :  1
bbox : 
 [[317 412 733 968]]
frame:    0 / 0 - framerate: 11.860344 fps device: 'cuda' - 1 GPU(s) will be used
None
number of people :  1
bbox : 
 [[ 80  48 432 518]]
frame:    0 / 0 - framerate: 11.460724 fps device: 'cuda' - 1 GPU(s) will be used
None
number of people :  1
bbox : 
 [[254 129 866 946]]
frame:    0 / 0 - framerate: 11.130435 fps device: 'cuda' - 1 GPU(s) will be used
None
number of people :  0
bbox : 
 []
frame:    0 / 0 - framerate: 29.329156 fps device: 'cuda' - 1 GPU(s) will be used
None
number of people :  0
bbox : 
 []
frame:    0 / 0 - framerate: 29.988017 fps device: 'cuda' - 1 GPU(s) will be used
None
number of people :  1
bbox : 
 [[170 109 832 992]]
frame:    0 / 0 - framerate: 11.521705 fps device: 'cuda' - 1 GPU(s) will be used
None
number of people :  1
bbox : 
 [[ 150  175  810 1055]]
frame:    0 / 0 - framerate: 11.597496 fps device: 'cuda' - 1 GPU(s) will be used
None
number of people :  1
bbox : 
 [[228 244 502 611]]
frame:    0 / 0 - framerate: 12.460019 fps device: 'cuda' - 1 GPU(s) will be used
None
number of people :  1
bbox : 
 [[146 131 760 949]]
frame:    0 / 0 - framerate: 10.662924 fps device: 'cuda' - 1 GPU(s) will be used
None
number of people :  1
bbox : 
 [[   8  344  742 1323]]
frame:    0 / 0 - framerate: 10.026185 fps device: 'cuda' - 1 GPU(s) will be used
None
number of people :  1
bbox : 
 [[230 104 888 982]]
frame:    0 / 0 - framerate: 11.351726 fps device: 'cuda' - 1 GPU(s) will be used
None
number of people :  1
bbox : 
 [[225 299 509 677]]
frame:    0 / 0 - framerate: 12.651814 fps device: 'cuda' - 1 GPU(s) will be used
None
number of people :  1
bbox : 
 [[ 333  545  765 1122]]
frame:    0 / 0 - framerate: 12.238068 fps device: 'cuda' - 1 GPU(s) will be used
None
number of people :  1
bbox : 
 [[410 237 768 716]]
frame:    0 / 0 - framerate: 10.247480 fps device: 'cuda' - 1 GPU(s) will be used
None
number of people :  1
bbox : 
 [[  82  154  918 1270]]
frame:    0 / 0 - framerate: 10.059730 fps device: 'cuda' - 1 GPU(s) will be used
None
number of people :  1
bbox : 
 [[ 197   98 1071 1264]]
frame:    0 / 0 - framerate: 9.730503 fps device: 'cuda' - 1 GPU(s) will be used
None
number of people :  1
bbox : 
 [[ 274   20 1042 1044]]
frame:    0 / 0 - framerate: 10.402875 fps device: 'cuda' - 1 GPU(s) will be used
None
number of people :  1
bbox : 
 [[ 194  487  646 1091]]
frame:    0 / 0 - framerate: 11.677736 fps device: 'cuda' - 1 GPU(s) will be used
None
number of people :  1
bbox : 
 [[ 131   91  835 1031]]
frame:    0 / 0 - framerate: 10.824569 fps device: 'cuda' - 1 GPU(s) will be used
None
number of people :  1
bbox : 
 [[  99  149  749 1017]]
frame:    0 / 0 - framerate: 10.098872 fps device: 'cuda' - 1 GPU(s) will be used
None
number of people :  1
bbox : 
 [[ 170  302  694 1001]]
frame:    0 / 0 - framerate: 11.273405 fps device: 'cuda' - 1 GPU(s) will be used
None
number of people :  1
bbox : 
 [[ 290  431  740 1032]]
frame:    0 / 0 - framerate: 11.057254 fps device: 'cuda' - 1 GPU(s) will be used
None
number of people :  1
bbox : 
 [[ 259  390  755 1051]]
frame:    0 / 0 - framerate: 11.013557 fps device: 'cuda' - 1 GPU(s) will be used
None
number of people :  1
bbox : 
 [[ 336  495  814 1133]]
frame:    0 / 0 - framerate: 11.289608 fps device: 'cuda' - 1 GPU(s) will be used
None
number of people :  1
bbox : 
 [[ 378  474  776 1005]]
frame:    0 / 0 - framerate: 11.725431 fps device: 'cuda' - 1 GPU(s) will be used
None
number of people :  1
bbox : 
 [[254 170 846 960]]
frame:    0 / 0 - framerate: 9.891480 fps device: 'cuda' - 1 GPU(s) will be used
None
number of people :  1
bbox : 
 [[ 93 111 743 977]]
frame:    0 / 0 - framerate: 10.401301 fps device: 'cuda' - 1 GPU(s) will be used
None
number of people :  1
bbox : 
 [[ 212   86  948 1069]]
frame:    0 / 0 - framerate: 10.833152 fps device: 'cuda' - 1 GPU(s) will be used
None
number of people :  1
bbox : 
 [[  14  112  702 1031]]
frame:    0 / 0 - framerate: 10.891750 fps device: 'cuda' - 1 GPU(s) will be used
None
number of people :  1
bbox : 
 [[ 183  402  835 1273]]
frame:    0 / 0 - framerate: 11.206027 fps device: 'cuda' - 1 GPU(s) will be used
None
number of people :  0
bbox : 
 []
frame:    0 / 0 - framerate: 27.685723 fps device: 'cuda' - 1 GPU(s) will be used
None
number of people :  1
bbox : 
 [[ 49  64 566 786]]
frame:    0 / 0 - framerate: 12.620293 fps device: 'cuda' - 1 GPU(s) will be used
None
number of people :  1
bbox : 
 [[295  27 529 340]]
frame:    0 / 0 - framerate: 13.653289 fps device: 'cuda' - 1 GPU(s) will be used
None
number of people :  1
bbox : 
 [[  42   52  930 1236]]
frame:    0 / 0 - framerate: 10.484502 fps device: 'cuda' - 1 GPU(s) will be used
None
number of people :  1
bbox : 
 [[217 112 839 942]]
frame:    0 / 0 - framerate: 11.204201 fps device: 'cuda' - 1 GPU(s) will be used
None
number of people :  1
bbox : 
 [[283 140 883 941]]
frame:    0 / 0 - framerate: 11.324021 fps device: 'cuda' - 1 GPU(s) will be used
None
number of people :  1
bbox : 
 [[ 17  41 695 945]]
frame:    0 / 0 - framerate: 11.415744 fps device: 'cuda' - 1 GPU(s) will be used
None
number of people :  1
bbox : 
 [[  0   1 721 974]]
frame:    0 / 0 - framerate: 9.807980 fps device: 'cuda' - 1 GPU(s) will be used
None
number of people :  1
bbox : 
 [[ 69 106 691 935]]
frame:    0 / 0 - framerate: 10.474264 fps device: 'cuda' - 1 GPU(s) will be used
None
number of people :  1
bbox : 
 [[342 356 718 859]]
frame:    0 / 0 - framerate: 11.396481 fps device: 'cuda' - 1 GPU(s) will be used
None
number of people :  1
bbox : 
 [[ 91   1 743 871]]
frame:    0 / 0 - framerate: 11.026471 fps device: 'cuda' - 1 GPU(s) will be used
None
number of people :  1
bbox : 
 [[ 173  156  883 1104]]
frame:    0 / 0 - framerate: 10.233804 fps device: 'cuda' - 1 GPU(s) will be used
None
number of people :  1
bbox : 
 [[231  58 569 508]]
frame:    0 / 0 - framerate: 13.218150 fps device: 'cuda' - 1 GPU(s) will be used
None
number of people :  1
bbox : 
 [[133  50 739 858]]
frame:    0 / 0 - framerate: 11.422085 fps device: 'cuda' - 1 GPU(s) will be used
None
number of people :  1
bbox : 
 [[  46    0  796 1000]]
frame:    0 / 0 - framerate: 10.999491 fps device: 'cuda' - 1 GPU(s) will be used
None
number of people :  1
bbox : 
 [[ 125  188  871 1182]]
frame:    0 / 0 - framerate: 10.641768 fps device: 'cuda' - 1 GPU(s) will be used
None
number of people :  2
bbox : 
 [[ 317   98 1019 1035]
 [ 865  818  891  854]]
frame:    0 / 0 - framerate: 9.939345 fps device: 'cuda' - 1 GPU(s) will be used
None
number of people :  1
bbox : 
 [[ 58 225 408 692]]
frame:    0 / 0 - framerate: 12.829521 fps device: 'cuda' - 1 GPU(s) will be used
None
number of people :  1
bbox : 
 [[ 222   63  944 1025]]
frame:    0 / 0 - framerate: 11.147237 fps device: 'cuda' - 1 GPU(s) will be used
None
number of people :  1
bbox : 
 [[465 120 895 693]]
frame:    0 / 0 - framerate: 12.856341 fps device: 'cuda' - 1 GPU(s) will be used
None
number of people :  1
bbox : 
 [[263  83 885 913]]
frame:    0 / 0 - framerate: 9.226382 fps device: 'cuda' - 1 GPU(s) will be used
None
number of people :  1
bbox : 
 [[ 219   75  967 1072]]
frame:    0 / 0 - framerate: 10.022591 fps device: 'cuda' - 1 GPU(s) will be used
None
number of people :  1
bbox : 
 [[236 310 748 994]]
frame:    0 / 0 - framerate: 10.550673 fps device: 'cuda' - 1 GPU(s) will be used
None
number of people :  1
bbox : 
 [[ 289  176 1061 1205]]
frame:    0 / 0 - framerate: 9.883369 fps device: 'cuda' - 1 GPU(s) will be used
None
number of people :  3
bbox : 
 [[  35  509  429 1035]
 [ 187  179  807 1005]
 [ 589  507  987 1039]]
frame:    0 / 0 - framerate: 8.360917 fps device: 'cuda' - 1 GPU(s) will be used
None
number of people :  1
bbox : 
 [[118  29 600 673]]
frame:    0 / 0 - framerate: 12.615245 fps device: 'cuda' - 1 GPU(s) will be used
None
number of people :  2
bbox : 
 [[  0   0 416 730]
 [181 179 423 502]]
frame:    0 / 0 - framerate: 11.021487 fps device: 'cuda' - 1 GPU(s) will be used
None
number of people :  1
bbox : 
 [[  0  30 184 280]]
frame:    0 / 0 - framerate: 14.170999 fps device: 'cuda' - 1 GPU(s) will be used
None
number of people :  1
bbox : 
 [[180 440 580 974]]
frame:    0 / 0 - framerate: 11.487341 fps device: 'cuda' - 1 GPU(s) will be used
None
number of people :  1
bbox : 
 [[ 313  409  757 1001]]
frame:    0 / 0 - framerate: 12.212661 fps device: 'cuda' - 1 GPU(s) will be used
None
number of people :  1
bbox : 
 [[  45   35  927 1212]]
frame:    0 / 0 - framerate: 10.191877 fps device: 'cuda' - 1 GPU(s) will be used
None
number of people :  1
bbox : 
 [[119 237 567 836]]
frame:    0 / 0 - framerate: 12.661515 fps device: 'cuda' - 1 GPU(s) will be used
None
number of people :  1
bbox : 
 [[176   7 858 918]]
frame:    0 / 0 - framerate: 9.440550 fps device: 'cuda' - 1 GPU(s) will be used
None
number of people :  1
bbox : 
 [[ 110    2  866 1011]]
frame:    0 / 0 - framerate: 9.865260 fps device: 'cuda' - 1 GPU(s) will be used
None
number of people :  1
bbox : 
 [[288 120 852 872]]
frame:    0 / 0 - framerate: 10.414757 fps device: 'cuda' - 1 GPU(s) will be used
None
number of people :  1
bbox : 
 [[ 114   53  864 1053]]
frame:    0 / 0 - framerate: 10.324263 fps device: 'cuda' - 1 GPU(s) will be used
None
number of people :  1
bbox : 
 [[ 221   33  999 1070]]
frame:    0 / 0 - framerate: 10.892599 fps device: 'cuda' - 1 GPU(s) will be used
None
number of people :  1
bbox : 
 [[ 120   72 1080 1356]]
frame:    0 / 0 - framerate: 9.624047 fps device: 'cuda' - 1 GPU(s) will be used
None
number of people :  1
bbox : 
 [[ 142   81  868 1050]]
frame:    0 / 0 - framerate: 11.405437 fps device: 'cuda' - 1 GPU(s) will be used
None
number of people :  2
bbox : 
 [[ 206  138  952 1134]
 [ 109  589  195  705]]
frame:    0 / 0 - framerate: 9.863242 fps device: 'cuda' - 1 GPU(s) will be used
None
number of people :  1
bbox : 
 [[   0  118  939 1378]]
frame:    0 / 0 - framerate: 10.116947 fps device: 'cuda' - 1 GPU(s) will be used
None
number of people :  1
bbox : 
 [[  0  11 353 539]]
frame:    0 / -9223372036854775808 - framerate: 12.796017 fps device: 'cuda' - 1 GPU(s) will be used
None
number of people :  1
bbox : 
 [[  29  199 1371 1988]]
frame:    0 / 0 - framerate: 8.493159 fps device: 'cuda' - 1 GPU(s) will be used
None
number of people :  1
bbox : 
 [[ 62  57 756 983]]
frame:    0 / 0 - framerate: 10.891722 fps device: 'cuda' - 1 GPU(s) will be used
None
number of people :  1
bbox : 
 [[ 222  242  946 1207]]
frame:    0 / 0 - framerate: 9.193257 fps device: 'cuda' - 1 GPU(s) will be used
None
number of people :  1
bbox : 
 [[  18   34 1002 1346]]
frame:    0 / 0 - framerate: 9.324509 fps device: 'cuda' - 1 GPU(s) will be used
None
number of people :  1
bbox : 
 [[ 163   72  873 1018]]
frame:    0 / 0 - framerate: 11.215826 fps device: 'cuda' - 1 GPU(s) will be used
None
number of people :  1
bbox : 
 [[245 449 477 759]]
frame:    0 / 0 - framerate: 13.394726 fps device: 'cuda' - 1 GPU(s) will be used
None
number of people :  1
bbox : 
 [[179  92 595 648]]
frame:    0 / 0 - framerate: 12.608722 fps device: 'cuda' - 1 GPU(s) will be used
None
number of people :  1
bbox : 
 [[  84  109  946 1260]]
frame:    0 / 0 - framerate: 10.255423 fps device: 'cuda' - 1 GPU(s) will be used
None
number of people :  1
bbox : 
 [[ 199    5  983 1052]]
frame:    0 / 0 - framerate: 10.668077 fps device: 'cuda' - 1 GPU(s) will be used
None
number of people :  1
bbox : 
 [[ 295   47 1067 1077]]
frame:    0 / 0 - framerate: 10.416025 fps device: 'cuda' - 1 GPU(s) will be used
None
number of people :  1
bbox : 
 [[320 203 680 683]]
frame:    0 / 0 - framerate: 12.595621 fps device: 'cuda' - 1 GPU(s) will be used
None
number of people :  1
bbox : 
 [[247  46 573 481]]
frame:    0 / 0 - framerate: 13.718487 fps device: 'cuda' - 1 GPU(s) will be used
None
number of people :  1
bbox : 
 [[ 279  108 1019 1096]]
frame:    0 / 0 - framerate: 10.643578 fps device: 'cuda' - 1 GPU(s) will be used
None
number of people :  1
bbox : 
 [[ 161  122 1041 1297]]
frame:    0 / 0 - framerate: 10.189327 fps device: 'cuda' - 1 GPU(s) will be used
None
number of people :  1
bbox : 
 [[ 260  160  914 1032]]
frame:    0 / 0 - framerate: 10.175879 fps device: 'cuda' - 1 GPU(s) will be used
None
number of people :  1
bbox : 
 [[  0  23 230 349]]
frame:    0 / 0 - framerate: 11.693950 fps device: 'cuda' - 1 GPU(s) will be used
None
number of people :  1
bbox : 
 [[ 168  120  840 1016]]
frame:    0 / 0 - framerate: 11.290794 fps device: 'cuda' - 1 GPU(s) will be used
None
number of people :  1
bbox : 
 [[ 47  73 626 882]]
frame:    0 / 0 - framerate: 12.200015 fps device: 'cuda' - 1 GPU(s) will be used
None
number of people :  1
bbox : 
 [[  99   91  899 1157]]
frame:    0 / 0 - framerate: 10.206535 fps device: 'cuda' - 1 GPU(s) will be used
None
number of people :  1
bbox : 
 [[166 133 774 943]]
frame:    0 / 0 - framerate: 11.982425 fps device: 'cuda' - 1 GPU(s) will be used
None
number of people :  1
bbox : 
 [[ 89 134 451 617]]
frame:    0 / 0 - framerate: 12.707394 fps device: 'cuda' - 1 GPU(s) will be used
None
number of people :  1
bbox : 
 [[ 197  159  977 1200]]
frame:    0 / 0 - framerate: 10.438500 fps device: 'cuda' - 1 GPU(s) will be used
None
number of people :  1
bbox : 
 [[   0  165 1257 1933]]
frame:    0 / 0 - framerate: 8.762266 fps device: 'cuda' - 1 GPU(s) will be used
None
number of people :  1
bbox : 
 [[ 222   83 1080 1273]]
frame:    0 / 0 - framerate: 10.513252 fps device: 'cuda' - 1 GPU(s) will be used
None
number of people :  1
bbox : 
 [[ 212   36 1068 1178]]
frame:    0 / 0 - framerate: 10.983879 fps device: 'cuda' - 1 GPU(s) will be used
None
number of people :  1
bbox : 
 [[  0  17 143 379]]
frame:    0 / -9223372036854775808 - framerate: 13.857772 fps device: 'cuda' - 1 GPU(s) will be used
None
number of people :  1
bbox : 
 [[202 106 722 801]]
frame:    0 / 0 - framerate: 10.849658 fps device: 'cuda' - 1 GPU(s) will be used
None
number of people :  1
bbox : 
 [[  0  37 320 590]]
frame:    0 / 0 - framerate: 11.354185 fps device: 'cuda' - 1 GPU(s) will be used
None
number of people :  1
bbox : 
 [[ 153   74 1069 1295]]
frame:    0 / 0 - framerate: 9.186210 fps device: 'cuda' - 1 GPU(s) will be used
None
number of people :  1
bbox : 
 [[195 139 833 990]]
frame:    0 / 0 - framerate: 9.463704 fps device: 'cuda' - 1 GPU(s) will be used
None
number of people :  1
bbox : 
 [[  0  22 333 480]]
frame:    0 / 0 - framerate: 11.535394 fps device: 'cuda' - 1 GPU(s) will be used
None
number of people :  1
bbox : 
 [[ 227  204  855 1043]]
frame:    0 / 0 - framerate: 9.937649 fps device: 'cuda' - 1 GPU(s) will be used
None
number of people :  1
bbox : 
 [[ 25   8 163 193]]
frame:    0 / 0 - framerate: 12.292910 fps device: 'cuda' - 1 GPU(s) will be used
None
number of people :  1
bbox : 
 [[ 229   38  991 1055]]
frame:    0 / 0 - framerate: 9.725787 fps device: 'cuda' - 1 GPU(s) will be used
None
number of people :  1
bbox : 
 [[   0  130  758 1261]]
frame:    0 / 0 - framerate: 10.485498 fps device: 'cuda' - 1 GPU(s) will be used
None
number of people :  1
bbox : 
 [[  78   49  950 1212]]
frame:    0 / 0 - framerate: 10.741240 fps device: 'cuda' - 1 GPU(s) will be used
None
number of people :  1
bbox : 
 [[  78   74  956 1246]]
frame:    0 / 0 - framerate: 10.324796 fps device: 'cuda' - 1 GPU(s) will be used
None
number of people :  1
bbox : 
 [[  98   56  990 1247]]
frame:    0 / 0 - framerate: 10.483820 fps device: 'cuda' - 1 GPU(s) will be used
None
number of people :  1
bbox : 
 [[ 372   70 1098 1038]]
frame:    0 / 0 - framerate: 11.734978 fps device: 'cuda' - 1 GPU(s) will be used
None
number of people :  1
bbox : 
 [[267  66 465 331]]
frame:    0 / 0 - framerate: 13.946844 fps device: 'cuda' - 1 GPU(s) will be used
None
number of people :  1
bbox : 
 [[250  26 902 895]]
frame:    0 / 0 - framerate: 11.837048 fps device: 'cuda' - 1 GPU(s) will be used
None
number of people :  1
bbox : 
 [[ 73  15 467 542]]
frame:    0 / 0 - framerate: 12.443827 fps device: 'cuda' - 1 GPU(s) will be used
None
number of people :  1
bbox : 
 [[261 174 859 972]]
frame:    0 / 0 - framerate: 10.217649 fps device: 'cuda' - 1 GPU(s) will be used
None
number of people :  1
bbox : 
 [[  37  259  605 1016]]
frame:    0 / 0 - framerate: 10.713311 fps device: 'cuda' - 1 GPU(s) will be used
None
number of people :  1
bbox : 
 [[  0  23 434 880]]
frame:    0 / -9223372036854775808 - framerate: 9.888751 fps device: 'cuda' - 1 GPU(s) will be used
None
number of people :  1
bbox : 
 [[187  34 465 404]]
frame:    0 / 0 - framerate: 11.810084 fps device: 'cuda' - 1 GPU(s) will be used
None
number of people :  1
bbox : 
 [[ 109   89  977 1247]]
frame:    0 / 0 - framerate: 9.681718 fps device: 'cuda' - 1 GPU(s) will be used
None
number of people :  1
bbox : 
 [[415 204 849 783]]
frame:    0 / 0 - framerate: 10.800625 fps device: 'cuda' - 1 GPU(s) will be used
None
number of people :  1
bbox : 
 [[ 161   70  873 1020]]
frame:    0 / 0 - framerate: 11.393386 fps device: 'cuda' - 1 GPU(s) will be used
None
number of people :  1
bbox : 
 [[176  34 490 453]]
frame:    0 / 0 - framerate: 13.123728 fps device: 'cuda' - 1 GPU(s) will be used
None
number of people :  1
bbox : 
 [[   0   37  803 1320]]
frame:    0 / 0 - framerate: 10.512857 fps device: 'cuda' - 1 GPU(s) will be used
None
number of people :  1
bbox : 
 [[  84  227  676 1018]]
frame:    0 / 0 - framerate: 10.368236 fps device: 'cuda' - 1 GPU(s) will be used
None
number of people :  1
bbox : 
 [[ 268   62 1010 1051]]
frame:    0 / 0 - framerate: 10.492501 fps device: 'cuda' - 1 GPU(s) will be used
None
number of people :  1
bbox : 
 [[ 57  46 443 560]]
frame:    0 / 0 - framerate: 12.025058 fps device: 'cuda' - 1 GPU(s) will be used
None
number of people :  1
bbox : 
 [[377  27 761 539]]
frame:    0 / 0 - framerate: 10.970262 fps device: 'cuda' - 1 GPU(s) will be used
None
number of people :  1
bbox : 
 [[   0   53  703 1071]]
frame:    0 / 0 - framerate: 11.347488 fps device: 'cuda' - 1 GPU(s) will be used
None
number of people :  1
bbox : 
 [[  27   45  817 1098]]
frame:    0 / 0 - framerate: 10.826553 fps device: 'cuda' - 1 GPU(s) will be used
None
number of people :  3
bbox : 
 [[325 229 849 929]
 [237 830 293 905]
 [ 55 820 105 886]]
frame:    0 / 0 - framerate: 9.132903 fps device: 'cuda' - 1 GPU(s) will be used
None
number of people :  5
bbox : 
 [[ 143   20  889 1014]
 [  93  228  415  657]
 [ 689  199 1080  843]
 [ 532  291  790  635]
 [ 751  318  805  390]]
frame:    0 / 0 - framerate: 6.669207 fps device: 'cuda' - 1 GPU(s) will be used
None
number of people :  1
bbox : 
 [[255 105 881 939]]
frame:    0 / 0 - framerate: 10.884288 fps device: 'cuda' - 1 GPU(s) will be used
None
number of people :  1
bbox : 
 [[ 30  34 192 251]]
frame:    0 / 0 - framerate: 14.258047 fps device: 'cuda' - 1 GPU(s) will be used
None
number of people :  1
bbox : 
 [[130 101 792 983]]
frame:    0 / 0 - framerate: 10.397382 fps device: 'cuda' - 1 GPU(s) will be used
None
number of people :  1
bbox : 
 [[ 235  305  969 1285]]
frame:    0 / 0 - framerate: 9.928757 fps device: 'cuda' - 1 GPU(s) will be used
None
number of people :  4
bbox : 
 [[330 177 830 844]
 [217 780 279 862]
 [ 45 775  98 845]
 [  0 818  30 866]]
frame:    0 / 0 - framerate: 8.487504 fps device: 'cuda' - 1 GPU(s) will be used
None
number of people :  1
bbox : 
 [[ 303  504  785 1148]]
frame:    0 / 0 - framerate: 11.591855 fps device: 'cuda' - 1 GPU(s) will be used
None
number of people :  1
bbox : 
 [[331 181 775 774]]
frame:    0 / 0 - framerate: 12.405293 fps device: 'cuda' - 1 GPU(s) will be used
None
number of people :  1
bbox : 
 [[ 182  168  812 1009]]
frame:    0 / 0 - framerate: 11.397844 fps device: 'cuda' - 1 GPU(s) will be used
None
number of people :  4
bbox : 
 [[  26   45  974 1310]
 [ 801  193  947  388]
 [ 704  187  844  375]
 [ 889  364  949  445]]
frame:    0 / 0 - framerate: 6.829868 fps device: 'cuda' - 1 GPU(s) will be used
None
number of people :  1
bbox : 
 [[397 354 873 989]]
frame:    0 / 0 - framerate: 11.737966 fps device: 'cuda' - 1 GPU(s) will be used
None
number of people :  1
bbox : 
 [[132   4 848 960]]
frame:    0 / 0 - framerate: 10.870776 fps device: 'cuda' - 1 GPU(s) will be used
None
number of people :  1
bbox : 
 [[260 134 804 861]]
frame:    0 / 0 - framerate: 11.441434 fps device: 'cuda' - 1 GPU(s) will be used
None
number of people :  1
bbox : 
 [[129  87 689 835]]
frame:    0 / 0 - framerate: 12.091931 fps device: 'cuda' - 1 GPU(s) will be used
None
number of people :  1
bbox : 
 [[ 184  260  962 1299]]
frame:    0 / 0 - framerate: 10.010129 fps device: 'cuda' - 1 GPU(s) will be used
None
number of people :  1
bbox : 
 [[325 298 713 815]]
frame:    0 / 0 - framerate: 12.483679 fps device: 'cuda' - 1 GPU(s) will be used
None
number of people :  1
bbox : 
 [[ 21  44 337 467]]
frame:    0 / 0 - framerate: 13.681302 fps device: 'cuda' - 1 GPU(s) will be used
None
number of people :  1
bbox : 
 [[118  86 798 994]]
frame:    0 / 0 - framerate: 11.603881 fps device: 'cuda' - 1 GPU(s) will be used
None
number of people :  1
bbox : 
 [[ 157  386  809 1257]]
frame:    0 / 0 - framerate: 10.821246 fps device: 'cuda' - 1 GPU(s) will be used
None
number of people :  1
bbox : 
 [[   0   62  858 1262]]
frame:    0 / 0 - framerate: 10.381401 fps device: 'cuda' - 1 GPU(s) will be used
None
number of people :  1
bbox : 
 [[ 31  68 600 846]]
frame:    0 / 0 - framerate: 12.138860 fps device: 'cuda' - 1 GPU(s) will be used
None
number of people :  1
bbox : 
 [[  0  21 214 471]]
frame:    0 / -9223372036854775808 - framerate: 11.327782 fps device: 'cuda' - 1 GPU(s) will be used
None
number of people :  1
bbox : 
 [[  0   8  95 191]]
frame:    0 / -9223372036854775808 - framerate: 13.172445 fps device: 'cuda' - 1 GPU(s) will be used
None
number of people :  1
bbox : 
 [[   0  135 1091 1658]]
frame:    0 / 0 - framerate: 8.951076 fps device: 'cuda' - 1 GPU(s) will be used
None
number of people :  1
bbox : 
 [[  0   9 253 822]]
frame:    0 / -9223372036854775808 - framerate: 12.179856 fps device: 'cuda' - 1 GPU(s) will be used
None
number of people :  1
bbox : 
 [[ 190   44 1018 1148]]
frame:    0 / 0 - framerate: 10.574667 fps device: 'cuda' - 1 GPU(s) will be used
None
number of people :  1
bbox : 
 [[  0  52 240 658]]
frame:    0 / -9223372036854775808 - framerate: 12.941029 fps device: 'cuda' - 1 GPU(s) will be used
None
number of people :  1
bbox : 
 [[444  36 930 684]]
frame:    0 / 0 - framerate: 12.760280 fps device: 'cuda' - 1 GPU(s) will be used
None
number of people :  1
bbox : 
 [[352  36 724 533]]
frame:    0 / 0 - framerate: 13.210739 fps device: 'cuda' - 1 GPU(s) will be used
None
number of people :  1
bbox : 
 [[  0  25 210 451]]
frame:    0 / -9223372036854775808 - framerate: 12.973773 fps device: 'cuda' - 1 GPU(s) will be used
None
number of people :  1
bbox : 
 [[   0  121  663 1020]]
frame:    0 / 0 - framerate: 11.642016 fps device: 'cuda' - 1 GPU(s) will be used
None
number of people :  1
bbox : 
 [[  0  34 185 545]]
frame:    0 / -9223372036854775808 - framerate: 13.317365 fps device: 'cuda' - 1 GPU(s) will be used
None
number of people :  1
bbox : 
 [[ 41  41 381 495]]
frame:    0 / 0 - framerate: 13.366255 fps device: 'cuda' - 1 GPU(s) will be used
None
number of people :  3
bbox : 
 [[  28  267  720 1191]
 [ 539  535  575  584]
 [ 630  514  670  568]]
frame:    0 / 0 - framerate: 7.823121 fps device: 'cuda' - 1 GPU(s) will be used
None
number of people :  1
bbox : 
 [[  0  46 297 833]]
frame:    0 / -9223372036854775808 - framerate: 11.408726 fps device: 'cuda' - 1 GPU(s) will be used
None
number of people :  1
bbox : 
 [[337  54 783 648]]
frame:    0 / 0 - framerate: 12.274563 fps device: 'cuda' - 1 GPU(s) will be used
None
number of people :  1
bbox : 
 [[  0  40 267 711]]
frame:    0 / -9223372036854775808 - framerate: 12.778123 fps device: 'cuda' - 1 GPU(s) will be used
None
number of people :  1
bbox : 
 [[   0   94  695 1057]]
frame:    0 / 0 - framerate: 11.644666 fps device: 'cuda' - 1 GPU(s) will be used
None
number of people :  1
bbox : 
 [[  0   6  70 185]]
frame:    0 / -9223372036854775808 - framerate: 14.585789 fps device: 'cuda' - 1 GPU(s) will be used
None
number of people :  1
bbox : 
 [[319 131 885 885]]
frame:    0 / 0 - framerate: 11.345677 fps device: 'cuda' - 1 GPU(s) will be used
None
number of people :  1
bbox : 
 [[   0   90  368 1135]]
frame:    0 / -9223372036854775808 - framerate: 11.446899 fps device: 'cuda' - 1 GPU(s) will be used
None
number of people :  1
bbox : 
 [[  0  37 670 949]]
frame:    0 / 0 - framerate: 11.758797 fps device: 'cuda' - 1 GPU(s) will be used
None
number of people :  2
bbox : 
 [[ 32  53 658 889]
 [451 428 768 941]]
frame:    0 / 0 - framerate: 10.453902 fps device: 'cuda' - 1 GPU(s) will be used
None
number of people :  1
bbox : 
 [[  0  47 373 789]]
frame:    0 / -9223372036854775808 - framerate: 12.341524 fps device: 'cuda' - 1 GPU(s) will be used
None
number of people :  1
bbox : 
 [[ 33  31 450 592]]
frame:    0 / 0 - framerate: 13.155547 fps device: 'cuda' - 1 GPU(s) will be used
None
number of people :  1
bbox : 
 [[  0  17 217 476]]
frame:    0 / -9223372036854775808 - framerate: 11.657742 fps device: 'cuda' - 1 GPU(s) will be used
None
number of people :  1
bbox : 
 [[306  11 674 503]]
frame:    0 / 0 - framerate: 12.338620 fps device: 'cuda' - 1 GPU(s) will be used
None
number of people :  2
bbox : 
 [[  0  30 109 280]
 [ 18  59  48  99]]
frame:    0 / -9223372036854775808 - framerate: 11.513988 fps device: 'cuda' - 1 GPU(s) will be used
None
number of people :  1
bbox : 
 [[  0  44  98 280]]
frame:    0 / -9223372036854775808 - framerate: 13.154763 fps device: 'cuda' - 1 GPU(s) will be used
None
number of people :  1
bbox : 
 [[ 82  51 370 436]]
frame:    0 / 0 - framerate: 13.443497 fps device: 'cuda' - 1 GPU(s) will be used
None
number of people :  1
bbox : 
 [[ 278   79  976 1011]]
frame:    0 / 0 - framerate: 11.305615 fps device: 'cuda' - 1 GPU(s) will be used
None
number of people :  1
bbox : 
 [[  0  14 113 358]]
frame:    0 / -9223372036854775808 - framerate: 14.399857 fps device: 'cuda' - 1 GPU(s) will be used
None
number of people :  1
bbox : 
 [[116  24 482 513]]
frame:    0 / 0 - framerate: 13.000635 fps device: 'cuda' - 1 GPU(s) will be used
None
number of people :  1
bbox : 
 [[  0  12 149 320]]
frame:    0 / -9223372036854775808 - framerate: 14.180150 fps device: 'cuda' - 1 GPU(s) will be used
None
number of people :  1
bbox : 
 [[ 37  95 635 893]]
frame:    0 / 0 - framerate: 12.131171 fps device: 'cuda' - 1 GPU(s) will be used
None
number of people :  1
bbox : 
 [[ 179   73  881 1010]]
frame:    0 / 0 - framerate: 11.549847 fps device: 'cuda' - 1 GPU(s) will be used
None
number of people :  1
bbox : 
 [[  0  26 404 907]]
frame:    0 / -9223372036854775808 - framerate: 11.806992 fps device: 'cuda' - 1 GPU(s) will be used
None
number of people :  1
bbox : 
 [[  78  168 1000 1432]]
frame:    0 / 0 - framerate: 8.669070 fps device: 'cuda' - 1 GPU(s) will be used
None
number of people :  1
bbox : 
 [[  0  12  92 276]]
frame:    0 / -9223372036854775808 - framerate: 12.153140 fps device: 'cuda' - 1 GPU(s) will be used
None
number of people :  1
bbox : 
 [[189  12 475 395]]
frame:    0 / 0 - framerate: 12.739429 fps device: 'cuda' - 1 GPU(s) will be used
None
number of people :  1
bbox : 
 [[  0  14 153 478]]
frame:    0 / -9223372036854775808 - framerate: 13.936417 fps device: 'cuda' - 1 GPU(s) will be used
None
number of people :  1
bbox : 
 [[   0  221 3456 5003]]
frame:    0 / 0 - framerate: 2.166731 fps device: 'cuda' - 1 GPU(s) will be used
None
number of people :  1
bbox : 
 [[  0  25 112 359]]
frame:    0 / -9223372036854775808 - framerate: 14.259986 fps device: 'cuda' - 1 GPU(s) will be used
None
number of people :  1
bbox : 
 [[  0  63 508 748]]
frame:    0 / 0 - framerate: 12.896622 fps device: 'cuda' - 1 GPU(s) will be used
None
number of people :  1
bbox : 
 [[  0  27 326 950]]
frame:    0 / -9223372036854775808 - framerate: 12.089457 fps device: 'cuda' - 1 GPU(s) will be used
None
number of people :  1
bbox : 
 [[ 649  174 2597 2773]]
frame:    0 / 0 - framerate: 4.265604 fps device: 'cuda' - 1 GPU(s) will be used
None
number of people :  1
bbox : 
 [[ 147  273  907 1286]]
frame:    0 / 0 - framerate: 11.097510 fps device: 'cuda' - 1 GPU(s) will be used
None
number of people :  1
bbox : 
 [[  0  24 123 326]]
frame:    0 / -9223372036854775808 - framerate: 14.396002 fps device: 'cuda' - 1 GPU(s) will be used
None
number of people :  1
bbox : 
 [[156   7 722 761]]
frame:    0 / 0 - framerate: 11.173310 fps device: 'cuda' - 1 GPU(s) will be used
None
number of people :  1
bbox : 
 [[  0  22  99 259]]
frame:    0 / -9223372036854775808 - framerate: 12.221593 fps device: 'cuda' - 1 GPU(s) will be used
None
number of people :  1
bbox : 
 [[374  17 850 652]]
frame:    0 / 0 - framerate: 11.941657 fps device: 'cuda' - 1 GPU(s) will be used
None
number of people :  1
bbox : 
 [[   0   17  632 1763]]
frame:    0 / -9223372036854775808 - framerate: 8.772437 fps device: 'cuda' - 1 GPU(s) will be used
None
number of people :  1
bbox : 
 [[   0   86  863 1241]]
frame:    0 / 0 - framerate: 10.257982 fps device: 'cuda' - 1 GPU(s) will be used
None
number of people :  1
bbox : 
 [[  0  26 245 513]]
frame:    0 / -9223372036854775808 - framerate: 12.753257 fps device: 'cuda' - 1 GPU(s) will be used
None
number of people :  1
bbox : 
 [[  9  46 545 760]]
frame:    0 / 0 - framerate: 12.661094 fps device: 'cuda' - 1 GPU(s) will be used
None
number of people :  1
bbox : 
 [[   0   68  410 1211]]
frame:    0 / -9223372036854775808 - framerate: 10.796149 fps device: 'cuda' - 1 GPU(s) will be used
None
number of people :  1
bbox : 
 [[ 25  68 233 346]]
frame:    0 / 0 - framerate: 13.979196 fps device: 'cuda' - 1 GPU(s) will be used
None
number of people :  1
bbox : 
 [[  62  154  918 1295]]
frame:    0 / 0 - framerate: 9.260810 fps device: 'cuda' - 1 GPU(s) will be used
None
number of people :  1
bbox : 
 [[  0  63 258 830]]
frame:    0 / -9223372036854775808 - framerate: 12.647960 fps device: 'cuda' - 1 GPU(s) will be used
None
number of people :  1
bbox : 
 [[188  26 408 319]]
frame:    0 / 0 - framerate: 13.621629 fps device: 'cuda' - 1 GPU(s) will be used
None
number of people :  1
bbox : 
 [[  0   3 164 330]]
frame:    0 / -9223372036854775808 - framerate: 14.176172 fps device: 'cuda' - 1 GPU(s) will be used
None
number of people :  1
bbox : 
 [[1263  216 3763 3551]]
frame:    0 / 0 - framerate: 2.429764 fps device: 'cuda' - 1 GPU(s) will be used
None
number of people :  1
bbox : 
 [[  0  31 198 572]]
frame:    0 / -9223372036854775808 - framerate: 11.273374 fps device: 'cuda' - 1 GPU(s) will be used
None
number of people :  1
bbox : 
 [[  30   67  832 1138]]
frame:    0 / 0 - framerate: 9.078384 fps device: 'cuda' - 1 GPU(s) will be used
None
number of people :  1
bbox : 
 [[ 180  178  800 1004]]
frame:    0 / 0 - framerate: 9.622523 fps device: 'cuda' - 1 GPU(s) will be used
None
number of people :  1
bbox : 
 [[213 100 491 472]]
frame:    0 / 0 - framerate: 11.032764 fps device: 'cuda' - 1 GPU(s) will be used
None
number of people :  1
bbox : 
 [[246 165 806 912]]
frame:    0 / 0 - framerate: 10.818789 fps device: 'cuda' - 1 GPU(s) will be used
None
number of people :  1
bbox : 
 [[  0  29 337 515]]
frame:    0 / -9223372036854775808 - framerate: 12.981121 fps device: 'cuda' - 1 GPU(s) will be used
None
number of people :  1
bbox : 
 [[ 88  81 296 360]]
frame:    0 / 0 - framerate: 13.691663 fps device: 'cuda' - 1 GPU(s) will be used
None
number of people :  1
bbox : 
 [[ 199  363  815 1184]]
frame:    0 / 0 - framerate: 11.598169 fps device: 'cuda' - 1 GPU(s) will be used
None
number of people :  1
bbox : 
 [[   0   74  560 1762]]
frame:    0 / -9223372036854775808 - framerate: 9.727253 fps device: 'cuda' - 1 GPU(s) will be used
None
number of people :  1
bbox : 
 [[372  24 724 495]]
frame:    0 / 0 - framerate: 13.049091 fps device: 'cuda' - 1 GPU(s) will be used
None
number of people :  1
bbox : 
 [[330 103 658 542]]
frame:    0 / 0 - framerate: 12.391586 fps device: 'cuda' - 1 GPU(s) will be used
None
number of people :  1
bbox : 
 [[ 420  251 1080 1251]]
frame:    0 / 0 - framerate: 11.281228 fps device: 'cuda' - 1 GPU(s) will be used
None
number of people :  1
bbox : 
 [[  0  13 269 998]]
frame:    0 / -9223372036854775808 - framerate: 12.051940 fps device: 'cuda' - 1 GPU(s) will be used
None
number of people :  1
bbox : 
 [[  0  53 384 577]]
frame:    0 / 0 - framerate: 13.442076 fps device: 'cuda' - 1 GPU(s) will be used
None
number of people :  1
bbox : 
 [[  7   9 573 763]]
frame:    0 / -9223372036854775808 - framerate: 11.661242 fps device: 'cuda' - 1 GPU(s) will be used
None
number of people :  1
bbox : 
 [[ 981  195 2199 1819]]
frame:    0 / 0 - framerate: 7.658507 fps device: 'cuda' - 1 GPU(s) will be used
None
number of people :  1
bbox : 
 [[   0   65  417 1227]]
frame:    0 / -9223372036854775808 - framerate: 9.555029 fps device: 'cuda' - 1 GPU(s) will be used
[mjpeg @ 0x46a5a40] error y=100 x=91
None
number of people :  1
bbox : 
 [[1759  845 2895 2360]]
frame:    0 / 0 - framerate: 4.461019 fps device: 'cuda' - 1 GPU(s) will be used
None
number of people :  1
bbox : 
 [[  0  13 198 378]]
frame:    0 / -9223372036854775808 - framerate: 12.135805 fps device: 'cuda' - 1 GPU(s) will be used
None
number of people :  1
bbox : 
 [[ 25  68 233 346]]
frame:    0 / 0 - framerate: 12.832112 fps device: 'cuda' - 1 GPU(s) will be used
None
number of people :  1
bbox : 
 [[423 278 679 619]]
frame:    0 / 0 - framerate: 12.622002 fps device: 'cuda' - 1 GPU(s) will be used
None
number of people :  0
bbox : 
 []
frame:    0 / 0 - framerate: 30.049678 fps device: 'cuda' - 1 GPU(s) will be used
None
number of people :  2
bbox : 
 [[218 427 594 930]
 [933 482 976 541]]
frame:    0 / 0 - framerate: 11.287816 fps device: 'cuda' - 1 GPU(s) will be used
None
number of people :  1
bbox : 
 [[  0  19  83 225]]
frame:    0 / -9223372036854775808 - framerate: 14.689282 fps device: 'cuda' - 1 GPU(s) will be used
None
number of people :  1
bbox : 
 [[   0   94  695 1057]]
frame:    0 / 0 - framerate: 11.597207 fps device: 'cuda' - 1 GPU(s) will be used
None
number of people :  1
bbox : 
 [[  0  43 128 292]]
frame:    0 / -9223372036854775808 - framerate: 14.379813 fps device: 'cuda' - 1 GPU(s) will be used
None
number of people :  1
bbox : 
 [[1278  455 3030 2792]]
frame:    0 / 0 - framerate: 4.800046 fps device: 'cuda' - 1 GPU(s) will be used
None
number of people :  1
bbox : 
 [[   0   51  311 1069]]
frame:    0 / -9223372036854775808 - framerate: 11.949788 fps device: 'cuda' - 1 GPU(s) will be used
None
number of people :  1
bbox : 
 [[ 897  209 2079 1786]]
frame:    0 / 0 - framerate: 7.177640 fps device: 'cuda' - 1 GPU(s) will be used
None
number of people :  1
bbox : 
 [[  65   40 1021 1315]]
frame:    0 / 0 - framerate: 9.657930 fps device: 'cuda' - 1 GPU(s) will be used
None
number of people :  1
bbox : 
 [[   0  231 1806 4017]]
frame:    0 / -9223372036854775808 - framerate: 3.478940 fps device: 'cuda' - 1 GPU(s) will be used
None
number of people :  1
bbox : 
 [[  0  37 670 949]]
frame:    0 / 0 - framerate: 11.675688 fps device: 'cuda' - 1 GPU(s) will be used
None
number of people :  1
bbox : 
 [[  0  55 190 468]]
frame:    0 / -9223372036854775808 - framerate: 13.143138 fps device: 'cuda' - 1 GPU(s) will be used
None
number of people :  1
bbox : 
 [[121  78 471 546]]
frame:    0 / 0 - framerate: 12.688327 fps device: 'cuda' - 1 GPU(s) will be used
None
number of people :  1
bbox : 
 [[  0  18 129 434]]
frame:    0 / -9223372036854775808 - framerate: 13.928873 fps device: 'cuda' - 1 GPU(s) will be used
None
number of people :  1
bbox : 
 [[156   7 722 761]]
frame:    0 / 0 - framerate: 11.336845 fps device: 'cuda' - 1 GPU(s) will be used
None
number of people :  1
bbox : 
 [[   0   31  647 1041]]
frame:    0 / 0 - framerate: 11.504198 fps device: 'cuda' - 1 GPU(s) will be used
None
number of people :  1
bbox : 
 [[  0  18 139 437]]
frame:    0 / -9223372036854775808 - framerate: 14.072626 fps device: 'cuda' - 1 GPU(s) will be used
None
number of people :  1
bbox : 
 [[275  41 579 448]]
frame:    0 / 0 - framerate: 13.764046 fps device: 'cuda' - 1 GPU(s) will be used
None
number of people :  1
bbox : 
 [[  0  20 140 426]]
frame:    0 / -9223372036854775808 - framerate: 14.099591 fps device: 'cuda' - 1 GPU(s) will be used
None
number of people :  1
bbox : 
 [[  0  15 171 439]]
frame:    0 / -9223372036854775808 - framerate: 12.025264 fps device: 'cuda' - 1 GPU(s) will be used
None
number of people :  1
bbox : 
 [[ 190   44 1018 1148]]
frame:    0 / 0 - framerate: 9.225469 fps device: 'cuda' - 1 GPU(s) will be used
None
number of people :  1
bbox : 
 [[  0  18 199 560]]
frame:    0 / -9223372036854775808 - framerate: 12.664267 fps device: 'cuda' - 1 GPU(s) will be used
None
number of people :  1
bbox : 
 [[   0  233  746 1240]]
frame:    0 / 0 - framerate: 11.011967 fps device: 'cuda' - 1 GPU(s) will be used
None
number of people :  1
bbox : 
 [[   0   96  814 1222]]
frame:    0 / 0 - framerate: 10.028078 fps device: 'cuda' - 1 GPU(s) will be used
None
number of people :  1
bbox : 
 [[   0   94  629 1529]]
frame:    0 / -9223372036854775808 - framerate: 9.333577 fps device: 'cuda' - 1 GPU(s) will be used
None
number of people :  1
bbox : 
 [[ 37  95 635 893]]
frame:    0 / 0 - framerate: 12.491189 fps device: 'cuda' - 1 GPU(s) will be used
None
number of people :  0
bbox : 
 []
frame:    0 / -9223372036854775808 - framerate: 27.870055 fps device: 'cuda' - 1 GPU(s) will be used
None
number of people :  1
bbox : 
 [[   0  129 1202 2837]]
frame:    0 / -9223372036854775808 - framerate: 6.299683 fps device: 'cuda' - 1 GPU(s) will be used
None
number of people :  2
bbox : 
 [[ 23  90 657 936]
 [308  61 490 304]]
frame:    0 / 0 - framerate: 10.854936 fps device: 'cuda' - 1 GPU(s) will be used
None
number of people :  1
bbox : 
 [[  0   0 113 250]]
frame:    0 / -9223372036854775808 - framerate: 14.383117 fps device: 'cuda' - 1 GPU(s) will be used
None
number of people :  1
bbox : 
 [[ 51  14 307 355]]
frame:    0 / 0 - framerate: 14.088461 fps device: 'cuda' - 1 GPU(s) will be used
None
number of people :  1
bbox : 
 [[462 453 694 764]]
frame:    0 / 0 - framerate: 11.043920 fps device: 'cuda' - 1 GPU(s) will be used
None
number of people :  1
bbox : 
 [[   0   98  421 1191]]
frame:    0 / -9223372036854775808 - framerate: 10.465144 fps device: 'cuda' - 1 GPU(s) will be used
None
number of people :  1
bbox : 
 [[116  24 482 513]]
frame:    0 / 0 - framerate: 13.391476 fps device: 'cuda' - 1 GPU(s) will be used
None
number of people :  1
bbox : 
 [[  0  39 170 428]]
frame:    0 / -9223372036854775808 - framerate: 14.050611 fps device: 'cuda' - 1 GPU(s) will be used
None
number of people :  1
bbox : 
 [[  0  63 508 748]]
frame:    0 / 0 - framerate: 12.972649 fps device: 'cuda' - 1 GPU(s) will be used
None
number of people :  1
bbox : 
 [[ 161   93  897 1076]]
frame:    0 / 0 - framerate: 10.206386 fps device: 'cuda' - 1 GPU(s) will be used
None
number of people :  1
bbox : 
 [[  0  58 255 777]]
frame:    0 / -9223372036854775808 - framerate: 12.698507 fps device: 'cuda' - 1 GPU(s) will be used
None
number of people :  1
bbox : 
 [[ 87  80 297 361]]
frame:    0 / 0 - framerate: 13.758402 fps device: 'cuda' - 1 GPU(s) will be used
None
number of people :  1
bbox : 
 [[   0   23  657 1585]]
frame:    0 / -9223372036854775808 - framerate: 9.248557 fps device: 'cuda' - 1 GPU(s) will be used
None
number of people :  0
bbox : 
 []
frame:    0 / 0 - framerate: 29.558168 fps device: 'cuda' - 1 GPU(s) will be used
None
number of people :  1
bbox : 
 [[   0   32  423 1231]]
frame:    0 / -9223372036854775808 - framerate: 11.070183 fps device: 'cuda' - 1 GPU(s) will be used
None
number of people :  1
bbox : 
 [[  0  96 556 837]]
frame:    0 / 0 - framerate: 12.201292 fps device: 'cuda' - 1 GPU(s) will be used
None
number of people :  1
bbox : 
 [[  0  43 227 623]]
frame:    0 / -9223372036854775808 - framerate: 11.151594 fps device: 'cuda' - 1 GPU(s) will be used
None
number of people :  1
bbox : 
 [[ 65  46 297 355]]
frame:    0 / 0 - framerate: 11.857930 fps device: 'cuda' - 1 GPU(s) will be used
None
number of people :  1
bbox : 
 [[374  17 850 652]]
frame:    0 / 0 - framerate: 10.461724 fps device: 'cuda' - 1 GPU(s) will be used
None
number of people :  1
bbox : 
 [[   0   86  863 1241]]
frame:    0 / 0 - framerate: 9.169361 fps device: 'cuda' - 1 GPU(s) will be used
None
number of people :  4
bbox : 
 [[ 133   55  847 1007]
 [ 461   94 1080  980]
 [   0  186  541 1013]
 [ 645  451  691  514]]
frame:    0 / 0 - framerate: 6.310906 fps device: 'cuda' - 1 GPU(s) will be used
None
number of people :  1
bbox : 
 [[  0  77 438 852]]
frame:    0 / 0 - framerate: 11.592912 fps device: 'cuda' - 1 GPU(s) will be used
None
number of people :  1
bbox : 
 [[ 378  551  878 1217]]
frame:    0 / 0 - framerate: 10.777230 fps device: 'cuda' - 1 GPU(s) will be used
None
number of people :  1
bbox : 
 [[ 73  81 477 621]]
frame:    0 / 0 - framerate: 11.961102 fps device: 'cuda' - 1 GPU(s) will be used
None
number of people :  1
bbox : 
 [[  99    7 1073 1305]]
frame:    0 / 0 - framerate: 9.497906 fps device: 'cuda' - 1 GPU(s) will be used
None
number of people :  1
bbox : 
 [[   0  116 1331 1966]]
frame:    0 / 0 - framerate: 8.254099 fps device: 'cuda' - 1 GPU(s) will be used
None
number of people :  0
bbox : 
 []
frame:    0 / 0 - framerate: 26.430636 fps device: 'cuda' - 1 GPU(s) will be used
None
number of people :  1
bbox : 
 [[187  34 465 404]]
frame:    0 / 0 - framerate: 12.398326 fps device: 'cuda' - 1 GPU(s) will be used
None
number of people :  1
bbox : 
 [[  0  33 138 402]]
frame:    0 / -9223372036854775808 - framerate: 14.134038 fps device: 'cuda' - 1 GPU(s) will be used
None
number of people :  1
bbox : 
 [[ 199  391 2271 3153]]
frame:    0 / 0 - framerate: 4.356632 fps device: 'cuda' - 1 GPU(s) will be used
None
number of people :  1
bbox : 
 [[245  50 589 509]]
frame:    0 / 0 - framerate: 13.365233 fps device: 'cuda' - 1 GPU(s) will be used
None
number of people :  1
bbox : 
 [[347 343 797 944]]
frame:    0 / 0 - framerate: 10.452130 fps device: 'cuda' - 1 GPU(s) will be used
None
number of people :  1
bbox : 
 [[  3  16 300 482]]
frame:    0 / 0 - framerate: 11.891853 fps device: 'cuda' - 1 GPU(s) will be used
None
number of people :  1
bbox : 
 [[ 256  182  874 1006]]
frame:    0 / 0 - framerate: 8.946703 fps device: 'cuda' - 1 GPU(s) will be used
None
number of people :  1
bbox : 
 [[ 16  20 148 196]]
frame:    0 / 0 - framerate: 12.626828 fps device: 'cuda' - 1 GPU(s) will be used
None
number of people :  1
bbox : 
 [[  0  18 158 331]]
frame:    0 / -9223372036854775808 - framerate: 12.674064 fps device: 'cuda' - 1 GPU(s) will be used
None
number of people :  1
bbox : 
 [[   0  165 1257 1932]]
frame:    0 / 0 - framerate: 8.647176 fps device: 'cuda' - 1 GPU(s) will be used
None
number of people :  2
bbox : 
 [[ 490  101  912  665]
 [1016  478 1048  521]]
frame:    0 / 0 - framerate: 10.395913 fps device: 'cuda' - 1 GPU(s) will be used
None
number of people :  1
bbox : 
 [[   7   32  957 1300]]
frame:    0 / 0 - framerate: 9.742346 fps device: 'cuda' - 1 GPU(s) will be used
None
number of people :  1
bbox : 
 [[230  40 474 367]]
frame:    0 / 0 - framerate: 13.186359 fps device: 'cuda' - 1 GPU(s) will be used
None
number of people :  1
bbox : 
 [[  3  16 300 482]]
frame:    0 / 0 - framerate: 13.659469 fps device: 'cuda' - 1 GPU(s) will be used
None
number of people :  1
bbox : 
 [[  0  19 625 982]]
frame:    0 / 0 - framerate: 10.853869 fps device: 'cuda' - 1 GPU(s) will be used
None
number of people :  2
bbox : 
 [[ 301  657  759 1268]
 [ 402  678  632  985]]
frame:    0 / 0 - framerate: 10.838107 fps device: 'cuda' - 1 GPU(s) will be used
None
number of people :  1
bbox : 
 [[303  61 989 975]]
frame:    0 / 0 - framerate: 10.277537 fps device: 'cuda' - 1 GPU(s) will be used
None
number of people :  1
bbox : 
 [[400   8 914 695]]
frame:    0 / 0 - framerate: 11.063350 fps device: 'cuda' - 1 GPU(s) will be used
None
number of people :  1
bbox : 
 [[ 212  113  882 1007]]
frame:    0 / 0 - framerate: 10.015555 fps device: 'cuda' - 1 GPU(s) will be used
None
number of people :  1
bbox : 
 [[143 232 649 907]]
frame:    0 / 0 - framerate: 11.545969 fps device: 'cuda' - 1 GPU(s) will be used
None
number of people :  1
bbox : 
 [[ 202  197  986 1242]]
frame:    0 / 0 - framerate: 10.296156 fps device: 'cuda' - 1 GPU(s) will be used
None
number of people :  1
bbox : 
 [[ 16  20 148 196]]
frame:    0 / 0 - framerate: 13.327817 fps device: 'cuda' - 1 GPU(s) will be used
None
number of people :  1
bbox : 
 [[   0  127  740 1716]]
frame:    0 / 0 - framerate: 9.853185 fps device: 'cuda' - 1 GPU(s) will be used
None
number of people :  1
bbox : 
 [[   0   62  858 1262]]
frame:    0 / 0 - framerate: 10.148574 fps device: 'cuda' - 1 GPU(s) will be used
None
number of people :  1
bbox : 
 [[130  56 836 997]]
frame:    0 / 0 - framerate: 11.566282 fps device: 'cuda' - 1 GPU(s) will be used
None
number of people :  1
bbox : 
 [[140  71 812 967]]
frame:    0 / 0 - framerate: 11.390415 fps device: 'cuda' - 1 GPU(s) will be used
None
number of people :  1
bbox : 
 [[ 39  72 711 968]]
frame:    0 / 0 - framerate: 10.647522 fps device: 'cuda' - 1 GPU(s) will be used
None
number of people :  2
bbox : 
 [[ 202  262  898 1191]
 [ 460  487  506  549]]
frame:    0 / 0 - framerate: 10.266368 fps device: 'cuda' - 1 GPU(s) will be used
None
number of people :  1
bbox : 
 [[443 521 719 889]]
frame:    0 / 0 - framerate: 11.172149 fps device: 'cuda' - 1 GPU(s) will be used
None
number of people :  1
bbox : 
 [[ 256  182  874 1006]]
frame:    0 / 0 - framerate: 9.256926 fps device: 'cuda' - 1 GPU(s) will be used
None
number of people :  1
bbox : 
 [[ 253  143  923 1036]]
frame:    0 / 0 - framerate: 10.293781 fps device: 'cuda' - 1 GPU(s) will be used
None
number of people :  1
bbox : 
 [[  0  23 230 349]]
frame:    0 / 0 - framerate: 12.867858 fps device: 'cuda' - 1 GPU(s) will be used
None
number of people :  1
bbox : 
 [[410  82 804 609]]
frame:    0 / 0 - framerate: 12.128365 fps device: 'cuda' - 1 GPU(s) will be used
None
number of people :  1
bbox : 
 [[ 47  73 626 882]]
frame:    0 / 0 - framerate: 12.655402 fps device: 'cuda' - 1 GPU(s) will be used
None
number of people :  1
bbox : 
 [[   0   13  906 1255]]
frame:    0 / 0 - framerate: 10.389450 fps device: 'cuda' - 1 GPU(s) will be used
None
number of people :  1
bbox : 
 [[ 452   14 1200 1012]]
frame:    0 / 0 - framerate: 11.236529 fps device: 'cuda' - 1 GPU(s) will be used
None
number of people :  1
bbox : 
 [[   0  165 1257 1933]]
frame:    0 / 0 - framerate: 8.820031 fps device: 'cuda' - 1 GPU(s) will be used
None
number of people :  1
bbox : 
 [[  0  37 320 590]]
frame:    0 / 0 - framerate: 13.487766 fps device: 'cuda' - 1 GPU(s) will be used
None
number of people :  1
bbox : 
 [[  0  22 333 480]]
frame:    0 / 0 - framerate: 13.696492 fps device: 'cuda' - 1 GPU(s) will be used
None
number of people :  1
bbox : 
 [[ 25   8 163 193]]
frame:    0 / 0 - framerate: 14.376363 fps device: 'cuda' - 1 GPU(s) will be used
None
number of people :  1
bbox : 
 [[   0  130  758 1261]]
frame:    0 / 0 - framerate: 10.823144 fps device: 'cuda' - 1 GPU(s) will be used
None
number of people :  1
bbox : 
 [[ 372   70 1098 1038]]
frame:    0 / 0 - framerate: 11.520471 fps device: 'cuda' - 1 GPU(s) will be used
None
number of people :  1
bbox : 
 [[267  66 465 331]]
frame:    0 / 0 - framerate: 11.920852 fps device: 'cuda' - 1 GPU(s) will be used
None
number of people :  1
bbox : 
 [[ 73  15 467 542]]
frame:    0 / 0 - framerate: 11.491622 fps device: 'cuda' - 1 GPU(s) will be used
None
number of people :  2
bbox : 
 [[746 230 880 410]
 [285  86 629 544]]
frame:    0 / 0 - framerate: 10.901290 fps device: 'cuda' - 1 GPU(s) will be used
None
number of people :  1
bbox : 
 [[  0  22 486 732]]
frame:    0 / 0 - framerate: 12.055161 fps device: 'cuda' - 1 GPU(s) will be used
None
number of people :  1
bbox : 
 [[  37  259  605 1016]]
frame:    0 / 0 - framerate: 12.475399 fps device: 'cuda' - 1 GPU(s) will be used
None
number of people :  1
bbox : 
 [[ 46   2 292 330]]
frame:    0 / 0 - framerate: 13.872943 fps device: 'cuda' - 1 GPU(s) will be used
None
number of people :  1
bbox : 
 [[176  34 490 453]]
frame:    0 / 0 - framerate: 13.189552 fps device: 'cuda' - 1 GPU(s) will be used
None
number of people :  1
bbox : 
 [[  84  227  676 1018]]
frame:    0 / 0 - framerate: 10.425786 fps device: 'cuda' - 1 GPU(s) will be used
None
number of people :  1
bbox : 
 [[   0   53  703 1071]]
frame:    0 / 0 - framerate: 11.847112 fps device: 'cuda' - 1 GPU(s) will be used
None
number of people :  1
bbox : 
 [[ 30  34 192 251]]
frame:    0 / 0 - framerate: 14.282615 fps device: 'cuda' - 1 GPU(s) will be used
None
number of people :  1
bbox : 
 [[ 21  44 337 467]]
frame:    0 / 0 - framerate: 13.577271 fps device: 'cuda' - 1 GPU(s) will be used
None
number of people :  1
bbox : 
 [[169  16 435 372]]
frame:    0 / 0 - framerate: 13.650445 fps device: 'cuda' - 1 GPU(s) will be used
None
number of people :  1
bbox : 
 [[   0   62  858 1262]]
frame:    0 / 0 - framerate: 9.185103 fps device: 'cuda' - 1 GPU(s) will be used
None
number of people :  1
bbox : 
 [[ 31  68 600 846]]
frame:    0 / 0 - framerate: 11.425633 fps device: 'cuda' - 1 GPU(s) will be used
None
number of people :  1
bbox : 
 [[185   9 475 397]]
frame:    0 / 0 - framerate: 13.432820 fps device: 'cuda' - 1 GPU(s) will be used
None
number of people :  1
bbox : 
 [[ 802   55 1520 1013]]
frame:    0 / 0 - framerate: 11.323134 fps device: 'cuda' - 1 GPU(s) will be used
None
number of people :  1
bbox : 
 [[ 99  16 211 165]]
frame:    0 / 0 - framerate: 14.706536 fps device: 'cuda' - 1 GPU(s) will be used
None
number of people :  1
bbox : 
 [[ 34   8 152 167]]
frame:    0 / 0 - framerate: 14.325200 fps device: 'cuda' - 1 GPU(s) will be used
None
number of people :  1
bbox : 
 [[  8  50 152 242]]
frame:    0 / 0 - framerate: 13.854979 fps device: 'cuda' - 1 GPU(s) will be used
None
number of people :  1
bbox : 
 [[ 18  47 150 223]]
frame:    0 / 0 - framerate: 14.093243 fps device: 'cuda' - 1 GPU(s) will be used
None
number of people :  1
bbox : 
 [[  4  31 160 240]]
frame:    0 / 0 - framerate: 14.220004 fps device: 'cuda' - 1 GPU(s) will be used
None
number of people :  1
bbox : 
 [[  0  26 169 263]]
frame:    0 / 0 - framerate: 13.991740 fps device: 'cuda' - 1 GPU(s) will be used
None
number of people :  1
bbox : 
 [[ 78   7 198 167]]
frame:    0 / 0 - framerate: 14.371979 fps device: 'cuda' - 1 GPU(s) will be used
None
number of people :  1
bbox : 
 [[197   5 300 152]]
frame:    0 / 0 - framerate: 14.708960 fps device: 'cuda' - 1 GPU(s) will be used
None
number of people :  1
bbox : 
 [[  0  20 169 258]]
frame:    0 / 0 - framerate: 11.925326 fps device: 'cuda' - 1 GPU(s) will be used
None
number of people :  1
bbox : 
 [[110  29 202 151]]
frame:    0 / 0 - framerate: 12.192071 fps device: 'cuda' - 1 GPU(s) will be used
None
number of people :  1
bbox : 
 [[ 71  14 177 157]]
frame:    0 / 0 - framerate: 12.491970 fps device: 'cuda' - 1 GPU(s) will be used
None
number of people :  1
bbox : 
 [[ 13  25 173 245]]
frame:    0 / 0 - framerate: 12.350682 fps device: 'cuda' - 1 GPU(s) will be used
None
number of people :  1
bbox : 
 [[  4  24 160 233]]
frame:    0 / 0 - framerate: 12.517732 fps device: 'cuda' - 1 GPU(s) will be used
None
number of people :  1
bbox : 
 [[ 36  45 179 244]]
frame:    0 / 0 - framerate: 13.219775 fps device: 'cuda' - 1 GPU(s) will be used
None
number of people :  1
bbox : 
 [[ 68   0 210 190]]
frame:    0 / 0 - framerate: 14.304729 fps device: 'cuda' - 1 GPU(s) will be used
None
number of people :  1
bbox : 
 [[ 81  20 181 153]]
frame:    0 / 0 - framerate: 14.719490 fps device: 'cuda' - 1 GPU(s) will be used
None
number of people :  1
bbox : 
 [[ 92  40 178 154]]
frame:    0 / 0 - framerate: 13.729489 fps device: 'cuda' - 1 GPU(s) will be used
None
number of people :  2
bbox : 
 [[ 21  97 145 264]
 [ 56  32 138 142]]
frame:    0 / 0 - framerate: 12.479779 fps device: 'cuda' - 1 GPU(s) will be used
None
number of people :  0
bbox : 
 []
frame:    0 / 0 - framerate: 40.149944 fps device: 'cuda' - 1 GPU(s) will be used
None
number of people :  0
bbox : 
 []
frame:    0 / 0 - framerate: 40.374491 fps device: 'cuda' - 1 GPU(s) will be used
None
number of people :  1
bbox : 
 [[151  41 235 154]]
frame:    0 / 0 - framerate: 12.367033 fps device: 'cuda' - 1 GPU(s) will be used
None
number of people :  1
bbox : 
 [[ 97  46 189 170]]
frame:    0 / 0 - framerate: 13.008458 fps device: 'cuda' - 1 GPU(s) will be used
None
number of people :  1
bbox : 
 [[ 56  31 190 209]]
frame:    0 / 0 - framerate: 12.872518 fps device: 'cuda' - 1 GPU(s) will be used
None
number of people :  1
bbox : 
 [[156  36 248 159]]
frame:    0 / 0 - framerate: 13.077326 fps device: 'cuda' - 1 GPU(s) will be used
None
number of people :  1
bbox : 
 [[117  29 229 178]]
frame:    0 / 0 - framerate: 13.157982 fps device: 'cuda' - 1 GPU(s) will be used
None
number of people :  1
bbox : 
 [[ 36  62 164 234]]
frame:    0 / 0 - framerate: 14.345681 fps device: 'cuda' - 1 GPU(s) will be used
None
number of people :  1
bbox : 
 [[  6  30 170 248]]
frame:    0 / 0 - framerate: 13.960398 fps device: 'cuda' - 1 GPU(s) will be used
None
number of people :  1
bbox : 
 [[ 67  24 177 170]]
frame:    0 / 0 - framerate: 14.301852 fps device: 'cuda' - 1 GPU(s) will be used
None
number of people :  0
bbox : 
 []
frame:    0 / 0 - framerate: 37.091475 fps device: 'cuda' - 1 GPU(s) will be used
None
number of people :  1
bbox : 
 [[ 86   7 212 175]]
frame:    0 / 0 - framerate: 14.232985 fps device: 'cuda' - 1 GPU(s) will be used
None
number of people :  0
bbox : 
 []
frame:    0 / 0 - framerate: 39.460946 fps device: 'cuda' - 1 GPU(s) will be used
None
number of people :  1
bbox : 
 [[ 22  27 182 241]]
frame:    0 / 0 - framerate: 14.327206 fps device: 'cuda' - 1 GPU(s) will be used
None
number of people :  1
bbox : 
 [[166  18 254 137]]
frame:    0 / 0 - framerate: 12.216040 fps device: 'cuda' - 1 GPU(s) will be used
None
number of people :  0
bbox : 
 []
frame:    0 / -9223372036854775808 - framerate: 36.817331 fps device: 'cuda' - 1 GPU(s) will be used
None
number of people :  1
bbox : 
 [[ 32  64 162 239]]
frame:    0 / 0 - framerate: 12.923564 fps device: 'cuda' - 1 GPU(s) will be used
None
number of people :  1
bbox : 
 [[115  33 161  95]]
frame:    0 / 0 - framerate: 14.048117 fps device: 'cuda' - 1 GPU(s) will be used
None
number of people :  1
bbox : 
 [[104  26 208 165]]
frame:    0 / 0 - framerate: 14.033968 fps device: 'cuda' - 1 GPU(s) will be used
None
number of people :  1
bbox : 
 [[ 41  56 141 189]]
frame:    0 / 0 - framerate: 14.228639 fps device: 'cuda' - 1 GPU(s) will be used
None
number of people :  1
bbox : 
 [[  0  32 120 318]]
frame:    0 / 0 - framerate: 14.634799 fps device: 'cuda' - 1 GPU(s) will be used
None
number of people :  1
bbox : 
 [[  0  12 132 391]]
frame:    0 / 0 - framerate: 14.576512 fps device: 'cuda' - 1 GPU(s) will be used
None
number of people :  1
bbox : 
 [[  0  36 165 269]]
frame:    0 / 0 - framerate: 14.650646 fps device: 'cuda' - 1 GPU(s) will be used
None
number of people :  0
bbox : 
 []
frame:    0 / 0 - framerate: 40.108095 fps device: 'cuda' - 1 GPU(s) will be used
None
number of people :  1
bbox : 
 [[  6  20 176 246]]
frame:    0 / 0 - framerate: 14.208058 fps device: 'cuda' - 1 GPU(s) will be used
None
number of people :  0
bbox : 
 []
frame:    0 / 0 - framerate: 38.152234 fps device: 'cuda' - 1 GPU(s) will be used
None
number of people :  0
bbox : 
 []
frame:    0 / -9223372036854775808 - framerate: 39.913441 fps device: 'cuda' - 1 GPU(s) will be used
None
number of people :  1
bbox : 
 [[  0  22 134 352]]
frame:    0 / 0 - framerate: 12.237139 fps device: 'cuda' - 1 GPU(s) will be used
None
number of people :  1
bbox : 
 [[  0  30 167 294]]
frame:    0 / 0 - framerate: 12.481190 fps device: 'cuda' - 1 GPU(s) will be used
None
number of people :  1
bbox : 
 [[ 25  21 173 219]]
frame:    0 / 0 - framerate: 12.564003 fps device: 'cuda' - 1 GPU(s) will be used
None
number of people :  2
bbox : 
 [[  3  39 127 204]
 [105  52 215 199]]
frame:    0 / 0 - framerate: 11.595444 fps device: 'cuda' - 1 GPU(s) will be used
None
number of people :  1
bbox : 
 [[ 24  42 182 254]]
frame:    0 / 0 - framerate: 13.401445 fps device: 'cuda' - 1 GPU(s) will be used
None
number of people :  2
bbox : 
 [[148  70 210 154]
 [181  10 285 150]]
frame:    0 / 0 - framerate: 12.981000 fps device: 'cuda' - 1 GPU(s) will be used
None
number of people :  1
bbox : 
 [[ 83  26 183 159]]
frame:    0 / 0 - framerate: 14.637250 fps device: 'cuda' - 1 GPU(s) will be used
None
number of people :  1
bbox : 
 [[116  29 230 181]]
frame:    0 / 0 - framerate: 13.817916 fps device: 'cuda' - 1 GPU(s) will be used
None
number of people :  1
bbox : 
 [[ 13  25 173 245]]
frame:    0 / 0 - framerate: 14.278676 fps device: 'cuda' - 1 GPU(s) will be used
None
number of people :  1
bbox : 
 [[  6  25 176 253]]
frame:    0 / 0 - framerate: 14.158562 fps device: 'cuda' - 1 GPU(s) will be used
None
number of people :  1
bbox : 
 [[  4  24 158 230]]
frame:    0 / 0 - framerate: 14.210369 fps device: 'cuda' - 1 GPU(s) will be used
None
number of people :  1
bbox : 
 [[ 20  37 183 268]]
frame:    0 / 0 - framerate: 13.977007 fps device: 'cuda' - 1 GPU(s) will be used
None
number of people :  1
bbox : 
 [[ 50  24 154 162]]
frame:    0 / 0 - framerate: 11.965163 fps usage: extract-keypoints.py [-h] [--format FORMAT] [--filename FILENAME]
                            [--hrnet_m HRNET_M] [--hrnet_c HRNET_C]
                            [--hrnet_j HRNET_J]
                            [--hrnet_weights HRNET_WEIGHTS]
                            [--image_resolution IMAGE_RESOLUTION]
                            [--single_person] [--use_tiny_yolo]
                            [--max_batch_size MAX_BATCH_SIZE]
                            [--csv_output_filename CSV_OUTPUT_FILENAME]
                            [--csv_delimiter CSV_DELIMITER]
                            [--json_output_filename JSON_OUTPUT_FILENAME]
                            [--device DEVICE]
extract-keypoints.py: error: unrecognized arguments: Image 2021-02-25 at 12.06.24 AM.jpeg Image 2021-02-25 at 12.json
/bin/bash: -c: line 0: syntax error near unexpected token `('
/bin/bash: -c: line 0: `python3 scripts/extract-keypoints.py        --filename ./images/tree/download (1).jpeg        --format json        --hrnet_weights weights/pose_hrnet_w48_384x288.pth        --json_output_filename ./json_output/tree/download (1).json'
/bin/bash: -c: line 0: syntax error near unexpected token `('
/bin/bash: -c: line 0: `python3 scripts/extract-keypoints.py        --filename ./images/tree/download (2).jpeg        --format json        --hrnet_weights weights/pose_hrnet_w48_384x288.pth        --json_output_filename ./json_output/tree/download (2).json'
/bin/bash: -c: line 0: syntax error near unexpected token `('
/bin/bash: -c: line 0: `python3 scripts/extract-keypoints.py        --filename ./images/tree/download (3).jpeg        --format json        --hrnet_weights weights/pose_hrnet_w48_384x288.pth        --json_output_filename ./json_output/tree/download (3).json'
/bin/bash: -c: line 0: syntax error near unexpected token `('
/bin/bash: -c: line 0: `python3 scripts/extract-keypoints.py        --filename ./images/tree/download (4).jpeg        --format json        --hrnet_weights weights/pose_hrnet_w48_384x288.pth        --json_output_filename ./json_output/tree/download (4).json'
/bin/bash: -c: line 0: syntax error near unexpected token `('
/bin/bash: -c: line 0: `python3 scripts/extract-keypoints.py        --filename ./images/tree/download (5).jpeg        --format json        --hrnet_weights weights/pose_hrnet_w48_384x288.pth        --json_output_filename ./json_output/tree/download (5).json'
/bin/bash: -c: line 0: syntax error near unexpected token `('
/bin/bash: -c: line 0: `python3 scripts/extract-keypoints.py        --filename ./images/tree/download (6).jpeg        --format json        --hrnet_weights weights/pose_hrnet_w48_384x288.pth        --json_output_filename ./json_output/tree/download (6).json'
/bin/bash: -c: line 0: syntax error near unexpected token `('
/bin/bash: -c: line 0: `python3 scripts/extract-keypoints.py        --filename ./images/tree/download (7).jpeg        --format json        --hrnet_weights weights/pose_hrnet_w48_384x288.pth        --json_output_filename ./json_output/tree/download (7).json'
device: 'cuda' - 1 GPU(s) will be used
None
number of people :  1
bbox : 
 [[ 99  16 211 165]]
frame:    0 / 0 - framerate: 13.223484 fps /bin/bash: -c: line 0: syntax error near unexpected token `('
/bin/bash: -c: line 0: `python3 scripts/extract-keypoints.py        --filename ./images/tree/images (1).jpeg        --format json        --hrnet_weights weights/pose_hrnet_w48_384x288.pth        --json_output_filename ./json_output/tree/images (1).json'
/bin/bash: -c: line 0: syntax error near unexpected token `('
/bin/bash: -c: line 0: `python3 scripts/extract-keypoints.py        --filename ./images/tree/images (1).png        --format json        --hrnet_weights weights/pose_hrnet_w48_384x288.pth        --json_output_filename ./json_output/tree/images (1).json'
/bin/bash: -c: line 0: syntax error near unexpected token `('
/bin/bash: -c: line 0: `python3 scripts/extract-keypoints.py        --filename ./images/tree/images (10).jpeg        --format json        --hrnet_weights weights/pose_hrnet_w48_384x288.pth        --json_output_filename ./json_output/tree/images (10).json'
/bin/bash: -c: line 0: syntax error near unexpected token `('
/bin/bash: -c: line 0: `python3 scripts/extract-keypoints.py        --filename ./images/tree/images (10).png        --format json        --hrnet_weights weights/pose_hrnet_w48_384x288.pth        --json_output_filename ./json_output/tree/images (10).json'
/bin/bash: -c: line 0: syntax error near unexpected token `('
/bin/bash: -c: line 0: `python3 scripts/extract-keypoints.py        --filename ./images/tree/images (11).jpeg        --format json        --hrnet_weights weights/pose_hrnet_w48_384x288.pth        --json_output_filename ./json_output/tree/images (11).json'
/bin/bash: -c: line 0: syntax error near unexpected token `('
/bin/bash: -c: line 0: `python3 scripts/extract-keypoints.py        --filename ./images/tree/images (11).png        --format json        --hrnet_weights weights/pose_hrnet_w48_384x288.pth        --json_output_filename ./json_output/tree/images (11).json'
/bin/bash: -c: line 0: syntax error near unexpected token `('
/bin/bash: -c: line 0: `python3 scripts/extract-keypoints.py        --filename ./images/tree/images (12).jpeg        --format json        --hrnet_weights weights/pose_hrnet_w48_384x288.pth        --json_output_filename ./json_output/tree/images (12).json'
/bin/bash: -c: line 0: syntax error near unexpected token `('
/bin/bash: -c: line 0: `python3 scripts/extract-keypoints.py        --filename ./images/tree/images (12).png        --format json        --hrnet_weights weights/pose_hrnet_w48_384x288.pth        --json_output_filename ./json_output/tree/images (12).json'
/bin/bash: -c: line 0: syntax error near unexpected token `('
/bin/bash: -c: line 0: `python3 scripts/extract-keypoints.py        --filename ./images/tree/images (13).jpeg        --format json        --hrnet_weights weights/pose_hrnet_w48_384x288.pth        --json_output_filename ./json_output/tree/images (13).json'
/bin/bash: -c: line 0: syntax error near unexpected token `('
/bin/bash: -c: line 0: `python3 scripts/extract-keypoints.py        --filename ./images/tree/images (13).png        --format json        --hrnet_weights weights/pose_hrnet_w48_384x288.pth        --json_output_filename ./json_output/tree/images (13).json'
/bin/bash: -c: line 0: syntax error near unexpected token `('
/bin/bash: -c: line 0: `python3 scripts/extract-keypoints.py        --filename ./images/tree/images (14).jpeg        --format json        --hrnet_weights weights/pose_hrnet_w48_384x288.pth        --json_output_filename ./json_output/tree/images (14).json'
/bin/bash: -c: line 0: syntax error near unexpected token `('
/bin/bash: -c: line 0: `python3 scripts/extract-keypoints.py        --filename ./images/tree/images (14).png        --format json        --hrnet_weights weights/pose_hrnet_w48_384x288.pth        --json_output_filename ./json_output/tree/images (14).json'
/bin/bash: -c: line 0: syntax error near unexpected token `('
/bin/bash: -c: line 0: `python3 scripts/extract-keypoints.py        --filename ./images/tree/images (15).jpeg        --format json        --hrnet_weights weights/pose_hrnet_w48_384x288.pth        --json_output_filename ./json_output/tree/images (15).json'
/bin/bash: -c: line 0: syntax error near unexpected token `('
/bin/bash: -c: line 0: `python3 scripts/extract-keypoints.py        --filename ./images/tree/images (15).png        --format json        --hrnet_weights weights/pose_hrnet_w48_384x288.pth        --json_output_filename ./json_output/tree/images (15).json'
/bin/bash: -c: line 0: syntax error near unexpected token `('
/bin/bash: -c: line 0: `python3 scripts/extract-keypoints.py        --filename ./images/tree/images (16).jpeg        --format json        --hrnet_weights weights/pose_hrnet_w48_384x288.pth        --json_output_filename ./json_output/tree/images (16).json'
/bin/bash: -c: line 0: syntax error near unexpected token `('
/bin/bash: -c: line 0: `python3 scripts/extract-keypoints.py        --filename ./images/tree/images (17).jpeg        --format json        --hrnet_weights weights/pose_hrnet_w48_384x288.pth        --json_output_filename ./json_output/tree/images (17).json'
/bin/bash: -c: line 0: syntax error near unexpected token `('
/bin/bash: -c: line 0: `python3 scripts/extract-keypoints.py        --filename ./images/tree/images (18).jpeg        --format json        --hrnet_weights weights/pose_hrnet_w48_384x288.pth        --json_output_filename ./json_output/tree/images (18).json'
/bin/bash: -c: line 0: syntax error near unexpected token `('
/bin/bash: -c: line 0: `python3 scripts/extract-keypoints.py        --filename ./images/tree/images (19).jpeg        --format json        --hrnet_weights weights/pose_hrnet_w48_384x288.pth        --json_output_filename ./json_output/tree/images (19).json'
/bin/bash: -c: line 0: syntax error near unexpected token `('
/bin/bash: -c: line 0: `python3 scripts/extract-keypoints.py        --filename ./images/tree/images (2).jpeg        --format json        --hrnet_weights weights/pose_hrnet_w48_384x288.pth        --json_output_filename ./json_output/tree/images (2).json'
/bin/bash: -c: line 0: syntax error near unexpected token `('
/bin/bash: -c: line 0: `python3 scripts/extract-keypoints.py        --filename ./images/tree/images (2).png        --format json        --hrnet_weights weights/pose_hrnet_w48_384x288.pth        --json_output_filename ./json_output/tree/images (2).json'
/bin/bash: -c: line 0: syntax error near unexpected token `('
/bin/bash: -c: line 0: `python3 scripts/extract-keypoints.py        --filename ./images/tree/images (20).jpeg        --format json        --hrnet_weights weights/pose_hrnet_w48_384x288.pth        --json_output_filename ./json_output/tree/images (20).json'
/bin/bash: -c: line 0: syntax error near unexpected token `('
/bin/bash: -c: line 0: `python3 scripts/extract-keypoints.py        --filename ./images/tree/images (21).jpeg        --format json        --hrnet_weights weights/pose_hrnet_w48_384x288.pth        --json_output_filename ./json_output/tree/images (21).json'
/bin/bash: -c: line 0: syntax error near unexpected token `('
/bin/bash: -c: line 0: `python3 scripts/extract-keypoints.py        --filename ./images/tree/images (22).jpeg        --format json        --hrnet_weights weights/pose_hrnet_w48_384x288.pth        --json_output_filename ./json_output/tree/images (22).json'
/bin/bash: -c: line 0: syntax error near unexpected token `('
/bin/bash: -c: line 0: `python3 scripts/extract-keypoints.py        --filename ./images/tree/images (23).jpeg        --format json        --hrnet_weights weights/pose_hrnet_w48_384x288.pth        --json_output_filename ./json_output/tree/images (23).json'
/bin/bash: -c: line 0: syntax error near unexpected token `('
/bin/bash: -c: line 0: `python3 scripts/extract-keypoints.py        --filename ./images/tree/images (24).jpeg        --format json        --hrnet_weights weights/pose_hrnet_w48_384x288.pth        --json_output_filename ./json_output/tree/images (24).json'
/bin/bash: -c: line 0: syntax error near unexpected token `('
/bin/bash: -c: line 0: `python3 scripts/extract-keypoints.py        --filename ./images/tree/images (25).jpeg        --format json        --hrnet_weights weights/pose_hrnet_w48_384x288.pth        --json_output_filename ./json_output/tree/images (25).json'
/bin/bash: -c: line 0: syntax error near unexpected token `('
/bin/bash: -c: line 0: `python3 scripts/extract-keypoints.py        --filename ./images/tree/images (26).jpeg        --format json        --hrnet_weights weights/pose_hrnet_w48_384x288.pth        --json_output_filename ./json_output/tree/images (26).json'
/bin/bash: -c: line 0: syntax error near unexpected token `('
/bin/bash: -c: line 0: `python3 scripts/extract-keypoints.py        --filename ./images/tree/images (27).jpeg        --format json        --hrnet_weights weights/pose_hrnet_w48_384x288.pth        --json_output_filename ./json_output/tree/images (27).json'
/bin/bash: -c: line 0: syntax error near unexpected token `('
/bin/bash: -c: line 0: `python3 scripts/extract-keypoints.py        --filename ./images/tree/images (28).jpeg        --format json        --hrnet_weights weights/pose_hrnet_w48_384x288.pth        --json_output_filename ./json_output/tree/images (28).json'
/bin/bash: -c: line 0: syntax error near unexpected token `('
/bin/bash: -c: line 0: `python3 scripts/extract-keypoints.py        --filename ./images/tree/images (29).jpeg        --format json        --hrnet_weights weights/pose_hrnet_w48_384x288.pth        --json_output_filename ./json_output/tree/images (29).json'
/bin/bash: -c: line 0: syntax error near unexpected token `('
/bin/bash: -c: line 0: `python3 scripts/extract-keypoints.py        --filename ./images/tree/images (3).jpeg        --format json        --hrnet_weights weights/pose_hrnet_w48_384x288.pth        --json_output_filename ./json_output/tree/images (3).json'
/bin/bash: -c: line 0: syntax error near unexpected token `('
/bin/bash: -c: line 0: `python3 scripts/extract-keypoints.py        --filename ./images/tree/images (3).png        --format json        --hrnet_weights weights/pose_hrnet_w48_384x288.pth        --json_output_filename ./json_output/tree/images (3).json'
/bin/bash: -c: line 0: syntax error near unexpected token `('
/bin/bash: -c: line 0: `python3 scripts/extract-keypoints.py        --filename ./images/tree/images (30).jpeg        --format json        --hrnet_weights weights/pose_hrnet_w48_384x288.pth        --json_output_filename ./json_output/tree/images (30).json'
/bin/bash: -c: line 0: syntax error near unexpected token `('
/bin/bash: -c: line 0: `python3 scripts/extract-keypoints.py        --filename ./images/tree/images (31).jpeg        --format json        --hrnet_weights weights/pose_hrnet_w48_384x288.pth        --json_output_filename ./json_output/tree/images (31).json'
/bin/bash: -c: line 0: syntax error near unexpected token `('
/bin/bash: -c: line 0: `python3 scripts/extract-keypoints.py        --filename ./images/tree/images (32).jpeg        --format json        --hrnet_weights weights/pose_hrnet_w48_384x288.pth        --json_output_filename ./json_output/tree/images (32).json'
/bin/bash: -c: line 0: syntax error near unexpected token `('
/bin/bash: -c: line 0: `python3 scripts/extract-keypoints.py        --filename ./images/tree/images (33).jpeg        --format json        --hrnet_weights weights/pose_hrnet_w48_384x288.pth        --json_output_filename ./json_output/tree/images (33).json'
/bin/bash: -c: line 0: syntax error near unexpected token `('
/bin/bash: -c: line 0: `python3 scripts/extract-keypoints.py        --filename ./images/tree/images (34).jpeg        --format json        --hrnet_weights weights/pose_hrnet_w48_384x288.pth        --json_output_filename ./json_output/tree/images (34).json'
/bin/bash: -c: line 0: syntax error near unexpected token `('
/bin/bash: -c: line 0: `python3 scripts/extract-keypoints.py        --filename ./images/tree/images (35).jpeg        --format json        --hrnet_weights weights/pose_hrnet_w48_384x288.pth        --json_output_filename ./json_output/tree/images (35).json'
/bin/bash: -c: line 0: syntax error near unexpected token `('
/bin/bash: -c: line 0: `python3 scripts/extract-keypoints.py        --filename ./images/tree/images (36).jpeg        --format json        --hrnet_weights weights/pose_hrnet_w48_384x288.pth        --json_output_filename ./json_output/tree/images (36).json'
/bin/bash: -c: line 0: syntax error near unexpected token `('
/bin/bash: -c: line 0: `python3 scripts/extract-keypoints.py        --filename ./images/tree/images (4).jpeg        --format json        --hrnet_weights weights/pose_hrnet_w48_384x288.pth        --json_output_filename ./json_output/tree/images (4).json'
/bin/bash: -c: line 0: syntax error near unexpected token `('
/bin/bash: -c: line 0: `python3 scripts/extract-keypoints.py        --filename ./images/tree/images (4).png        --format json        --hrnet_weights weights/pose_hrnet_w48_384x288.pth        --json_output_filename ./json_output/tree/images (4).json'
/bin/bash: -c: line 0: syntax error near unexpected token `('
/bin/bash: -c: line 0: `python3 scripts/extract-keypoints.py        --filename ./images/tree/images (5).jpeg        --format json        --hrnet_weights weights/pose_hrnet_w48_384x288.pth        --json_output_filename ./json_output/tree/images (5).json'
/bin/bash: -c: line 0: syntax error near unexpected token `('
/bin/bash: -c: line 0: `python3 scripts/extract-keypoints.py        --filename ./images/tree/images (5).png        --format json        --hrnet_weights weights/pose_hrnet_w48_384x288.pth        --json_output_filename ./json_output/tree/images (5).json'
/bin/bash: -c: line 0: syntax error near unexpected token `('
/bin/bash: -c: line 0: `python3 scripts/extract-keypoints.py        --filename ./images/tree/images (6).jpeg        --format json        --hrnet_weights weights/pose_hrnet_w48_384x288.pth        --json_output_filename ./json_output/tree/images (6).json'
/bin/bash: -c: line 0: syntax error near unexpected token `('
/bin/bash: -c: line 0: `python3 scripts/extract-keypoints.py        --filename ./images/tree/images (6).png        --format json        --hrnet_weights weights/pose_hrnet_w48_384x288.pth        --json_output_filename ./json_output/tree/images (6).json'
/bin/bash: -c: line 0: syntax error near unexpected token `('
/bin/bash: -c: line 0: `python3 scripts/extract-keypoints.py        --filename ./images/tree/images (7).jpeg        --format json        --hrnet_weights weights/pose_hrnet_w48_384x288.pth        --json_output_filename ./json_output/tree/images (7).json'
/bin/bash: -c: line 0: syntax error near unexpected token `('
/bin/bash: -c: line 0: `python3 scripts/extract-keypoints.py        --filename ./images/tree/images (7).png        --format json        --hrnet_weights weights/pose_hrnet_w48_384x288.pth        --json_output_filename ./json_output/tree/images (7).json'
/bin/bash: -c: line 0: syntax error near unexpected token `('
/bin/bash: -c: line 0: `python3 scripts/extract-keypoints.py        --filename ./images/tree/images (8).jpeg        --format json        --hrnet_weights weights/pose_hrnet_w48_384x288.pth        --json_output_filename ./json_output/tree/images (8).json'
/bin/bash: -c: line 0: syntax error near unexpected token `('
/bin/bash: -c: line 0: `python3 scripts/extract-keypoints.py        --filename ./images/tree/images (8).png        --format json        --hrnet_weights weights/pose_hrnet_w48_384x288.pth        --json_output_filename ./json_output/tree/images (8).json'
/bin/bash: -c: line 0: syntax error near unexpected token `('
/bin/bash: -c: line 0: `python3 scripts/extract-keypoints.py        --filename ./images/tree/images (9).jpeg        --format json        --hrnet_weights weights/pose_hrnet_w48_384x288.pth        --json_output_filename ./json_output/tree/images (9).json'
/bin/bash: -c: line 0: syntax error near unexpected token `('
/bin/bash: -c: line 0: `python3 scripts/extract-keypoints.py        --filename ./images/tree/images (9).png        --format json        --hrnet_weights weights/pose_hrnet_w48_384x288.pth        --json_output_filename ./json_output/tree/images (9).json'
device: 'cuda' - 1 GPU(s) will be used
None
number of people :  1
bbox : 
 [[ 37  18 173 199]]
frame:    0 / -9223372036854775808 - framerate: 13.345925 fps device: 'cuda' - 1 GPU(s) will be used
None
number of people :  1
bbox : 
 [[183  72 421 391]]
frame:    0 / 0 - framerate: 12.344612 fps 
In [67]:
for i in range(len(img_list_path04)):
    !python3 scripts/extract-keypoints.py \
      --filename {img_list_path04[i]} \
      --format json \
      --hrnet_weights weights/pose_hrnet_w48_384x288.pth \
      --json_output_filename {json_list_path04[i]}

device: 'cuda' - 1 GPU(s) will be used
None
number of people :  1
bbox : 
 [[ 30   0 413 225]]
frame:    0 / -9223372036854775808 - framerate: 12.960223 fps device: 'cuda' - 1 GPU(s) will be used
None
number of people :  1
bbox : 
 [[ 167    0 1640 1080]]
frame:    0 / 0 - framerate: 9.894677 fps device: 'cuda' - 1 GPU(s) will be used
None
number of people :  1
bbox : 
 [[ 93   0 600 380]]
frame:    0 / 0 - framerate: 13.206205 fps device: 'cuda' - 1 GPU(s) will be used
None
number of people :  1
bbox : 
 [[ 157    0 2064 1110]]
frame:    0 / 0 - framerate: 8.466397 fps device: 'cuda' - 1 GPU(s) will be used
None
number of people :  1
bbox : 
 [[ 171    0 1440  900]]
frame:    0 / 0 - framerate: 10.147493 fps device: 'cuda' - 1 GPU(s) will be used
None
number of people :  1
bbox : 
 [[ 189    0 2573 1843]]
frame:    0 / 0 - framerate: 6.382470 fps device: 'cuda' - 1 GPU(s) will be used
None
number of people :  1
bbox : 
 [[ 433    0 2940 2448]]
frame:    0 / 0 - framerate: 4.519602 fps device: 'cuda' - 1 GPU(s) will be used
None
number of people :  1
bbox : 
 [[176   0 822 720]]
frame:    0 / 0 - framerate: 10.770782 fps device: 'cuda' - 1 GPU(s) will be used
None
number of people :  1
bbox : 
 [[130   0 704 640]]
frame:    0 / 0 - framerate: 10.582404 fps device: 'cuda' - 1 GPU(s) will be used
None
number of people :  1
bbox : 
 [[ 209    0 1070  700]]
frame:    0 / 0 - framerate: 9.796159 fps device: 'cuda' - 1 GPU(s) will be used
None
number of people :  1
bbox : 
 [[ 30   0 359 231]]
frame:    0 / 0 - framerate: 12.955579 fps device: 'cuda' - 1 GPU(s) will be used
None
number of people :  1
bbox : 
 [[1088  196 3451 3000]]
frame:    0 / 0 - framerate: 4.061729 fps device: 'cuda' - 1 GPU(s) will be used
None
number of people :  1
bbox : 
 [[ 515   38 2421 2048]]
frame:    0 / 0 - framerate: 5.998109 fps device: 'cuda' - 1 GPU(s) will be used
None
number of people :  1
bbox : 
 [[ 292    0 1453 1013]]
frame:    0 / 0 - framerate: 8.221740 fps device: 'cuda' - 1 GPU(s) will be used
None
number of people :  1
bbox : 
 [[257   0 934 720]]
frame:    0 / 0 - framerate: 12.457206 fps device: 'cuda' - 1 GPU(s) will be used
None
number of people :  1
bbox : 
 [[  76  181  835 1024]]
frame:    0 / 0 - framerate: 11.673998 fps device: 'cuda' - 1 GPU(s) will be used
None
number of people :  1
bbox : 
 [[  63  144 1034 1437]]
frame:    0 / 0 - framerate: 9.651996 fps device: 'cuda' - 1 GPU(s) will be used
None
number of people :  1
bbox : 
 [[ 404    0 1620 1080]]
frame:    0 / 0 - framerate: 8.880104 fps device: 'cuda' - 1 GPU(s) will be used
None
number of people :  1
bbox : 
 [[ 231    0 2865 2204]]
frame:    0 / 0 - framerate: 5.103795 fps device: 'cuda' - 1 GPU(s) will be used
None
number of people :  1
bbox : 
 [[116   0 611 432]]
frame:    0 / 0 - framerate: 11.347703 fps device: 'cuda' - 1 GPU(s) will be used
None
number of people :  1
bbox : 
 [[305  47 956 675]]
frame:    0 / 0 - framerate: 10.960257 fps device: 'cuda' - 1 GPU(s) will be used
None
number of people :  1
bbox : 
 [[ 148    0 1076  992]]
frame:    0 / 0 - framerate: 9.692636 fps device: 'cuda' - 1 GPU(s) will be used
None
number of people :  1
bbox : 
 [[ 284    0 2713 2616]]
frame:    0 / 0 - framerate: 4.031213 fps device: 'cuda' - 1 GPU(s) will be used
None
number of people :  1
bbox : 
 [[114   0 881 667]]
frame:    0 / 0 - framerate: 11.345033 fps device: 'cuda' - 1 GPU(s) will be used
None
number of people :  1
bbox : 
 [[ 375    0 1247 1066]]
frame:    0 / 0 - framerate: 10.784435 fps device: 'cuda' - 1 GPU(s) will be used
None
number of people :  1
bbox : 
 [[ 218    0 1455  900]]
frame:    0 / 0 - framerate: 10.203754 fps device: 'cuda' - 1 GPU(s) will be used
None
number of people :  1
bbox : 
 [[ 161    0 1438 1066]]
frame:    0 / 0 - framerate: 10.263253 fps device: 'cuda' - 1 GPU(s) will be used
None
number of people :  1
bbox : 
 [[ 353  240 1662 1984]]
frame:    0 / 0 - framerate: 7.167337 fps device: 'cuda' - 1 GPU(s) will be used
None
number of people :  1
bbox : 
 [[ 11   0 379 208]]
frame:    0 / 0 - framerate: 14.270709 fps device: 'cuda' - 1 GPU(s) will be used
None
number of people :  1
bbox : 
 [[137   0 769 838]]
frame:    0 / 0 - framerate: 11.119605 fps device: 'cuda' - 1 GPU(s) will be used
None
number of people :  1
bbox : 
 [[  80    0 1225  629]]
frame:    0 / 0 - framerate: 9.725967 fps device: 'cuda' - 1 GPU(s) will be used
None
number of people :  1
bbox : 
 [[ 814    0 3824 3328]]
frame:    0 / 0 - framerate: 2.575232 fps device: 'cuda' - 1 GPU(s) will be used
None
number of people :  1
bbox : 
 [[ 198    0 1152 1000]]
frame:    0 / 0 - framerate: 9.450292 fps device: 'cuda' - 1 GPU(s) will be used
None
number of people :  1
bbox : 
 [[ 56   0 694 545]]
frame:    0 / 0 - framerate: 10.795927 fps device: 'cuda' - 1 GPU(s) will be used
None
number of people :  1
bbox : 
 [[ 751    0 3414 3000]]
frame:    0 / 0 - framerate: 3.290628 fps device: 'cuda' - 1 GPU(s) will be used
None
number of people :  1
bbox : 
 [[210   0 767 693]]
frame:    0 / 0 - framerate: 10.862414 fps device: 'cuda' - 1 GPU(s) will be used
None
number of people :  1
bbox : 
 [[151   0 525 349]]
frame:    0 / 0 - framerate: 11.842964 fps device: 'cuda' - 1 GPU(s) will be used
None
number of people :  1
bbox : 
 [[ 137    0 3189 2734]]
frame:    0 / 0 - framerate: 3.835630 fps device: 'cuda' - 1 GPU(s) will be used
None
number of people :  1
bbox : 
 [[ 32   0 420 291]]
frame:    0 / 0 - framerate: 12.336261 fps device: 'cuda' - 1 GPU(s) will be used
None
number of people :  1
bbox : 
 [[142   0 584 406]]
frame:    0 / 0 - framerate: 13.579424 fps device: 'cuda' - 1 GPU(s) will be used
None
number of people :  1
bbox : 
 [[ 161    0 1438 1066]]
frame:    0 / 0 - framerate: 10.442918 fps device: 'cuda' - 1 GPU(s) will be used
None
number of people :  1
bbox : 
 [[151   0 525 349]]
frame:    0 / 0 - framerate: 13.759170 fps device: 'cuda' - 1 GPU(s) will be used
None
number of people :  1
bbox : 
 [[114   0 881 667]]
frame:    0 / 0 - framerate: 12.242354 fps device: 'cuda' - 1 GPU(s) will be used
None
number of people :  1
bbox : 
 [[ 814    0 3824 3328]]
frame:    0 / 0 - framerate: 2.643742 fps device: 'cuda' - 1 GPU(s) will be used
None
number of people :  1
bbox : 
 [[  59    0 1019  576]]
frame:    0 / -9223372036854775808 - framerate: 9.608085 fps device: 'cuda' - 1 GPU(s) will be used
None
number of people :  1
bbox : 
 [[  80    0 1225  629]]
frame:    0 / 0 - framerate: 10.431205 fps device: 'cuda' - 1 GPU(s) will be used
None
number of people :  1
bbox : 
 [[ 39   0 691 552]]
frame:    0 / 0 - framerate: 11.071498 fps device: 'cuda' - 1 GPU(s) will be used
None
number of people :  1
bbox : 
 [[ 475    0 1543 1080]]
frame:    0 / -9223372036854775808 - framerate: 6.943499 fps device: 'cuda' - 1 GPU(s) will be used
None
number of people :  1
bbox : 
 [[363   0 865 630]]
frame:    0 / 0 - framerate: 11.071498 fps device: 'cuda' - 1 GPU(s) will be used
None
number of people :  1
bbox : 
 [[ 198    0 1152 1000]]
frame:    0 / 0 - framerate: 10.772414 fps device: 'cuda' - 1 GPU(s) will be used
None
number of people :  1
bbox : 
 [[112   0 577 395]]
frame:    0 / -9223372036854775808 - framerate: 12.742370 fps device: 'cuda' - 1 GPU(s) will be used
None
number of people :  1
bbox : 
 [[142   0 584 406]]
frame:    0 / 0 - framerate: 13.445178 fps device: 'cuda' - 1 GPU(s) will be used
None
number of people :  1
bbox : 
 [[ 296    0 2839 2048]]
frame:    0 / 0 - framerate: 5.877973 fps device: 'cuda' - 1 GPU(s) will be used
None
number of people :  1
bbox : 
 [[ 137    0 3189 2734]]
frame:    0 / 0 - framerate: 3.878939 fps device: 'cuda' - 1 GPU(s) will be used
None
number of people :  1
bbox : 
 [[ 29   0 468 300]]
frame:    0 / 0 - framerate: 13.292295 fps device: 'cuda' - 1 GPU(s) will be used
None
number of people :  1
bbox : 
 [[144  71 580 512]]
frame:    0 / 0 - framerate: 13.275551 fps device: 'cuda' - 1 GPU(s) will be used
None
number of people :  1
bbox : 
 [[ 26  37 269 361]]
frame:    0 / 0 - framerate: 13.526260 fps device: 'cuda' - 1 GPU(s) will be used
None
number of people :  1
bbox : 
 [[ 429    0 1189  900]]
frame:    0 / 0 - framerate: 10.090005 fps device: 'cuda' - 1 GPU(s) will be used
None
number of people :  1
bbox : 
 [[ 353    0 1030  675]]
frame:    0 / 0 - framerate: 12.043427 fps device: 'cuda' - 1 GPU(s) will be used
None
number of people :  1
bbox : 
 [[ 73   0 660 376]]
frame:    0 / 0 - framerate: 11.943833 fps device: 'cuda' - 1 GPU(s) will be used
None
number of people :  1
bbox : 
 [[ 212    0 1564 1524]]
frame:    0 / 0 - framerate: 7.976980 fps device: 'cuda' - 1 GPU(s) will be used
None
number of people :  1
bbox : 
 [[ 17   0 182 190]]
frame:    0 / 0 - framerate: 12.040695 fps device: 'cuda' - 1 GPU(s) will be used
None
number of people :  1
bbox : 
 [[390   6 874 630]]
frame:    0 / 0 - framerate: 11.125445 fps device: 'cuda' - 1 GPU(s) will be used
None
number of people :  1
bbox : 
 [[ 90   0 950 756]]
frame:    0 / 0 - framerate: 10.743111 fps device: 'cuda' - 1 GPU(s) will be used
None
number of people :  1
bbox : 
 [[109   0 738 532]]
frame:    0 / 0 - framerate: 12.500235 fps device: 'cuda' - 1 GPU(s) will be used
None
number of people :  1
bbox : 
 [[ 276    0 1014  734]]
frame:    0 / -9223372036854775808 - framerate: 11.411985 fps device: 'cuda' - 1 GPU(s) will be used
None
number of people :  1
bbox : 
 [[ 113    0  941 1000]]
frame:    0 / 0 - framerate: 11.152246 fps device: 'cuda' - 1 GPU(s) will be used
None
number of people :  1
bbox : 
 [[ 49   0 421 450]]
frame:    0 / 0 - framerate: 13.615439 fps device: 'cuda' - 1 GPU(s) will be used
None
number of people :  1
bbox : 
 [[ 91   1 561 612]]
frame:    0 / 0 - framerate: 12.763814 fps device: 'cuda' - 1 GPU(s) will be used
None
number of people :  1
bbox : 
 [[ 84  90 463 594]]
frame:    0 / -9223372036854775808 - framerate: 12.461796 fps device: 'cuda' - 1 GPU(s) will be used
None
number of people :  1
bbox : 
 [[390   6 874 630]]
frame:    0 / 0 - framerate: 12.887310 fps device: 'cuda' - 1 GPU(s) will be used
None
number of people :  1
bbox : 
 [[144  71 580 512]]
frame:    0 / 0 - framerate: 13.354764 fps device: 'cuda' - 1 GPU(s) will be used
None
number of people :  1
bbox : 
 [[199   0 926 650]]
frame:    0 / 0 - framerate: 10.744322 fps device: 'cuda' - 1 GPU(s) will be used
None
number of people :  1
bbox : 
 [[350 139 922 720]]
frame:    0 / 0 - framerate: 11.282320 fps device: 'cuda' - 1 GPU(s) will be used
None
number of people :  1
bbox : 
 [[ 73   0 660 376]]
frame:    0 / 0 - framerate: 13.446428 fps device: 'cuda' - 1 GPU(s) will be used
None
number of people :  1
bbox : 
 [[102   0 921 417]]
frame:    0 / 0 - framerate: 13.016774 fps [mjpeg @ 0x3c0a240] mjpeg: error decoding EXIF data
device: 'cuda' - 1 GPU(s) will be used
[mjpeg @ 0x3c09b00] mjpeg: error decoding EXIF data
None
number of people :  1
bbox : 
 [[ 155  126 1721 2214]]
frame:    0 / 0 - framerate: 7.121325 fps device: 'cuda' - 1 GPU(s) will be used
None
number of people :  1
bbox : 
 [[  44  134 1086 1525]]
frame:    0 / 0 - framerate: 9.965084 fps device: 'cuda' - 1 GPU(s) will be used
None
number of people :  1
bbox : 
 [[ 67   0 478 400]]
frame:    0 / -9223372036854775808 - framerate: 13.337522 fps device: 'cuda' - 1 GPU(s) will be used
None
number of people :  1
bbox : 
 [[ 91   1 561 612]]
frame:    0 / 0 - framerate: 12.912504 fps device: 'cuda' - 1 GPU(s) will be used
None
number of people :  1
bbox : 
 [[ 276    0 1014  734]]
frame:    0 / -9223372036854775808 - framerate: 11.438314 fps device: 'cuda' - 1 GPU(s) will be used
None
number of people :  1
bbox : 
 [[ 14   0 576 346]]
frame:    0 / 0 - framerate: 12.921454 fps device: 'cuda' - 1 GPU(s) will be used
None
number of people :  1
bbox : 
 [[ 63   0 582 349]]
frame:    0 / 0 - framerate: 13.325996 fps device: 'cuda' - 1 GPU(s) will be used
None
number of people :  1
bbox : 
 [[  10  166  736 1134]]
frame:    0 / 0 - framerate: 11.241257 fps device: 'cuda' - 1 GPU(s) will be used
None
number of people :  1
bbox : 
 [[126   0 690 749]]
frame:    0 / 0 - framerate: 10.806775 fps device: 'cuda' - 1 GPU(s) will be used
None
number of people :  1
bbox : 
 [[ 90   0 950 756]]
frame:    0 / 0 - framerate: 11.037410 fps device: 'cuda' - 1 GPU(s) will be used
None
number of people :  1
bbox : 
 [[ 660    0 3301 3156]]
frame:    0 / 0 - framerate: 2.391597 fps device: 'cuda' - 1 GPU(s) will be used
None
number of people :  1
bbox : 
 [[ 49   0 421 450]]
frame:    0 / 0 - framerate: 13.513187 fps device: 'cuda' - 1 GPU(s) will be used
None
number of people :  1
bbox : 
 [[ 21  53 375 400]]
frame:    0 / 0 - framerate: 13.680320 fps device: 'cuda' - 1 GPU(s) will be used
None
number of people :  1
bbox : 
 [[ 56   0 637 548]]
frame:    0 / 0 - framerate: 12.874731 fps device: 'cuda' - 1 GPU(s) will be used
None
number of people :  1
bbox : 
 [[ 113    0  941 1000]]
frame:    0 / 0 - framerate: 10.787652 fps device: 'cuda' - 1 GPU(s) will be used
None
number of people :  2
bbox : 
 [[145   0 930 801]
 [783 511 925 700]]
frame:    0 / 0 - framerate: 9.350806 fps device: 'cuda' - 1 GPU(s) will be used
None
number of people :  1
bbox : 
 [[ 14   0 190 150]]
frame:    0 / 0 - framerate: 14.113777 fps device: 'cuda' - 1 GPU(s) will be used
None
number of people :  1
bbox : 
 [[ 84  90 463 594]]
frame:    0 / -9223372036854775808 - framerate: 12.293811 fps device: 'cuda' - 1 GPU(s) will be used
None
number of people :  1
bbox : 
 [[319 191 875 720]]
frame:    0 / 0 - framerate: 12.975780 fps device: 'cuda' - 1 GPU(s) will be used
None
number of people :  1
bbox : 
 [[ 31   0 359 265]]
frame:    0 / 0 - framerate: 14.009172 fps device: 'cuda' - 1 GPU(s) will be used
None
number of people :  1
bbox : 
 [[ 59   0 571 498]]
frame:    0 / 0 - framerate: 11.501990 fps device: 'cuda' - 1 GPU(s) will be used
None
number of people :  1
bbox : 
 [[ 445    0 2200 1939]]
frame:    0 / 0 - framerate: 5.333096 fps device: 'cuda' - 1 GPU(s) will be used
None
number of people :  1
bbox : 
 [[ 201    0 1275 1210]]
frame:    0 / 0 - framerate: 8.771868 fps device: 'cuda' - 1 GPU(s) will be used
None
number of people :  1
bbox : 
 [[136  17 497 367]]
frame:    0 / 0 - framerate: 12.192000 fps device: 'cuda' - 1 GPU(s) will be used
None
number of people :  1
bbox : 
 [[127   0 556 490]]
frame:    0 / 0 - framerate: 12.072858 fps device: 'cuda' - 1 GPU(s) will be used
None
number of people :  1
bbox : 
 [[155  34 696 754]]
frame:    0 / 0 - framerate: 12.346828 fps device: 'cuda' - 1 GPU(s) will be used
None
number of people :  0
bbox : 
 []
frame:    0 / -9223372036854775808 - framerate: 34.289321 fps device: 'cuda' - 1 GPU(s) will be used
None
number of people :  1
bbox : 
 [[217   0 624 432]]
frame:    0 / 0 - framerate: 13.165664 fps device: 'cuda' - 1 GPU(s) will be used
None
number of people :  1
bbox : 
 [[ 58   0 761 516]]
frame:    0 / -9223372036854775808 - framerate: 11.655895 fps device: 'cuda' - 1 GPU(s) will be used
None
number of people :  1
bbox : 
 [[  98    0 1163  720]]
frame:    0 / 0 - framerate: 11.738623 fps device: 'cuda' - 1 GPU(s) will be used
None
number of people :  1
bbox : 
 [[ 28   0 564 300]]
frame:    0 / 0 - framerate: 13.460626 fps device: 'cuda' - 1 GPU(s) will be used
None
number of people :  4
bbox : 
 [[ 132    0 1491 1281]
 [  52  437  534 1079]
 [ 822   64 1761 1281]
 [1731  812 1844  962]]
frame:    0 / 0 - framerate: 5.762087 fps device: 'cuda' - 1 GPU(s) will be used
None
number of people :  1
bbox : 
 [[ 67   0 478 400]]
frame:    0 / -9223372036854775808 - framerate: 11.140664 fps device: 'cuda' - 1 GPU(s) will be used
None
number of people :  1
bbox : 
 [[  10  166  736 1134]]
frame:    0 / 0 - framerate: 10.050354 fps device: 'cuda' - 1 GPU(s) will be used
None
number of people :  1
bbox : 
 [[ 61   0 405 360]]
frame:    0 / 0 - framerate: 12.624206 fps device: 'cuda' - 1 GPU(s) will be used
None
number of people :  1
bbox : 
 [[ 660    0 3301 3156]]
frame:    0 / 0 - framerate: 2.409809 fps device: 'cuda' - 1 GPU(s) will be used
None
number of people :  1
bbox : 
 [[ 12   0 182 190]]
frame:    0 / 0 - framerate: 14.394273 fps device: 'cuda' - 1 GPU(s) will be used
None
number of people :  1
bbox : 
 [[292   0 974 675]]
frame:    0 / 0 - framerate: 11.670977 fps device: 'cuda' - 1 GPU(s) will be used
None
number of people :  1
bbox : 
 [[ 745  150 1473 1100]]
frame:    0 / 0 - framerate: 10.859264 fps device: 'cuda' - 1 GPU(s) will be used
None
number of people :  1
bbox : 
 [[  7  21 515 697]]
frame:    0 / 0 - framerate: 13.193992 fps device: 'cuda' - 1 GPU(s) will be used
None
number of people :  1
bbox : 
 [[319 191 875 720]]
frame:    0 / 0 - framerate: 12.741983 fps device: 'cuda' - 1 GPU(s) will be used
None
number of people :  1
bbox : 
 [[ 20   0 638 432]]
frame:    0 / 0 - framerate: 13.097009 fps device: 'cuda' - 1 GPU(s) will be used
None
number of people :  1
bbox : 
 [[126   0 690 749]]
frame:    0 / 0 - framerate: 12.471319 fps device: 'cuda' - 1 GPU(s) will be used
None
number of people :  1
bbox : 
 [[ 378    0 1005  720]]
frame:    0 / 0 - framerate: 12.000114 fps device: 'cuda' - 1 GPU(s) will be used
None
number of people :  1
bbox : 
 [[ 20   0 545 205]]
frame:    0 / 0 - framerate: 11.803271 fps device: 'cuda' - 1 GPU(s) will be used
None
number of people :  1
bbox : 
 [[ 445    0 2200 1939]]
frame:    0 / 0 - framerate: 5.377775 fps device: 'cuda' - 1 GPU(s) will be used
None
number of people :  1
bbox : 
 [[ 302    0 1192 1000]]
frame:    0 / 0 - framerate: 10.307137 fps device: 'cuda' - 1 GPU(s) will be used
None
number of people :  1
bbox : 
 [[124  96 516 612]]
frame:    0 / 0 - framerate: 12.208466 fps device: 'cuda' - 1 GPU(s) will be used
None
number of people :  0
bbox : 
 []
frame:    0 / -9223372036854775808 - framerate: 34.237819 fps device: 'cuda' - 1 GPU(s) will be used
None
number of people :  1
bbox : 
 [[ 21  53 375 400]]
frame:    0 / 0 - framerate: 13.291916 fps device: 'cuda' - 1 GPU(s) will be used
None
number of people :  1
bbox : 
 [[ 381    0 3721 2612]]
frame:    0 / 0 - framerate: 3.394554 fps device: 'cuda' - 1 GPU(s) will be used
None
number of people :  1
bbox : 
 [[ 197    0 1035  675]]
frame:    0 / 0 - framerate: 10.978187 fps device: 'cuda' - 1 GPU(s) will be used
None
number of people :  1
bbox : 
 [[ 82   0 663 618]]
frame:    0 / 0 - framerate: 12.210314 fps device: 'cuda' - 1 GPU(s) will be used
None
number of people :  0
bbox : 
 []
frame:    0 / -9223372036854775808 - framerate: 33.690542 fps device: 'cuda' - 1 GPU(s) will be used
None
number of people :  1
bbox : 
 [[ 79   0 569 426]]
frame:    0 / 0 - framerate: 13.119253 fps device: 'cuda' - 1 GPU(s) will be used
None
number of people :  1
bbox : 
 [[ 284    0 1157  900]]
frame:    0 / 0 - framerate: 10.555266 fps device: 'cuda' - 1 GPU(s) will be used
None
number of people :  1
bbox : 
 [[ 131    0 1120  720]]
frame:    0 / 0 - framerate: 10.618384 fps device: 'cuda' - 1 GPU(s) will be used
None
number of people :  1
bbox : 
 [[  93    0 1052  667]]
frame:    0 / 0 - framerate: 10.138026 fps device: 'cuda' - 1 GPU(s) will be used
None
number of people :  1
bbox : 
 [[170   0 598 480]]
frame:    0 / 0 - framerate: 11.502336 fps device: 'cuda' - 1 GPU(s) will be used
None
number of people :  1
bbox : 
 [[ 227    0 1336 1000]]
frame:    0 / 0 - framerate: 9.405555 fps device: 'cuda' - 1 GPU(s) will be used
None
number of people :  1
bbox : 
 [[ 63   0 698 428]]
frame:    0 / 0 - framerate: 13.183997 fps device: 'cuda' - 1 GPU(s) will be used
None
number of people :  1
bbox : 
 [[ 26   0 440 231]]
frame:    0 / 0 - framerate: 13.801229 fps device: 'cuda' - 1 GPU(s) will be used
None
number of people :  1
bbox : 
 [[112  94 548 676]]
frame:    0 / 0 - framerate: 12.931533 fps device: 'cuda' - 1 GPU(s) will be used
None
number of people :  1
bbox : 
 [[231  59 547 479]]
frame:    0 / -9223372036854775808 - framerate: 12.634169 fps device: 'cuda' - 1 GPU(s) will be used
None
number of people :  1
bbox : 
 [[291   0 995 675]]
frame:    0 / 0 - framerate: 11.970114 fps device: 'cuda' - 1 GPU(s) will be used
None
number of people :  1
bbox : 
 [[  87    0 1122  675]]
frame:    0 / 0 - framerate: 11.431767 fps device: 'cuda' - 1 GPU(s) will be used
None
number of people :  1
bbox : 
 [[ 68   0 662 662]]
frame:    0 / 0 - framerate: 12.952579 fps device: 'cuda' - 1 GPU(s) will be used
None
number of people :  1
bbox : 
 [[ 60   0 554 388]]
frame:    0 / 0 - framerate: 13.579908 fps device: 'cuda' - 1 GPU(s) will be used
None
number of people :  1
bbox : 
 [[ 112   35 1042 1260]]
frame:    0 / 0 - framerate: 10.198196 fps device: 'cuda' - 1 GPU(s) will be used
None
number of people :  1
bbox : 
 [[ 133    0 1043  720]]
frame:    0 / 0 - framerate: 10.295171 fps device: 'cuda' - 1 GPU(s) will be used
None
number of people :  1
bbox : 
 [[ 68   0 662 662]]
frame:    0 / 0 - framerate: 11.734617 fps device: 'cuda' - 1 GPU(s) will be used
None
number of people :  1
bbox : 
 [[  87    0 1122  675]]
frame:    0 / 0 - framerate: 10.520478 fps device: 'cuda' - 1 GPU(s) will be used
None
number of people :  1
bbox : 
 [[ 84   0 890 666]]
frame:    0 / -9223372036854775808 - framerate: 11.151268 fps device: 'cuda' - 1 GPU(s) will be used
None
number of people :  1
bbox : 
 [[ 70   0 613 500]]
frame:    0 / 0 - framerate: 12.507691 fps device: 'cuda' - 1 GPU(s) will be used
None
number of people :  1
bbox : 
 [[ 377    0 1101  720]]
frame:    0 / 0 - framerate: 11.584555 fps device: 'cuda' - 1 GPU(s) will be used
None
number of people :  1
bbox : 
 [[  7  37 373 400]]
frame:    0 / 0 - framerate: 13.139885 fps device: 'cuda' - 1 GPU(s) will be used
None
number of people :  1
bbox : 
 [[ 17   0 231 250]]
frame:    0 / 0 - framerate: 14.051788 fps device: 'cuda' - 1 GPU(s) will be used
None
number of people :  1
bbox : 
 [[ 114    0 1269 1000]]
frame:    0 / 0 - framerate: 10.871170 fps device: 'cuda' - 1 GPU(s) will be used
None
number of people :  1
bbox : 
 [[ 86  15 501 567]]
frame:    0 / 0 - framerate: 13.015724 fps device: 'cuda' - 1 GPU(s) will be used
None
number of people :  1
bbox : 
 [[ 45  82 329 380]]
frame:    0 / -9223372036854775808 - framerate: 13.666368 fps device: 'cuda' - 1 GPU(s) will be used
None
number of people :  1
bbox : 
 [[ 33   0 228 248]]
frame:    0 / 0 - framerate: 13.981573 fps device: 'cuda' - 1 GPU(s) will be used
None
number of people :  0
bbox : 
 []
frame:    0 / 0 - framerate: 31.580047 fps device: 'cuda' - 1 GPU(s) will be used
None
number of people :  1
bbox : 
 [[ 66   0 437 269]]
frame:    0 / 0 - framerate: 11.727562 fps device: 'cuda' - 1 GPU(s) will be used
None
number of people :  1
bbox : 
 [[137   0 396 288]]
frame:    0 / 0 - framerate: 12.641023 fps device: 'cuda' - 1 GPU(s) will be used
None
number of people :  1
bbox : 
 [[ 309    0 1825 1414]]
frame:    0 / 0 - framerate: 8.193408 fps device: 'cuda' - 1 GPU(s) will be used
None
number of people :  1
bbox : 
 [[ 79   0 567 409]]
frame:    0 / 0 - framerate: 12.376521 fps device: 'cuda' - 1 GPU(s) will be used
None
number of people :  1
bbox : 
 [[117   0 751 439]]
frame:    0 / 0 - framerate: 12.711630 fps device: 'cuda' - 1 GPU(s) will be used
None
number of people :  1
bbox : 
 [[111 105 505 612]]
frame:    0 / -9223372036854775808 - framerate: 12.435231 fps device: 'cuda' - 1 GPU(s) will be used
None
number of people :  1
bbox : 
 [[ 63   0 564 575]]
frame:    0 / 0 - framerate: 12.986024 fps device: 'cuda' - 1 GPU(s) will be used
None
number of people :  1
bbox : 
 [[ 88   0 703 428]]
frame:    0 / 0 - framerate: 13.211363 fps device: 'cuda' - 1 GPU(s) will be used
None
number of people :  1
bbox : 
 [[ 374    0 1011  720]]
frame:    0 / 0 - framerate: 12.624282 fps device: 'cuda' - 1 GPU(s) will be used
None
number of people :  1
bbox : 
 [[  36    0 1171  957]]
frame:    0 / 0 - framerate: 10.609815 fps device: 'cuda' - 1 GPU(s) will be used
None
number of people :  1
bbox : 
 [[291   0 995 675]]
frame:    0 / 0 - framerate: 11.891246 fps device: 'cuda' - 1 GPU(s) will be used
None
number of people :  1
bbox : 
 [[231  59 547 479]]
frame:    0 / -9223372036854775808 - framerate: 12.694202 fps device: 'cuda' - 1 GPU(s) will be used
None
number of people :  1
bbox : 
 [[ 302    0 1192 1000]]
frame:    0 / 0 - framerate: 10.157495 fps device: 'cuda' - 1 GPU(s) will be used
None
number of people :  1
bbox : 
 [[ 475  124 1467 1080]]
frame:    0 / 0 - framerate: 8.515938 fps device: 'cuda' - 1 GPU(s) will be used
None
number of people :  1
bbox : 
 [[ 86   0 517 369]]
frame:    0 / 0 - framerate: 11.362582 fps device: 'cuda' - 1 GPU(s) will be used
None
number of people :  1
bbox : 
 [[  89    0 1095  720]]
frame:    0 / 0 - framerate: 9.759597 fps device: 'cuda' - 1 GPU(s) will be used
None
number of people :  1
bbox : 
 [[ 234    0 1356 1204]]
frame:    0 / 0 - framerate: 8.788631 fps device: 'cuda' - 1 GPU(s) will be used
None
number of people :  1
bbox : 
 [[ 37   0 548 466]]
frame:    0 / -9223372036854775808 - framerate: 10.338845 fps device: 'cuda' - 1 GPU(s) will be used
None
number of people :  1
bbox : 
 [[239   0 868 675]]
frame:    0 / 0 - framerate: 10.874919 fps device: 'cuda' - 1 GPU(s) will be used
None
number of people :  1
bbox : 
 [[ 71   0 479 410]]
frame:    0 / 0 - framerate: 13.426972 fps device: 'cuda' - 1 GPU(s) will be used
None
number of people :  1
bbox : 
 [[ 63   0 564 575]]
frame:    0 / 0 - framerate: 12.812904 fps device: 'cuda' - 1 GPU(s) will be used
None
number of people :  1
bbox : 
 [[111 105 505 612]]
frame:    0 / -9223372036854775808 - framerate: 12.540563 fps device: 'cuda' - 1 GPU(s) will be used
None
number of people :  1
bbox : 
 [[ 88   0 703 428]]
frame:    0 / 0 - framerate: 12.931095 fps device: 'cuda' - 1 GPU(s) will be used
None
number of people :  1
bbox : 
 [[ 374    0 1011  720]]
frame:    0 / 0 - framerate: 12.569312 fps device: 'cuda' - 1 GPU(s) will be used
None
number of people :  1
bbox : 
 [[  36    0 1171  957]]
frame:    0 / 0 - framerate: 10.476514 fps device: 'cuda' - 1 GPU(s) will be used
None
number of people :  1
bbox : 
 [[ 19   0 575 350]]
frame:    0 / 0 - framerate: 11.399424 fps device: 'cuda' - 1 GPU(s) will be used
None
number of people :  1
bbox : 
 [[ 100    0 1204  927]]
frame:    0 / 0 - framerate: 10.414059 fps device: 'cuda' - 1 GPU(s) will be used
None
number of people :  1
bbox : 
 [[ 157    0 1237  720]]
frame:    0 / 0 - framerate: 11.352679 fps device: 'cuda' - 1 GPU(s) will be used
None
number of people :  1
bbox : 
 [[ 32   0 459 335]]
frame:    0 / 0 - framerate: 12.898407 fps device: 'cuda' - 1 GPU(s) will be used
None
number of people :  1
bbox : 
 [[ 308    0 2223 1837]]
frame:    0 / 0 - framerate: 6.728682 fps device: 'cuda' - 1 GPU(s) will be used
None
number of people :  1
bbox : 
 [[ 519    0 2550 1900]]
frame:    0 / 0 - framerate: 5.090416 fps device: 'cuda' - 1 GPU(s) will be used
None
number of people :  1
bbox : 
 [[225   0 856 685]]
frame:    0 / 0 - framerate: 11.404817 fps device: 'cuda' - 1 GPU(s) will be used
None
number of people :  1
bbox : 
 [[ 133    0 1317 1277]]
frame:    0 / 0 - framerate: 8.318549 fps device: 'cuda' - 1 GPU(s) will be used
None
number of people :  1
bbox : 
 [[254   0 954 720]]
frame:    0 / 0 - framerate: 12.288984 fps device: 'cuda' - 1 GPU(s) will be used
None
number of people :  1
bbox : 
 [[ 38   0 463 300]]
frame:    0 / 0 - framerate: 13.668595 fps device: 'cuda' - 1 GPU(s) will be used
None
number of people :  1
bbox : 
 [[121   0 580 428]]
frame:    0 / 0 - framerate: 13.676573 fps device: 'cuda' - 1 GPU(s) will be used
None
number of people :  1
bbox : 
 [[216 178 575 533]]
frame:    0 / 0 - framerate: 13.057744 fps device: 'cuda' - 1 GPU(s) will be used
None
number of people :  1
bbox : 
 [[ 661    0 3299 2110]]
frame:    0 / 0 - framerate: 4.122223 fps device: 'cuda' - 1 GPU(s) will be used
None
number of people :  1
bbox : 
 [[373   0 991 720]]
frame:    0 / 0 - framerate: 10.535223 fps device: 'cuda' - 1 GPU(s) will be used
None
number of people :  1
bbox : 
 [[176   0 950 576]]
frame:    0 / 0 - framerate: 11.626461 fps device: 'cuda' - 1 GPU(s) will be used
None
number of people :  1
bbox : 
 [[  70    0  918 1000]]
frame:    0 / 0 - framerate: 10.618626 fps device: 'cuda' - 1 GPU(s) will be used
None
number of people :  1
bbox : 
 [[108  77 487 581]]
frame:    0 / 0 - framerate: 12.509892 fps device: 'cuda' - 1 GPU(s) will be used
None
number of people :  1
bbox : 
 [[ 70   0 500 477]]
frame:    0 / 0 - framerate: 12.702237 fps device: 'cuda' - 1 GPU(s) will be used
None
number of people :  1
bbox : 
 [[ 64   0 741 424]]
frame:    0 / 0 - framerate: 12.752986 fps device: 'cuda' - 1 GPU(s) will be used
None
number of people :  1
bbox : 
 [[ 94  33 328 345]]
frame:    0 / 0 - framerate: 13.969837 fps device: 'cuda' - 1 GPU(s) will be used
None
number of people :  1
bbox : 
 [[ 69  89 402 450]]
frame:    0 / 0 - framerate: 13.724098 fps device: 'cuda' - 1 GPU(s) will be used
None
number of people :  1
bbox : 
 [[ 71   0 559 618]]
frame:    0 / 0 - framerate: 12.837885 fps device: 'cuda' - 1 GPU(s) will be used
None
number of people :  1
bbox : 
 [[155   0 524 349]]
frame:    0 / 0 - framerate: 13.210157 fps device: 'cuda' - 1 GPU(s) will be used
None
number of people :  1
bbox : 
 [[ 493    0 1085  720]]
frame:    0 / 0 - framerate: 12.518106 fps device: 'cuda' - 1 GPU(s) will be used
None
number of people :  1
bbox : 
 [[  75    0 1191  800]]
frame:    0 / 0 - framerate: 9.909428 fps device: 'cuda' - 1 GPU(s) will be used
None
number of people :  1
bbox : 
 [[  45  135 1087 1524]]
frame:    0 / 0 - framerate: 9.181364 fps device: 'cuda' - 1 GPU(s) will be used
None
number of people :  1
bbox : 
 [[ 12   0 379 208]]
frame:    0 / 0 - framerate: 12.258599 fps device: 'cuda' - 1 GPU(s) will be used
None
number of people :  1
bbox : 
 [[ 58   0 633 436]]
frame:    0 / -9223372036854775808 - framerate: 11.105885 fps device: 'cuda' - 1 GPU(s) will be used
None
number of people :  1
bbox : 
 [[307   0 987 675]]
frame:    0 / 0 - framerate: 10.280182 fps device: 'cuda' - 1 GPU(s) will be used
None
number of people :  1
bbox : 
 [[ 45   0 390 372]]
frame:    0 / -9223372036854775808 - framerate: 11.286388 fps device: 'cuda' - 1 GPU(s) will be used
None
number of people :  1
bbox : 
 [[343 187 687 645]]
frame:    0 / 0 - framerate: 11.237643 fps device: 'cuda' - 1 GPU(s) will be used
None
number of people :  1
bbox : 
 [[239   0 868 675]]
frame:    0 / 0 - framerate: 10.381761 fps device: 'cuda' - 1 GPU(s) will be used
None
number of people :  1
bbox : 
 [[ 430    0 4105 2541]]
frame:    0 / 0 - framerate: 3.001037 fps device: 'cuda' - 1 GPU(s) will be used
None
number of people :  1
bbox : 
 [[343 187 687 645]]
frame:    0 / 0 - framerate: 11.331730 fps device: 'cuda' - 1 GPU(s) will be used
None
number of people :  1
bbox : 
 [[ 45   0 390 372]]
frame:    0 / -9223372036854775808 - framerate: 10.758157 fps device: 'cuda' - 1 GPU(s) will be used
None
number of people :  2
bbox : 
 [[126   0 563 272]
 [113  35 271 247]]
frame:    0 / 0 - framerate: 10.822865 fps device: 'cuda' - 1 GPU(s) will be used
None
number of people :  1
bbox : 
 [[ 69   0 833 700]]
frame:    0 / 0 - framerate: 10.616207 fps device: 'cuda' - 1 GPU(s) will be used
None
number of people :  1
bbox : 
 [[ 99   0 665 700]]
frame:    0 / 0 - framerate: 12.888696 fps device: 'cuda' - 1 GPU(s) will be used
None
number of people :  1
bbox : 
 [[ 6  0 78 80]]
frame:    0 / 0 - framerate: 14.498514 fps device: 'cuda' - 1 GPU(s) will be used
None
number of people :  1
bbox : 
 [[ 46   0 267 222]]
frame:    0 / 0 - framerate: 14.112637 fps device: 'cuda' - 1 GPU(s) will be used
None
number of people :  1
bbox : 
 [[ 55   0 664 534]]
frame:    0 / 0 - framerate: 12.992179 fps device: 'cuda' - 1 GPU(s) will be used
None
number of people :  1
bbox : 
 [[272   0 845 675]]
frame:    0 / 0 - framerate: 11.488663 fps device: 'cuda' - 1 GPU(s) will be used
None
number of people :  1
bbox : 
 [[ 277    0 1159 1000]]
frame:    0 / 0 - framerate: 9.792591 fps device: 'cuda' - 1 GPU(s) will be used
None
number of people :  1
bbox : 
 [[ 37   0 691 546]]
frame:    0 / 0 - framerate: 11.257368 fps device: 'cuda' - 1 GPU(s) will be used
None
number of people :  1
bbox : 
 [[ 338    0 1028  720]]
frame:    0 / 0 - framerate: 11.196276 fps device: 'cuda' - 1 GPU(s) will be used
None
number of people :  1
bbox : 
 [[ 73   0 541 427]]
frame:    0 / 0 - framerate: 13.171700 fps device: 'cuda' - 1 GPU(s) will be used
None
number of people :  1
bbox : 
 [[ 25   0 638 519]]
frame:    0 / 0 - framerate: 12.617294 fps device: 'cuda' - 1 GPU(s) will be used
None
number of people :  1
bbox : 
 [[ 14  29 443 601]]
frame:    0 / 0 - framerate: 13.074881 fps device: 'cuda' - 1 GPU(s) will be used
None
number of people :  1
bbox : 
 [[466 166 835 658]]
frame:    0 / 0 - framerate: 13.181304 fps device: 'cuda' - 1 GPU(s) will be used
None
number of people :  1
bbox : 
 [[173   0 540 392]]
frame:    0 / 0 - framerate: 13.942671 fps device: 'cuda' - 1 GPU(s) will be used
None
number of people :  1
bbox : 
 [[ 36   0 530 572]]
frame:    0 / 0 - framerate: 13.192747 fps device: 'cuda' - 1 GPU(s) will be used
None
number of people :  1
bbox : 
 [[105   0 666 580]]
frame:    0 / -9223372036854775808 - framerate: 10.954675 fps device: 'cuda' - 1 GPU(s) will be used
None
number of people :  1
bbox : 
 [[ 88   0 542 450]]
frame:    0 / 0 - framerate: 13.122906 fps device: 'cuda' - 1 GPU(s) will be used
None
number of people :  1
bbox : 
 [[107   0 627 394]]
frame:    0 / 0 - framerate: 13.652622 fps device: 'cuda' - 1 GPU(s) will be used
None
number of people :  0
bbox : 
 []
frame:    0 / 0 - framerate: 27.712613 fps device: 'cuda' - 1 GPU(s) will be used
None
number of people :  1
bbox : 
 [[ 71   0 864 532]]
frame:    0 / -9223372036854775808 - framerate: 10.260466 fps device: 'cuda' - 1 GPU(s) will be used
None
number of people :  1
bbox : 
 [[ 75   0 678 428]]
frame:    0 / 0 - framerate: 11.383491 fps device: 'cuda' - 1 GPU(s) will be used
None
number of people :  1
bbox : 
 [[404  90 822 630]]
frame:    0 / 0 - framerate: 11.299371 fps device: 'cuda' - 1 GPU(s) will be used
None
number of people :  1
bbox : 
 [[277 102 909 720]]
frame:    0 / 0 - framerate: 10.380014 fps device: 'cuda' - 1 GPU(s) will be used
None
number of people :  1
bbox : 
 [[ 28   0 705 546]]
frame:    0 / 0 - framerate: 10.728712 fps device: 'cuda' - 1 GPU(s) will be used
None
number of people :  1
bbox : 
 [[ 94   0 778 652]]
frame:    0 / 0 - framerate: 11.886157 fps device: 'cuda' - 1 GPU(s) will be used
None
number of people :  1
bbox : 
 [[ 58   0 704 427]]
frame:    0 / 0 - framerate: 13.266690 fps device: 'cuda' - 1 GPU(s) will be used
None
number of people :  1
bbox : 
 [[ 53 143 550 612]]
frame:    0 / 0 - framerate: 13.084262 fps device: 'cuda' - 1 GPU(s) will be used
None
number of people :  1
bbox : 
 [[ 178    0 1378 1101]]
frame:    0 / 0 - framerate: 9.724209 fps device: 'cuda' - 1 GPU(s) will be used
None
number of people :  1
bbox : 
 [[ 69   0 491 416]]
frame:    0 / 0 - framerate: 13.254197 fps device: 'cuda' - 1 GPU(s) will be used
None
number of people :  1
bbox : 
 [[ 209    0 1227  720]]
frame:    0 / 0 - framerate: 12.036791 fps device: 'cuda' - 1 GPU(s) will be used
None
number of people :  1
bbox : 
 [[  68  191  881 1019]]
frame:    0 / 0 - framerate: 10.827475 fps device: 'cuda' - 1 GPU(s) will be used
None
number of people :  1
bbox : 
 [[111   0 412 237]]
frame:    0 / 0 - framerate: 11.580557 fps device: 'cuda' - 1 GPU(s) will be used
None
number of people :  1
bbox : 
 [[ 40   0 297 213]]
frame:    0 / 0 - framerate: 11.905828 fps device: 'cuda' - 1 GPU(s) will be used
None
number of people :  1
bbox : 
 [[146   0 679 584]]
frame:    0 / 0 - framerate: 12.069731 fps device: 'cuda' - 1 GPU(s) will be used
None
number of people :  1
bbox : 
 [[ 44  37 500 480]]
frame:    0 / 0 - framerate: 12.964549 fps device: 'cuda' - 1 GPU(s) will be used
None
number of people :  1
bbox : 
 [[ 30   0 656 546]]
frame:    0 / 0 - framerate: 13.113921 fps device: 'cuda' - 1 GPU(s) will be used
None
number of people :  1
bbox : 
 [[ 361    0 1297 1000]]
frame:    0 / 0 - framerate: 10.785905 fps device: 'cuda' - 1 GPU(s) will be used
None
number of people :  1
bbox : 
 [[ 472  123 1467 1080]]
frame:    0 / 0 - framerate: 10.875455 fps device: 'cuda' - 1 GPU(s) will be used
None
number of people :  1
bbox : 
 [[  99    0 1204  927]]
frame:    0 / 0 - framerate: 10.476907 fps device: 'cuda' - 1 GPU(s) will be used
None
number of people :  1
bbox : 
 [[ 78   0 960 618]]
frame:    0 / -9223372036854775808 - framerate: 10.791566 fps device: 'cuda' - 1 GPU(s) will be used
None
number of people :  1
bbox : 
 [[ 87   0 866 400]]
frame:    0 / 0 - framerate: 12.817916 fps device: 'cuda' - 1 GPU(s) will be used
None
number of people :  1
bbox : 
 [[  67    0  910 1000]]
frame:    0 / 0 - framerate: 10.721910 fps device: 'cuda' - 1 GPU(s) will be used
None
number of people :  1
bbox : 
 [[ 17   0 231 250]]
frame:    0 / 0 - framerate: 13.793922 fps device: 'cuda' - 1 GPU(s) will be used
None
number of people :  1
bbox : 
 [[ 72   0 720 610]]
frame:    0 / -9223372036854775808 - framerate: 9.652929 fps device: 'cuda' - 1 GPU(s) will be used
None
number of people :  1
bbox : 
 [[ 140    0 2336 1432]]
frame:    0 / 0 - framerate: 5.908977 fps device: 'cuda' - 1 GPU(s) will be used
None
number of people :  1
bbox : 
 [[367   0 959 675]]
frame:    0 / 0 - framerate: 11.183170 fps device: 'cuda' - 1 GPU(s) will be used
None
number of people :  1
bbox : 
 [[ 78   0 901 569]]
frame:    0 / 0 - framerate: 10.992630 fps device: 'cuda' - 1 GPU(s) will be used
None
number of people :  1
bbox : 
 [[124   0 414 350]]
frame:    0 / 0 - framerate: 12.643042 fps device: 'cuda' - 1 GPU(s) will be used
None
number of people :  0
bbox : 
 []
frame:    0 / 0 - framerate: 32.747021 fps device: 'cuda' - 1 GPU(s) will be used
None
number of people :  1
bbox : 
 [[ 44  37 500 480]]
frame:    0 / 0 - framerate: 12.268674 fps device: 'cuda' - 1 GPU(s) will be used
None
number of people :  1
bbox : 
 [[ 445    0 2200 1939]]
frame:    0 / 0 - framerate: 5.351386 fps device: 'cuda' - 1 GPU(s) will be used
None
number of people :  1
bbox : 
 [[ 377    0 1101  720]]
frame:    0 / 0 - framerate: 11.168103 fps device: 'cuda' - 1 GPU(s) will be used
None
number of people :  2
bbox : 
 [[126   0 563 272]
 [113  35 271 247]]
frame:    0 / 0 - framerate: 12.252511 fps device: 'cuda' - 1 GPU(s) will be used
None
number of people :  1
bbox : 
 [[ 32   0 459 335]]
frame:    0 / 0 - framerate: 13.347964 fps device: 'cuda' - 1 GPU(s) will be used
None
number of people :  2
bbox : 
 [[185   0 747 522]
 [138 208 697 823]]
frame:    0 / 0 - framerate: 10.210485 fps device: 'cuda' - 1 GPU(s) will be used
None
number of people :  1
bbox : 
 [[374   0 890 629]]
frame:    0 / 0 - framerate: 11.497449 fps device: 'cuda' - 1 GPU(s) will be used
None
number of people :  1
bbox : 
 [[ 62 122 293 380]]
frame:    0 / -9223372036854775808 - framerate: 11.634556 fps device: 'cuda' - 1 GPU(s) will be used
None
number of people :  1
bbox : 
 [[ 50   0 486 393]]
frame:    0 / 0 - framerate: 11.263747 fps device: 'cuda' - 1 GPU(s) will be used
None
number of people :  2
bbox : 
 [[  5  58 111 198]
 [113  38 249 218]]
frame:    0 / 0 - framerate: 10.874975 fps device: 'cuda' - 1 GPU(s) will be used
None
number of people :  1
bbox : 
 [[ 112   35 1042 1260]]
frame:    0 / 0 - framerate: 9.466737 fps device: 'cuda' - 1 GPU(s) will be used
None
number of people :  1
bbox : 
 [[ 100    0 1402 1600]]
frame:    0 / 0 - framerate: 7.108616 fps device: 'cuda' - 1 GPU(s) will be used
None
number of people :  1
bbox : 
 [[ 50   0 334 205]]
frame:    0 / 0 - framerate: 11.977874 fps device: 'cuda' - 1 GPU(s) will be used
None
number of people :  1
bbox : 
 [[ 87   0 686 428]]
frame:    0 / 0 - framerate: 11.202466 fps device: 'cuda' - 1 GPU(s) will be used
None
number of people :  1
bbox : 
 [[108  94 596 744]]
frame:    0 / 0 - framerate: 11.197740 fps device: 'cuda' - 1 GPU(s) will be used
None
number of people :  1
bbox : 
 [[343 187 687 645]]
frame:    0 / 0 - framerate: 11.959226 fps device: 'cuda' - 1 GPU(s) will be used
None
number of people :  1
bbox : 
 [[ 76  28 409 472]]
frame:    0 / 0 - framerate: 13.396395 fps device: 'cuda' - 1 GPU(s) will be used
None
number of people :  1
bbox : 
 [[225   0 856 685]]
frame:    0 / 0 - framerate: 11.902381 fps device: 'cuda' - 1 GPU(s) will be used
None
number of people :  1
bbox : 
 [[  62    0 1147  675]]
frame:    0 / 0 - framerate: 11.497638 fps device: 'cuda' - 1 GPU(s) will be used
None
number of people :  2
bbox : 
 [[  70  207  934 1000]
 [ 131    0  895  827]]
frame:    0 / 0 - framerate: 8.517754 fps device: 'cuda' - 1 GPU(s) will be used
None
number of people :  1
bbox : 
 [[ 51   0 697 530]]
frame:    0 / 0 - framerate: 10.787736 fps device: 'cuda' - 1 GPU(s) will be used
None
number of people :  1
bbox : 
 [[ 144    0 1014  776]]
frame:    0 / 0 - framerate: 9.878294 fps device: 'cuda' - 1 GPU(s) will be used
None
number of people :  1
bbox : 
 [[ 268    0 4151 2184]]
frame:    0 / -9223372036854775808 - framerate: 3.525416 fps device: 'cuda' - 1 GPU(s) will be used
None
number of people :  1
bbox : 
 [[ 129    0 1078  957]]
frame:    0 / 0 - framerate: 9.520155 fps device: 'cuda' - 1 GPU(s) will be used
None
number of people :  1
bbox : 
 [[ 34   0 517 221]]
frame:    0 / 0 - framerate: 11.862088 fps device: 'cuda' - 1 GPU(s) will be used
None
number of people :  1
bbox : 
 [[ 67   0 298 267]]
frame:    0 / 0 - framerate: 12.363205 fps device: 'cuda' - 1 GPU(s) will be used
None
number of people :  1
bbox : 
 [[167  48 508 502]]
frame:    0 / 0 - framerate: 13.325954 fps device: 'cuda' - 1 GPU(s) will be used
None
number of people :  1
bbox : 
 [[  8   0 158 160]]
frame:    0 / 0 - framerate: 13.988474 fps device: 'cuda' - 1 GPU(s) will be used
None
number of people :  1
bbox : 
 [[ 90   0 618 442]]
frame:    0 / 0 - framerate: 12.824461 fps device: 'cuda' - 1 GPU(s) will be used
None
number of people :  1
bbox : 
 [[ 77  77 618 766]]
frame:    0 / 0 - framerate: 12.243391 fps device: 'cuda' - 1 GPU(s) will be used
None
number of people :  1
bbox : 
 [[ 70   0 866 960]]
frame:    0 / -9223372036854775808 - framerate: 9.914440 fps device: 'cuda' - 1 GPU(s) will be used
None
number of people :  1
bbox : 
 [[145   0 623 572]]
frame:    0 / 0 - framerate: 10.826553 fps device: 'cuda' - 1 GPU(s) will be used
None
number of people :  1
bbox : 
 [[102   0 469 300]]
frame:    0 / 0 - framerate: 12.751357 fps device: 'cuda' - 1 GPU(s) will be used
None
number of people :  1
bbox : 
 [[ 80   0 540 483]]
frame:    0 / 0 - framerate: 13.229365 fps device: 'cuda' - 1 GPU(s) will be used
None
number of people :  1
bbox : 
 [[ 29  56 489 525]]
frame:    0 / 0 - framerate: 13.271182 fps device: 'cuda' - 1 GPU(s) will be used
None
number of people :  1
bbox : 
 [[ 52   0 674 546]]
frame:    0 / 0 - framerate: 13.228906 fps device: 'cuda' - 1 GPU(s) will be used
None
number of people :  1
bbox : 
 [[140  27 607 480]]
frame:    0 / 0 - framerate: 13.439405 fps device: 'cuda' - 1 GPU(s) will be used
None
number of people :  1
bbox : 
 [[ 185    0 1166  957]]
frame:    0 / 0 - framerate: 10.608098 fps device: 'cuda' - 1 GPU(s) will be used
None
number of people :  1
bbox : 
 [[ 58  81 320 420]]
frame:    0 / 0 - framerate: 13.784447 fps device: 'cuda' - 1 GPU(s) will be used
None
number of people :  1
bbox : 
 [[ 50   0 340 377]]
frame:    0 / 0 - framerate: 13.621010 fps device: 'cuda' - 1 GPU(s) will be used
None
number of people :  1
bbox : 
 [[ 134    0 1502 1201]]
frame:    0 / 0 - framerate: 9.549699 fps device: 'cuda' - 1 GPU(s) will be used
None
number of people :  1
bbox : 
 [[ 98   0 491 510]]
frame:    0 / 0 - framerate: 13.445609 fps device: 'cuda' - 1 GPU(s) will be used
None
number of people :  2
bbox : 
 [[185   0 747 522]
 [138 208 697 823]]
frame:    0 / 0 - framerate: 10.662626 fps device: 'cuda' - 1 GPU(s) will be used
None
number of people :  1
bbox : 
 [[  3  56 414 450]]
frame:    0 / 0 - framerate: 11.640659 fps device: 'cuda' - 1 GPU(s) will be used
None
number of people :  1
bbox : 
 [[ 56   0 704 720]]
frame:    0 / 0 - framerate: 11.846777 fps device: 'cuda' - 1 GPU(s) will be used
None
number of people :  1
bbox : 
 [[ 172    0 1170  720]]
frame:    0 / 0 - framerate: 11.980303 fps device: 'cuda' - 1 GPU(s) will be used
None
number of people :  1
bbox : 
 [[  62    0 1147  675]]
frame:    0 / 0 - framerate: 11.062679 fps device: 'cuda' - 1 GPU(s) will be used
None
number of people :  1
bbox : 
 [[367   0 959 675]]
frame:    0 / 0 - framerate: 11.893471 fps device: 'cuda' - 1 GPU(s) will be used
None
number of people :  1
bbox : 
 [[ 2  0 71 75]]
frame:    0 / -9223372036854775808 - framerate: 14.390125 fps device: 'cuda' - 1 GPU(s) will be used
None
number of people :  1
bbox : 
 [[ 63   0 450 506]]
frame:    0 / 0 - framerate: 13.098195 fps device: 'cuda' - 1 GPU(s) will be used
None
number of people :  1
bbox : 
 [[ 65   0 581 349]]
frame:    0 / 0 - framerate: 13.573843 fps device: 'cuda' - 1 GPU(s) will be used
None
number of people :  0
bbox : 
 []
frame:    0 / 0 - framerate: 20.869261 fps device: 'cuda' - 1 GPU(s) will be used
None
number of people :  1
bbox : 
 [[ 154    0 1016  720]]
frame:    0 / 0 - framerate: 12.028368 fps device: 'cuda' - 1 GPU(s) will be used
None
number of people :  1
bbox : 
 [[148   0 704 526]]
frame:    0 / 0 - framerate: 13.220650 fps device: 'cuda' - 1 GPU(s) will be used
None
number of people :  1
bbox : 
 [[ 341    0 1477 1000]]
frame:    0 / 0 - framerate: 10.609735 fps device: 'cuda' - 1 GPU(s) will be used
None
number of people :  1
bbox : 
 [[ 258    0 1076  963]]
frame:    0 / 0 - framerate: 9.511778 fps device: 'cuda' - 1 GPU(s) will be used
None
number of people :  1
bbox : 
 [[167   0 640 519]]
frame:    0 / 0 - framerate: 11.226183 fps device: 'cuda' - 1 GPU(s) will be used
None
number of people :  1
bbox : 
 [[ 104    0 1201  720]]
frame:    0 / 0 - framerate: 10.389965 fps device: 'cuda' - 1 GPU(s) will be used
None
number of people :  1
bbox : 
 [[367   0 959 675]]
frame:    0 / 0 - framerate: 10.460968 fps device: 'cuda' - 1 GPU(s) will be used
None
number of people :  1
bbox : 
 [[ 305   11 1293 1066]]
frame:    0 / 0 - framerate: 10.590660 fps device: 'cuda' - 1 GPU(s) will be used
None
number of people :  1
bbox : 
 [[ 154    0 1016  720]]
frame:    0 / 0 - framerate: 12.082213 fps device: 'cuda' - 1 GPU(s) will be used
None
number of people :  0
bbox : 
 []
frame:    0 / 0 - framerate: 22.125124 fps device: 'cuda' - 1 GPU(s) will be used
None
number of people :  1
bbox : 
 [[ 63   0 450 506]]
frame:    0 / 0 - framerate: 13.458639 fps device: 'cuda' - 1 GPU(s) will be used
None
number of people :  1
bbox : 
 [[ 65   0 581 349]]
frame:    0 / 0 - framerate: 13.519895 fps device: 'cuda' - 1 GPU(s) will be used
None
number of people :  1
bbox : 
 [[  26  275  986 1556]]
frame:    0 / 0 - framerate: 10.552292 fps device: 'cuda' - 1 GPU(s) will be used
None
number of people :  1
bbox : 
 [[ 258    0 1076  963]]
frame:    0 / 0 - framerate: 11.089060 fps device: 'cuda' - 1 GPU(s) will be used
None
number of people :  1
bbox : 
 [[148   0 704 526]]
frame:    0 / 0 - framerate: 12.987874 fps device: 'cuda' - 1 GPU(s) will be used
None
number of people :  1
bbox : 
 [[ 341    0 1477 1000]]
frame:    0 / 0 - framerate: 10.598234 fps device: 'cuda' - 1 GPU(s) will be used
None
number of people :  1
bbox : 
 [[ 2  0 71 75]]
frame:    0 / -9223372036854775808 - framerate: 12.097686 fps device: 'cuda' - 1 GPU(s) will be used
None
number of people :  1
bbox : 
 [[ 40   0 278 200]]
frame:    0 / 0 - framerate: 12.774271 fps device: 'cuda' - 1 GPU(s) will be used
None
number of people :  1
bbox : 
 [[167   0 640 519]]
frame:    0 / 0 - framerate: 13.100281 fps device: 'cuda' - 1 GPU(s) will be used
None
number of people :  1
bbox : 
 [[ 67   0 440 360]]
frame:    0 / 0 - framerate: 13.609166 fps device: 'cuda' - 1 GPU(s) will be used
None
number of people :  0
bbox : 
 []
frame:    0 / 0 - framerate: 31.090106 fps device: 'cuda' - 1 GPU(s) will be used
None
number of people :  1
bbox : 
 [[ 41   0 399 350]]
frame:    0 / 0 - framerate: 13.197064 fps device: 'cuda' - 1 GPU(s) will be used
None
number of people :  1
bbox : 
 [[ 56   0 325 205]]
frame:    0 / 0 - framerate: 14.390125 fps device: 'cuda' - 1 GPU(s) will be used
None
number of people :  1
bbox : 
 [[  75    0 1214  957]]
frame:    0 / 0 - framerate: 10.541922 fps device: 'cuda' - 1 GPU(s) will be used
None
number of people :  1
bbox : 
 [[ 76   0 590 378]]
frame:    0 / 0 - framerate: 13.639392 fps device: 'cuda' - 1 GPU(s) will be used
None
number of people :  3
bbox : 
 [[441  17 653 300]
 [374  28 735 420]
 [ 69  45 456 420]]
frame:    0 / 0 - framerate: 10.089544 fps device: 'cuda' - 1 GPU(s) will be used
None
number of people :  1
bbox : 
 [[ 43   0 730 409]]
frame:    0 / 0 - framerate: 13.185116 fps device: 'cuda' - 1 GPU(s) will be used
None
number of people :  1
bbox : 
 [[178 123 534 516]]
frame:    0 / -9223372036854775808 - framerate: 11.694243 fps device: 'cuda' - 1 GPU(s) will be used
None
number of people :  1
bbox : 
 [[ 30   0 450 360]]
frame:    0 / 0 - framerate: 11.909817 fps device: 'cuda' - 1 GPU(s) will be used
None
number of people :  1
bbox : 
 [[ 85   0 727 600]]
frame:    0 / 0 - framerate: 10.749113 fps device: 'cuda' - 1 GPU(s) will be used
None
number of people :  1
bbox : 
 [[ 17   0 384 320]]
frame:    0 / 0 - framerate: 11.591791 fps device: 'cuda' - 1 GPU(s) will be used
None
number of people :  1
bbox : 
 [[ 24   0 285 210]]
frame:    0 / -9223372036854775808 - framerate: 14.092580 fps device: 'cuda' - 1 GPU(s) will be used
None
number of people :  1
bbox : 
 [[303  90 795 720]]
frame:    0 / 0 - framerate: 12.791061 fps device: 'cuda' - 1 GPU(s) will be used
None
number of people :  1
bbox : 
 [[ 46   0 411 360]]
frame:    0 / 0 - framerate: 13.674477 fps device: 'cuda' - 1 GPU(s) will be used
None
number of people :  1
bbox : 
 [[ 55   0 561 449]]
frame:    0 / 0 - framerate: 13.138486 fps device: 'cuda' - 1 GPU(s) will be used
None
number of people :  1
bbox : 
 [[ 156    0 1187  957]]
frame:    0 / 0 - framerate: 10.538505 fps device: 'cuda' - 1 GPU(s) will be used
None
number of people :  2
bbox : 
 [[ 429    0 1088  720]
 [  60  231  336  599]]
frame:    0 / 0 - framerate: 10.995051 fps device: 'cuda' - 1 GPU(s) will be used
None
number of people :  1
bbox : 
 [[128   0 422 357]]
frame:    0 / 0 - framerate: 13.835738 fps device: 'cuda' - 1 GPU(s) will be used
None
number of people :  1
bbox : 
 [[  88    0 1037  720]]
frame:    0 / 0 - framerate: 11.905152 fps device: 'cuda' - 1 GPU(s) will be used
None
number of people :  1
bbox : 
 [[121  26 394 360]]
frame:    0 / 0 - framerate: 13.761562 fps device: 'cuda' - 1 GPU(s) will be used
None
number of people :  1
bbox : 
 [[  88    0 1037  720]]
frame:    0 / 0 - framerate: 10.342236 fps device: 'cuda' - 1 GPU(s) will be used
None
number of people :  1
bbox : 
 [[128   0 422 357]]
frame:    0 / 0 - framerate: 11.784533 fps device: 'cuda' - 1 GPU(s) will be used
None
number of people :  1
bbox : 
 [[ 282    0 1328 1361]]
frame:    0 / 0 - framerate: 7.599299 fps device: 'cuda' - 1 GPU(s) will be used
None
number of people :  1
bbox : 
 [[ 33   0 281 203]]
frame:    0 / 0 - framerate: 11.992360 fps device: 'cuda' - 1 GPU(s) will be used
None
number of people :  1
bbox : 
 [[  91    0 1061  855]]
frame:    0 / 0 - framerate: 9.252556 fps device: 'cuda' - 1 GPU(s) will be used
None
number of people :  1
bbox : 
 [[ 338    0 1255  720]]
frame:    0 / 0 - framerate: 10.460941 fps device: 'cuda' - 1 GPU(s) will be used
None
number of people :  1
bbox : 
 [[ 23   0 253 194]]
frame:    0 / 0 - framerate: 11.973531 fps device: 'cuda' - 1 GPU(s) will be used
None
number of people :  1
bbox : 
 [[ 28   0 565 356]]
frame:    0 / 0 - framerate: 11.312445 fps device: 'cuda' - 1 GPU(s) will be used
None
number of people :  1
bbox : 
 [[ 67   0 564 413]]
frame:    0 / 0 - framerate: 11.306682 fps device: 'cuda' - 1 GPU(s) will be used
None
number of people :  1
bbox : 
 [[ 65   0 806 545]]
frame:    0 / 0 - framerate: 10.629201 fps device: 'cuda' - 1 GPU(s) will be used
None
number of people :  1
bbox : 
 [[ 71 134 574 804]]
frame:    0 / 0 - framerate: 11.100153 fps device: 'cuda' - 1 GPU(s) will be used
None
number of people :  1
bbox : 
 [[ 40   0 353 350]]
frame:    0 / 0 - framerate: 12.224585 fps device: 'cuda' - 1 GPU(s) will be used
None
number of people :  1
bbox : 
 [[ 310    0 1179  957]]
frame:    0 / 0 - framerate: 10.146487 fps device: 'cuda' - 1 GPU(s) will be used
None
number of people :  1
bbox : 
 [[ 50   0 417 334]]
frame:    0 / 0 - framerate: 13.721494 fps device: 'cuda' - 1 GPU(s) will be used
None
number of people :  1
bbox : 
 [[111   0 626 500]]
frame:    0 / 0 - framerate: 13.407314 fps device: 'cuda' - 1 GPU(s) will be used
None
number of people :  1
bbox : 
 [[ 32   0 743 533]]
frame:    0 / 0 - framerate: 12.523563 fps device: 'cuda' - 1 GPU(s) will be used
None
number of people :  1
bbox : 
 [[155   0 513 349]]
frame:    0 / 0 - framerate: 13.848026 fps device: 'cuda' - 1 GPU(s) will be used
None
number of people :  2
bbox : 
 [[135  73 392 393]
 [178   0 444 325]]
frame:    0 / 0 - framerate: 12.267096 fps device: 'cuda' - 1 GPU(s) will be used
None
number of people :  1
bbox : 
 [[ 103    0 1111  957]]
frame:    0 / 0 - framerate: 9.397253 fps device: 'cuda' - 1 GPU(s) will be used
None
number of people :  1
bbox : 
 [[ 33   0 311 139]]
frame:    0 / 0 - framerate: 12.008119 fps device: 'cuda' - 1 GPU(s) will be used
None
number of people :  1
bbox : 
 [[ 44   0 698 766]]
frame:    0 / 0 - framerate: 10.804493 fps device: 'cuda' - 1 GPU(s) will be used
None
number of people :  1
bbox : 
 [[ 45   0 246 160]]
frame:    0 / 0 - framerate: 12.197992 fps device: 'cuda' - 1 GPU(s) will be used
None
number of people :  1
bbox : 
 [[  88    0 1724  548]]
frame:    0 / -9223372036854775808 - framerate: 8.553154 fps device: 'cuda' - 1 GPU(s) will be used
None
number of people :  1
bbox : 
 [[ 35   0 837 369]]
frame:    0 / -9223372036854775808 - framerate: 10.618007 fps device: 'cuda' - 1 GPU(s) will be used
None
number of people :  1
bbox : 
 [[ 27   0 792 401]]
frame:    0 / -9223372036854775808 - framerate: 10.517602 fps device: 'cuda' - 1 GPU(s) will be used
None
number of people :  1
bbox : 
 [[ 40   0 834 421]]
frame:    0 / -9223372036854775808 - framerate: 10.423247 fps device: 'cuda' - 1 GPU(s) will be used
None
number of people :  1
bbox : 
 [[ 27   0 820 352]]
frame:    0 / -9223372036854775808 - framerate: 10.870776 fps device: 'cuda' - 1 GPU(s) will be used
None
number of people :  1
bbox : 
 [[ 43   0 725 703]]
frame:    0 / -9223372036854775808 - framerate: 9.454509 fps device: 'cuda' - 1 GPU(s) will be used
None
number of people :  1
bbox : 
 [[ 17   0 375 211]]
frame:    0 / -9223372036854775808 - framerate: 11.943017 fps device: 'cuda' - 1 GPU(s) will be used
None
number of people :  1
bbox : 
 [[ 24   0 535 266]]
frame:    0 / -9223372036854775808 - framerate: 11.201119 fps device: 'cuda' - 1 GPU(s) will be used
None
number of people :  1
bbox : 
 [[ 40   0 453 373]]
frame:    0 / -9223372036854775808 - framerate: 11.281592 fps device: 'cuda' - 1 GPU(s) will be used
None
number of people :  1
bbox : 
 [[ 43   0 914 318]]
frame:    0 / -9223372036854775808 - framerate: 10.551655 fps device: 'cuda' - 1 GPU(s) will be used
None
number of people :  0
bbox : 
 []
frame:    0 / -9223372036854775808 - framerate: 32.076844 fps device: 'cuda' - 1 GPU(s) will be used
None
number of people :  2
bbox : 
 [[ 40   0 464 233]
 [346 184 393 233]]
frame:    0 / -9223372036854775808 - framerate: 10.543910 fps device: 'cuda' - 1 GPU(s) will be used
None
number of people :  1
bbox : 
 [[ 52   0 821 570]]
frame:    0 / -9223372036854775808 - framerate: 10.413671 fps device: 'cuda' - 1 GPU(s) will be used
None
number of people :  1
bbox : 
 [[ 11   0 533 147]]
frame:    0 / -9223372036854775808 - framerate: 13.274332 fps device: 'cuda' - 1 GPU(s) will be used
None
number of people :  1
bbox : 
 [[ 23   0 392 140]]
frame:    0 / -9223372036854775808 - framerate: 14.180150 fps device: 'cuda' - 1 GPU(s) will be used
None
number of people :  1
bbox : 
 [[ 18   0 454 204]]
frame:    0 / -9223372036854775808 - framerate: 13.957286 fps device: 'cuda' - 1 GPU(s) will be used
None
number of people :  1
bbox : 
 [[ 174    0 2705 1433]]
frame:    0 / -9223372036854775808 - framerate: 5.793990 fps device: 'cuda' - 1 GPU(s) will be used
None
number of people :  1
bbox : 
 [[ 73   0 597 243]]
frame:    0 / -9223372036854775808 - framerate: 13.170377 fps device: 'cuda' - 1 GPU(s) will be used
None
number of people :  1
bbox : 
 [[ 12   0 248  89]]
frame:    0 / -9223372036854775808 - framerate: 14.629694 fps device: 'cuda' - 1 GPU(s) will be used
None
number of people :  1
bbox : 
 [[ 14   0 244 158]]
frame:    0 / -9223372036854775808 - framerate: 14.201852 fps device: 'cuda' - 1 GPU(s) will be used
None
number of people :  1
bbox : 
 [[  79    0 1027  496]]
frame:    0 / -9223372036854775808 - framerate: 9.807704 fps device: 'cuda' - 1 GPU(s) will be used
None
number of people :  1
bbox : 
 [[ 19   0 635 302]]
frame:    0 / -9223372036854775808 - framerate: 11.129785 fps device: 'cuda' - 1 GPU(s) will be used
None
number of people :  1
bbox : 
 [[ 17   0 885 255]]
frame:    0 / -9223372036854775808 - framerate: 12.497219 fps device: 'cuda' - 1 GPU(s) will be used
None
number of people :  1
bbox : 
 [[  79    0 2373 1219]]
frame:    0 / -9223372036854775808 - framerate: 6.447746 fps device: 'cuda' - 1 GPU(s) will be used
None
number of people :  1
bbox : 
 [[ 10   0 177 171]]
frame:    0 / -9223372036854775808 - framerate: 14.064368 fps device: 'cuda' - 1 GPU(s) will be used
None
number of people :  1
bbox : 
 [[ 18   0 330 160]]
frame:    0 / -9223372036854775808 - framerate: 14.363710 fps device: 'cuda' - 1 GPU(s) will be used
None
number of people :  1
bbox : 
 [[ 36   0 798 399]]
frame:    0 / -9223372036854775808 - framerate: 12.340725 fps device: 'cuda' - 1 GPU(s) will be used
None
number of people :  1
bbox : 
 [[ 35   0 988 587]]
frame:    0 / -9223372036854775808 - framerate: 10.714378 fps device: 'cuda' - 1 GPU(s) will be used
None
number of people :  1
bbox : 
 [[ 46   0 608 429]]
frame:    0 / -9223372036854775808 - framerate: 12.272228 fps device: 'cuda' - 1 GPU(s) will be used
None
number of people :  1
bbox : 
 [[ 13   0 373 191]]
frame:    0 / -9223372036854775808 - framerate: 14.189024 fps device: 'cuda' - 1 GPU(s) will be used
None
number of people :  1
bbox : 
 [[ 37   0 705 358]]
frame:    0 / -9223372036854775808 - framerate: 12.263509 fps device: 'cuda' - 1 GPU(s) will be used
None
number of people :  1
bbox : 
 [[ 22   0 518 196]]
frame:    0 / -9223372036854775808 - framerate: 13.525519 fps device: 'cuda' - 1 GPU(s) will be used
None
number of people :  1
bbox : 
 [[ 30   0 409 404]]
frame:    0 / -9223372036854775808 - framerate: 11.181650 fps device: 'cuda' - 1 GPU(s) will be used
None
number of people :  1
bbox : 
 [[ 40   0 804 750]]
frame:    0 / -9223372036854775808 - framerate: 9.722315 fps device: 'cuda' - 1 GPU(s) will be used
None
number of people :  1
bbox : 
 [[  46    0 1036  298]]
frame:    0 / -9223372036854775808 - framerate: 11.232797 fps device: 'cuda' - 1 GPU(s) will be used
None
number of people :  1
bbox : 
 [[ 41   0 588 373]]
frame:    0 / -9223372036854775808 - framerate: 12.766222 fps device: 'cuda' - 1 GPU(s) will be used
None
number of people :  1
bbox : 
 [[  3   0 356  86]]
frame:    0 / -9223372036854775808 - framerate: 14.558399 fps device: 'cuda' - 1 GPU(s) will be used
None
number of people :  1
bbox : 
 [[ 10   0 267 140]]
frame:    0 / -9223372036854775808 - framerate: 14.455092 fps device: 'cuda' - 1 GPU(s) will be used
None
number of people :  1
bbox : 
 [[ 29   0 497 324]]
frame:    0 / -9223372036854775808 - framerate: 12.867463 fps device: 'cuda' - 1 GPU(s) will be used
None
number of people :  1
bbox : 
 [[  9   0 176  68]]
frame:    0 / -9223372036854775808 - framerate: 14.867566 fps device: 'cuda' - 1 GPU(s) will be used
None
number of people :  1
bbox : 
 [[ 22   0 444 264]]
frame:    0 / -9223372036854775808 - framerate: 13.333664 fps device: 'cuda' - 1 GPU(s) will be used
None
number of people :  1
bbox : 
 [[ 17   0 391 392]]
frame:    0 / -9223372036854775808 - framerate: 13.080385 fps device: 'cuda' - 1 GPU(s) will be used
None
number of people :  1
bbox : 
 [[ 48   0 659 349]]
frame:    0 / -9223372036854775808 - framerate: 12.566111 fps device: 'cuda' - 1 GPU(s) will be used
None
number of people :  1
bbox : 
 [[  8   0 259 101]]
frame:    0 / -9223372036854775808 - framerate: 14.509648 fps device: 'cuda' - 1 GPU(s) will be used
None
number of people :  1
bbox : 
 [[  8   0 552 177]]
frame:    0 / -9223372036854775808 - framerate: 11.482875 fps device: 'cuda' - 1 GPU(s) will be used
None
number of people :  1
bbox : 
 [[ 13   0 701 269]]
frame:    0 / -9223372036854775808 - framerate: 11.737638 fps device: 'cuda' - 1 GPU(s) will be used
None
number of people :  1
bbox : 
 [[  60    0 1220  612]]
frame:    0 / -9223372036854775808 - framerate: 10.131022 fps device: 'cuda' - 1 GPU(s) will be used
None
number of people :  1
bbox : 
 [[ 19   0 337 161]]
frame:    0 / -9223372036854775808 - framerate: 14.243763 fps device: 'cuda' - 1 GPU(s) will be used
None
number of people :  1
bbox : 
 [[ 47   0 436 183]]
frame:    0 / 0 - framerate: 14.300779 fps device: 'cuda' - 1 GPU(s) will be used
None
number of people :  1
bbox : 
 [[ 227    0 2873 2204]]
frame:    0 / 0 - framerate: 4.481525 fps device: 'cuda' - 1 GPU(s) will be used
None
number of people :  1
bbox : 
 [[ 40  87 524 575]]
frame:    0 / 0 - framerate: 12.890122 fps device: 'cuda' - 1 GPU(s) will be used
None
number of people :  1
bbox : 
 [[ 28   0 580 187]]
frame:    0 / 0 - framerate: 13.842862 fps device: 'cuda' - 1 GPU(s) will be used
None
number of people :  1
bbox : 
 [[ 263    3 1229 1080]]
frame:    0 / 0 - framerate: 10.642983 fps device: 'cuda' - 1 GPU(s) will be used
None
number of people :  1
bbox : 
 [[ 49   0 655 500]]
frame:    0 / 0 - framerate: 13.180227 fps device: 'cuda' - 1 GPU(s) will be used
None
number of people :  1
bbox : 
 [[134   0 934 500]]
frame:    0 / 0 - framerate: 12.426941 fps device: 'cuda' - 1 GPU(s) will be used
None
number of people :  1
bbox : 
 [[ 29   0 358 231]]
frame:    0 / 0 - framerate: 14.192289 fps device: 'cuda' - 1 GPU(s) will be used
None
number of people :  2
bbox : 
 [[108   0 506 312]
 [ 33 144 115 252]]
frame:    0 / 0 - framerate: 10.595664 fps device: 'cuda' - 1 GPU(s) will be used
None
number of people :  1
bbox : 
 [[ 209    0 1158  720]]
frame:    0 / 0 - framerate: 10.987533 fps device: 'cuda' - 1 GPU(s) will be used
None
number of people :  1
bbox : 
 [[  4   0 229 236]]
frame:    0 / 0 - framerate: 14.165687 fps device: 'cuda' - 1 GPU(s) will be used
None
number of people :  1
bbox : 
 [[155  27 416 320]]
frame:    0 / 0 - framerate: 13.777112 fps device: 'cuda' - 1 GPU(s) will be used
None
number of people :  1
bbox : 
 [[108   0 696 443]]
frame:    0 / 0 - framerate: 12.925476 fps device: 'cuda' - 1 GPU(s) will be used
None
number of people :  1
bbox : 
 [[ 99  57 338 300]]
frame:    0 / 0 - framerate: 14.014883 fps device: 'cuda' - 1 GPU(s) will be used
None
number of people :  2
bbox : 
 [[  85    0  873  798]
 [ 656  212 1026  704]]
frame:    0 / 0 - framerate: 9.306302 fps device: 'cuda' - 1 GPU(s) will be used
None
number of people :  1
bbox : 
 [[ 116    0 1223  720]]
frame:    0 / 0 - framerate: 11.235174 fps device: 'cuda' - 1 GPU(s) will be used
None
number of people :  1
bbox : 
 [[ 18   0 270 168]]
frame:    0 / 0 - framerate: 14.494055 fps device: 'cuda' - 1 GPU(s) will be used
None
number of people :  1
bbox : 
 [[ 236    0 1170  956]]
frame:    0 / 0 - framerate: 10.730606 fps device: 'cuda' - 1 GPU(s) will be used
None
number of people :  1
bbox : 
 [[232   0 667 379]]
frame:    0 / 0 - framerate: 12.606562 fps device: 'cuda' - 1 GPU(s) will be used
None
number of people :  1
bbox : 
 [[  75    0 1824 1080]]
frame:    0 / 0 - framerate: 8.803351 fps device: 'cuda' - 1 GPU(s) will be used
None
number of people :  1
bbox : 
 [[ 21   0 302 295]]
frame:    0 / 0 - framerate: 13.652089 fps device: 'cuda' - 1 GPU(s) will be used
None
number of people :  1
bbox : 
 [[ 28   0 439 321]]
frame:    0 / 0 - framerate: 11.794608 fps device: 'cuda' - 1 GPU(s) will be used
None
number of people :  1
bbox : 
 [[ 70 112 270 357]]
frame:    0 / 0 - framerate: 12.691628 fps device: 'cuda' - 1 GPU(s) will be used
None
number of people :  1
bbox : 
 [[159   0 481 315]]
frame:    0 / 0 - framerate: 12.311023 fps device: 'cuda' - 1 GPU(s) will be used
None
number of people :  1
bbox : 
 [[ 59   0 506 322]]
frame:    0 / 0 - framerate: 12.351591 fps device: 'cuda' - 1 GPU(s) will be used
None
number of people :  1
bbox : 
 [[ 350  124 1046 1052]]
frame:    0 / 0 - framerate: 9.918051 fps device: 'cuda' - 1 GPU(s) will be used
None
number of people :  1
bbox : 
 [[ 50   0 985 508]]
frame:    0 / 0 - framerate: 11.100800 fps device: 'cuda' - 1 GPU(s) will be used
None
number of people :  1
bbox : 
 [[ 44   0 532 500]]
frame:    0 / 0 - framerate: 11.993663 fps device: 'cuda' - 1 GPU(s) will be used
None
number of people :  1
bbox : 
 [[ 407    0 1611 1080]]
frame:    0 / 0 - framerate: 9.700078 fps device: 'cuda' - 1 GPU(s) will be used
None
number of people :  1
bbox : 
 [[ 40  59 202 255]]
frame:    0 / 0 - framerate: 12.744151 fps device: 'cuda' - 1 GPU(s) will be used
None
number of people :  1
bbox : 
 [[ 28   0 334 379]]
frame:    0 / 0 - framerate: 12.256736 fps device: 'cuda' - 1 GPU(s) will be used
None
number of people :  1
bbox : 
 [[110   0 692 459]]
frame:    0 / 0 - framerate: 11.612330 fps device: 'cuda' - 1 GPU(s) will be used
None
number of people :  1
bbox : 
 [[ 52   0 519 376]]
frame:    0 / 0 - framerate: 12.450809 fps device: 'cuda' - 1 GPU(s) will be used
None
number of people :  1
bbox : 
 [[ 22   0 290 259]]
frame:    0 / 0 - framerate: 11.953160 fps device: 'cuda' - 1 GPU(s) will be used
None
number of people :  1
bbox : 
 [[100  30 460 400]]
frame:    0 / 0 - framerate: 12.316952 fps device: 'cuda' - 1 GPU(s) will be used
None
number of people :  1
bbox : 
 [[ 26   0 248 180]]
frame:    0 / 0 - framerate: 14.165591 fps device: 'cuda' - 1 GPU(s) will be used
None
number of people :  1
bbox : 
 [[ 36   0 677 552]]
frame:    0 / 0 - framerate: 12.867187 fps device: 'cuda' - 1 GPU(s) will be used
None
number of people :  1
bbox : 
 [[ 89   0 656 582]]
frame:    0 / 0 - framerate: 12.580396 fps device: 'cuda' - 1 GPU(s) will be used
None
number of people :  1
bbox : 
 [[ 16   0 261 152]]
frame:    0 / 0 - framerate: 14.738058 fps device: 'cuda' - 1 GPU(s) will be used
None
number of people :  1
bbox : 
 [[ 133    0 4005 3235]]
frame:    0 / 0 - framerate: 2.659617 fps device: 'cuda' - 1 GPU(s) will be used
None
number of people :  1
bbox : 
 [[ 56   0 699 410]]
frame:    0 / 0 - framerate: 13.337904 fps device: 'cuda' - 1 GPU(s) will be used
None
number of people :  1
bbox : 
 [[ 27   0 401 321]]
frame:    0 / 0 - framerate: 13.641832 fps device: 'cuda' - 1 GPU(s) will be used
None
number of people :  1
bbox : 
 [[ 46   0 782 536]]
frame:    0 / 0 - framerate: 12.791841 fps device: 'cuda' - 1 GPU(s) will be used
None
number of people :  1
bbox : 
 [[153   0 806 576]]
frame:    0 / 0 - framerate: 12.642052 fps device: 'cuda' - 1 GPU(s) will be used
None
number of people :  2
bbox : 
 [[103   0 710 600]
 [676  89 778 226]]
frame:    0 / 0 - framerate: 10.802767 fps device: 'cuda' - 1 GPU(s) will be used
None
number of people :  1
bbox : 
 [[ 31   0 215 152]]
frame:    0 / 0 - framerate: 12.134190 fps device: 'cuda' - 1 GPU(s) will be used
None
number of people :  1
bbox : 
 [[136   0 638 600]]
frame:    0 / 0 - framerate: 11.993595 fps device: 'cuda' - 1 GPU(s) will be used
None
number of people :  1
bbox : 
 [[ 24   0 285 213]]
frame:    0 / 0 - framerate: 13.528529 fps device: 'cuda' - 1 GPU(s) will be used
None
number of people :  1
bbox : 
 [[ 78   0 590 427]]
frame:    0 / 0 - framerate: 13.093942 fps device: 'cuda' - 1 GPU(s) will be used
None
number of people :  1
bbox : 
 [[ 56   0 694 545]]
frame:    0 / 0 - framerate: 12.543038 fps device: 'cuda' - 1 GPU(s) will be used
None
number of people :  1
bbox : 
 [[ 32   0 459 335]]
frame:    0 / 0 - framerate: 13.658580 fps device: 'cuda' - 1 GPU(s) will be used
None
number of people :  1
bbox : 
 [[111   0 626 500]]
frame:    0 / 0 - framerate: 13.298069 fps device: 'cuda' - 1 GPU(s) will be used
None
number of people :  1
bbox : 
 [[ 49   0 584 480]]
frame:    0 / 0 - framerate: 13.203836 fps device: 'cuda' - 1 GPU(s) will be used
None
number of people :  1
bbox : 
 [[ 45   0 709 350]]
frame:    0 / 0 - framerate: 12.931653 fps 
In [68]:
for i in range(len(img_list_path05)):
    !python3 scripts/extract-keypoints.py \
      --filename {img_list_path05[i]} \
      --format json \
      --hrnet_weights weights/pose_hrnet_w48_384x288.pth \
      --json_output_filename {json_list_path05[i]}

device: 'cuda' - 1 GPU(s) will be used
None
number of people :  1
bbox : 
 [[  5   0 392 334]]
frame:    0 / -9223372036854775808 - framerate: 13.307773 fps device: 'cuda' - 1 GPU(s) will be used
None
number of people :  1
bbox : 
 [[ 222  107 1820 2048]]
frame:    0 / 0 - framerate: 5.284442 fps device: 'cuda' - 1 GPU(s) will be used
None
number of people :  1
bbox : 
 [[ 206    0 1011  675]]
frame:    0 / 0 - framerate: 11.815540 fps device: 'cuda' - 1 GPU(s) will be used
None
number of people :  1
bbox : 
 [[ 230  116 1857 2048]]
frame:    0 / 0 - framerate: 7.110569 fps device: 'cuda' - 1 GPU(s) will be used
None
number of people :  1
bbox : 
 [[167   0 861 576]]
frame:    0 / 0 - framerate: 10.947098 fps device: 'cuda' - 1 GPU(s) will be used
None
number of people :  1
bbox : 
 [[ 471    0 2783 2102]]
frame:    0 / 0 - framerate: 4.618606 fps device: 'cuda' - 1 GPU(s) will be used
None
number of people :  1
bbox : 
 [[ 243    0 1829 1422]]
frame:    0 / 0 - framerate: 7.479397 fps device: 'cuda' - 1 GPU(s) will be used
None
number of people :  1
bbox : 
 [[135   0 847 768]]
frame:    0 / -9223372036854775808 - framerate: 10.601020 fps device: 'cuda' - 1 GPU(s) will be used
None
number of people :  1
bbox : 
 [[ 219    0 1765 1282]]
frame:    0 / -9223372036854775808 - framerate: 8.273017 fps device: 'cuda' - 1 GPU(s) will be used
None
number of people :  1
bbox : 
 [[ 56   0 572 614]]
frame:    0 / 0 - framerate: 12.806370 fps device: 'cuda' - 1 GPU(s) will be used
None
number of people :  1
bbox : 
 [[ 73   0 865 810]]
frame:    0 / 0 - framerate: 10.892938 fps device: 'cuda' - 1 GPU(s) will be used
None
number of people :  1
bbox : 
 [[ 31   0 697 646]]
frame:    0 / 0 - framerate: 12.179432 fps device: 'cuda' - 1 GPU(s) will be used
None
number of people :  1
bbox : 
 [[159   0 912 900]]
frame:    0 / 0 - framerate: 11.638979 fps device: 'cuda' - 1 GPU(s) will be used
None
number of people :  1
bbox : 
 [[ 81   0 443 411]]
frame:    0 / 0 - framerate: 13.486421 fps device: 'cuda' - 1 GPU(s) will be used
None
number of people :  1
bbox : 
 [[ 398    0 2705 2400]]
frame:    0 / 0 - framerate: 4.345965 fps device: 'cuda' - 1 GPU(s) will be used
None
number of people :  1
bbox : 
 [[ 487    0 1498 1080]]
frame:    0 / 0 - framerate: 10.549293 fps device: 'cuda' - 1 GPU(s) will be used
None
number of people :  1
bbox : 
 [[   5  232  708 1150]]
frame:    0 / 0 - framerate: 9.665520 fps device: 'cuda' - 1 GPU(s) will be used
None
number of people :  1
bbox : 
 [[ 95   0 601 500]]
frame:    0 / 0 - framerate: 12.129172 fps device: 'cuda' - 1 GPU(s) will be used
None
number of people :  1
bbox : 
 [[118   0 910 766]]
frame:    0 / 0 - framerate: 11.510954 fps device: 'cuda' - 1 GPU(s) will be used
None
number of people :  1
bbox : 
 [[ 72   0 540 419]]
frame:    0 / 0 - framerate: 13.486898 fps device: 'cuda' - 1 GPU(s) will be used
None
number of people :  1
bbox : 
 [[ 178    0 1233 1000]]
frame:    0 / 0 - framerate: 10.929725 fps device: 'cuda' - 1 GPU(s) will be used
None
number of people :  1
bbox : 
 [[ 50   0 824 681]]
frame:    0 / 0 - framerate: 12.094930 fps device: 'cuda' - 1 GPU(s) will be used
None
number of people :  1
bbox : 
 [[ 52   0 662 607]]
frame:    0 / 0 - framerate: 12.823951 fps device: 'cuda' - 1 GPU(s) will be used
None
number of people :  1
bbox : 
 [[  90    0  929 1024]]
frame:    0 / 0 - framerate: 11.436100 fps device: 'cuda' - 1 GPU(s) will be used
None
number of people :  1
bbox : 
 [[  50  200 2002 2802]]
frame:    0 / 0 - framerate: 5.054998 fps device: 'cuda' - 1 GPU(s) will be used
None
number of people :  1
bbox : 
 [[ 48   0 760 642]]
frame:    0 / 0 - framerate: 12.625422 fps device: 'cuda' - 1 GPU(s) will be used
None
number of people :  0
bbox : 
 []
frame:    0 / -9223372036854775808 - framerate: 26.677929 fps device: 'cuda' - 1 GPU(s) will be used
None
number of people :  1
bbox : 
 [[ 243    0 1829 1422]]
frame:    0 / 0 - framerate: 8.836941 fps device: 'cuda' - 1 GPU(s) will be used
None
number of people :  1
bbox : 
 [[ 16  77 491 709]]
frame:    0 / 0 - framerate: 10.968311 fps device: 'cuda' - 1 GPU(s) will be used
None
number of people :  1
bbox : 
 [[   6  231  708 1150]]
frame:    0 / 0 - framerate: 10.155626 fps device: 'cuda' - 1 GPU(s) will be used
None
number of people :  1
bbox : 
 [[ 50   0 823 681]]
frame:    0 / 0 - framerate: 10.481305 fps device: 'cuda' - 1 GPU(s) will be used
None
number of people :  1
bbox : 
 [[141  49 455 433]]
frame:    0 / 0 - framerate: 11.566601 fps device: 'cuda' - 1 GPU(s) will be used
None
number of people :  1
bbox : 
 [[ 338    0 1567 1282]]
frame:    0 / 0 - framerate: 7.838824 fps device: 'cuda' - 1 GPU(s) will be used
None
number of people :  1
bbox : 
 [[  89    0  931 1024]]
frame:    0 / 0 - framerate: 9.900913 fps device: 'cuda' - 1 GPU(s) will be used
None
number of people :  1
bbox : 
 [[ 48   0 760 642]]
frame:    0 / 0 - framerate: 10.846571 fps device: 'cuda' - 1 GPU(s) will be used
None
number of people :  1
bbox : 
 [[159   0 912 900]]
frame:    0 / 0 - framerate: 9.579120 fps device: 'cuda' - 1 GPU(s) will be used
None
number of people :  1
bbox : 
 [[118   0 910 766]]
frame:    0 / 0 - framerate: 10.151890 fps device: 'cuda' - 1 GPU(s) will be used
None
number of people :  1
bbox : 
 [[  90    0  929 1024]]
frame:    0 / 0 - framerate: 9.906291 fps device: 'cuda' - 1 GPU(s) will be used
None
number of people :  1
bbox : 
 [[346   6 872 630]]
frame:    0 / 0 - framerate: 10.897580 fps device: 'cuda' - 1 GPU(s) will be used
None
number of people :  0
bbox : 
 []
frame:    0 / -9223372036854775808 - framerate: 24.220591 fps device: 'cuda' - 1 GPU(s) will be used
None
number of people :  1
bbox : 
 [[ 52   0 662 607]]
frame:    0 / 0 - framerate: 10.799819 fps device: 'cuda' - 1 GPU(s) will be used
None
number of people :  1
bbox : 
 [[  50  200 2002 2802]]
frame:    0 / 0 - framerate: 4.795611 fps device: 'cuda' - 1 GPU(s) will be used
None
number of people :  1
bbox : 
 [[1509    0 4881 3605]]
frame:    0 / 0 - framerate: 2.034483 fps device: 'cuda' - 1 GPU(s) will be used
None
number of people :  1
bbox : 
 [[ 12   0 177 190]]
frame:    0 / 0 - framerate: 13.002610 fps device: 'cuda' - 1 GPU(s) will be used
None
number of people :  1
bbox : 
 [[ 634    0 1820 1440]]
frame:    0 / 0 - framerate: 7.823530 fps device: 'cuda' - 1 GPU(s) will be used
None
number of people :  1
bbox : 
 [[ 99 103 622 760]]
frame:    0 / -9223372036854775808 - framerate: 11.693265 fps device: 'cuda' - 1 GPU(s) will be used
None
number of people :  1
bbox : 
 [[ 52   0 781 649]]
frame:    0 / 0 - framerate: 12.305533 fps device: 'cuda' - 1 GPU(s) will be used
None
number of people :  1
bbox : 
 [[  74    0 1136 1200]]
frame:    0 / 0 - framerate: 10.620239 fps device: 'cuda' - 1 GPU(s) will be used
None
number of people :  1
bbox : 
 [[ 32   0 318 342]]
frame:    0 / 0 - framerate: 13.867989 fps device: 'cuda' - 1 GPU(s) will be used
None
number of people :  1
bbox : 
 [[ 76   0 641 546]]
frame:    0 / 0 - framerate: 11.339297 fps device: 'cuda' - 1 GPU(s) will be used
None
number of people :  1
bbox : 
 [[222   0 991 675]]
frame:    0 / 0 - framerate: 10.196709 fps device: 'cuda' - 1 GPU(s) will be used
None
number of people :  1
bbox : 
 [[ 10   0 729 805]]
frame:    0 / 0 - framerate: 9.936331 fps device: 'cuda' - 1 GPU(s) will be used
None
number of people :  1
bbox : 
 [[   7  252  771 1250]]
frame:    0 / 0 - framerate: 10.103567 fps device: 'cuda' - 1 GPU(s) will be used
None
number of people :  1
bbox : 
 [[ 24  51 730 992]]
frame:    0 / 0 - framerate: 10.106464 fps device: 'cuda' - 1 GPU(s) will be used
None
number of people :  1
bbox : 
 [[ 30   0 340 266]]
frame:    0 / 0 - framerate: 11.938938 fps device: 'cuda' - 1 GPU(s) will be used
None
number of people :  1
bbox : 
 [[ 47   0 607 541]]
frame:    0 / 0 - framerate: 11.525061 fps device: 'cuda' - 1 GPU(s) will be used
None
number of people :  1
bbox : 
 [[127   0 483 304]]
frame:    0 / -9223372036854775808 - framerate: 12.975218 fps device: 'cuda' - 1 GPU(s) will be used
None
number of people :  1
bbox : 
 [[ 40   0 274 225]]
frame:    0 / 0 - framerate: 13.943644 fps device: 'cuda' - 1 GPU(s) will be used
None
number of people :  1
bbox : 
 [[ 34   0 699 766]]
frame:    0 / 0 - framerate: 12.553136 fps device: 'cuda' - 1 GPU(s) will be used
None
number of people :  1
bbox : 
 [[ 331    0 1577 1282]]
frame:    0 / 0 - framerate: 9.364125 fps device: 'cuda' - 1 GPU(s) will be used
None
number of people :  1
bbox : 
 [[ 29   0 579 614]]
frame:    0 / 0 - framerate: 13.226612 fps device: 'cuda' - 1 GPU(s) will be used
None
number of people :  1
bbox : 
 [[ 20   0 450 474]]
frame:    0 / 0 - framerate: 13.333155 fps device: 'cuda' - 1 GPU(s) will be used
None
number of people :  1
bbox : 
 [[ 76   0 516 400]]
frame:    0 / 0 - framerate: 13.380667 fps device: 'cuda' - 1 GPU(s) will be used
None
number of people :  1
bbox : 
 [[ 72 158 526 762]]
frame:    0 / 0 - framerate: 13.080222 fps device: 'cuda' - 1 GPU(s) will be used
None
number of people :  1
bbox : 
 [[ 210    0 1366 1080]]
frame:    0 / 0 - framerate: 10.342057 fps device: 'cuda' - 1 GPU(s) will be used
None
number of people :  1
bbox : 
 [[ 50  36 580 742]]
frame:    0 / 0 - framerate: 12.737301 fps device: 'cuda' - 1 GPU(s) will be used
None
number of people :  1
bbox : 
 [[448 157 837 675]]
frame:    0 / 0 - framerate: 11.319620 fps device: 'cuda' - 1 GPU(s) will be used
None
number of people :  1
bbox : 
 [[ 11  36 203 292]]
frame:    0 / 0 - framerate: 13.052421 fps device: 'cuda' - 1 GPU(s) will be used
None
number of people :  1
bbox : 
 [[141   0 969 768]]
frame:    0 / 0 - framerate: 11.605518 fps device: 'cuda' - 1 GPU(s) will be used
None
number of people :  0
bbox : 
 []
frame:    0 / -9223372036854775808 - framerate: 29.422150 fps device: 'cuda' - 1 GPU(s) will be used
None
number of people :  1
bbox : 
 [[346   6 872 630]]
frame:    0 / 0 - framerate: 12.779953 fps device: 'cuda' - 1 GPU(s) will be used
None
number of people :  1
bbox : 
 [[ 52   0 781 649]]
frame:    0 / 0 - framerate: 12.668819 fps device: 'cuda' - 1 GPU(s) will be used
None
number of people :  1
bbox : 
 [[ 10   0 729 805]]
frame:    0 / 0 - framerate: 11.733894 fps device: 'cuda' - 1 GPU(s) will be used
None
number of people :  1
bbox : 
 [[ 243    0 1829 1422]]
frame:    0 / 0 - framerate: 8.859490 fps device: 'cuda' - 1 GPU(s) will be used
None
number of people :  1
bbox : 
 [[ 32   0 548 454]]
frame:    0 / 0 - framerate: 13.456264 fps device: 'cuda' - 1 GPU(s) will be used
None
number of people :  1
bbox : 
 [[ 32   0 318 342]]
frame:    0 / 0 - framerate: 13.746003 fps device: 'cuda' - 1 GPU(s) will be used
None
number of people :  1
bbox : 
 [[ 47   0 607 541]]
frame:    0 / 0 - framerate: 12.610238 fps device: 'cuda' - 1 GPU(s) will be used
None
number of people :  1
bbox : 
 [[ 210    0 1366 1080]]
frame:    0 / 0 - framerate: 10.198221 fps device: 'cuda' - 1 GPU(s) will be used
None
number of people :  1
bbox : 
 [[ 40   0 274 225]]
frame:    0 / 0 - framerate: 12.284845 fps device: 'cuda' - 1 GPU(s) will be used
None
number of people :  1
bbox : 
 [[127   0 483 304]]
frame:    0 / -9223372036854775808 - framerate: 11.915433 fps device: 'cuda' - 1 GPU(s) will be used
None
number of people :  1
bbox : 
 [[ 76   0 641 546]]
frame:    0 / 0 - framerate: 12.425616 fps device: 'cuda' - 1 GPU(s) will be used
None
number of people :  1
bbox : 
 [[  33  140  699 1011]]
frame:    0 / 0 - framerate: 11.501012 fps device: 'cuda' - 1 GPU(s) will be used
None
number of people :  1
bbox : 
 [[ 127    0 1738 1633]]
frame:    0 / 0 - framerate: 6.785154 fps device: 'cuda' - 1 GPU(s) will be used
None
number of people :  1
bbox : 
 [[   7  252  771 1250]]
frame:    0 / 0 - framerate: 11.542791 fps device: 'cuda' - 1 GPU(s) will be used
None
number of people :  1
bbox : 
 [[ 201  438 1396 2030]]
frame:    0 / 0 - framerate: 8.267261 fps device: 'cuda' - 1 GPU(s) will be used
None
number of people :  1
bbox : 
 [[107   0 521 349]]
frame:    0 / 0 - framerate: 13.806772 fps device: 'cuda' - 1 GPU(s) will be used
None
number of people :  1
bbox : 
 [[  67    0 1068  900]]
frame:    0 / 0 - framerate: 11.604266 fps device: 'cuda' - 1 GPU(s) will be used
None
number of people :  1
bbox : 
 [[ 30   0 340 266]]
frame:    0 / 0 - framerate: 13.974119 fps device: 'cuda' - 1 GPU(s) will be used
None
number of people :  1
bbox : 
 [[ 50  36 580 742]]
frame:    0 / 0 - framerate: 12.867621 fps device: 'cuda' - 1 GPU(s) will be used
None
number of people :  1
bbox : 
 [[ 174    0 1319 1000]]
frame:    0 / 0 - framerate: 10.705982 fps device: 'cuda' - 1 GPU(s) will be used
None
number of people :  1
bbox : 
 [[302   0 988 600]]
frame:    0 / 0 - framerate: 9.932707 fps device: 'cuda' - 1 GPU(s) will be used
None
number of people :  1
bbox : 
 [[ 76   0 516 400]]
frame:    0 / 0 - framerate: 11.509028 fps device: 'cuda' - 1 GPU(s) will be used
None
number of people :  1
bbox : 
 [[ 34   0 699 766]]
frame:    0 / 0 - framerate: 11.681248 fps device: 'cuda' - 1 GPU(s) will be used
None
number of people :  2
bbox : 
 [[ 202  384  765 1024]
 [ 225    0  811  657]]
frame:    0 / 0 - framerate: 9.626830 fps device: 'cuda' - 1 GPU(s) will be used
None
number of people :  1
bbox : 
 [[ 95  71 686 766]]
frame:    0 / 0 - framerate: 11.328394 fps device: 'cuda' - 1 GPU(s) will be used
None
number of people :  1
bbox : 
 [[  0 266 540 989]]
frame:    0 / 0 - framerate: 11.603335 fps device: 'cuda' - 1 GPU(s) will be used
None
number of people :  1
bbox : 
 [[ 42   0 483 395]]
frame:    0 / 0 - framerate: 12.375499 fps device: 'cuda' - 1 GPU(s) will be used
None
number of people :  1
bbox : 
 [[ 331    0 1577 1282]]
frame:    0 / 0 - framerate: 8.947524 fps device: 'cuda' - 1 GPU(s) will be used
None
number of people :  1
bbox : 
 [[ 29   0 579 614]]
frame:    0 / 0 - framerate: 11.944514 fps device: 'cuda' - 1 GPU(s) will be used
None
number of people :  0
bbox : 
 []
frame:    0 / -9223372036854775808 - framerate: 28.317506 fps device: 'cuda' - 1 GPU(s) will be used
None
number of people :  1
bbox : 
 [[222   0 991 675]]
frame:    0 / 0 - framerate: 11.049651 fps device: 'cuda' - 1 GPU(s) will be used
None
number of people :  1
bbox : 
 [[  83    0 2645 2153]]
frame:    0 / 0 - framerate: 5.133730 fps device: 'cuda' - 1 GPU(s) will be used
None
number of people :  1
bbox : 
 [[ 11  36 203 292]]
frame:    0 / 0 - framerate: 13.892748 fps device: 'cuda' - 1 GPU(s) will be used
None
number of people :  6
bbox : 
 [[ 82   0 673 581]
 [461 516 487 550]
 [490 514 516 548]
 [367 524 394 560]
 [406 520 431 552]
 [436 516 463 552]]
frame:    0 / 0 - framerate: 6.512247 fps device: 'cuda' - 1 GPU(s) will be used
None
number of people :  1
bbox : 
 [[286  19 845 675]]
frame:    0 / 0 - framerate: 11.347672 fps device: 'cuda' - 1 GPU(s) will be used
None
number of people :  1
bbox : 
 [[140  50 456 433]]
frame:    0 / 0 - framerate: 12.444344 fps device: 'cuda' - 1 GPU(s) will be used
None
number of people :  1
bbox : 
 [[ 10   0 480 525]]
frame:    0 / 0 - framerate: 11.429898 fps device: 'cuda' - 1 GPU(s) will be used
None
number of people :  1
bbox : 
 [[ 33   0 379 410]]
frame:    0 / -9223372036854775808 - framerate: 11.929328 fps device: 'cuda' - 1 GPU(s) will be used
None
number of people :  1
bbox : 
 [[  83    0 2645 2153]]
frame:    0 / 0 - framerate: 4.434063 fps device: 'cuda' - 1 GPU(s) will be used
None
number of people :  1
bbox : 
 [[ 42   0 483 395]]
frame:    0 / 0 - framerate: 12.180104 fps device: 'cuda' - 1 GPU(s) will be used
None
number of people :  1
bbox : 
 [[301   0 989 600]]
frame:    0 / 0 - framerate: 11.779867 fps device: 'cuda' - 1 GPU(s) will be used
None
number of people :  1
bbox : 
 [[286  19 845 675]]
frame:    0 / 0 - framerate: 12.415538 fps device: 'cuda' - 1 GPU(s) will be used
None
number of people :  2
bbox : 
 [[142  23 580 519]
 [ 11 282  22 296]]
frame:    0 / 0 - framerate: 12.065738 fps device: 'cuda' - 1 GPU(s) will be used
None
number of people :  1
bbox : 
 [[ 174    0 1319 1000]]
frame:    0 / 0 - framerate: 10.823535 fps device: 'cuda' - 1 GPU(s) will be used
None
number of people :  1
bbox : 
 [[ 33   0 379 410]]
frame:    0 / -9223372036854775808 - framerate: 13.051080 fps device: 'cuda' - 1 GPU(s) will be used
None
number of people :  1
bbox : 
 [[ 10   0 480 525]]
frame:    0 / 0 - framerate: 11.076790 fps device: 'cuda' - 1 GPU(s) will be used
None
number of people :  1
bbox : 
 [[  97    0  894 1000]]
frame:    0 / 0 - framerate: 9.751542 fps device: 'cuda' - 1 GPU(s) will be used
None
number of people :  1
bbox : 
 [[ 28 122 575 834]]
frame:    0 / 0 - framerate: 10.759095 fps device: 'cuda' - 1 GPU(s) will be used
None
number of people :  6
bbox : 
 [[ 82   0 673 581]
 [461 516 487 550]
 [490 514 516 548]
 [367 524 394 560]
 [406 520 431 552]
 [436 516 463 552]]
frame:    0 / 0 - framerate: 6.307224 fps device: 'cuda' - 1 GPU(s) will be used
None
number of people :  1
bbox : 
 [[ 95  71 686 766]]
frame:    0 / 0 - framerate: 10.839872 fps device: 'cuda' - 1 GPU(s) will be used
None
number of people :  1
bbox : 
 [[  0 266 540 989]]
frame:    0 / 0 - framerate: 12.535578 fps device: 'cuda' - 1 GPU(s) will be used
None
number of people :  1
bbox : 
 [[133   0 603 619]]
frame:    0 / 0 - framerate: 12.874849 fps device: 'cuda' - 1 GPU(s) will be used
None
number of people :  1
bbox : 
 [[223   0 783 519]]
frame:    0 / 0 - framerate: 12.717913 fps device: 'cuda' - 1 GPU(s) will be used
None
number of people :  1
bbox : 
 [[ 73   0 416 350]]
frame:    0 / 0 - framerate: 13.596857 fps device: 'cuda' - 1 GPU(s) will be used
None
number of people :  1
bbox : 
 [[ 203  127 1001 1191]]
frame:    0 / 0 - framerate: 11.065743 fps device: 'cuda' - 1 GPU(s) will be used
None
number of people :  1
bbox : 
 [[ 72   0 373 282]]
frame:    0 / 0 - framerate: 13.790883 fps device: 'cuda' - 1 GPU(s) will be used
None
number of people :  0
bbox : 
 []
frame:    0 / 0 - framerate: 31.132798 fps device: 'cuda' - 1 GPU(s) will be used
None
number of people :  1
bbox : 
 [[176  80 832 954]]
frame:    0 / 0 - framerate: 9.768348 fps device: 'cuda' - 1 GPU(s) will be used
None
number of people :  1
bbox : 
 [[ 283    0 1032  876]]
frame:    0 / 0 - framerate: 9.848836 fps device: 'cuda' - 1 GPU(s) will be used
None
number of people :  1
bbox : 
 [[ 159  177  809 1024]]
frame:    0 / 0 - framerate: 10.523883 fps device: 'cuda' - 1 GPU(s) will be used
None
number of people :  2
bbox : 
 [[ 212    0 1222  720]
 [ 197    1  454  343]]
frame:    0 / 0 - framerate: 9.440316 fps device: 'cuda' - 1 GPU(s) will be used
None
number of people :  0
bbox : 
 []
frame:    0 / 0 - framerate: 35.228194 fps device: 'cuda' - 1 GPU(s) will be used
None
number of people :  1
bbox : 
 [[  1   0 379 380]]
frame:    0 / 0 - framerate: 12.529399 fps device: 'cuda' - 1 GPU(s) will be used
None
number of people :  1
bbox : 
 [[134   0 873 667]]
frame:    0 / 0 - framerate: 11.007227 fps device: 'cuda' - 1 GPU(s) will be used
None
number of people :  1
bbox : 
 [[ 24   0 319 272]]
frame:    0 / 0 - framerate: 12.785096 fps device: 'cuda' - 1 GPU(s) will be used
None
number of people :  1
bbox : 
 [[ 15 139 671 934]]
frame:    0 / 0 - framerate: 12.137982 fps device: 'cuda' - 1 GPU(s) will be used
None
number of people :  1
bbox : 
 [[ 81 172 665 950]]
frame:    0 / 0 - framerate: 12.029058 fps device: 'cuda' - 1 GPU(s) will be used
None
number of people :  1
bbox : 
 [[ 425  165 1254 1269]]
frame:    0 / 0 - framerate: 10.899902 fps device: 'cuda' - 1 GPU(s) will be used
None
number of people :  1
bbox : 
 [[409 117 931 720]]
frame:    0 / 0 - framerate: 11.146259 fps device: 'cuda' - 1 GPU(s) will be used
None
number of people :  1
bbox : 
 [[204  38 450 360]]
frame:    0 / 0 - framerate: 12.323249 fps device: 'cuda' - 1 GPU(s) will be used
None
number of people :  1
bbox : 
 [[ 217    0 1143  955]]
frame:    0 / 0 - framerate: 9.968211 fps device: 'cuda' - 1 GPU(s) will be used
None
number of people :  1
bbox : 
 [[  97    0  894 1000]]
frame:    0 / 0 - framerate: 10.130362 fps device: 'cuda' - 1 GPU(s) will be used
None
number of people :  1
bbox : 
 [[ 13  12 385 508]]
frame:    0 / 0 - framerate: 12.080369 fps device: 'cuda' - 1 GPU(s) will be used
None
number of people :  1
bbox : 
 [[ 81 172 665 950]]
frame:    0 / 0 - framerate: 10.738875 fps device: 'cuda' - 1 GPU(s) will be used
None
number of people :  1
bbox : 
 [[ 217    0 1143  955]]
frame:    0 / 0 - framerate: 9.940310 fps device: 'cuda' - 1 GPU(s) will be used
None
number of people :  1
bbox : 
 [[107   0 470 349]]
frame:    0 / 0 - framerate: 12.090328 fps device: 'cuda' - 1 GPU(s) will be used
None
number of people :  1
bbox : 
 [[247   0 874 656]]
frame:    0 / 0 - framerate: 11.002723 fps device: 'cuda' - 1 GPU(s) will be used
None
number of people :  1
bbox : 
 [[204  38 450 360]]
frame:    0 / 0 - framerate: 12.434125 fps device: 'cuda' - 1 GPU(s) will be used
None
number of people :  1
bbox : 
 [[ 425  165 1254 1269]]
frame:    0 / 0 - framerate: 9.932966 fps device: 'cuda' - 1 GPU(s) will be used
None
number of people :  1
bbox : 
 [[409 117 931 720]]
frame:    0 / 0 - framerate: 11.361259 fps device: 'cuda' - 1 GPU(s) will be used
None
number of people :  1
bbox : 
 [[ 170    0 1216 1000]]
frame:    0 / 0 - framerate: 9.524716 fps device: 'cuda' - 1 GPU(s) will be used
None
number of people :  2
bbox : 
 [[323  21 899 720]
 [617  92 999 601]]
frame:    0 / 0 - framerate: 9.368245 fps device: 'cuda' - 1 GPU(s) will be used
None
number of people :  1
bbox : 
 [[  99    0 1216  925]]
frame:    0 / 0 - framerate: 9.887329 fps device: 'cuda' - 1 GPU(s) will be used
None
number of people :  1
bbox : 
 [[ 21   0 273 246]]
frame:    0 / 0 - framerate: 12.557044 fps device: 'cuda' - 1 GPU(s) will be used
None
number of people :  1
bbox : 
 [[297   0 835 674]]
frame:    0 / 0 - framerate: 12.026713 fps device: 'cuda' - 1 GPU(s) will be used
None
number of people :  1
bbox : 
 [[142   0 650 519]]
frame:    0 / 0 - framerate: 12.870345 fps device: 'cuda' - 1 GPU(s) will be used
None
number of people :  1
bbox : 
 [[ 70 158 472 694]]
frame:    0 / 0 - framerate: 12.876746 fps device: 'cuda' - 1 GPU(s) will be used
None
number of people :  1
bbox : 
 [[ 57   0 687 546]]
frame:    0 / 0 - framerate: 12.726595 fps device: 'cuda' - 1 GPU(s) will be used
None
number of people :  1
bbox : 
 [[ 74  68 280 342]]
frame:    0 / -9223372036854775808 - framerate: 13.875651 fps device: 'cuda' - 1 GPU(s) will be used
None
number of people :  2
bbox : 
 [[451  73 967 762]
 [150  35 322 264]]
frame:    0 / 0 - framerate: 11.370868 fps device: 'cuda' - 1 GPU(s) will be used
None
number of people :  1
bbox : 
 [[ 67   0 534 390]]
frame:    0 / 0 - framerate: 13.443756 fps device: 'cuda' - 1 GPU(s) will be used
None
number of people :  1
bbox : 
 [[1763  757 4062 3744]]
frame:    0 / 0 - framerate: 2.610500 fps device: 'cuda' - 1 GPU(s) will be used
None
number of people :  1
bbox : 
 [[ 838    0 3185 2832]]
frame:    0 / 0 - framerate: 3.568227 fps device: 'cuda' - 1 GPU(s) will be used
None
number of people :  1
bbox : 
 [[206  49 734 683]]
frame:    0 / 0 - framerate: 10.584540 fps device: 'cuda' - 1 GPU(s) will be used
None
number of people :  1
bbox : 
 [[164   0 673 517]]
frame:    0 / 0 - framerate: 12.056651 fps device: 'cuda' - 1 GPU(s) will be used
None
number of people :  1
bbox : 
 [[ 193    0 1120 1213]]
frame:    0 / 0 - framerate: 9.921969 fps device: 'cuda' - 1 GPU(s) will be used
None
number of people :  1
bbox : 
 [[234   0 998 675]]
frame:    0 / 0 - framerate: 11.848618 fps device: 'cuda' - 1 GPU(s) will be used
None
number of people :  1
bbox : 
 [[ 13   0 524 455]]
frame:    0 / 0 - framerate: 13.089652 fps device: 'cuda' - 1 GPU(s) will be used
None
number of people :  1
bbox : 
 [[193   0 819 700]]
frame:    0 / 0 - framerate: 12.155430 fps device: 'cuda' - 1 GPU(s) will be used
None
number of people :  1
bbox : 
 [[  0   0 825 720]]
frame:    0 / 0 - framerate: 12.019682 fps device: 'cuda' - 1 GPU(s) will be used
None
number of people :  2
bbox : 
 [[451  73 967 762]
 [150  35 322 264]]
frame:    0 / 0 - framerate: 11.515474 fps device: 'cuda' - 1 GPU(s) will be used
None
number of people :  1
bbox : 
 [[1763  757 4062 3744]]
frame:    0 / 0 - framerate: 2.598360 fps device: 'cuda' - 1 GPU(s) will be used
None
number of people :  1
bbox : 
 [[ 838    0 3185 2832]]
frame:    0 / 0 - framerate: 3.901613 fps device: 'cuda' - 1 GPU(s) will be used
None
number of people :  1
bbox : 
 [[164   0 673 517]]
frame:    0 / 0 - framerate: 13.349196 fps device: 'cuda' - 1 GPU(s) will be used
None
number of people :  1
bbox : 
 [[ 67   0 534 390]]
frame:    0 / 0 - framerate: 13.185033 fps device: 'cuda' - 1 GPU(s) will be used
None
number of people :  1
bbox : 
 [[234   0 998 675]]
frame:    0 / 0 - framerate: 10.021633 fps device: 'cuda' - 1 GPU(s) will be used
None
number of people :  1
bbox : 
 [[ 193    0 1120 1213]]
frame:    0 / 0 - framerate: 8.916633 fps device: 'cuda' - 1 GPU(s) will be used
None
number of people :  1
bbox : 
 [[ 13   0 524 455]]
frame:    0 / 0 - framerate: 11.406430 fps device: 'cuda' - 1 GPU(s) will be used
None
number of people :  1
bbox : 
 [[193   0 819 700]]
frame:    0 / 0 - framerate: 11.117336 fps device: 'cuda' - 1 GPU(s) will be used
None
number of people :  1
bbox : 
 [[  0   0 825 720]]
frame:    0 / 0 - framerate: 10.771003 fps device: 'cuda' - 1 GPU(s) will be used
None
number of people :  1
bbox : 
 [[ 408    0 2094 1816]]
frame:    0 / 0 - framerate: 5.935711 fps device: 'cuda' - 1 GPU(s) will be used
None
number of people :  0
bbox : 
 []
frame:    0 / 0 - framerate: 33.663772 fps device: 'cuda' - 1 GPU(s) will be used
None
number of people :  1
bbox : 
 [[ 91  86 415 518]]
frame:    0 / 0 - framerate: 12.683377 fps device: 'cuda' - 1 GPU(s) will be used
None
number of people :  1
bbox : 
 [[  30    0 1206  923]]
frame:    0 / 0 - framerate: 10.439201 fps device: 'cuda' - 1 GPU(s) will be used
None
number of people :  2
bbox : 
 [[ 38  37 493 643]
 [355 173 670 593]]
frame:    0 / 0 - framerate: 10.670031 fps device: 'cuda' - 1 GPU(s) will be used
None
number of people :  1
bbox : 
 [[116   0 887 700]]
frame:    0 / 0 - framerate: 11.289548 fps device: 'cuda' - 1 GPU(s) will be used
None
number of people :  1
bbox : 
 [[ 80   0 565 412]]
frame:    0 / 0 - framerate: 13.222984 fps device: 'cuda' - 1 GPU(s) will be used
None
number of people :  1
bbox : 
 [[ 96   0 518 349]]
frame:    0 / 0 - framerate: 13.775166 fps device: 'cuda' - 1 GPU(s) will be used
None
number of people :  1
bbox : 
 [[ 415   37 1262 1066]]
frame:    0 / 0 - framerate: 11.172506 fps device: 'cuda' - 1 GPU(s) will be used
None
number of people :  1
bbox : 
 [[356  54 825 630]]
frame:    0 / 0 - framerate: 11.947201 fps device: 'cuda' - 1 GPU(s) will be used
None
number of people :  1
bbox : 
 [[ 170    0 1152 1038]]
frame:    0 / 0 - framerate: 8.839977 fps device: 'cuda' - 1 GPU(s) will be used
None
number of people :  1
bbox : 
 [[234   0 955 701]]
frame:    0 / 0 - framerate: 11.817970 fps device: 'cuda' - 1 GPU(s) will be used
None
number of people :  1
bbox : 
 [[  6  33 566 700]]
frame:    0 / 0 - framerate: 12.882600 fps device: 'cuda' - 1 GPU(s) will be used
None
number of people :  2
bbox : 
 [[ 56  31 370 449]
 [  9 281 406 667]]
frame:    0 / 0 - framerate: 11.113683 fps device: 'cuda' - 1 GPU(s) will be used
None
number of people :  1
bbox : 
 [[157   2 723 756]]
frame:    0 / 0 - framerate: 12.551032 fps device: 'cuda' - 1 GPU(s) will be used
None
number of people :  1
bbox : 
 [[ 61  35 312 369]]
frame:    0 / 0 - framerate: 12.921574 fps device: 'cuda' - 1 GPU(s) will be used
None
number of people :  2
bbox : 
 [[257 305 537 677]
 [275 553 521 881]]
frame:    0 / 0 - framerate: 11.346414 fps device: 'cuda' - 1 GPU(s) will be used
None
number of people :  1
bbox : 
 [[141  79 309 303]]
frame:    0 / 0 - framerate: 13.913256 fps device: 'cuda' - 1 GPU(s) will be used
None
number of people :  1
bbox : 
 [[202   0 874 667]]
frame:    0 / 0 - framerate: 12.343449 fps device: 'cuda' - 1 GPU(s) will be used
None
number of people :  1
bbox : 
 [[109 109 403 501]]
frame:    0 / 0 - framerate: 13.466071 fps device: 'cuda' - 1 GPU(s) will be used
None
number of people :  1
bbox : 
 [[ 73   0 617 571]]
frame:    0 / 0 - framerate: 12.555165 fps device: 'cuda' - 1 GPU(s) will be used
None
number of people :  1
bbox : 
 [[ 79   0 617 530]]
frame:    0 / 0 - framerate: 13.241979 fps device: 'cuda' - 1 GPU(s) will be used
None
number of people :  1
bbox : 
 [[  4   0 736 766]]
frame:    0 / 0 - framerate: 10.575680 fps device: 'cuda' - 1 GPU(s) will be used
None
number of people :  1
bbox : 
 [[ 27   0 474 409]]
frame:    0 / 0 - framerate: 12.795978 fps device: 'cuda' - 1 GPU(s) will be used
None
number of people :  1
bbox : 
 [[150   0 824 664]]
frame:    0 / 0 - framerate: 11.317879 fps device: 'cuda' - 1 GPU(s) will be used
None
number of people :  1
bbox : 
 [[ 489  181 1327 1298]]
frame:    0 / 0 - framerate: 10.493420 fps device: 'cuda' - 1 GPU(s) will be used
None
number of people :  1
bbox : 
 [[209   0 946 619]]
frame:    0 / 0 - framerate: 12.529698 fps device: 'cuda' - 1 GPU(s) will be used
None
number of people :  2
bbox : 
 [[323  21 899 720]
 [617  92 999 601]]
frame:    0 / 0 - framerate: 11.006332 fps device: 'cuda' - 1 GPU(s) will be used
None
number of people :  1
bbox : 
 [[  64   17  970 1024]]
frame:    0 / 0 - framerate: 11.490740 fps device: 'cuda' - 1 GPU(s) will be used
None
number of people :  1
bbox : 
 [[ 52   0 467 389]]
frame:    0 / 0 - framerate: 13.427616 fps device: 'cuda' - 1 GPU(s) will be used
None
number of people :  1
bbox : 
 [[ 16   0 604 492]]
frame:    0 / 0 - framerate: 12.769798 fps device: 'cuda' - 1 GPU(s) will be used
None
number of people :  1
bbox : 
 [[ 74   0 532 426]]
frame:    0 / 0 - framerate: 13.596901 fps device: 'cuda' - 1 GPU(s) will be used
None
number of people :  1
bbox : 
 [[335   0 889 675]]
frame:    0 / 0 - framerate: 12.306580 fps device: 'cuda' - 1 GPU(s) will be used
None
number of people :  1
bbox : 
 [[ 80   0 565 412]]
frame:    0 / 0 - framerate: 13.695195 fps device: 'cuda' - 1 GPU(s) will be used
None
number of people :  1
bbox : 
 [[180  67 395 352]]
frame:    0 / 0 - framerate: 11.869474 fps device: 'cuda' - 1 GPU(s) will be used
None
number of people :  1
bbox : 
 [[109   0 703 533]]
frame:    0 / 0 - framerate: 11.813011 fps device: 'cuda' - 1 GPU(s) will be used
None
number of people :  1
bbox : 
 [[141  42 600 654]]
frame:    0 / -9223372036854775808 - framerate: 11.875086 fps device: 'cuda' - 1 GPU(s) will be used
None
number of people :  1
bbox : 
 [[ 15 139 671 934]]
frame:    0 / 0 - framerate: 12.078386 fps device: 'cuda' - 1 GPU(s) will be used
None
number of people :  1
bbox : 
 [[106   0 522 349]]
frame:    0 / 0 - framerate: 13.551389 fps device: 'cuda' - 1 GPU(s) will be used
None
number of people :  1
bbox : 
 [[ 489  181 1327 1298]]
frame:    0 / 0 - framerate: 10.366955 fps device: 'cuda' - 1 GPU(s) will be used
None
number of people :  1
bbox : 
 [[ 159  177  809 1024]]
frame:    0 / 0 - framerate: 11.502999 fps device: 'cuda' - 1 GPU(s) will be used
None
number of people :  2
bbox : 
 [[ 212    0 1222  720]
 [ 197    1  454  343]]
frame:    0 / 0 - framerate: 10.672231 fps device: 'cuda' - 1 GPU(s) will be used
None
number of people :  1
bbox : 
 [[ 42   7 328 387]]
frame:    0 / 0 - framerate: 13.913902 fps device: 'cuda' - 1 GPU(s) will be used
None
number of people :  1
bbox : 
 [[ 74 158 526 760]]
frame:    0 / 0 - framerate: 12.885806 fps device: 'cuda' - 1 GPU(s) will be used
None
number of people :  1
bbox : 
 [[1509    0 4881 3605]]
frame:    0 / 0 - framerate: 1.989583 fps device: 'cuda' - 1 GPU(s) will be used
None
number of people :  1
bbox : 
 [[ 500   60 1248 1056]]
frame:    0 / 0 - framerate: 11.438033 fps device: 'cuda' - 1 GPU(s) will be used
None
number of people :  2
bbox : 
 [[ 10   0 310 358]
 [389   0 710 358]]
frame:    0 / 0 - framerate: 10.777009 fps device: 'cuda' - 1 GPU(s) will be used
None
number of people :  1
bbox : 
 [[ 16  77 491 709]]
frame:    0 / 0 - framerate: 11.157913 fps device: 'cuda' - 1 GPU(s) will be used
None
number of people :  2
bbox : 
 [[156  12 674 702]
 [ 71 313 173 450]]
frame:    0 / 0 - framerate: 10.162220 fps device: 'cuda' - 1 GPU(s) will be used
None
number of people :  1
bbox : 
 [[134   0 873 667]]
frame:    0 / 0 - framerate: 11.008961 fps device: 'cuda' - 1 GPU(s) will be used
None
number of people :  1
bbox : 
 [[151   0 654 399]]
frame:    0 / 0 - framerate: 12.974937 fps device: 'cuda' - 1 GPU(s) will be used
None
number of people :  1
bbox : 
 [[  0  90 449 688]]
frame:    0 / 0 - framerate: 12.650516 fps device: 'cuda' - 1 GPU(s) will be used
None
number of people :  1
bbox : 
 [[148 427 551 892]]
frame:    0 / 0 - framerate: 12.155465 fps device: 'cuda' - 1 GPU(s) will be used
None
number of people :  1
bbox : 
 [[105 123 412 531]]
frame:    0 / 0 - framerate: 13.369535 fps device: 'cuda' - 1 GPU(s) will be used
None
number of people :  1
bbox : 
 [[   0   44  722 1062]]
frame:    0 / 0 - framerate: 11.629266 fps device: 'cuda' - 1 GPU(s) will be used
None
number of people :  1
bbox : 
 [[ 14   9 206 265]]
frame:    0 / 0 - framerate: 14.318940 fps device: 'cuda' - 1 GPU(s) will be used
None
number of people :  1
bbox : 
 [[ 193    0 1120 1213]]
frame:    0 / 0 - framerate: 9.882693 fps device: 'cuda' - 1 GPU(s) will be used
None
number of people :  1
bbox : 
 [[190  74 798 885]]
frame:    0 / 0 - framerate: 11.841492 fps device: 'cuda' - 1 GPU(s) will be used
None
number of people :  1
bbox : 
 [[ 367    0 1090  720]]
frame:    0 / 0 - framerate: 12.408449 fps device: 'cuda' - 1 GPU(s) will be used
None
number of people :  2
bbox : 
 [[451  73 967 762]
 [150  35 322 264]]
frame:    0 / 0 - framerate: 9.926266 fps device: 'cuda' - 1 GPU(s) will be used
None
number of people :  1
bbox : 
 [[ 46   5 419 480]]
frame:    0 / -9223372036854775808 - framerate: 11.382965 fps device: 'cuda' - 1 GPU(s) will be used
None
number of people :  1
bbox : 
 [[209  11 521 394]]
frame:    0 / 0 - framerate: 12.239639 fps device: 'cuda' - 1 GPU(s) will be used
None
number of people :  1
bbox : 
 [[ 529   46 1060  720]]
frame:    0 / 0 - framerate: 11.391684 fps device: 'cuda' - 1 GPU(s) will be used
None
number of people :  1
bbox : 
 [[136   0 512 387]]
frame:    0 / 0 - framerate: 12.387194 fps device: 'cuda' - 1 GPU(s) will be used
None
number of people :  1
bbox : 
 [[  4   0 736 766]]
frame:    0 / 0 - framerate: 11.935336 fps device: 'cuda' - 1 GPU(s) will be used
None
number of people :  1
bbox : 
 [[ 146    0 1067  480]]
frame:    0 / -9223372036854775808 - framerate: 10.422366 fps device: 'cuda' - 1 GPU(s) will be used
None
number of people :  1
bbox : 
 [[ 24  31 259 343]]
frame:    0 / 0 - framerate: 14.146051 fps device: 'cuda' - 1 GPU(s) will be used
None
number of people :  1
bbox : 
 [[ 203  127 1001 1191]]
frame:    0 / 0 - framerate: 10.998539 fps device: 'cuda' - 1 GPU(s) will be used
None
number of people :  1
bbox : 
 [[  87    0 1236 1062]]
frame:    0 / 0 - framerate: 10.134302 fps device: 'cuda' - 1 GPU(s) will be used
None
number of people :  1
bbox : 
 [[ 15 139 671 934]]
frame:    0 / 0 - framerate: 12.309939 fps device: 'cuda' - 1 GPU(s) will be used
None
number of people :  1
bbox : 
 [[358  59 832 692]]
frame:    0 / 0 - framerate: 12.811495 fps device: 'cuda' - 1 GPU(s) will be used
None
number of people :  1
bbox : 
 [[335   0 889 675]]
frame:    0 / 0 - framerate: 10.625835 fps device: 'cuda' - 1 GPU(s) will be used
None
number of people :  1
bbox : 
 [[131  37 459 468]]
frame:    0 / 0 - framerate: 12.733898 fps device: 'cuda' - 1 GPU(s) will be used
None
number of people :  1
bbox : 
 [[209   0 946 619]]
frame:    0 / 0 - framerate: 11.364091 fps device: 'cuda' - 1 GPU(s) will be used
None
number of people :  1
bbox : 
 [[291  81 798 720]]
frame:    0 / 0 - framerate: 11.962296 fps device: 'cuda' - 1 GPU(s) will be used
None
number of people :  1
bbox : 
 [[  1   0 379 380]]
frame:    0 / 0 - framerate: 13.783405 fps device: 'cuda' - 1 GPU(s) will be used
None
number of people :  1
bbox : 
 [[ 74   0 532 426]]
frame:    0 / 0 - framerate: 13.573009 fps device: 'cuda' - 1 GPU(s) will be used
None
number of people :  1
bbox : 
 [[ 417    0 2682 2000]]
frame:    0 / 0 - framerate: 6.320235 fps device: 'cuda' - 1 GPU(s) will be used
None
number of people :  1
bbox : 
 [[ 72 165 459 631]]
frame:    0 / 0 - framerate: 13.003699 fps device: 'cuda' - 1 GPU(s) will be used
None
number of people :  1
bbox : 
 [[ 45   0 244 197]]
frame:    0 / 0 - framerate: 13.692199 fps device: 'cuda' - 1 GPU(s) will be used
None
number of people :  1
bbox : 
 [[ 79   0 617 530]]
frame:    0 / 0 - framerate: 13.179481 fps device: 'cuda' - 1 GPU(s) will be used
None
number of people :  2
bbox : 
 [[234  59 774 720]
 [438  85 876 670]]
frame:    0 / 0 - framerate: 10.912862 fps device: 'cuda' - 1 GPU(s) will be used
None
number of people :  1
bbox : 
 [[108 142 546 726]]
frame:    0 / 0 - framerate: 13.050390 fps device: 'cuda' - 1 GPU(s) will be used
None
number of people :  1
bbox : 
 [[ 52   0 369 321]]
frame:    0 / 0 - framerate: 11.913030 fps device: 'cuda' - 1 GPU(s) will be used
None
number of people :  1
bbox : 
 [[ 28 122 575 834]]
frame:    0 / 0 - framerate: 11.586539 fps device: 'cuda' - 1 GPU(s) will be used
None
number of people :  1
bbox : 
 [[186 124 610 689]]
frame:    0 / 0 - framerate: 12.559037 fps device: 'cuda' - 1 GPU(s) will be used
None
number of people :  1
bbox : 
 [[ 44   0 690 518]]
frame:    0 / 0 - framerate: 13.173976 fps device: 'cuda' - 1 GPU(s) will be used
None
number of people :  1
bbox : 
 [[236   0 668 480]]
frame:    0 / 0 - framerate: 13.568047 fps device: 'cuda' - 1 GPU(s) will be used
None
number of people :  1
bbox : 
 [[215  77 630 580]]
frame:    0 / 0 - framerate: 13.392588 fps device: 'cuda' - 1 GPU(s) will be used
None
number of people :  1
bbox : 
 [[202   0 874 667]]
frame:    0 / 0 - framerate: 11.705209 fps device: 'cuda' - 1 GPU(s) will be used
None
number of people :  1
bbox : 
 [[ 98   0 730 321]]
frame:    0 / 0 - framerate: 13.268831 fps device: 'cuda' - 1 GPU(s) will be used
None
number of people :  1
bbox : 
 [[ 408    0 1311 1000]]
frame:    0 / 0 - framerate: 10.526075 fps device: 'cuda' - 1 GPU(s) will be used
None
number of people :  1
bbox : 
 [[ 48 173 466 732]]
frame:    0 / 0 - framerate: 12.826069 fps device: 'cuda' - 1 GPU(s) will be used
None
number of people :  1
bbox : 
 [[295   0 989 720]]
frame:    0 / 0 - framerate: 12.593428 fps device: 'cuda' - 1 GPU(s) will be used
None
number of people :  1
bbox : 
 [[131  37 459 468]]
frame:    0 / 0 - framerate: 13.146970 fps device: 'cuda' - 1 GPU(s) will be used
None
number of people :  1
bbox : 
 [[ 52   0 369 321]]
frame:    0 / 0 - framerate: 11.747402 fps device: 'cuda' - 1 GPU(s) will be used
None
number of people :  1
bbox : 
 [[ 45   0 244 197]]
frame:    0 / 0 - framerate: 12.877853 fps device: 'cuda' - 1 GPU(s) will be used
None
number of people :  9
bbox : 
 [[115 161 189 259]
 [209 168 289 274]
 [335 292 381 352]
 [213 277 283 369]
 [405 152 473 244]
 [309 166 389 272]
 [125 286 182 362]
 [ 27 270  89 353]
 [ 27 173  88 253]]
frame:    0 / 0 - framerate: 5.926335 fps device: 'cuda' - 1 GPU(s) will be used
None
number of people :  1
bbox : 
 [[2126  429 4510 3607]]
frame:    0 / 0 - framerate: 2.100163 fps device: 'cuda' - 1 GPU(s) will be used
None
number of people :  1
bbox : 
 [[ 74   0 532 426]]
frame:    0 / 0 - framerate: 13.277442 fps device: 'cuda' - 1 GPU(s) will be used
None
number of people :  1
bbox : 
 [[235  49 515 421]]
frame:    0 / 0 - framerate: 13.317492 fps device: 'cuda' - 1 GPU(s) will be used
None
number of people :  1
bbox : 
 [[227  98 646 656]]
frame:    0 / -9223372036854775808 - framerate: 10.695226 fps device: 'cuda' - 1 GPU(s) will be used
None
number of people :  1
bbox : 
 [[358  59 832 692]]
frame:    0 / 0 - framerate: 12.480262 fps device: 'cuda' - 1 GPU(s) will be used
None
number of people :  1
bbox : 
 [[406  62 825 620]]
frame:    0 / 0 - framerate: 11.579662 fps device: 'cuda' - 1 GPU(s) will be used
None
number of people :  1
bbox : 
 [[ 244    0 1141  957]]
frame:    0 / 0 - framerate: 10.899505 fps device: 'cuda' - 1 GPU(s) will be used
None
number of people :  1
bbox : 
 [[215  77 630 580]]
frame:    0 / 0 - framerate: 12.807583 fps device: 'cuda' - 1 GPU(s) will be used
None
number of people :  1
bbox : 
 [[247   0 948 720]]
frame:    0 / 0 - framerate: 12.101770 fps device: 'cuda' - 1 GPU(s) will be used
None
number of people :  2
bbox : 
 [[270   0 483 278]
 [ 11   0 329 297]]
frame:    0 / 0 - framerate: 10.574960 fps device: 'cuda' - 1 GPU(s) will be used
None
number of people :  1
bbox : 
 [[210  33 636 602]]
frame:    0 / 0 - framerate: 12.629756 fps device: 'cuda' - 1 GPU(s) will be used
None
number of people :  1
bbox : 
 [[165  76 383 366]]
frame:    0 / 0 - framerate: 13.142932 fps device: 'cuda' - 1 GPU(s) will be used
None
number of people :  1
bbox : 
 [[408 102 840 679]]
frame:    0 / 0 - framerate: 12.542700 fps device: 'cuda' - 1 GPU(s) will be used
None
number of people :  1
bbox : 
 [[155   0 488 349]]
frame:    0 / 0 - framerate: 13.637130 fps device: 'cuda' - 1 GPU(s) will be used
None
number of people :  1
bbox : 
 [[ 44   0 301 328]]
frame:    0 / 0 - framerate: 13.773900 fps device: 'cuda' - 1 GPU(s) will be used
None
number of people :  1
bbox : 
 [[ 96   0 644 519]]
frame:    0 / 0 - framerate: 13.060265 fps device: 'cuda' - 1 GPU(s) will be used
None
number of people :  0
bbox : 
 []
frame:    0 / 0 - framerate: 23.951575 fps device: 'cuda' - 1 GPU(s) will be used
None
number of people :  1
bbox : 
 [[ 529   46 1060  720]]
frame:    0 / 0 - framerate: 12.750233 fps device: 'cuda' - 1 GPU(s) will be used
None
number of people :  1
bbox : 
 [[259 202 529 562]]
frame:    0 / 0 - framerate: 13.430798 fps device: 'cuda' - 1 GPU(s) will be used
None
number of people :  1
bbox : 
 [[ 58   0 653 655]]
frame:    0 / 0 - framerate: 12.025782 fps device: 'cuda' - 1 GPU(s) will be used
None
number of people :  1
bbox : 
 [[379   0 814 570]]
frame:    0 / 0 - framerate: 11.098362 fps device: 'cuda' - 1 GPU(s) will be used
None
number of people :  5
bbox : 
 [[164 138 235 232]
 [213  93 313 226]
 [278  18 490 300]
 [ 64 152 132 243]
 [289 128 366 230]]
frame:    0 / 0 - framerate: 7.134541 fps device: 'cuda' - 1 GPU(s) will be used
None
number of people :  1
bbox : 
 [[ 38 122 297 442]]
frame:    0 / 0 - framerate: 12.632647 fps device: 'cuda' - 1 GPU(s) will be used
None
number of people :  1
bbox : 
 [[481 123 905 687]]
frame:    0 / 0 - framerate: 12.379078 fps device: 'cuda' - 1 GPU(s) will be used
None
number of people :  1
bbox : 
 [[170  60 408 376]]
frame:    0 / 0 - framerate: 13.698728 fps device: 'cuda' - 1 GPU(s) will be used
None
number of people :  1
bbox : 
 [[ 18   0 734 800]]
frame:    0 / 0 - framerate: 11.593008 fps device: 'cuda' - 1 GPU(s) will be used
None
number of people :  1
bbox : 
 [[ 80   0 559 422]]
frame:    0 / 0 - framerate: 13.276979 fps device: 'cuda' - 1 GPU(s) will be used
None
number of people :  1
bbox : 
 [[ 44  17 507 525]]
frame:    0 / 0 - framerate: 12.661056 fps device: 'cuda' - 1 GPU(s) will be used
None
number of people :  1
bbox : 
 [[  99    0 1189  720]]
frame:    0 / 0 - framerate: 11.835111 fps device: 'cuda' - 1 GPU(s) will be used
None
number of people :  1
bbox : 
 [[121  45 615 703]]
frame:    0 / 0 - framerate: 13.027245 fps device: 'cuda' - 1 GPU(s) will be used
None
number of people :  1
bbox : 
 [[ 87 177 445 653]]
frame:    0 / 0 - framerate: 13.253234 fps device: 'cuda' - 1 GPU(s) will be used
None
number of people :  1
bbox : 
 [[ 233  195  879 1024]]
frame:    0 / 0 - framerate: 12.376156 fps device: 'cuda' - 1 GPU(s) will be used
None
number of people :  1
bbox : 
 [[ 27   0 370 360]]
frame:    0 / 0 - framerate: 13.828804 fps device: 'cuda' - 1 GPU(s) will be used
None
number of people :  1
bbox : 
 [[ 73   0 646 587]]
frame:    0 / 0 - framerate: 10.911499 fps device: 'cuda' - 1 GPU(s) will be used
None
number of people :  1
bbox : 
 [[  99    0 1189  720]]
frame:    0 / 0 - framerate: 10.343817 fps device: 'cuda' - 1 GPU(s) will be used
None
number of people :  1
bbox : 
 [[ 66   0 659 517]]
frame:    0 / 0 - framerate: 11.038862 fps device: 'cuda' - 1 GPU(s) will be used
None
number of people :  1
bbox : 
 [[476 143 790 561]]
frame:    0 / 0 - framerate: 11.450461 fps device: 'cuda' - 1 GPU(s) will be used
None
number of people :  1
bbox : 
 [[156   0 498 412]]
frame:    0 / 0 - framerate: 11.711190 fps device: 'cuda' - 1 GPU(s) will be used
None
number of people :  1
bbox : 
 [[ 44  17 507 525]]
frame:    0 / 0 - framerate: 12.523376 fps device: 'cuda' - 1 GPU(s) will be used
None
number of people :  1
bbox : 
 [[ 80   0 559 422]]
frame:    0 / 0 - framerate: 13.140009 fps device: 'cuda' - 1 GPU(s) will be used
None
number of people :  1
bbox : 
 [[ 30  63 714 975]]
frame:    0 / -9223372036854775808 - framerate: 10.549585 fps device: 'cuda' - 1 GPU(s) will be used
None
number of people :  1
bbox : 
 [[  0  90 449 688]]
frame:    0 / 0 - framerate: 12.266091 fps device: 'cuda' - 1 GPU(s) will be used
None
number of people :  2
bbox : 
 [[ 287  365  862 1000]
 [ 210    0  869  678]]
frame:    0 / 0 - framerate: 10.043783 fps device: 'cuda' - 1 GPU(s) will be used
None
number of people :  1
bbox : 
 [[ 274    0 1015  720]]
frame:    0 / 0 - framerate: 12.135699 fps device: 'cuda' - 1 GPU(s) will be used
None
number of people :  1
bbox : 
 [[156   0 602 400]]
frame:    0 / 0 - framerate: 13.489110 fps device: 'cuda' - 1 GPU(s) will be used
None
number of people :  1
bbox : 
 [[ 140    0 1129  958]]
frame:    0 / 0 - framerate: 9.369020 fps device: 'cuda' - 1 GPU(s) will be used
None
number of people :  1
bbox : 
 [[ 32  40 378 400]]
frame:    0 / 0 - framerate: 13.013382 fps device: 'cuda' - 1 GPU(s) will be used
None
number of people :  1
bbox : 
 [[151   0 654 399]]
frame:    0 / 0 - framerate: 12.238960 fps device: 'cuda' - 1 GPU(s) will be used
None
number of people :  1
bbox : 
 [[ 44   0 395 357]]
frame:    0 / 0 - framerate: 13.537000 fps device: 'cuda' - 1 GPU(s) will be used
None
number of people :  1
bbox : 
 [[235 181 811 949]]
frame:    0 / 0 - framerate: 11.991366 fps device: 'cuda' - 1 GPU(s) will be used
None
number of people :  1
bbox : 
 [[142   0 990 655]]
frame:    0 / 0 - framerate: 11.521389 fps device: 'cuda' - 1 GPU(s) will be used
None
number of people :  1
bbox : 
 [[  90   43 1174 1379]]
frame:    0 / 0 - framerate: 9.522381 fps device: 'cuda' - 1 GPU(s) will be used
None
number of people :  1
bbox : 
 [[ 53   0 429 360]]
frame:    0 / 0 - framerate: 13.780190 fps device: 'cuda' - 1 GPU(s) will be used
None
number of people :  1
bbox : 
 [[131  90 349 350]]
frame:    0 / 0 - framerate: 13.419626 fps device: 'cuda' - 1 GPU(s) will be used
None
number of people :  1
bbox : 
 [[ 17   0 679 766]]
frame:    0 / 0 - framerate: 12.608191 fps device: 'cuda' - 1 GPU(s) will be used
None
number of people :  1
bbox : 
 [[142   0 990 655]]
frame:    0 / 0 - framerate: 11.414532 fps device: 'cuda' - 1 GPU(s) will be used
None
number of people :  1
bbox : 
 [[  90   43 1174 1379]]
frame:    0 / 0 - framerate: 9.414465 fps device: 'cuda' - 1 GPU(s) will be used
None
number of people :  1
bbox : 
 [[ 17   0 679 766]]
frame:    0 / 0 - framerate: 10.594379 fps device: 'cuda' - 1 GPU(s) will be used
None
number of people :  1
bbox : 
 [[ 53   0 429 360]]
frame:    0 / 0 - framerate: 12.490185 fps device: 'cuda' - 1 GPU(s) will be used
None
number of people :  1
bbox : 
 [[131  90 349 350]]
frame:    0 / 0 - framerate: 13.565370 fps device: 'cuda' - 1 GPU(s) will be used
None
number of people :  1
bbox : 
 [[ 78  70 521 660]]
frame:    0 / 0 - framerate: 13.225902 fps device: 'cuda' - 1 GPU(s) will be used
None
number of people :  1
bbox : 
 [[ 126   56  996 1216]]
frame:    0 / 0 - framerate: 11.068021 fps device: 'cuda' - 1 GPU(s) will be used
None
number of people :  1
bbox : 
 [[155   0 641 519]]
frame:    0 / 0 - framerate: 13.251894 fps device: 'cuda' - 1 GPU(s) will be used
None
number of people :  1
bbox : 
 [[ 73   0 373 250]]
frame:    0 / 0 - framerate: 14.112542 fps device: 'cuda' - 1 GPU(s) will be used
None
number of people :  1
bbox : 
 [[265   0 702 519]]
frame:    0 / 0 - framerate: 13.273156 fps device: 'cuda' - 1 GPU(s) will be used
None
number of people :  1
bbox : 
 [[ 12   0 195 179]]
frame:    0 / -9223372036854775808 - framerate: 13.763640 fps device: 'cuda' - 1 GPU(s) will be used
None
number of people :  1
bbox : 
 [[ 17   0 572 600]]
frame:    0 / 0 - framerate: 12.385695 fps device: 'cuda' - 1 GPU(s) will be used
None
number of people :  1
bbox : 
 [[ 68   0 523 444]]
frame:    0 / 0 - framerate: 13.593684 fps device: 'cuda' - 1 GPU(s) will be used
None
number of people :  1
bbox : 
 [[ 22   0 322 280]]
frame:    0 / 0 - framerate: 14.070927 fps device: 'cuda' - 1 GPU(s) will be used
None
number of people :  1
bbox : 
 [[ 84   0 370 359]]
frame:    0 / 0 - framerate: 11.362644 fps device: 'cuda' - 1 GPU(s) will be used
None
number of people :  1
bbox : 
 [[276   0 773 428]]
frame:    0 / 0 - framerate: 11.196395 fps device: 'cuda' - 1 GPU(s) will be used
None
number of people :  1
bbox : 
 [[ 419    0 1354 1000]]
frame:    0 / 0 - framerate: 9.268463 fps device: 'cuda' - 1 GPU(s) will be used
None
number of people :  1
bbox : 
 [[ 33   0 322 298]]
frame:    0 / 0 - framerate: 11.798091 fps device: 'cuda' - 1 GPU(s) will be used
None
number of people :  1
bbox : 
 [[366  22 849 666]]
frame:    0 / 0 - framerate: 10.855245 fps device: 'cuda' - 1 GPU(s) will be used
None
number of people :  1
bbox : 
 [[ 58   0 439 360]]
frame:    0 / 0 - framerate: 13.567477 fps device: 'cuda' - 1 GPU(s) will be used
None
number of people :  1
bbox : 
 [[ 343  130 1003 1010]]
frame:    0 / 0 - framerate: 11.454839 fps device: 'cuda' - 1 GPU(s) will be used
None
number of people :  1
bbox : 
 [[  0   0 910 720]]
frame:    0 / 0 - framerate: 11.867257 fps device: 'cuda' - 1 GPU(s) will be used
None
number of people :  1
bbox : 
 [[207  17 558 428]]
frame:    0 / 0 - framerate: 13.756462 fps device: 'cuda' - 1 GPU(s) will be used
None
number of people :  1
bbox : 
 [[297   0 975 734]]
frame:    0 / -9223372036854775808 - framerate: 11.377191 fps device: 'cuda' - 1 GPU(s) will be used
None
number of people :  1
bbox : 
 [[462   0 989 673]]
frame:    0 / 0 - framerate: 12.009942 fps device: 'cuda' - 1 GPU(s) will be used
None
number of people :  1
bbox : 
 [[208  92 451 394]]
frame:    0 / 0 - framerate: 13.923833 fps device: 'cuda' - 1 GPU(s) will be used
None
number of people :  2
bbox : 
 [[ 92 280 387 672]
 [  9 431  85 534]]
frame:    0 / 0 - framerate: 10.742946 fps device: 'cuda' - 1 GPU(s) will be used
None
number of people :  1
bbox : 
 [[ 28   0 270 222]]
frame:    0 / 0 - framerate: 13.209033 fps device: 'cuda' - 1 GPU(s) will be used
None
number of people :  1
bbox : 
 [[ 197  550  694 1212]]
frame:    0 / 0 - framerate: 10.401843 fps device: 'cuda' - 1 GPU(s) will be used
None
number of people :  1
bbox : 
 [[ 31   0 767 766]]
frame:    0 / -9223372036854775808 - framerate: 10.864299 fps device: 'cuda' - 1 GPU(s) will be used
None
number of people :  1
bbox : 
 [[ 15   0 776 636]]
frame:    0 / -9223372036854775808 - framerate: 10.786349 fps device: 'cuda' - 1 GPU(s) will be used
None
number of people :  1
bbox : 
 [[ 27   0 469 455]]
frame:    0 / -9223372036854775808 - framerate: 12.498075 fps device: 'cuda' - 1 GPU(s) will be used
None
number of people :  1
bbox : 
 [[ 19   0 827 661]]
frame:    0 / -9223372036854775808 - framerate: 11.171970 fps device: 'cuda' - 1 GPU(s) will be used
None
number of people :  1
bbox : 
 [[ 23   0 507 472]]
frame:    0 / -9223372036854775808 - framerate: 12.422414 fps device: 'cuda' - 1 GPU(s) will be used
None
number of people :  1
bbox : 
 [[ 32   0 678 594]]
frame:    0 / -9223372036854775808 - framerate: 11.735733 fps device: 'cuda' - 1 GPU(s) will be used
None
number of people :  1
bbox : 
 [[ 24   0 587 559]]
frame:    0 / -9223372036854775808 - framerate: 11.337305 fps device: 'cuda' - 1 GPU(s) will be used
None
number of people :  0
bbox : 
 []
frame:    0 / -9223372036854775808 - framerate: 39.506664 fps device: 'cuda' - 1 GPU(s) will be used
None
number of people :  1
bbox : 
 [[ 51   0 584 490]]
frame:    0 / -9223372036854775808 - framerate: 12.512019 fps device: 'cuda' - 1 GPU(s) will be used
None
number of people :  1
bbox : 
 [[  73    0 1996 1678]]
frame:    0 / -9223372036854775808 - framerate: 5.394867 fps device: 'cuda' - 1 GPU(s) will be used
None
number of people :  1
bbox : 
 [[  9   0 159 141]]
frame:    0 / -9223372036854775808 - framerate: 12.076856 fps device: 'cuda' - 1 GPU(s) will be used
None
number of people :  1
bbox : 
 [[ 14   0 578 487]]
frame:    0 / -9223372036854775808 - framerate: 11.819968 fps device: 'cuda' - 1 GPU(s) will be used
None
number of people :  1
bbox : 
 [[  7   0 336 321]]
frame:    0 / -9223372036854775808 - framerate: 13.043775 fps device: 'cuda' - 1 GPU(s) will be used
None
number of people :  1
bbox : 
 [[ 33   0 640 611]]
frame:    0 / -9223372036854775808 - framerate: 11.113948 fps device: 'cuda' - 1 GPU(s) will be used
None
number of people :  1
bbox : 
 [[ 28   0 616 558]]
frame:    0 / -9223372036854775808 - framerate: 11.565262 fps device: 'cuda' - 1 GPU(s) will be used
None
number of people :  1
bbox : 
 [[ 20   0 468 368]]
frame:    0 / -9223372036854775808 - framerate: 12.728913 fps device: 'cuda' - 1 GPU(s) will be used
None
number of people :  1
bbox : 
 [[ 13   0 566 672]]
frame:    0 / -9223372036854775808 - framerate: 11.913064 fps device: 'cuda' - 1 GPU(s) will be used
None
number of people :  1
bbox : 
 [[ 20   0 542 460]]
frame:    0 / -9223372036854775808 - framerate: 12.309108 fps device: 'cuda' - 1 GPU(s) will be used
None
number of people :  1
bbox : 
 [[ 41   0 646 507]]
frame:    0 / -9223372036854775808 - framerate: 12.394442 fps device: 'cuda' - 1 GPU(s) will be used
None
number of people :  1
bbox : 
 [[  7   0 331 270]]
frame:    0 / -9223372036854775808 - framerate: 13.452984 fps device: 'cuda' - 1 GPU(s) will be used
None
number of people :  1
bbox : 
 [[ 30   0 670 540]]
frame:    0 / -9223372036854775808 - framerate: 11.454495 fps device: 'cuda' - 1 GPU(s) will be used
None
number of people :  1
bbox : 
 [[ 40   0 943 835]]
frame:    0 / -9223372036854775808 - framerate: 10.314361 fps device: 'cuda' - 1 GPU(s) will be used
None
number of people :  1
bbox : 
 [[  92    0 2286 2006]]
frame:    0 / -9223372036854775808 - framerate: 4.610443 fps device: 'cuda' - 1 GPU(s) will be used
None
number of people :  1
bbox : 
 [[ 30   0 546 413]]
frame:    0 / -9223372036854775808 - framerate: 10.902338 fps device: 'cuda' - 1 GPU(s) will be used
None
number of people :  1
bbox : 
 [[ 18   0 321 288]]
frame:    0 / -9223372036854775808 - framerate: 11.886730 fps device: 'cuda' - 1 GPU(s) will be used
None
number of people :  1
bbox : 
 [[ 17   0 295 271]]
frame:    0 / -9223372036854775808 - framerate: 11.950401 fps device: 'cuda' - 1 GPU(s) will be used
None
number of people :  1
bbox : 
 [[ 13   0 343 282]]
frame:    0 / -9223372036854775808 - framerate: 11.706679 fps device: 'cuda' - 1 GPU(s) will be used
None
number of people :  1
bbox : 
 [[ 51   0 536 491]]
frame:    0 / -9223372036854775808 - framerate: 10.572134 fps device: 'cuda' - 1 GPU(s) will be used
None
number of people :  1
bbox : 
 [[  9   0 257 206]]
frame:    0 / -9223372036854775808 - framerate: 12.000011 fps device: 'cuda' - 1 GPU(s) will be used
None
number of people :  1
bbox : 
 [[  8   0 372 332]]
frame:    0 / -9223372036854775808 - framerate: 11.730875 fps device: 'cuda' - 1 GPU(s) will be used
None
number of people :  1
bbox : 
 [[ 12   0 413 372]]
frame:    0 / -9223372036854775808 - framerate: 11.745329 fps device: 'cuda' - 1 GPU(s) will be used
None
number of people :  1
bbox : 
 [[ 30   0 754 616]]
frame:    0 / -9223372036854775808 - framerate: 11.447461 fps device: 'cuda' - 1 GPU(s) will be used
None
number of people :  1
bbox : 
 [[  38    0 1456 1245]]
frame:    0 / -9223372036854775808 - framerate: 7.258365 fps device: 'cuda' - 1 GPU(s) will be used
None
number of people :  1
bbox : 
 [[ 26   0 435 468]]
frame:    0 / -9223372036854775808 - framerate: 12.755274 fps device: 'cuda' - 1 GPU(s) will be used
None
number of people :  1
bbox : 
 [[ 13   0 319 269]]
frame:    0 / -9223372036854775808 - framerate: 11.505050 fps device: 'cuda' - 1 GPU(s) will be used
None
number of people :  1
bbox : 
 [[  48    0 1017  866]]
frame:    0 / -9223372036854775808 - framerate: 9.503200 fps device: 'cuda' - 1 GPU(s) will be used
None
number of people :  1
bbox : 
 [[  54    0 1048 1041]]
frame:    0 / -9223372036854775808 - framerate: 9.248659 fps device: 'cuda' - 1 GPU(s) will be used
None
number of people :  1
bbox : 
 [[  4   0 297 364]]
frame:    0 / -9223372036854775808 - framerate: 13.116381 fps device: 'cuda' - 1 GPU(s) will be used
None
number of people :  1
bbox : 
 [[  4   0 326 372]]
frame:    0 / -9223372036854775808 - framerate: 13.388313 fps device: 'cuda' - 1 GPU(s) will be used
None
number of people :  1
bbox : 
 [[ 16   0 289 244]]
frame:    0 / -9223372036854775808 - framerate: 13.899147 fps device: 'cuda' - 1 GPU(s) will be used
None
number of people :  1
bbox : 
 [[ 19   0 321 279]]
frame:    0 / -9223372036854775808 - framerate: 13.659647 fps device: 'cuda' - 1 GPU(s) will be used
None
number of people :  1
bbox : 
 [[  0  18 278 429]]
frame:    0 / -9223372036854775808 - framerate: 13.213777 fps device: 'cuda' - 1 GPU(s) will be used
None
number of people :  1
bbox : 
 [[ 14   0 294 255]]
frame:    0 / -9223372036854775808 - framerate: 13.789795 fps device: 'cuda' - 1 GPU(s) will be used
None
number of people :  1
bbox : 
 [[  80    0 1500 1122]]
frame:    0 / -9223372036854775808 - framerate: 8.634839 fps device: 'cuda' - 1 GPU(s) will be used
None
number of people :  1
bbox : 
 [[ 16   0 367 329]]
frame:    0 / -9223372036854775808 - framerate: 13.361954 fps device: 'cuda' - 1 GPU(s) will be used
None
number of people :  1
bbox : 
 [[ 11   0 172 146]]
frame:    0 / -9223372036854775808 - framerate: 14.307511 fps device: 'cuda' - 1 GPU(s) will be used
None
number of people :  1
bbox : 
 [[ 19   0 435 388]]
frame:    0 / -9223372036854775808 - framerate: 11.287998 fps device: 'cuda' - 1 GPU(s) will be used
None
number of people :  1
bbox : 
 [[ 19   0 354 335]]
frame:    0 / -9223372036854775808 - framerate: 11.516074 fps device: 'cuda' - 1 GPU(s) will be used
None
number of people :  1
bbox : 
 [[  5   0 179 185]]
frame:    0 / -9223372036854775808 - framerate: 12.186226 fps device: 'cuda' - 1 GPU(s) will be used
None
number of people :  1
bbox : 
 [[ 35   0 668 590]]
frame:    0 / -9223372036854775808 - framerate: 10.708141 fps device: 'cuda' - 1 GPU(s) will be used
None
number of people :  1
bbox : 
 [[ 37   0 680 624]]
frame:    0 / -9223372036854775808 - framerate: 10.335915 fps device: 'cuda' - 1 GPU(s) will be used
None
number of people :  1
bbox : 
 [[ 20   0 761 659]]
frame:    0 / -9223372036854775808 - framerate: 10.197775 fps device: 'cuda' - 1 GPU(s) will be used
None
number of people :  1
bbox : 
 [[ 12   0 394 313]]
frame:    0 / -9223372036854775808 - framerate: 12.528014 fps device: 'cuda' - 1 GPU(s) will be used
None
number of people :  1
bbox : 
 [[  9   0 270 225]]
frame:    0 / -9223372036854775808 - framerate: 13.830309 fps device: 'cuda' - 1 GPU(s) will be used
None
number of people :  0
bbox : 
 []
frame:    0 / 0 - framerate: 36.329733 fps device: 'cuda' - 1 GPU(s) will be used
None
number of people :  1
bbox : 
 [[ 26  17 399 466]]
frame:    0 / 0 - framerate: 13.577183 fps device: 'cuda' - 1 GPU(s) will be used
None
number of people :  1
bbox : 
 [[ 58   0 579 600]]
frame:    0 / 0 - framerate: 13.047792 fps device: 'cuda' - 1 GPU(s) will be used
None
number of people :  1
bbox : 
 [[  94  354  959 1506]]
frame:    0 / 0 - framerate: 9.592177 fps device: 'cuda' - 1 GPU(s) will be used
None
number of people :  1
bbox : 
 [[291   5 547 345]]
frame:    0 / 0 - framerate: 13.913717 fps device: 'cuda' - 1 GPU(s) will be used
None
number of people :  1
bbox : 
 [[ 86   6 309 284]]
frame:    0 / 0 - framerate: 13.772226 fps device: 'cuda' - 1 GPU(s) will be used
None
number of people :  1
bbox : 
 [[ 75  42 540 614]]
frame:    0 / 0 - framerate: 10.847806 fps device: 'cuda' - 1 GPU(s) will be used
None
number of people :  1
bbox : 
 [[ 17   0 435 400]]
frame:    0 / 0 - framerate: 11.654146 fps device: 'cuda' - 1 GPU(s) will be used
None
number of people :  1
bbox : 
 [[ 80   0 565 412]]
frame:    0 / 0 - framerate: 12.021714 fps device: 'cuda' - 1 GPU(s) will be used
None
number of people :  1
bbox : 
 [[192  54 578 552]]
frame:    0 / 0 - framerate: 12.765445 fps device: 'cuda' - 1 GPU(s) will be used
None
number of people :  1
bbox : 
 [[240 444 541 844]]
frame:    0 / 0 - framerate: 12.052182 fps device: 'cuda' - 1 GPU(s) will be used
None
number of people :  1
bbox : 
 [[ 148    0 1523 1358]]
frame:    0 / 0 - framerate: 9.437066 fps device: 'cuda' - 1 GPU(s) will be used
None
number of people :  1
bbox : 
 [[ 26   0 360 322]]
frame:    0 / 0 - framerate: 13.795827 fps device: 'cuda' - 1 GPU(s) will be used
None
number of people :  1
bbox : 
 [[1272  363 3782 3648]]
frame:    0 / 0 - framerate: 2.768969 fps device: 'cuda' - 1 GPU(s) will be used
None
number of people :  1
bbox : 
 [[ 79 104 428 568]]
frame:    0 / 0 - framerate: 12.253871 fps device: 'cuda' - 1 GPU(s) will be used
None
number of people :  1
bbox : 
 [[ 14  10 678 800]]
frame:    0 / 0 - framerate: 12.407972 fps device: 'cuda' - 1 GPU(s) will be used
None
number of people :  1
bbox : 
 [[113   0 586 532]]
frame:    0 / 0 - framerate: 12.909364 fps device: 'cuda' - 1 GPU(s) will be used
None
number of people :  1
bbox : 
 [[145   0 505 427]]
frame:    0 / 0 - framerate: 13.528006 fps device: 'cuda' - 1 GPU(s) will be used
None
number of people :  1
bbox : 
 [[116   0 887 700]]
frame:    0 / 0 - framerate: 10.204995 fps device: 'cuda' - 1 GPU(s) will be used
None
number of people :  1
bbox : 
 [[ 66   0 285 254]]
frame:    0 / 0 - framerate: 13.411258 fps device: 'cuda' - 1 GPU(s) will be used
None
number of people :  1
bbox : 
 [[ 148    0 1021  856]]
frame:    0 / 0 - framerate: 11.112358 fps device: 'cuda' - 1 GPU(s) will be used
None
number of people :  1
bbox : 
 [[ 39 122 280 442]]
frame:    0 / 0 - framerate: 13.112732 fps device: 'cuda' - 1 GPU(s) will be used
None
number of people :  1
bbox : 
 [[ 231    0 1594 1507]]
frame:    0 / 0 - framerate: 8.752192 fps device: 'cuda' - 1 GPU(s) will be used
None
number of people :  1
bbox : 
 [[113  15 312 267]]
frame:    0 / 0 - framerate: 12.970323 fps device: 'cuda' - 1 GPU(s) will be used
None
number of people :  1
bbox : 
 [[106   0 614 355]]
frame:    0 / 0 - framerate: 12.858548 fps device: 'cuda' - 1 GPU(s) will be used
None
number of people :  1
bbox : 
 [[147 265 342 523]]
frame:    0 / 0 - framerate: 12.754731 fps device: 'cuda' - 1 GPU(s) will be used
None
number of people :  1
bbox : 
 [[ 20 260 564 901]]
frame:    0 / 0 - framerate: 11.910087 fps device: 'cuda' - 1 GPU(s) will be used
None
number of people :  1
bbox : 
 [[ 72   0 403 321]]
frame:    0 / 0 - framerate: 13.851273 fps device: 'cuda' - 1 GPU(s) will be used
None
number of people :  1
bbox : 
 [[ 284    0 1089  957]]
frame:    0 / 0 - framerate: 10.933458 fps device: 'cuda' - 1 GPU(s) will be used
None
number of people :  1
bbox : 
 [[104   0 525 400]]
frame:    0 / 0 - framerate: 13.405815 fps device: 'cuda' - 1 GPU(s) will be used
None
number of people :  1
bbox : 
 [[ 42   0 546 600]]
frame:    0 / 0 - framerate: 11.288028 fps device: 'cuda' - 1 GPU(s) will be used
None
number of people :  1
bbox : 
 [[227  98 646 656]]
frame:    0 / -9223372036854775808 - framerate: 10.022304 fps device: 'cuda' - 1 GPU(s) will be used
None
number of people :  1
bbox : 
 [[234   0 955 701]]
frame:    0 / 0 - framerate: 11.136050 fps device: 'cuda' - 1 GPU(s) will be used
None
number of people :  1
bbox : 
 [[ 59   0 779 800]]
frame:    0 / 0 - framerate: 12.519600 fps device: 'cuda' - 1 GPU(s) will be used
None
number of people :  1
bbox : 
 [[ 283    0 1092  957]]
frame:    0 / 0 - framerate: 10.804827 fps device: 'cuda' - 1 GPU(s) will be used
None
number of people :  1
bbox : 
 [[431  31 938 707]]
frame:    0 / 0 - framerate: 11.825100 fps device: 'cuda' - 1 GPU(s) will be used
None
number of people :  1
bbox : 
 [[296   1 763 556]]
frame:    0 / 0 - framerate: 12.784901 fps device: 'cuda' - 1 GPU(s) will be used
None
number of people :  1
bbox : 
 [[272   0 639 340]]
frame:    0 / 0 - framerate: 13.471910 fps device: 'cuda' - 1 GPU(s) will be used
None
number of people :  1
bbox : 
 [[ 189    0 1178 1097]]
frame:    0 / 0 - framerate: 10.700192 fps device: 'cuda' - 1 GPU(s) will be used
None
number of people :  1
bbox : 
 [[ 14   0 289 300]]
frame:    0 / 0 - framerate: 14.119906 fps device: 'cuda' - 1 GPU(s) will be used
None
number of people :  1
bbox : 
 [[194  97 483 450]]
frame:    0 / 0 - framerate: 13.529926 fps device: 'cuda' - 1 GPU(s) will be used
None
number of people :  1
bbox : 
 [[ 33  38 380 400]]
frame:    0 / 0 - framerate: 13.914456 fps device: 'cuda' - 1 GPU(s) will be used
None
number of people :  1
bbox : 
 [[126   0 522 337]]
frame:    0 / 0 - framerate: 11.628556 fps device: 'cuda' - 1 GPU(s) will be used
None
number of people :  1
bbox : 
 [[ 34   0 392 320]]
frame:    0 / 0 - framerate: 13.278829 fps device: 'cuda' - 1 GPU(s) will be used
None
number of people :  2
bbox : 
 [[472  84 942 710]
 [ 20  60 344 492]]
frame:    0 / 0 - framerate: 10.770505 fps device: 'cuda' - 1 GPU(s) will be used
None
number of people :  1
bbox : 
 [[110   0 605 406]]
frame:    0 / 0 - framerate: 12.771276 fps device: 'cuda' - 1 GPU(s) will be used
None
number of people :  1
bbox : 
 [[130   5 378 320]]
frame:    0 / 0 - framerate: 13.301021 fps device: 'cuda' - 1 GPU(s) will be used
None
number of people :  1
bbox : 
 [[ 28 122 575 834]]
frame:    0 / 0 - framerate: 12.018958 fps device: 'cuda' - 1 GPU(s) will be used
None
number of people :  1
bbox : 
 [[ 34   0 344 280]]
frame:    0 / 0 - framerate: 14.022895 fps device: 'cuda' - 1 GPU(s) will be used
None
number of people :  1
bbox : 
 [[151  84 610 640]]
frame:    0 / 0 - framerate: 13.003376 fps device: 'cuda' - 1 GPU(s) will be used
None
number of people :  1
bbox : 
 [[ 42   0 483 395]]
frame:    0 / 0 - framerate: 13.388484 fps device: 'cuda' - 1 GPU(s) will be used
None
number of people :  1
bbox : 
 [[ 18   0 692 736]]
frame:    0 / 0 - framerate: 12.255446 fps device: 'cuda' - 1 GPU(s) will be used
None
number of people :  1
bbox : 
 [[257 196 504 524]]
frame:    0 / 0 - framerate: 13.657913 fps device: 'cuda' - 1 GPU(s) will be used
None
number of people :  1
bbox : 
 [[ 245    0 1165  957]]
frame:    0 / 0 - framerate: 10.596333 fps device: 'cuda' - 1 GPU(s) will be used
None
number of people :  1
bbox : 
 [[144  35 340 295]]
frame:    0 / 0 - framerate: 13.671268 fps device: 'cuda' - 1 GPU(s) will be used
None
number of people :  1
bbox : 
 [[ 434   21 1037  720]]
frame:    0 / 0 - framerate: 11.078721 fps device: 'cuda' - 1 GPU(s) will be used
None
number of people :  1
bbox : 
 [[ 65   0 545 505]]
frame:    0 / 0 - framerate: 12.238389 fps device: 'cuda' - 1 GPU(s) will be used
None
number of people :  1
bbox : 
 [[144   0 424 340]]
frame:    0 / -9223372036854775808 - framerate: 12.922688 fps device: 'cuda' - 1 GPU(s) will be used
None
number of people :  1
bbox : 
 [[133   0 927 792]]
frame:    0 / 0 - framerate: 11.791524 fps device: 'cuda' - 1 GPU(s) will be used
None
number of people :  1
bbox : 
 [[455  56 975 748]]
frame:    0 / 0 - framerate: 11.598490 fps device: 'cuda' - 1 GPU(s) will be used
None
number of people :  1
bbox : 
 [[  4  30 194 282]]
frame:    0 / 0 - framerate: 14.130419 fps device: 'cuda' - 1 GPU(s) will be used
None
number of people :  1
bbox : 
 [[ 239   57  961 1000]]
frame:    0 / 0 - framerate: 11.618345 fps device: 'cuda' - 1 GPU(s) will be used
None
number of people :  1
bbox : 
 [[ 397    0 1171  957]]
frame:    0 / 0 - framerate: 10.047657 fps device: 'cuda' - 1 GPU(s) will be used
None
number of people :  1
bbox : 
 [[   0  303  827 1390]]
frame:    0 / 0 - framerate: 10.718376 fps device: 'cuda' - 1 GPU(s) will be used
None
number of people :  1
bbox : 
 [[  85    0  917 1000]]
frame:    0 / 0 - framerate: 11.239811 fps device: 'cuda' - 1 GPU(s) will be used
None
number of people :  1
bbox : 
 [[ 325   38 1079  993]]
frame:    0 / 0 - framerate: 10.586544 fps device: 'cuda' - 1 GPU(s) will be used
None
number of people :  1
bbox : 
 [[ 41   0 403 320]]
frame:    0 / 0 - framerate: 13.801683 fps device: 'cuda' - 1 GPU(s) will be used
None
number of people :  1
bbox : 
 [[ 130    0 1162  957]]
frame:    0 / 0 - framerate: 8.821756 fps device: 'cuda' - 1 GPU(s) will be used
None
number of people :  1
bbox : 
 [[ 52  19 263 276]]
frame:    0 / 0 - framerate: 12.821834 fps device: 'cuda' - 1 GPU(s) will be used
None
number of people :  1
bbox : 
 [[ 174    0 1172  956]]
frame:    0 / 0 - framerate: 10.656585 fps device: 'cuda' - 1 GPU(s) will be used
None
number of people :  1
bbox : 
 [[ 63   0 393 320]]
frame:    0 / 0 - framerate: 13.619727 fps device: 'cuda' - 1 GPU(s) will be used
None
number of people :  1
bbox : 
 [[ 97   0 615 467]]
frame:    0 / 0 - framerate: 13.468233 fps device: 'cuda' - 1 GPU(s) will be used
None
number of people :  1
bbox : 
 [[ 49   0 369 316]]
frame:    0 / 0 - framerate: 13.979476 fps device: 'cuda' - 1 GPU(s) will be used
None
number of people :  1
bbox : 
 [[ 12   0 224 236]]
frame:    0 / 0 - framerate: 14.280961 fps device: 'cuda' - 1 GPU(s) will be used
None
number of people :  1
bbox : 
 [[100   0 629 487]]
frame:    0 / 0 - framerate: 13.331799 fps device: 'cuda' - 1 GPU(s) will be used
None
number of people :  1
bbox : 
 [[ 84  96 314 403]]
frame:    0 / 0 - framerate: 13.530493 fps device: 'cuda' - 1 GPU(s) will be used
None
number of people :  2
bbox : 
 [[ 455  100 1048  890]
 [1093  569 1133  624]]
frame:    0 / 0 - framerate: 11.027021 fps device: 'cuda' - 1 GPU(s) will be used
None
number of people :  1
bbox : 
 [[251 125 579 561]]
frame:    0 / 0 - framerate: 12.797540 fps device: 'cuda' - 1 GPU(s) will be used
None
number of people :  1
bbox : 
 [[ 224    0 1492 1137]]
frame:    0 / 0 - framerate: 9.873829 fps device: 'cuda' - 1 GPU(s) will be used
None
number of people :  1
bbox : 
 [[ 32   0 349 250]]
frame:    0 / 0 - framerate: 11.787845 fps device: 'cuda' - 1 GPU(s) will be used
None
number of people :  1
bbox : 
 [[ 13   0 214 177]]
frame:    0 / 0 - framerate: 12.936559 fps device: 'cuda' - 1 GPU(s) will be used
None
number of people :  1
bbox : 
 [[ 80   0 609 484]]
frame:    0 / 0 - framerate: 12.089387 fps device: 'cuda' - 1 GPU(s) will be used
None
number of people :  1
bbox : 
 [[227   0 584 330]]
frame:    0 / 0 - framerate: 12.315686 fps device: 'cuda' - 1 GPU(s) will be used
None
number of people :  1
bbox : 
 [[  0  62 427 630]]
frame:    0 / 0 - framerate: 12.687866 fps device: 'cuda' - 1 GPU(s) will be used
None
number of people :  1
bbox : 
 [[104   0 345 280]]
frame:    0 / 0 - framerate: 13.950044 fps device: 'cuda' - 1 GPU(s) will be used
None
number of people :  1
bbox : 
 [[ 42   0 253 189]]
frame:    0 / 0 - framerate: 14.177753 fps device: 'cuda' - 1 GPU(s) will be used
None
number of people :  1
bbox : 
 [[ 151    0 2560 1992]]
frame:    0 / 0 - framerate: 6.125057 fps device: 'cuda' - 1 GPU(s) will be used
None
number of people :  1
bbox : 
 [[263 126 574 540]]
frame:    0 / 0 - framerate: 12.604668 fps device: 'cuda' - 1 GPU(s) will be used
None
number of people :  1
bbox : 
 [[156 197 537 705]]
frame:    0 / 0 - framerate: 12.857917 fps device: 'cuda' - 1 GPU(s) will be used
None
number of people :  1
bbox : 
 [[ 28   0 634 595]]
frame:    0 / 0 - framerate: 12.732545 fps device: 'cuda' - 1 GPU(s) will be used
None
number of people :  1
bbox : 
 [[166  31 504 460]]
frame:    0 / 0 - framerate: 13.536912 fps device: 'cuda' - 1 GPU(s) will be used
None
number of people :  1
bbox : 
 [[ 30   0 340 266]]
frame:    0 / 0 - framerate: 11.867022 fps device: 'cuda' - 1 GPU(s) will be used
None
number of people :  1
bbox : 
 [[ 178    0 1233 1000]]
frame:    0 / 0 - framerate: 9.501693 fps device: 'cuda' - 1 GPU(s) will be used
None
number of people :  1
bbox : 
 [[ 29  45 209 285]]
frame:    0 / 0 - framerate: 12.114983 fps device: 'cuda' - 1 GPU(s) will be used
None
number of people :  1
bbox : 
 [[ 244    0 1141  957]]
frame:    0 / 0 - framerate: 9.134673 fps device: 'cuda' - 1 GPU(s) will be used
None
number of people :  1
bbox : 
 [[ 93  35 412 447]]
frame:    0 / 0 - framerate: 11.534855 fps device: 'cuda' - 1 GPU(s) will be used
None
number of people :  1
bbox : 
 [[  30    0 1206  923]]
frame:    0 / 0 - framerate: 9.591716 fps device: 'cuda' - 1 GPU(s) will be used
None
number of people :  1
bbox : 
 [[ 39   0 360 267]]
frame:    0 / 0 - framerate: 11.944718 fps device: 'cuda' - 1 GPU(s) will be used
None
number of people :  1
bbox : 
 [[ 14   0 658 776]]
frame:    0 / 0 - framerate: 11.257368 fps device: 'cuda' - 1 GPU(s) will be used
None
number of people :  1
bbox : 
 [[ 44   0 394 320]]
frame:    0 / 0 - framerate: 13.870191 fps device: 'cuda' - 1 GPU(s) will be used
None
number of people :  1
bbox : 
 [[162  25 400 337]]
frame:    0 / 0 - framerate: 13.880932 fps device: 'cuda' - 1 GPU(s) will be used
None
number of people :  1
bbox : 
 [[ 634    0 1820 1440]]
frame:    0 / 0 - framerate: 8.011920 fps device: 'cuda' - 1 GPU(s) will be used
None
number of people :  1
bbox : 
 [[ 39   0 562 503]]
frame:    0 / 0 - framerate: 12.890637 fps device: 'cuda' - 1 GPU(s) will be used
None
number of people :  1
bbox : 
 [[ 44   0 257 250]]
frame:    0 / 0 - framerate: 14.036222 fps device: 'cuda' - 1 GPU(s) will be used
None
number of people :  1
bbox : 
 [[ 144    0 1134 1064]]
frame:    0 / 0 - framerate: 10.341598 fps device: 'cuda' - 1 GPU(s) will be used
None
number of people :  1
bbox : 
 [[ 65   0 670 626]]
frame:    0 / 0 - framerate: 10.987994 fps device: 'cuda' - 1 GPU(s) will be used
None
number of people :  1
bbox : 
 [[142   0 339 243]]
frame:    0 / 0 - framerate: 12.689286 fps device: 'cuda' - 1 GPU(s) will be used
None
number of people :  1
bbox : 
 [[ 38   0 603 450]]
frame:    0 / 0 - framerate: 12.604706 fps device: 'cuda' - 1 GPU(s) will be used
None
number of people :  1
bbox : 
 [[ 94   0 792 600]]
frame:    0 / 0 - framerate: 11.623658 fps device: 'cuda' - 1 GPU(s) will be used
None
number of people :  1
bbox : 
 [[ 80   0 586 450]]
frame:    0 / 0 - framerate: 12.545664 fps device: 'cuda' - 1 GPU(s) will be used
None
number of people :  1
bbox : 
 [[ 72   0 378 320]]
frame:    0 / 0 - framerate: 13.658535 fps device: 'cuda' - 1 GPU(s) will be used
None
number of people :  1
bbox : 
 [[ 27   0 484 366]]
frame:    0 / 0 - framerate: 13.498140 fps device: 'cuda' - 1 GPU(s) will be used
None
number of people :  1
bbox : 
 [[ 35   0 613 640]]
frame:    0 / 0 - framerate: 12.502098 fps device: 'cuda' - 1 GPU(s) will be used
None
number of people :  1
bbox : 
 [[ 45   0 372 320]]
frame:    0 / 0 - framerate: 13.997063 fps device: 'cuda' - 1 GPU(s) will be used
None
number of people :  1
bbox : 
 [[ 92   0 552 350]]
frame:    0 / 0 - framerate: 13.638727 fps device: 'cuda' - 1 GPU(s) will be used
None
number of people :  1
bbox : 
 [[176  56 457 338]]
frame:    0 / 0 - framerate: 13.782454 fps device: 'cuda' - 1 GPU(s) will be used
None
number of people :  1
bbox : 
 [[ 69   0 574 535]]
frame:    0 / 0 - framerate: 12.825010 fps device: 'cuda' - 1 GPU(s) will be used
None
number of people :  1
bbox : 
 [[ 471    0 2783 2102]]
frame:    0 / 0 - framerate: 4.626737 fps device: 'cuda' - 1 GPU(s) will be used
None
number of people :  1
bbox : 
 [[ 126    0 1005  734]]
frame:    0 / -9223372036854775808 - framerate: 9.796686 fps device: 'cuda' - 1 GPU(s) will be used
None
number of people :  1
bbox : 
 [[ 25   0 405 470]]
frame:    0 / 0 - framerate: 11.642113 fps device: 'cuda' - 1 GPU(s) will be used
None
number of people :  1
bbox : 
 [[ 73   0 865 810]]
frame:    0 / 0 - framerate: 9.780899 fps device: 'cuda' - 1 GPU(s) will be used
None
number of people :  1
bbox : 
 [[ 16  77 491 709]]
frame:    0 / 0 - framerate: 11.230151 fps device: 'cuda' - 1 GPU(s) will be used
None
number of people :  1
bbox : 
 [[ 68   0 437 359]]
frame:    0 / -9223372036854775808 - framerate: 11.546572 fps device: 'cuda' - 1 GPU(s) will be used
None
number of people :  1
bbox : 
 [[ 75   0 665 640]]
frame:    0 / 0 - framerate: 12.297559 fps device: 'cuda' - 1 GPU(s) will be used
None
number of people :  1
bbox : 
 [[102   0 848 810]]
frame:    0 / 0 - framerate: 11.119635 fps device: 'cuda' - 1 GPU(s) will be used
None
number of people :  1
bbox : 
 [[ 16 148 697 974]]
frame:    0 / 0 - framerate: 11.611816 fps device: 'cuda' - 1 GPU(s) will be used
None
number of people :  1
bbox : 
 [[ 610    0 4435 3328]]
frame:    0 / 0 - framerate: 2.284579 fps device: 'cuda' - 1 GPU(s) will be used
None
number of people :  1
bbox : 
 [[ 88   0 442 334]]
frame:    0 / 0 - framerate: 13.466417 fps device: 'cuda' - 1 GPU(s) will be used
None
number of people :  1
bbox : 
 [[ 92  24 331 320]]
frame:    0 / 0 - framerate: 13.961979 fps device: 'cuda' - 1 GPU(s) will be used
None
number of people :  1
bbox : 
 [[194   0 962 634]]
frame:    0 / 0 - framerate: 10.585288 fps device: 'cuda' - 1 GPU(s) will be used
None
number of people :  1
bbox : 
 [[163   0 776 683]]
frame:    0 / 0 - framerate: 11.145223 fps device: 'cuda' - 1 GPU(s) will be used
None
number of people :  1
bbox : 
 [[ 56   0 572 614]]
frame:    0 / 0 - framerate: 12.849802 fps device: 'cuda' - 1 GPU(s) will be used
None
number of people :  1
bbox : 
 [[126   0 440 355]]
frame:    0 / 0 - framerate: 13.609033 fps device: 'cuda' - 1 GPU(s) will be used
None
number of people :  1
bbox : 
 [[ 84   0 392 320]]
frame:    0 / 0 - framerate: 14.014555 fps device: 'cuda' - 1 GPU(s) will be used
None
number of people :  1
bbox : 
 [[167   0 861 576]]
frame:    0 / 0 - framerate: 12.746940 fps device: 'cuda' - 1 GPU(s) will be used
None
number of people :  1
bbox : 
 [[ 31   0 697 646]]
frame:    0 / 0 - framerate: 12.223267 fps device: 'cuda' - 1 GPU(s) will be used
None
number of people :  1
bbox : 
 [[ 43   0 622 507]]
frame:    0 / 0 - framerate: 12.709511 fps device: 'cuda' - 1 GPU(s) will be used
None
number of people :  1
bbox : 
 [[104   0 501 315]]
frame:    0 / 0 - framerate: 13.764498 fps device: 'cuda' - 1 GPU(s) will be used
None
number of people :  1
bbox : 
 [[ 83   0 444 334]]
frame:    0 / 0 - framerate: 13.638017 fps device: 'cuda' - 1 GPU(s) will be used
None
number of people :  1
bbox : 
 [[ 140    0 1129  958]]
frame:    0 / 0 - framerate: 10.740030 fps device: 'cuda' - 1 GPU(s) will be used
None
number of people :  1
bbox : 
 [[  2   0 543 600]]
frame:    0 / 0 - framerate: 12.960984 fps device: 'cuda' - 1 GPU(s) will be used
None
number of people :  1
bbox : 
 [[ 45  78 432 590]]
frame:    0 / 0 - framerate: 10.802934 fps device: 'cuda' - 1 GPU(s) will be used
None
number of people :  1
bbox : 
 [[185  90 619 600]]
frame:    0 / 0 - framerate: 11.516960 fps device: 'cuda' - 1 GPU(s) will be used
None
number of people :  1
bbox : 
 [[294   0 935 720]]
frame:    0 / 0 - framerate: 10.518182 fps device: 'cuda' - 1 GPU(s) will be used
None
number of people :  1
bbox : 
 [[ 51   0 355 280]]
frame:    0 / 0 - framerate: 13.366894 fps device: 'cuda' - 1 GPU(s) will be used
None
number of people :  1
bbox : 
 [[ 82   0 472 400]]
frame:    0 / 0 - framerate: 13.467887 fps device: 'cuda' - 1 GPU(s) will be used
None
number of people :  1
bbox : 
 [[128  31 354 320]]
frame:    0 / 0 - framerate: 13.870236 fps device: 'cuda' - 1 GPU(s) will be used
None
number of people :  1
bbox : 
 [[ 24   0 455 425]]
frame:    0 / 0 - framerate: 13.460496 fps device: 'cuda' - 1 GPU(s) will be used
None
number of people :  1
bbox : 
 [[ 32   0 199 160]]
frame:    0 / 0 - framerate: 14.049152 fps device: 'cuda' - 1 GPU(s) will be used
None
number of people :  1
bbox : 
 [[131  36 346 320]]
frame:    0 / 0 - framerate: 13.904124 fps device: 'cuda' - 1 GPU(s) will be used
None
number of people :  1
bbox : 
 [[ 53 142 267 426]]
frame:    0 / 0 - framerate: 14.006552 fps device: 'cuda' - 1 GPU(s) will be used
None
number of people :  1
bbox : 
 [[ 372 1407 2223 3861]]
frame:    0 / 0 - framerate: 3.819758 fps device: 'cuda' - 1 GPU(s) will be used
None
number of people :  1
bbox : 
 [[502  56 731 360]]
frame:    0 / 0 - framerate: 12.300553 fps device: 'cuda' - 1 GPU(s) will be used
None
number of people :  1
bbox : 
 [[ 71 196 330 540]]
frame:    0 / 0 - framerate: 11.260783 fps device: 'cuda' - 1 GPU(s) will be used
None
number of people :  1
bbox : 
 [[ 71   0 642 490]]
frame:    0 / 0 - framerate: 12.570781 fps device: 'cuda' - 1 GPU(s) will be used
None
number of people :  1
bbox : 
 [[ 20  41 199 279]]
frame:    0 / 0 - framerate: 13.423319 fps device: 'cuda' - 1 GPU(s) will be used
None
number of people :  1
bbox : 
 [[ 199    0 1140  957]]
frame:    0 / 0 - framerate: 9.837886 fps device: 'cuda' - 1 GPU(s) will be used
None
number of people :  1
bbox : 
 [[ 17  51 319 453]]
frame:    0 / 0 - framerate: 13.019683 fps device: 'cuda' - 1 GPU(s) will be used
None
number of people :  1
bbox : 
 [[191  79 571 585]]
frame:    0 / 0 - framerate: 12.438956 fps device: 'cuda' - 1 GPU(s) will be used
None
number of people :  1
bbox : 
 [[119 273 502 783]]
frame:    0 / 0 - framerate: 12.823049 fps device: 'cuda' - 1 GPU(s) will be used
None
number of people :  1
bbox : 
 [[ 27  89 222 349]]
frame:    0 / 0 - framerate: 14.175166 fps device: 'cuda' - 1 GPU(s) will be used
None
number of people :  1
bbox : 
 [[241  15 593 414]]
frame:    0 / -9223372036854775808 - framerate: 11.812578 fps device: 'cuda' - 1 GPU(s) will be used
None
number of people :  1
bbox : 
 [[216 150 537 578]]
frame:    0 / 0 - framerate: 12.936120 fps device: 'cuda' - 1 GPU(s) will be used
None
number of people :  1
bbox : 
 [[163  11 605 599]]
frame:    0 / 0 - framerate: 12.367835 fps device: 'cuda' - 1 GPU(s) will be used
None
number of people :  1
bbox : 
 [[ 85  15 335 320]]
frame:    0 / 0 - framerate: 13.830172 fps device: 'cuda' - 1 GPU(s) will be used
None
number of people :  1
bbox : 
 [[ 26   0 543 315]]
frame:    0 / 0 - framerate: 12.152260 fps device: 'cuda' - 1 GPU(s) will be used
None
number of people :  1
bbox : 
 [[ 13 107 220 354]]
frame:    0 / 0 - framerate: 12.009942 fps device: 'cuda' - 1 GPU(s) will be used
None
number of people :  1
bbox : 
 [[ 39   0 361 282]]
frame:    0 / 0 - framerate: 11.501075 fps device: 'cuda' - 1 GPU(s) will be used
None
number of people :  1
bbox : 
 [[100   0 842 667]]
frame:    0 / 0 - framerate: 10.209168 fps 

추론 가져오기¶
In [123]:
with open(json_list_path05[40]) as json_file:
    pred_anns = json.load(json_file) 
In [124]:
pred_anns
Out[124]:
{'0': [[[52, 0, 662, 607]],
  [[[120.13541412353516, 407.8333435058594, 0.9583685398101807],
    [107.48958587646484, 407.8333435058594, 0.9757279753684998],
    [107.48958587646484, 399.3611145019531, 0.9718415141105652],
    [107.48958587646484, 407.8333435058594, 0.5727783441543579],
    [107.48958587646484, 365.47222900390625, 0.9703353643417358],
    [170.71875, 424.77777099609375, 0.924858570098877],
    [177.0416717529297, 306.1666564941406, 0.9182637929916382],
    [170.71875, 517.9722290039062, 0.9720072746276855],
    [170.71875, 204.5, 0.962393045425415],
    [164.3958282470703, 602.6944580078125, 0.9146780371665955],
    [170.71875, 119.77777862548828, 0.9181563854217529],
    [341.4375, 390.8888854980469, 0.8956470489501953],
    [347.7604064941406, 314.6388854980469, 0.8600537776947021],
    [373.0520935058594, 526.4444580078125, 0.9111846685409546],
    [442.6041564941406, 221.44444274902344, 0.879865288734436],
    [524.8020629882812, 543.388916015625, 0.9049820303916931],
    [531.125, 94.36111450195312, 0.8868206143379211]]]]}
In [125]:
pred_anns = pred_anns['0']
pred_bbox = pred_anns[0][0]
In [126]:
pred_bbox
Out[126]:
[52, 0, 662, 607]
In [127]:
pred_keypoint = pred_anns[1][0]
pred = np.array(pred_keypoint).reshape(-1)
px = pred[1::3]; py = pred[0::3]
print("px shape {} {}\npy shape {} {}\n".format(
    px.shape, px, py.shape, py))

px shape (17,) [407.83334351 407.83334351 399.3611145  407.83334351 365.472229
 424.777771   306.16665649 517.972229   204.5        602.69445801
 119.77777863 390.8888855  314.6388855  526.44445801 221.44444275
 543.38891602  94.3611145 ]
py shape (17,) [120.13541412 107.48958588 107.48958588 107.48958588 107.48958588
 170.71875    177.04167175 170.71875    170.71875    164.39582825
 170.71875    341.4375     347.76040649 373.05209351 442.60415649
 524.80206299 531.125     ]

In [128]:
#image = io.imread(img['coco_url'])
image = io.imread(img_list_path05[40])
cv2.rectangle(image, 
              (int(pred_bbox[0]), int(pred_bbox[1])),
              (int(pred_bbox[2]), int(pred_bbox[3])),  #bbox 그리기
              (255,255,0), 4)
plt.plot(px, py, 'y+', markersize=6, markeredgewidth=2)  #keypoint 찍기
plt.title('predicted annotation')
plt.imshow(image)
plt.show()

￼ 

모델 학습 형태로 데이터 가공¶
In [198]:
rjson_list_path01 = glob.glob('./json_output/downdog/*.json')
rjson_list_path02 = glob.glob('./json_output/goddess/*.json')
rjson_list_path03 = glob.glob('./json_output/tree/*.json')
rjson_list_path04 = glob.glob('./json_output/plank/*.json')
rjson_list_path05 = glob.glob('./json_output/warrior2/*.json')
In [224]:
rjson_list = [rjson_list_path01, rjson_list_path02, rjson_list_path03, rjson_list_path04, rjson_list_path05]
In [236]:
md_json_X = [[] for i in range(5)]
md_json_y = [[] for i in range(5)]
In [237]:
for k in range(len(rjson_list)):
    for i in range(len(rjson_list[k])):  
        with open(rjson_list[k][i]) as json_file:  #json_list
            pred_anns = json.load(json_file) 
            temp_md = []
            #print(np.shape(pred_anns['0'][1])[0])
            if np.shape(pred_anns['0'][1])[0] == 1:
                for j in range(len(pred_anns['0'][1][0])):
                    temp_md.append(pred_anns['0'][1][0][j][0])
                    temp_md.append(pred_anns['0'][1][0][j][1])
                md_json_X[k].append(temp_md)
                md_json_y[k].append(k)
In [240]:
np.shape(md_json_X[4]), np.shape(md_json_y[4])
Out[240]:
((551, 34), (551,))
In [276]:
def GetSize(sz_original, train_ratio=0.7):
    return int(len(sz_original)*train_ratio)
In [278]:
train_ratio = 0.7
batch_size=1
sz_train = []
sz_test = []
for datac in md_json_X:
    train_size_ci = GetSize(datac)
    test_size_ci = len(datac)-train_size_ci
    sz_train.append(train_size_ci)
    sz_test.append(test_size_ci)


print(sz_train)
print(sz_test)
print('----------------------------------------------------------------')
print(np.sum( (sz_train, sz_test), axis=0))

[489, 168, 410, 321, 385]
[211, 72, 176, 138, 166]
----------------------------------------------------------------
[700 240 586 459 551]
In [284]:
for i in range(5):
    train = md_json_X[i][:sz_train[i]]
    test = md_json_X[i][sz_train[i]:]
    
    train_lbl = md_json_y[i][:sz_train[i]]
    test_lbl = md_json_y[i][sz_train[i]:]
    print(np.shape(train), np.shape(test))
    
    if i == 0:
        trainX = train
        trainy = train_lbl
        testX = test
        testy = test_lbl
    else:
        trainX = np.concatenate((trainX, train))
        trainy = np.concatenate((trainy, train_lbl))
        testX = np.concatenate((testX, test))
        testy = np.concatenate((testy, test_lbl))

(489, 34) (211, 34)
(168, 34) (72, 34)
(410, 34) (176, 34)
(321, 34) (138, 34)
(385, 34) (166, 34)
In [285]:
np.shape(trainX), np.shape(trainy), np.shape(testX), np.shape(testy)
Out[285]:
((1773, 34), (1773,), (763, 34), (763,))
In [287]:
from sklearn.pipeline import make_pipeline
from sklearn.preprocessing import StandardScaler
from sklearn.svm import SVC
clf = make_pipeline(StandardScaler(), SVC(gamma='auto'))
clf.fit(trainX, trainy)
Out[287]:
Pipeline(steps=[('standardscaler', StandardScaler()),
                ('svc', SVC(gamma='auto'))])
In [290]:
predy = clf.predict(testX)
In [293]:
conf_matrix = pd.crosstab(testy, predy)
print(conf_matrix)

col_0    0  1    2    3    4
row_0                       
0      192  2    2   15    0
1        1  7   19    5   40
2        0  0  162    2   12
3        1  2    6  127    2
4        0  6   22    5  133
In [298]:
def plot_confusion_matrix3x(actual, predicted, classes, title='Confusion Matrix', normalize=False, hide_classname = False, 
                            figsize=(4, 4), dpi=36, cmap=plt.cm.viridis):
    import itertools
    from mpl_toolkits.axes_grid1 import make_axes_locatable

    if not normalize:
        conf_matrix = pd.crosstab(actual, predicted) 
    else:
        conf_matrix = pd.crosstab(actual, predicted).apply(lambda r: r / r.sum(), axis=1)
        
    if np.shape(conf_matrix) != (len(classes), len(classes)):
        print(np.shape(conf_matrix))
        for i in range(len(classes)):
            if i not in conf_matrix.columns:
                conf_matrix[i] = 0.00
        conf_matrix = conf_matrix[[i for i in range(len(classes))]]

    
    fig = plt.figure(figsize=figsize, dpi=dpi)
    
    ax = plt.gca()
    im = ax.imshow(conf_matrix, aspect=1.0, interpolation='nearest',cmap=cmap)
    
    plt.title(title, size=12)
    
    divider = make_axes_locatable(ax)
    cax = divider.append_axes("right", size="5%", pad=0.05, aspect=20)
    plt.colorbar(im, cax=cax)
    
    
    if hide_classname:
        classes2 = []
        for k, _ in enumerate(classes):
            classes2.append('C{}'.format(k))
        classes = classes2
    
    tick_marks = np.arange(len(classes))

    ax.set_xticks(tick_marks)
    ax.set_yticks(tick_marks)
    ax.set_yticklabels(classes, fontsize=9) 
    ax.set_xticklabels(classes, fontsize=9)#, rotation=90)
    
   
    fmt = '.2f' if normalize else 'd'
    thresh = conf_matrix.max() / 2.
    thresh = 0.5
    
    for i, j in itertools.product(range(conf_matrix.shape[0]), range(conf_matrix.shape[1])):
        if conf_matrix[j][i] > thresh: #thresh[j]:
            color="white" 
        
        else :
            color = "black"  
        ax.text(j, i, format(conf_matrix[j][i], fmt), ha="center", va="center", color=color, fontsize=8)  #14  
        
#     ax.set_ylabel('Actual')
#     ax.set_xlabel('Predicted')
    ax.grid(False)
#     plt.savefig('{}/final_{}.png'.format(outdir, title), bbox_inches='tight')
#     plt.savefig('{}/final_{}.svg'.format(outdir, title), bbox_inches='tight')
    
    return fig
In [299]:
fig_conf = plot_confusion_matrix3x(testy, predy, class_name, title='Confusion matrix', normalize=True,
                                   figsize=(8,8), dpi=150, hide_classname = False, cmap = 'binary')

￼ 
In [ ]:
 
