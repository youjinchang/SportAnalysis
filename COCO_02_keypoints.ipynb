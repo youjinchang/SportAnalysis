{
  "cells": [
    {
      "cell_type": "markdown",
      "metadata": {
        "id": "view-in-github",
        "colab_type": "text"
      },
      "source": [
        "<a href=\"https://colab.research.google.com/github/youjinchang/SportAnalysis/blob/main/COCO_02_keypoints.ipynb\" target=\"_parent\"><img src=\"https://colab.research.google.com/assets/colab-badge.svg\" alt=\"Open In Colab\"/></a>"
      ]
    },
    {
      "cell_type": "markdown",
      "metadata": {
        "id": "9oQJDhd4LQF9"
      },
      "source": [
        "# COCO dataset - Keypoints"
      ]
    },
    {
      "cell_type": "code",
      "execution_count": null,
      "metadata": {
        "id": "fxr8K_GHLQGD"
      },
      "outputs": [],
      "source": [
        "%matplotlib inline\n",
        "from pycocotools.coco import COCO\n",
        "import numpy as np\n",
        "import skimage.io as io\n",
        "import matplotlib.pyplot as plt\n",
        "import pylab\n",
        "import os\n",
        "pylab.rcParams['figure.figsize'] = (8.0, 10.0)"
      ]
    },
    {
      "cell_type": "markdown",
      "metadata": {
        "id": "fvy12w7VLQGF"
      },
      "source": [
        "* Annotation  \n",
        "2017 Train/Val annotations [241MB] http://images.cocodataset.org/annotations/annotations_trainval2017.zip\n",
        "* Images\n",
        "2017 Val images [5K/1GB] http://images.cocodataset.org/zips/val2017.zip"
      ]
    },
    {
      "cell_type": "code",
      "execution_count": null,
      "metadata": {
        "id": "ym4T9PxmLQGF"
      },
      "outputs": [],
      "source": [
        "dataDir='annotations_trainval2017'\n",
        "loc = '{}/annotations/'.format(dataDir)"
      ]
    },
    {
      "cell_type": "code",
      "execution_count": null,
      "metadata": {
        "id": "gSzlyu-yLQGG",
        "outputId": "f07896bd-4b98-42ca-e204-f8479e393058",
        "colab": {
          "base_uri": "https://localhost:8080/",
          "height": 35
        }
      },
      "outputs": [
        {
          "output_type": "execute_result",
          "data": {
            "text/plain": [
              "'annotations_trainval2017/annotations/'"
            ],
            "application/vnd.google.colaboratory.intrinsic+json": {
              "type": "string"
            }
          },
          "metadata": {},
          "execution_count": 3
        }
      ],
      "source": [
        "loc"
      ]
    },
    {
      "cell_type": "code",
      "execution_count": null,
      "metadata": {
        "id": "sa7mkPABLQGH",
        "outputId": "bc617132-637e-4824-f130-2800ee7952a2",
        "colab": {
          "base_uri": "https://localhost:8080/"
        }
      },
      "outputs": [
        {
          "output_type": "stream",
          "name": "stdout",
          "text": [
            "ls: cannot access 'annotations_trainval2017/annotations/': No such file or directory\n"
          ]
        }
      ],
      "source": [
        "!ls $loc"
      ]
    },
    {
      "cell_type": "markdown",
      "metadata": {
        "id": "PZyu8utYLQGI"
      },
      "source": [
        "## Annotation - instances"
      ]
    },
    {
      "cell_type": "code",
      "execution_count": null,
      "metadata": {
        "id": "zBlZvxcKLQGI"
      },
      "outputs": [],
      "source": [
        "dataType='val2017'\n",
        "annFile='{}/annotations/instances_{}.json'.format(dataDir,dataType)"
      ]
    },
    {
      "cell_type": "code",
      "execution_count": null,
      "metadata": {
        "id": "P6nUWTKMLQGJ",
        "outputId": "faa0e541-b741-4294-b318-503ecc424d5b",
        "colab": {
          "base_uri": "https://localhost:8080/",
          "height": 35
        }
      },
      "outputs": [
        {
          "output_type": "execute_result",
          "data": {
            "text/plain": [
              "'annotations_trainval2017/annotations/instances_val2017.json'"
            ],
            "application/vnd.google.colaboratory.intrinsic+json": {
              "type": "string"
            }
          },
          "metadata": {},
          "execution_count": 6
        }
      ],
      "source": [
        "annFile"
      ]
    },
    {
      "cell_type": "code",
      "execution_count": null,
      "metadata": {
        "id": "mxFy3e1fLQGJ"
      },
      "outputs": [],
      "source": [
        "#!head $annFile"
      ]
    },
    {
      "cell_type": "code",
      "execution_count": null,
      "metadata": {
        "id": "XMwKY_jgLQGK",
        "outputId": "65ec7c7c-d650-4b64-a72d-6cc92295bc24",
        "colab": {
          "base_uri": "https://localhost:8080/",
          "height": 339
        }
      },
      "outputs": [
        {
          "output_type": "stream",
          "name": "stdout",
          "text": [
            "loading annotations into memory...\n"
          ]
        },
        {
          "output_type": "error",
          "ename": "FileNotFoundError",
          "evalue": "ignored",
          "traceback": [
            "\u001b[0;31m---------------------------------------------------------------------------\u001b[0m",
            "\u001b[0;31mFileNotFoundError\u001b[0m                         Traceback (most recent call last)",
            "\u001b[0;32m<ipython-input-8-ef7217ac4bcd>\u001b[0m in \u001b[0;36m<module>\u001b[0;34m()\u001b[0m\n\u001b[1;32m      1\u001b[0m \u001b[0;31m# initialize COCO api for instance annotations\u001b[0m\u001b[0;34m\u001b[0m\u001b[0;34m\u001b[0m\u001b[0;34m\u001b[0m\u001b[0m\n\u001b[0;32m----> 2\u001b[0;31m \u001b[0mcoco\u001b[0m\u001b[0;34m=\u001b[0m\u001b[0mCOCO\u001b[0m\u001b[0;34m(\u001b[0m\u001b[0mannFile\u001b[0m\u001b[0;34m)\u001b[0m\u001b[0;34m\u001b[0m\u001b[0;34m\u001b[0m\u001b[0m\n\u001b[0m",
            "\u001b[0;32m/usr/local/lib/python3.7/dist-packages/pycocotools/coco.py\u001b[0m in \u001b[0;36m__init__\u001b[0;34m(self, annotation_file)\u001b[0m\n\u001b[1;32m     79\u001b[0m             \u001b[0mprint\u001b[0m\u001b[0;34m(\u001b[0m\u001b[0;34m'loading annotations into memory...'\u001b[0m\u001b[0;34m)\u001b[0m\u001b[0;34m\u001b[0m\u001b[0;34m\u001b[0m\u001b[0m\n\u001b[1;32m     80\u001b[0m             \u001b[0mtic\u001b[0m \u001b[0;34m=\u001b[0m \u001b[0mtime\u001b[0m\u001b[0;34m.\u001b[0m\u001b[0mtime\u001b[0m\u001b[0;34m(\u001b[0m\u001b[0;34m)\u001b[0m\u001b[0;34m\u001b[0m\u001b[0;34m\u001b[0m\u001b[0m\n\u001b[0;32m---> 81\u001b[0;31m             \u001b[0;32mwith\u001b[0m \u001b[0mopen\u001b[0m\u001b[0;34m(\u001b[0m\u001b[0mannotation_file\u001b[0m\u001b[0;34m,\u001b[0m \u001b[0;34m'r'\u001b[0m\u001b[0;34m)\u001b[0m \u001b[0;32mas\u001b[0m \u001b[0mf\u001b[0m\u001b[0;34m:\u001b[0m\u001b[0;34m\u001b[0m\u001b[0;34m\u001b[0m\u001b[0m\n\u001b[0m\u001b[1;32m     82\u001b[0m                 \u001b[0mdataset\u001b[0m \u001b[0;34m=\u001b[0m \u001b[0mjson\u001b[0m\u001b[0;34m.\u001b[0m\u001b[0mload\u001b[0m\u001b[0;34m(\u001b[0m\u001b[0mf\u001b[0m\u001b[0;34m)\u001b[0m\u001b[0;34m\u001b[0m\u001b[0;34m\u001b[0m\u001b[0m\n\u001b[1;32m     83\u001b[0m             \u001b[0;32massert\u001b[0m \u001b[0mtype\u001b[0m\u001b[0;34m(\u001b[0m\u001b[0mdataset\u001b[0m\u001b[0;34m)\u001b[0m\u001b[0;34m==\u001b[0m\u001b[0mdict\u001b[0m\u001b[0;34m,\u001b[0m \u001b[0;34m'annotation file format {} not supported'\u001b[0m\u001b[0;34m.\u001b[0m\u001b[0mformat\u001b[0m\u001b[0;34m(\u001b[0m\u001b[0mtype\u001b[0m\u001b[0;34m(\u001b[0m\u001b[0mdataset\u001b[0m\u001b[0;34m)\u001b[0m\u001b[0;34m)\u001b[0m\u001b[0;34m\u001b[0m\u001b[0;34m\u001b[0m\u001b[0m\n",
            "\u001b[0;31mFileNotFoundError\u001b[0m: [Errno 2] No such file or directory: 'annotations_trainval2017/annotations/instances_val2017.json'"
          ]
        }
      ],
      "source": [
        "# initialize COCO api for instance annotations\n",
        "coco=COCO(annFile)"
      ]
    },
    {
      "cell_type": "code",
      "execution_count": null,
      "metadata": {
        "id": "bgwuSeNWLQGK"
      },
      "outputs": [],
      "source": [
        "coco"
      ]
    },
    {
      "cell_type": "markdown",
      "metadata": {
        "id": "SIcG4ZlZLQGL"
      },
      "source": [
        "### Get img ids that satisfy given filter conditions."
      ]
    },
    {
      "cell_type": "code",
      "execution_count": null,
      "metadata": {
        "id": "g3qwDC8lLQGL"
      },
      "outputs": [],
      "source": [
        "# get all images containing given categories, select one at random\n",
        "#catIds = coco.getCatIds(catNms=['person','skateboard'])\n",
        "catIds = coco.getCatIds(catNms=['person','snowboard'])"
      ]
    },
    {
      "cell_type": "code",
      "execution_count": null,
      "metadata": {
        "id": "Bve_WlixLQGL"
      },
      "outputs": [],
      "source": [
        "catIds"
      ]
    },
    {
      "cell_type": "code",
      "execution_count": null,
      "metadata": {
        "id": "rvjqcoPlLQGM"
      },
      "outputs": [],
      "source": [
        "imgIds = coco.getImgIds(catIds=catIds )\n",
        "print(imgIds)"
      ]
    },
    {
      "cell_type": "code",
      "execution_count": null,
      "metadata": {
        "id": "adlmwFbqLQGN"
      },
      "outputs": [],
      "source": [
        "len(imgIds)"
      ]
    },
    {
      "cell_type": "code",
      "execution_count": null,
      "metadata": {
        "id": "mc26aa05LQGN"
      },
      "outputs": [],
      "source": [
        "idx = 0\n",
        "imgIds = coco.getImgIds(imgIds = [imgIds[idx]])\n",
        "print(imgIds)"
      ]
    },
    {
      "cell_type": "code",
      "execution_count": null,
      "metadata": {
        "id": "jYAKtnrQLQGO"
      },
      "outputs": [],
      "source": [
        "#imgIds = coco.getImgIds(catIds=catIds );\n",
        "#imgIds = coco.getImgIds(imgIds = [324158])\n",
        "#img = coco.loadImgs(imgIds[np.random.randint(0,len(imgIds))])[0]\n",
        "img = coco.loadImgs(imgIds)[0]"
      ]
    },
    {
      "cell_type": "code",
      "execution_count": null,
      "metadata": {
        "id": "neDgJ06xLQGO"
      },
      "outputs": [],
      "source": [
        "img"
      ]
    },
    {
      "cell_type": "code",
      "execution_count": null,
      "metadata": {
        "id": "VVXHfrJELQGP"
      },
      "outputs": [],
      "source": [
        "img['file_name']"
      ]
    },
    {
      "cell_type": "code",
      "execution_count": null,
      "metadata": {
        "id": "mIccDcTALQGP"
      },
      "outputs": [],
      "source": [
        "# use url to load image\n",
        "I = io.imread(img['coco_url'])"
      ]
    },
    {
      "cell_type": "markdown",
      "metadata": {
        "id": "2VQDDTKKLQGP"
      },
      "source": [
        "## Annotations - Keypoints"
      ]
    },
    {
      "cell_type": "code",
      "execution_count": null,
      "metadata": {
        "id": "OAPvtPrRLQGP"
      },
      "outputs": [],
      "source": [
        "dataDir, dataType"
      ]
    },
    {
      "cell_type": "code",
      "execution_count": null,
      "metadata": {
        "id": "ydUrFy9HLQGQ"
      },
      "outputs": [],
      "source": [
        "# initialize COCO api for person keypoints annotations\n",
        "annFile = '{}/annotations/person_keypoints_{}.json'.format(dataDir,dataType)\n",
        "print(annFile)"
      ]
    },
    {
      "cell_type": "code",
      "execution_count": null,
      "metadata": {
        "scrolled": true,
        "id": "LZsTyzJaLQGQ"
      },
      "outputs": [],
      "source": [
        "coco_kps=COCO(annFile)"
      ]
    },
    {
      "cell_type": "code",
      "execution_count": null,
      "metadata": {
        "id": "CoFHNilFLQGQ"
      },
      "outputs": [],
      "source": [
        "annIds = coco_kps.getAnnIds(imgIds=img['id'], iscrowd=None)\n",
        "print(annIds)"
      ]
    },
    {
      "cell_type": "code",
      "execution_count": null,
      "metadata": {
        "id": "5VzvrCnBLQGQ"
      },
      "outputs": [],
      "source": [
        "anns = coco_kps.loadAnns(annIds)"
      ]
    },
    {
      "cell_type": "code",
      "execution_count": null,
      "metadata": {
        "id": "QqyiZVswLQGQ"
      },
      "outputs": [],
      "source": [
        "#anns"
      ]
    },
    {
      "cell_type": "code",
      "execution_count": null,
      "metadata": {
        "id": "HMaORvcmLQGQ"
      },
      "outputs": [],
      "source": [
        "anns[0]['image_id']"
      ]
    },
    {
      "cell_type": "code",
      "execution_count": null,
      "metadata": {
        "scrolled": true,
        "id": "MZ8G0n8oLQGR"
      },
      "outputs": [],
      "source": [
        "plt.figure()\n",
        "plt.imshow(I)\n",
        "coco_kps.showAnns(anns)"
      ]
    },
    {
      "cell_type": "code",
      "execution_count": null,
      "metadata": {
        "id": "GmGv3HJ4LQGR"
      },
      "outputs": [],
      "source": [
        "kpts = anns[0]['keypoints']"
      ]
    },
    {
      "cell_type": "code",
      "execution_count": null,
      "metadata": {
        "id": "ubnpw8EGLQGR"
      },
      "outputs": [],
      "source": [
        "kpts_x = kpts[::3]\n",
        "kpts_y = kpts[1::3]\n",
        "\n",
        "plt.figure()\n",
        "plt.plot(kpts_x, kpts_y, '.')"
      ]
    },
    {
      "cell_type": "markdown",
      "metadata": {
        "id": "O64kCgrlLQGR"
      },
      "source": [
        "* References\n",
        "    * https://cocodataset.org/#download\n",
        "    * https://github.com/cocodataset/cocoapi/blob/master/PythonAPI/pycocoDemo.ipynb"
      ]
    }
  ],
  "metadata": {
    "kernelspec": {
      "display_name": "Python 3",
      "language": "python",
      "name": "python3"
    },
    "language_info": {
      "codemirror_mode": {
        "name": "ipython",
        "version": 3
      },
      "file_extension": ".py",
      "mimetype": "text/x-python",
      "name": "python",
      "nbconvert_exporter": "python",
      "pygments_lexer": "ipython3",
      "version": "3.8.10"
    },
    "colab": {
      "name": "COCO_02_keypoints.ipynb",
      "provenance": [],
      "include_colab_link": true
    },
    "accelerator": "GPU"
  },
  "nbformat": 4,
  "nbformat_minor": 0
}