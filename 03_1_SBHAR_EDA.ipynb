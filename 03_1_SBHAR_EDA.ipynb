{
  "nbformat": 4,
  "nbformat_minor": 0,
  "metadata": {
    "kernelspec": {
      "display_name": "Python 3",
      "language": "python",
      "name": "python3"
    },
    "language_info": {
      "codemirror_mode": {
        "name": "ipython",
        "version": 3
      },
      "file_extension": ".py",
      "mimetype": "text/x-python",
      "name": "python",
      "nbconvert_exporter": "python",
      "pygments_lexer": "ipython3",
      "version": "3.6.9"
    },
    "colab": {
      "provenance": [],
      "collapsed_sections": [
        "FWC4y-1xDAfK"
      ],
      "include_colab_link": true
    }
  },
  "cells": [
    {
      "cell_type": "markdown",
      "metadata": {
        "id": "view-in-github",
        "colab_type": "text"
      },
      "source": [
        "<a href=\"https://colab.research.google.com/github/youjinchang/SportAnalysis/blob/main/03_1_SBHAR_EDA.ipynb\" target=\"_parent\"><img src=\"https://colab.research.google.com/assets/colab-badge.svg\" alt=\"Open In Colab\"/></a>"
      ]
    },
    {
      "cell_type": "markdown",
      "metadata": {
        "id": "p4sDAYOl2MO5"
      },
      "source": [
        "#  스마트폰 기반 HAR Dataset (SBHAR)"
      ]
    },
    {
      "cell_type": "markdown",
      "metadata": {
        "id": "zmQr_FKtr6n8"
      },
      "source": [
        "* Dataset: http://archive.ics.uci.edu/ml/datasets/Smartphone-Based+Recognition+of+Human+Activities+and+Postural+Transitions\n",
        "* Smartphone-Based Recognition of Human Activities and Postural Transitions Data Set 입니다."
      ]
    },
    {
      "cell_type": "markdown",
      "metadata": {
        "id": "XtVjTaxfC99R"
      },
      "source": [
        "## Setup"
      ]
    },
    {
      "cell_type": "markdown",
      "metadata": {
        "id": "gICJGy1fxhV8"
      },
      "source": [
        "### Loading Libraries"
      ]
    },
    {
      "cell_type": "code",
      "metadata": {
        "id": "ZASIZOpWxhV8"
      },
      "source": [
        "import warnings\n",
        "warnings.filterwarnings(\"ignore\")"
      ],
      "execution_count": null,
      "outputs": []
    },
    {
      "cell_type": "code",
      "metadata": {
        "colab": {
          "base_uri": "https://localhost:8080/"
        },
        "id": "OTP69AJbxhV9",
        "outputId": "f6d2a2f3-9a27-42de-9881-c70f579c740a"
      },
      "source": [
        "import socket\n",
        "hostname = socket.gethostname()\n",
        "print(hostname)"
      ],
      "execution_count": null,
      "outputs": [
        {
          "output_type": "stream",
          "name": "stdout",
          "text": [
            "63ef4acc3c0f\n"
          ]
        }
      ]
    },
    {
      "cell_type": "code",
      "metadata": {
        "id": "_yBNl1BIxhV-"
      },
      "source": [
        "import glob\n",
        "import numpy as np\n",
        "import matplotlib.pyplot as plt\n",
        "from matplotlib import figure\n",
        "import pandas as pd\n",
        "import seaborn as sns"
      ],
      "execution_count": null,
      "outputs": []
    },
    {
      "cell_type": "markdown",
      "metadata": {
        "id": "hu8OEHlBxhV-"
      },
      "source": [
        "### Google drive 준비하기"
      ]
    },
    {
      "cell_type": "code",
      "metadata": {
        "colab": {
          "base_uri": "https://localhost:8080/"
        },
        "id": "9ayu500IyArm",
        "outputId": "917dd376-70c3-4675-9174-77736eaa5aff"
      },
      "source": [
        "from google.colab import drive\n",
        "drive.mount('/content/drive')"
      ],
      "execution_count": null,
      "outputs": [
        {
          "output_type": "stream",
          "name": "stdout",
          "text": [
            "Mounted at /content/drive\n"
          ]
        }
      ]
    },
    {
      "cell_type": "code",
      "metadata": {
        "id": "7v_4ROCj3U7k"
      },
      "source": [
        "import os\n",
        "os.chdir('/content/drive/My Drive/Colab Notebooks')"
      ],
      "execution_count": null,
      "outputs": []
    },
    {
      "cell_type": "markdown",
      "metadata": {
        "id": "FWC4y-1xDAfK"
      },
      "source": [
        "## 파일 열기"
      ]
    },
    {
      "cell_type": "markdown",
      "metadata": {
        "id": "y5Py6CwMs0ET"
      },
      "source": [
        "### Data 폴더 열람해보기"
      ]
    },
    {
      "cell_type": "code",
      "metadata": {
        "colab": {
          "base_uri": "https://localhost:8080/"
        },
        "id": "CtX6wq21yKn6",
        "outputId": "7f4afa7b-b2c7-4aa8-e6f4-0a2dd1812d70"
      },
      "source": [
        "!ls data"
      ],
      "execution_count": null,
      "outputs": [
        {
          "output_type": "stream",
          "name": "stdout",
          "text": [
            "dataset_01_weightlifting.csv\t    dataset_04_SBHAR\n",
            "dataset_02_noc_regions.csv\t    __pycache__\n",
            "dataset_02_summer_olympic_data.csv  Week04_Dataframe_review_ipynb\n",
            "dataset_03_diabetes.csv\n"
          ]
        }
      ]
    },
    {
      "cell_type": "code",
      "metadata": {
        "colab": {
          "base_uri": "https://localhost:8080/"
        },
        "id": "84mtr0KsxhV_",
        "outputId": "57fdf066-0328-4eab-a58c-0fec14d0a58c"
      },
      "source": [
        "data_loc = './data/dataset_04_SBHAR/RawData'\n",
        "! ls $data_loc"
      ],
      "execution_count": null,
      "outputs": [
        {
          "output_type": "stream",
          "name": "stdout",
          "text": [
            "acc_exp01_user01.txt  acc_exp42_user21.txt   gyro_exp22_user11.txt\n",
            "acc_exp02_user01.txt  acc_exp43_user21.txt   gyro_exp23_user11.txt\n",
            "acc_exp03_user02.txt  acc_exp44_user22.txt   gyro_exp24_user12.txt\n",
            "acc_exp04_user02.txt  acc_exp45_user22.txt   gyro_exp25_user12.txt\n",
            "acc_exp05_user03.txt  acc_exp46_user23.txt   gyro_exp26_user13.txt\n",
            "acc_exp06_user03.txt  acc_exp47_user23.txt   gyro_exp27_user13.txt\n",
            "acc_exp07_user04.txt  acc_exp48_user24.txt   gyro_exp28_user14.txt\n",
            "acc_exp08_user04.txt  acc_exp49_user24.txt   gyro_exp29_user14.txt\n",
            "acc_exp09_user05.txt  acc_exp50_user25.txt   gyro_exp30_user15.txt\n",
            "acc_exp10_user05.txt  acc_exp51_user25.txt   gyro_exp31_user15.txt\n",
            "acc_exp11_user06.txt  acc_exp52_user26.txt   gyro_exp32_user16.txt\n",
            "acc_exp12_user06.txt  acc_exp53_user26.txt   gyro_exp33_user16.txt\n",
            "acc_exp13_user07.txt  acc_exp54_user27.txt   gyro_exp34_user17.txt\n",
            "acc_exp14_user07.txt  acc_exp55_user27.txt   gyro_exp35_user17.txt\n",
            "acc_exp15_user08.txt  acc_exp56_user28.txt   gyro_exp36_user18.txt\n",
            "acc_exp16_user08.txt  acc_exp57_user28.txt   gyro_exp37_user18.txt\n",
            "acc_exp17_user09.txt  acc_exp58_user29.txt   gyro_exp38_user19.txt\n",
            "acc_exp18_user09.txt  acc_exp59_user29.txt   gyro_exp39_user19.txt\n",
            "acc_exp19_user10.txt  acc_exp60_user30.txt   gyro_exp40_user20.txt\n",
            "acc_exp20_user10.txt  acc_exp61_user30.txt   gyro_exp41_user20.txt\n",
            "acc_exp21_user10.txt  gyro_exp01_user01.txt  gyro_exp42_user21.txt\n",
            "acc_exp22_user11.txt  gyro_exp02_user01.txt  gyro_exp43_user21.txt\n",
            "acc_exp23_user11.txt  gyro_exp03_user02.txt  gyro_exp44_user22.txt\n",
            "acc_exp24_user12.txt  gyro_exp04_user02.txt  gyro_exp45_user22.txt\n",
            "acc_exp25_user12.txt  gyro_exp05_user03.txt  gyro_exp46_user23.txt\n",
            "acc_exp26_user13.txt  gyro_exp06_user03.txt  gyro_exp47_user23.txt\n",
            "acc_exp27_user13.txt  gyro_exp07_user04.txt  gyro_exp48_user24.txt\n",
            "acc_exp28_user14.txt  gyro_exp08_user04.txt  gyro_exp49_user24.txt\n",
            "acc_exp29_user14.txt  gyro_exp09_user05.txt  gyro_exp50_user25.txt\n",
            "acc_exp30_user15.txt  gyro_exp10_user05.txt  gyro_exp51_user25.txt\n",
            "acc_exp31_user15.txt  gyro_exp11_user06.txt  gyro_exp52_user26.txt\n",
            "acc_exp32_user16.txt  gyro_exp12_user06.txt  gyro_exp53_user26.txt\n",
            "acc_exp33_user16.txt  gyro_exp13_user07.txt  gyro_exp54_user27.txt\n",
            "acc_exp34_user17.txt  gyro_exp14_user07.txt  gyro_exp55_user27.txt\n",
            "acc_exp35_user17.txt  gyro_exp15_user08.txt  gyro_exp56_user28.txt\n",
            "acc_exp36_user18.txt  gyro_exp16_user08.txt  gyro_exp57_user28.txt\n",
            "acc_exp37_user18.txt  gyro_exp17_user09.txt  gyro_exp58_user29.txt\n",
            "acc_exp38_user19.txt  gyro_exp18_user09.txt  gyro_exp59_user29.txt\n",
            "acc_exp39_user19.txt  gyro_exp19_user10.txt  gyro_exp60_user30.txt\n",
            "acc_exp40_user20.txt  gyro_exp20_user10.txt  gyro_exp61_user30.txt\n",
            "acc_exp41_user20.txt  gyro_exp21_user10.txt  labels.txt\n"
          ]
        }
      ]
    },
    {
      "cell_type": "markdown",
      "metadata": {
        "id": "lYEZ9DlYvhaE"
      },
      "source": [
        "맨 마지막에 labels.txt가 있음을 확인"
      ]
    },
    {
      "cell_type": "markdown",
      "metadata": {
        "id": "L9II5Rcl4lZ8"
      },
      "source": [
        "### Label 로드하고 처리하기"
      ]
    },
    {
      "cell_type": "code",
      "metadata": {
        "id": "ysylQV303jOo"
      },
      "source": [
        "labels = np.loadtxt( os.path.join(data_loc, 'labels.txt'))"
      ],
      "execution_count": null,
      "outputs": []
    },
    {
      "cell_type": "code",
      "metadata": {
        "colab": {
          "base_uri": "https://localhost:8080/"
        },
        "id": "VmlUWXN93_4w",
        "outputId": "3c962e18-e719-499f-8816-4f200503b1e2"
      },
      "source": [
        "len(labels)"
      ],
      "execution_count": null,
      "outputs": [
        {
          "output_type": "execute_result",
          "data": {
            "text/plain": [
              "1214"
            ]
          },
          "metadata": {},
          "execution_count": 35
        }
      ]
    },
    {
      "cell_type": "code",
      "metadata": {
        "colab": {
          "base_uri": "https://localhost:8080/"
        },
        "id": "nTMHmeb4xhWB",
        "outputId": "19009888-d0d5-431a-d67e-e39d1bf515a4"
      },
      "source": [
        "labels"
      ],
      "execution_count": null,
      "outputs": [
        {
          "output_type": "execute_result",
          "data": {
            "text/plain": [
              "array([[1.0000e+00, 1.0000e+00, 5.0000e+00, 2.5000e+02, 1.2320e+03],\n",
              "       [1.0000e+00, 1.0000e+00, 7.0000e+00, 1.2330e+03, 1.3920e+03],\n",
              "       [1.0000e+00, 1.0000e+00, 4.0000e+00, 1.3930e+03, 2.1940e+03],\n",
              "       ...,\n",
              "       [6.1000e+01, 3.0000e+01, 2.0000e+00, 1.5588e+04, 1.6319e+04],\n",
              "       [6.1000e+01, 3.0000e+01, 3.0000e+00, 1.6546e+04, 1.7250e+04],\n",
              "       [6.1000e+01, 3.0000e+01, 2.0000e+00, 1.7394e+04, 1.8097e+04]])"
            ]
          },
          "metadata": {},
          "execution_count": 36
        }
      ]
    },
    {
      "cell_type": "markdown",
      "metadata": {
        "id": "w77gPb35vpq2"
      },
      "source": [
        "* integer (정수) 형태로 변환"
      ]
    },
    {
      "cell_type": "code",
      "metadata": {
        "id": "N68X2ixo1DiY"
      },
      "source": [
        "labels = labels.astype(int)"
      ],
      "execution_count": null,
      "outputs": []
    },
    {
      "cell_type": "code",
      "metadata": {
        "colab": {
          "base_uri": "https://localhost:8080/"
        },
        "id": "psZWC-vvTiiA",
        "outputId": "78320a72-bc9c-48b7-f931-eeef72513e0e"
      },
      "source": [
        "labels"
      ],
      "execution_count": null,
      "outputs": [
        {
          "output_type": "execute_result",
          "data": {
            "text/plain": [
              "array([[    1,     1,     5,   250,  1232],\n",
              "       [    1,     1,     7,  1233,  1392],\n",
              "       [    1,     1,     4,  1393,  2194],\n",
              "       ...,\n",
              "       [   61,    30,     2, 15588, 16319],\n",
              "       [   61,    30,     3, 16546, 17250],\n",
              "       [   61,    30,     2, 17394, 18097]])"
            ]
          },
          "metadata": {},
          "execution_count": 38
        }
      ]
    },
    {
      "cell_type": "code",
      "metadata": {
        "colab": {
          "base_uri": "https://localhost:8080/"
        },
        "id": "kpEI9FQuxhWB",
        "outputId": "24f04c0c-afe0-4dee-93a4-f900818bf068"
      },
      "source": [
        "labels.shape"
      ],
      "execution_count": null,
      "outputs": [
        {
          "output_type": "execute_result",
          "data": {
            "text/plain": [
              "(1214, 5)"
            ]
          },
          "metadata": {},
          "execution_count": 39
        }
      ]
    },
    {
      "cell_type": "code",
      "metadata": {
        "colab": {
          "base_uri": "https://localhost:8080/"
        },
        "id": "ZpCq5pRoT82j",
        "outputId": "0e9a9b42-0782-4b15-f7d2-ae5b9b077ca5"
      },
      "source": [
        "len(labels)"
      ],
      "execution_count": null,
      "outputs": [
        {
          "output_type": "execute_result",
          "data": {
            "text/plain": [
              "1214"
            ]
          },
          "metadata": {},
          "execution_count": 40
        }
      ]
    },
    {
      "cell_type": "markdown",
      "metadata": {
        "id": "-X7sJuTjDHwO"
      },
      "source": [
        "## Dataframe을 이용한 데이터 탐색"
      ]
    },
    {
      "cell_type": "markdown",
      "metadata": {
        "id": "L4ZMwVHy5QcR"
      },
      "source": [
        "### Dataframe 형태로 변환하기"
      ]
    },
    {
      "cell_type": "code",
      "metadata": {
        "id": "3VjTwbWgxhWB"
      },
      "source": [
        "df = pd.DataFrame(labels, columns=['experiment number ID', 'user number ID', 'activity number ID',\n",
        "                                   'Label start point', 'Label end point'])"
      ],
      "execution_count": null,
      "outputs": []
    },
    {
      "cell_type": "code",
      "metadata": {
        "scrolled": false,
        "colab": {
          "base_uri": "https://localhost:8080/",
          "height": 531
        },
        "id": "pZjwDkZCxhWC",
        "outputId": "b5f59056-ea60-47ab-8f20-c7e767e4a1ee"
      },
      "source": [
        "df.head(15)"
      ],
      "execution_count": null,
      "outputs": [
        {
          "output_type": "execute_result",
          "data": {
            "text/html": [
              "<div>\n",
              "<style scoped>\n",
              "    .dataframe tbody tr th:only-of-type {\n",
              "        vertical-align: middle;\n",
              "    }\n",
              "\n",
              "    .dataframe tbody tr th {\n",
              "        vertical-align: top;\n",
              "    }\n",
              "\n",
              "    .dataframe thead th {\n",
              "        text-align: right;\n",
              "    }\n",
              "</style>\n",
              "<table border=\"1\" class=\"dataframe\">\n",
              "  <thead>\n",
              "    <tr style=\"text-align: right;\">\n",
              "      <th></th>\n",
              "      <th>experiment number ID</th>\n",
              "      <th>user number ID</th>\n",
              "      <th>activity number ID</th>\n",
              "      <th>Label start point</th>\n",
              "      <th>Label end point</th>\n",
              "    </tr>\n",
              "  </thead>\n",
              "  <tbody>\n",
              "    <tr>\n",
              "      <th>0</th>\n",
              "      <td>1</td>\n",
              "      <td>1</td>\n",
              "      <td>5</td>\n",
              "      <td>250</td>\n",
              "      <td>1232</td>\n",
              "    </tr>\n",
              "    <tr>\n",
              "      <th>1</th>\n",
              "      <td>1</td>\n",
              "      <td>1</td>\n",
              "      <td>7</td>\n",
              "      <td>1233</td>\n",
              "      <td>1392</td>\n",
              "    </tr>\n",
              "    <tr>\n",
              "      <th>2</th>\n",
              "      <td>1</td>\n",
              "      <td>1</td>\n",
              "      <td>4</td>\n",
              "      <td>1393</td>\n",
              "      <td>2194</td>\n",
              "    </tr>\n",
              "    <tr>\n",
              "      <th>3</th>\n",
              "      <td>1</td>\n",
              "      <td>1</td>\n",
              "      <td>8</td>\n",
              "      <td>2195</td>\n",
              "      <td>2359</td>\n",
              "    </tr>\n",
              "    <tr>\n",
              "      <th>4</th>\n",
              "      <td>1</td>\n",
              "      <td>1</td>\n",
              "      <td>5</td>\n",
              "      <td>2360</td>\n",
              "      <td>3374</td>\n",
              "    </tr>\n",
              "    <tr>\n",
              "      <th>5</th>\n",
              "      <td>1</td>\n",
              "      <td>1</td>\n",
              "      <td>11</td>\n",
              "      <td>3375</td>\n",
              "      <td>3662</td>\n",
              "    </tr>\n",
              "    <tr>\n",
              "      <th>6</th>\n",
              "      <td>1</td>\n",
              "      <td>1</td>\n",
              "      <td>6</td>\n",
              "      <td>3663</td>\n",
              "      <td>4538</td>\n",
              "    </tr>\n",
              "    <tr>\n",
              "      <th>7</th>\n",
              "      <td>1</td>\n",
              "      <td>1</td>\n",
              "      <td>10</td>\n",
              "      <td>4539</td>\n",
              "      <td>4735</td>\n",
              "    </tr>\n",
              "    <tr>\n",
              "      <th>8</th>\n",
              "      <td>1</td>\n",
              "      <td>1</td>\n",
              "      <td>4</td>\n",
              "      <td>4736</td>\n",
              "      <td>5667</td>\n",
              "    </tr>\n",
              "    <tr>\n",
              "      <th>9</th>\n",
              "      <td>1</td>\n",
              "      <td>1</td>\n",
              "      <td>9</td>\n",
              "      <td>5668</td>\n",
              "      <td>5859</td>\n",
              "    </tr>\n",
              "    <tr>\n",
              "      <th>10</th>\n",
              "      <td>1</td>\n",
              "      <td>1</td>\n",
              "      <td>6</td>\n",
              "      <td>5860</td>\n",
              "      <td>6786</td>\n",
              "    </tr>\n",
              "    <tr>\n",
              "      <th>11</th>\n",
              "      <td>1</td>\n",
              "      <td>1</td>\n",
              "      <td>12</td>\n",
              "      <td>6787</td>\n",
              "      <td>6977</td>\n",
              "    </tr>\n",
              "    <tr>\n",
              "      <th>12</th>\n",
              "      <td>1</td>\n",
              "      <td>1</td>\n",
              "      <td>1</td>\n",
              "      <td>7496</td>\n",
              "      <td>8078</td>\n",
              "    </tr>\n",
              "    <tr>\n",
              "      <th>13</th>\n",
              "      <td>1</td>\n",
              "      <td>1</td>\n",
              "      <td>1</td>\n",
              "      <td>8356</td>\n",
              "      <td>9250</td>\n",
              "    </tr>\n",
              "    <tr>\n",
              "      <th>14</th>\n",
              "      <td>1</td>\n",
              "      <td>1</td>\n",
              "      <td>1</td>\n",
              "      <td>9657</td>\n",
              "      <td>10567</td>\n",
              "    </tr>\n",
              "  </tbody>\n",
              "</table>\n",
              "</div>"
            ],
            "text/plain": [
              "    experiment number ID  user number ID  ...  Label start point  Label end point\n",
              "0                      1               1  ...                250             1232\n",
              "1                      1               1  ...               1233             1392\n",
              "2                      1               1  ...               1393             2194\n",
              "3                      1               1  ...               2195             2359\n",
              "4                      1               1  ...               2360             3374\n",
              "5                      1               1  ...               3375             3662\n",
              "6                      1               1  ...               3663             4538\n",
              "7                      1               1  ...               4539             4735\n",
              "8                      1               1  ...               4736             5667\n",
              "9                      1               1  ...               5668             5859\n",
              "10                     1               1  ...               5860             6786\n",
              "11                     1               1  ...               6787             6977\n",
              "12                     1               1  ...               7496             8078\n",
              "13                     1               1  ...               8356             9250\n",
              "14                     1               1  ...               9657            10567\n",
              "\n",
              "[15 rows x 5 columns]"
            ]
          },
          "metadata": {},
          "execution_count": 18
        }
      ]
    },
    {
      "cell_type": "code",
      "metadata": {
        "id": "SoyhNSsC1b1S"
      },
      "source": [
        "# Activity labels\n",
        "motionname=['WALKING',\n",
        "'WALKING_UPSTAIRS',\n",
        "'WALKING_DOWNSTAIRS',\n",
        "'SITTING',\n",
        "'STANDING',\n",
        "'LAYING',\n",
        "'STAND_TO_SIT',\n",
        "'SIT_TO_STAND',\n",
        "'SIT_TO_LIE',\n",
        "'LIE_TO_SIT',\n",
        "'STAND_TO_LIE',\n",
        "'LIE_TO_STAND']"
      ],
      "execution_count": null,
      "outputs": []
    },
    {
      "cell_type": "code",
      "metadata": {
        "id": "AtWzVGPH3jbJ"
      },
      "source": [
        "n_classes = len(motionname)"
      ],
      "execution_count": null,
      "outputs": []
    },
    {
      "cell_type": "markdown",
      "metadata": {
        "id": "H_bHFMnE5igU"
      },
      "source": [
        "### 각 column 별 고유값 확인해보기"
      ]
    },
    {
      "cell_type": "code",
      "metadata": {
        "id": "yzfNMjz85b6Q"
      },
      "source": [
        "activity = df['activity number ID'].unique()"
      ],
      "execution_count": null,
      "outputs": []
    },
    {
      "cell_type": "code",
      "metadata": {
        "id": "KK5CgRguxhWC",
        "colab": {
          "base_uri": "https://localhost:8080/"
        },
        "outputId": "3fca14fd-aee7-4a3b-a57a-6fa09d867bdb"
      },
      "source": [
        "np.sort(activity)"
      ],
      "execution_count": null,
      "outputs": [
        {
          "output_type": "execute_result",
          "data": {
            "text/plain": [
              "array([ 1,  2,  3,  4,  5,  6,  7,  8,  9, 10, 11, 12])"
            ]
          },
          "metadata": {},
          "execution_count": 22
        }
      ]
    },
    {
      "cell_type": "code",
      "metadata": {
        "scrolled": true,
        "colab": {
          "base_uri": "https://localhost:8080/"
        },
        "id": "2Jj5qAT6xhWD",
        "outputId": "a6d66faa-b015-4d2b-b241-c280a910a157"
      },
      "source": [
        "np.unique(df[\"experiment number ID\"])           # == np.unique(labels[:,0])"
      ],
      "execution_count": null,
      "outputs": [
        {
          "output_type": "execute_result",
          "data": {
            "text/plain": [
              "array([ 1,  2,  3,  4,  5,  6,  7,  8,  9, 10, 11, 12, 13, 14, 15, 16, 17,\n",
              "       18, 19, 20, 21, 22, 23, 24, 25, 26, 27, 28, 29, 30, 31, 32, 33, 34,\n",
              "       35, 36, 37, 38, 39, 40, 41, 42, 43, 44, 45, 46, 47, 48, 49, 50, 51,\n",
              "       52, 53, 54, 55, 56, 57, 58, 59, 60, 61])"
            ]
          },
          "metadata": {},
          "execution_count": 23
        }
      ]
    },
    {
      "cell_type": "code",
      "metadata": {
        "colab": {
          "base_uri": "https://localhost:8080/"
        },
        "id": "KskEtJtLxhWD",
        "outputId": "7e790f6b-01c7-4126-ebc4-2233288a90c2"
      },
      "source": [
        "np.unique(df[\"user number ID\"])"
      ],
      "execution_count": null,
      "outputs": [
        {
          "output_type": "execute_result",
          "data": {
            "text/plain": [
              "array([ 1,  2,  3,  4,  5,  6,  7,  8,  9, 10, 11, 12, 13, 14, 15, 16, 17,\n",
              "       18, 19, 20, 21, 22, 23, 24, 25, 26, 27, 28, 29, 30])"
            ]
          },
          "metadata": {},
          "execution_count": 24
        }
      ]
    },
    {
      "cell_type": "markdown",
      "metadata": {
        "id": "M6ykJUuvwJcU"
      },
      "source": [
        "아래처럼 n_users가 데이터에 의해 결정되도록 설정"
      ]
    },
    {
      "cell_type": "code",
      "metadata": {
        "id": "kr912o9KZoV0"
      },
      "source": [
        "n_users = len(np.unique(df[\"user number ID\"]))"
      ],
      "execution_count": null,
      "outputs": []
    },
    {
      "cell_type": "code",
      "metadata": {
        "colab": {
          "base_uri": "https://localhost:8080/"
        },
        "id": "Mhd3pok-xhWD",
        "outputId": "1154486f-8314-407e-f11d-d99147a71a65"
      },
      "source": [
        "np.unique(df[\"activity number ID\"])"
      ],
      "execution_count": null,
      "outputs": [
        {
          "output_type": "execute_result",
          "data": {
            "text/plain": [
              "array([ 1,  2,  3,  4,  5,  6,  7,  8,  9, 10, 11, 12])"
            ]
          },
          "metadata": {},
          "execution_count": 26
        }
      ]
    },
    {
      "cell_type": "markdown",
      "metadata": {
        "id": "ONMSusAhxhWE"
      },
      "source": [
        "지금까지 알게 된 것\n",
        "* experiment number ID 는 실험단위로 1~61까지 총 61번의 실험 데이터를 포함함.\n",
        "* user number ID 는 실험에 참여한 사람을 말하며 30명임.\n",
        "* activity number ID 는 수행한 동작으로 총 12가지 동작임.\n",
        "* 한번의 실험을 하는 동안 user 은 달라지지 않으며 다양한 동작을 연속적으로 수행함.\n",
        "* 각 동작의 시작/종료시점이 포함되어 있음."
      ]
    },
    {
      "cell_type": "markdown",
      "metadata": {
        "id": "1K-A9QTxxhWE"
      },
      "source": [
        "### Column 별 분석"
      ]
    },
    {
      "cell_type": "markdown",
      "metadata": {
        "id": "n74ErhYCxhWE"
      },
      "source": [
        "label.txt 분석하기\n",
        "* Column 1: experiment number ID\n",
        "* Column 2: user number ID,\n",
        "* Column 3: activity number ID\n",
        "* Column 4: Label start point (in number of signal log samples)\n",
        "* Column 5: Label end point (in number of signal log samples)\n",
        "\n",
        "Column 4/5 를 분석하면 동작별 수행시간 (지속 시간) 을 알 수 있음"
      ]
    },
    {
      "cell_type": "code",
      "metadata": {
        "id": "p_QbWNhdxhWF"
      },
      "source": [
        "df[\"interval\"] = (df[\"Label end point\"] - df[\"Label start point\"]) * 20/1000  # sec. #20 ms <-- recorded at 50Hz"
      ],
      "execution_count": null,
      "outputs": []
    },
    {
      "cell_type": "code",
      "metadata": {
        "scrolled": true,
        "colab": {
          "base_uri": "https://localhost:8080/",
          "height": 393
        },
        "id": "LrfnUdvdxhWF",
        "outputId": "fecb4705-ff3f-4cfb-a37f-eee115c2ba0c"
      },
      "source": [
        "df.head(10)"
      ],
      "execution_count": null,
      "outputs": [
        {
          "output_type": "execute_result",
          "data": {
            "text/html": [
              "<div>\n",
              "<style scoped>\n",
              "    .dataframe tbody tr th:only-of-type {\n",
              "        vertical-align: middle;\n",
              "    }\n",
              "\n",
              "    .dataframe tbody tr th {\n",
              "        vertical-align: top;\n",
              "    }\n",
              "\n",
              "    .dataframe thead th {\n",
              "        text-align: right;\n",
              "    }\n",
              "</style>\n",
              "<table border=\"1\" class=\"dataframe\">\n",
              "  <thead>\n",
              "    <tr style=\"text-align: right;\">\n",
              "      <th></th>\n",
              "      <th>experiment number ID</th>\n",
              "      <th>user number ID</th>\n",
              "      <th>activity number ID</th>\n",
              "      <th>Label start point</th>\n",
              "      <th>Label end point</th>\n",
              "      <th>interval</th>\n",
              "    </tr>\n",
              "  </thead>\n",
              "  <tbody>\n",
              "    <tr>\n",
              "      <th>0</th>\n",
              "      <td>1</td>\n",
              "      <td>1</td>\n",
              "      <td>5</td>\n",
              "      <td>250</td>\n",
              "      <td>1232</td>\n",
              "      <td>19.64</td>\n",
              "    </tr>\n",
              "    <tr>\n",
              "      <th>1</th>\n",
              "      <td>1</td>\n",
              "      <td>1</td>\n",
              "      <td>7</td>\n",
              "      <td>1233</td>\n",
              "      <td>1392</td>\n",
              "      <td>3.18</td>\n",
              "    </tr>\n",
              "    <tr>\n",
              "      <th>2</th>\n",
              "      <td>1</td>\n",
              "      <td>1</td>\n",
              "      <td>4</td>\n",
              "      <td>1393</td>\n",
              "      <td>2194</td>\n",
              "      <td>16.02</td>\n",
              "    </tr>\n",
              "    <tr>\n",
              "      <th>3</th>\n",
              "      <td>1</td>\n",
              "      <td>1</td>\n",
              "      <td>8</td>\n",
              "      <td>2195</td>\n",
              "      <td>2359</td>\n",
              "      <td>3.28</td>\n",
              "    </tr>\n",
              "    <tr>\n",
              "      <th>4</th>\n",
              "      <td>1</td>\n",
              "      <td>1</td>\n",
              "      <td>5</td>\n",
              "      <td>2360</td>\n",
              "      <td>3374</td>\n",
              "      <td>20.28</td>\n",
              "    </tr>\n",
              "    <tr>\n",
              "      <th>5</th>\n",
              "      <td>1</td>\n",
              "      <td>1</td>\n",
              "      <td>11</td>\n",
              "      <td>3375</td>\n",
              "      <td>3662</td>\n",
              "      <td>5.74</td>\n",
              "    </tr>\n",
              "    <tr>\n",
              "      <th>6</th>\n",
              "      <td>1</td>\n",
              "      <td>1</td>\n",
              "      <td>6</td>\n",
              "      <td>3663</td>\n",
              "      <td>4538</td>\n",
              "      <td>17.50</td>\n",
              "    </tr>\n",
              "    <tr>\n",
              "      <th>7</th>\n",
              "      <td>1</td>\n",
              "      <td>1</td>\n",
              "      <td>10</td>\n",
              "      <td>4539</td>\n",
              "      <td>4735</td>\n",
              "      <td>3.92</td>\n",
              "    </tr>\n",
              "    <tr>\n",
              "      <th>8</th>\n",
              "      <td>1</td>\n",
              "      <td>1</td>\n",
              "      <td>4</td>\n",
              "      <td>4736</td>\n",
              "      <td>5667</td>\n",
              "      <td>18.62</td>\n",
              "    </tr>\n",
              "    <tr>\n",
              "      <th>9</th>\n",
              "      <td>1</td>\n",
              "      <td>1</td>\n",
              "      <td>9</td>\n",
              "      <td>5668</td>\n",
              "      <td>5859</td>\n",
              "      <td>3.82</td>\n",
              "    </tr>\n",
              "  </tbody>\n",
              "</table>\n",
              "</div>"
            ],
            "text/plain": [
              "   experiment number ID  user number ID  ...  Label end point  interval\n",
              "0                     1               1  ...             1232     19.64\n",
              "1                     1               1  ...             1392      3.18\n",
              "2                     1               1  ...             2194     16.02\n",
              "3                     1               1  ...             2359      3.28\n",
              "4                     1               1  ...             3374     20.28\n",
              "5                     1               1  ...             3662      5.74\n",
              "6                     1               1  ...             4538     17.50\n",
              "7                     1               1  ...             4735      3.92\n",
              "8                     1               1  ...             5667     18.62\n",
              "9                     1               1  ...             5859      3.82\n",
              "\n",
              "[10 rows x 6 columns]"
            ]
          },
          "metadata": {},
          "execution_count": 28
        }
      ]
    },
    {
      "cell_type": "markdown",
      "metadata": {
        "id": "Ql4AYiEA297W"
      },
      "source": [
        "### activity number ID 별로 interval 합 구하기"
      ]
    },
    {
      "cell_type": "code",
      "metadata": {
        "colab": {
          "base_uri": "https://localhost:8080/"
        },
        "id": "oxmVGMI2XU05",
        "outputId": "2ac37f9e-3208-440f-c391-b865b3354cd5"
      },
      "source": [
        "[0] * n_classes"
      ],
      "execution_count": null,
      "outputs": [
        {
          "output_type": "execute_result",
          "data": {
            "text/plain": [
              "[0, 0, 0, 0, 0, 0, 0, 0, 0, 0, 0, 0]"
            ]
          },
          "metadata": {},
          "execution_count": 27
        }
      ]
    },
    {
      "cell_type": "code",
      "metadata": {
        "colab": {
          "base_uri": "https://localhost:8080/"
        },
        "id": "oaIxstkGXVlH",
        "outputId": "6faa7bfe-3e20-4727-c972-3002cfbb1c47"
      },
      "source": [
        "12*1214"
      ],
      "execution_count": null,
      "outputs": [
        {
          "output_type": "execute_result",
          "data": {
            "text/plain": [
              "14568"
            ]
          },
          "metadata": {},
          "execution_count": 28
        }
      ]
    },
    {
      "cell_type": "code",
      "metadata": {
        "scrolled": false,
        "id": "FqWUMcpExhWG"
      },
      "source": [
        "t_activity = [0] * n_classes\n",
        "\n",
        "for j in range(0,n_classes): #12\n",
        "    for i in range(len(df)): #1214\n",
        "         if df[\"activity number ID\"][i] == j+1:\n",
        "                t_activity[j] = t_activity[j]+df[\"interval\"][i]"
      ],
      "execution_count": null,
      "outputs": []
    },
    {
      "cell_type": "code",
      "metadata": {
        "colab": {
          "base_uri": "https://localhost:8080/"
        },
        "id": "UypvS8_-YMVd",
        "outputId": "03e23b2e-f8bc-4bbe-ab4d-857c5eeebebc"
      },
      "source": [
        "print(t_activity)"
      ],
      "execution_count": null,
      "outputs": [
        {
          "output_type": "stream",
          "name": "stdout",
          "text": [
            "[2439.2799999999997, 2330.4800000000014, 2155.4999999999995, 2531.1399999999994, 2759.7000000000007, 2734.9, 205.1200000000001, 159.34000000000003, 247.35999999999999, 221.80000000000004, 287.20000000000005, 216.1799999999999]\n"
          ]
        }
      ]
    },
    {
      "cell_type": "code",
      "metadata": {
        "id": "grY7ba2QYpYN",
        "colab": {
          "base_uri": "https://localhost:8080/"
        },
        "outputId": "6155e324-7016-4358-a244-2cd16e5bdbc0"
      },
      "source": [
        "print(np.round(t_activity, 2)) #소수 2자리까지 반올림하여 출력 (Round an array to the given number of decimals.)"
      ],
      "execution_count": null,
      "outputs": [
        {
          "output_type": "stream",
          "name": "stdout",
          "text": [
            "[2439.28 2330.48 2155.5  2531.14 2759.7  2734.9   205.12  159.34  247.36\n",
            "  221.8   287.2   216.18]\n"
          ]
        }
      ]
    },
    {
      "cell_type": "markdown",
      "metadata": {
        "id": "Te2U54tI3FJn"
      },
      "source": [
        "* HW 01:Do-it-your-self I: groupby 를 이용하여 구해보세요 아래처럼 출력해보세요\n",
        "```\n",
        "activity number ID\n",
        "1     2439.28\n",
        "2     2330.48\n",
        "3     2155.50\n",
        "...\n",
        "10     221.80\n",
        "11     287.20\n",
        "12     216.18\n",
        "Name: interval, dtype: float64\n",
        "```"
      ]
    },
    {
      "cell_type": "markdown",
      "metadata": {
        "id": "4wdXEjEl-wqH"
      },
      "source": [
        "### user number ID 별로 interval 합 구하기"
      ]
    },
    {
      "cell_type": "code",
      "metadata": {
        "colab": {
          "base_uri": "https://localhost:8080/"
        },
        "id": "JNXGTzhLxhWG",
        "outputId": "e7014bcf-08b3-46ee-d0f5-439946f67500"
      },
      "source": [
        "#user number ID 별로 interval 합 구하기\n",
        "#t_users = [0] *30  #hard-coded 로서 좋은 방법이 아님\n",
        "t_users = [0] * n_users\n",
        "\n",
        "for j in range(0,n_users):\n",
        "    for i in range(len(df)):\n",
        "        if df[\"user number ID\"][i] == j+1:\n",
        "            t_users[j] = t_users[j]+df[\"interval\"][i]\n",
        "\n",
        "print(np.round(t_users, 2))"
      ],
      "execution_count": null,
      "outputs": [
        {
          "output_type": "stream",
          "name": "stdout",
          "text": [
            "[557.2  492.48 540.12 507.02 492.16 512.82 480.96 456.68 475.82 467.58\n",
            " 504.98 514.44 522.42 518.04 523.58 559.48 589.82 591.7  561.52 568.72\n",
            " 631.28 509.42 574.48 601.9  629.76 601.14 584.48 574.16 542.84 601.  ]\n"
          ]
        }
      ]
    },
    {
      "cell_type": "markdown",
      "metadata": {
        "id": "w1-H_c64_DTI"
      },
      "source": [
        "* HW 02: Do-it-yourself II: groupby 를 이용하여 아래처럼 출력해보세요\n",
        "```\n",
        "user number ID\n",
        "1     557.20\n",
        "2     492.48\n",
        "3     540.12\n",
        "...\n",
        "27    584.48\n",
        "28    574.16\n",
        "29    542.84\n",
        "30    601.00\n",
        "Name: interval, dtype: float64\n",
        "```\n"
      ]
    },
    {
      "cell_type": "markdown",
      "metadata": {
        "id": "YghLYuHs_boY"
      },
      "source": [
        "### experiment number ID 별로 interval 합 구하기"
      ]
    },
    {
      "cell_type": "code",
      "metadata": {
        "colab": {
          "base_uri": "https://localhost:8080/"
        },
        "id": "bv5OZnfIxhWG",
        "outputId": "77c5716c-65b5-49ad-f48b-499f6fb7469d"
      },
      "source": [
        "#experiment number ID 별로 interval 합 구하기\n",
        "t_experiment_id = [0] *61 #변수로 바꾸어보세요\n",
        "\n",
        "for j in range(0,61):\n",
        "    for i in range(len(df)):\n",
        "        if df[\"experiment number ID\"][i] == j+1:\n",
        "            t_experiment_id[j] = t_experiment_id[j]+df[\"interval\"][i]\n",
        "\n",
        "print(t_experiment_id)"
      ],
      "execution_count": null,
      "outputs": [
        {
          "output_type": "stream",
          "name": "stdout",
          "text": [
            "[278.68, 278.52, 259.56, 232.91999999999996, 276.24, 263.88, 263.62000000000006, 243.39999999999998, 257.28000000000003, 234.87999999999997, 261.55999999999995, 251.26000000000005, 249.48000000000002, 231.48000000000002, 222.58, 234.09999999999997, 238.76000000000002, 237.06000000000006, 232.8, 131.58, 103.19999999999999, 246.97999999999996, 258.0, 256.40000000000003, 258.04, 270.84, 251.57999999999998, 262.32, 255.71999999999997, 258.03999999999996, 265.53999999999996, 272.26, 287.21999999999997, 302.38, 287.44, 307.94000000000005, 283.76, 290.16, 271.36, 287.52, 281.2, 325.6400000000001, 305.64000000000004, 257.84000000000003, 251.58000000000004, 286.16, 288.32, 303.86, 298.04, 317.04, 312.71999999999997, 304.68000000000006, 296.46, 286.05999999999995, 298.41999999999996, 312.02, 262.14, 278.0, 264.84, 310.85999999999996, 290.13999999999993]\n"
          ]
        }
      ]
    },
    {
      "cell_type": "markdown",
      "metadata": {
        "id": "pmPg3kEKzSs9"
      },
      "source": [
        "* HW 03: Do-it-yourself III : groupby 를 이용하여 아래처럼 출력해보세요\n",
        "```\n",
        "experiment number ID\n",
        "1     278.68\n",
        "2     278.52\n",
        "3     259.56\n",
        "       ...  \n",
        "59    264.84\n",
        "60    310.86\n",
        "61    290.14\n",
        "Name: interval, Length: 61, dtype: float64\n",
        "```"
      ]
    },
    {
      "cell_type": "markdown",
      "metadata": {
        "id": "wypklwyu_joW"
      },
      "source": [
        "* 동작별 수행시간 알아보기"
      ]
    },
    {
      "cell_type": "markdown",
      "metadata": {
        "id": "ZTD_Ve5d_vza"
      },
      "source": [
        "우선 아래처럼 일반적인 list를 numpy array 로 변경합니다."
      ]
    },
    {
      "cell_type": "code",
      "metadata": {
        "id": "fwFN3Y8ixhWG",
        "colab": {
          "base_uri": "https://localhost:8080/",
          "height": 232
        },
        "outputId": "46be3d3d-3738-4bb7-c71e-fd86e3d2fb9c"
      },
      "source": [
        "t_activity = np.array(t_activity)\n",
        "t_users = np.array(t_users)\n",
        "t_experiment_id = np.array(t_experiment_id)"
      ],
      "execution_count": null,
      "outputs": [
        {
          "output_type": "error",
          "ename": "NameError",
          "evalue": "ignored",
          "traceback": [
            "\u001b[0;31m---------------------------------------------------------------------------\u001b[0m",
            "\u001b[0;31mNameError\u001b[0m                                 Traceback (most recent call last)",
            "\u001b[0;32m<ipython-input-31-3a3b5b97812b>\u001b[0m in \u001b[0;36m<module>\u001b[0;34m()\u001b[0m\n\u001b[0;32m----> 1\u001b[0;31m \u001b[0mt_activity\u001b[0m \u001b[0;34m=\u001b[0m \u001b[0mnp\u001b[0m\u001b[0;34m.\u001b[0m\u001b[0marray\u001b[0m\u001b[0;34m(\u001b[0m\u001b[0mt_activity\u001b[0m\u001b[0;34m)\u001b[0m\u001b[0;34m\u001b[0m\u001b[0;34m\u001b[0m\u001b[0m\n\u001b[0m\u001b[1;32m      2\u001b[0m \u001b[0mt_users\u001b[0m \u001b[0;34m=\u001b[0m \u001b[0mnp\u001b[0m\u001b[0;34m.\u001b[0m\u001b[0marray\u001b[0m\u001b[0;34m(\u001b[0m\u001b[0mt_users\u001b[0m\u001b[0;34m)\u001b[0m\u001b[0;34m\u001b[0m\u001b[0;34m\u001b[0m\u001b[0m\n\u001b[1;32m      3\u001b[0m \u001b[0mt_experiment_id\u001b[0m \u001b[0;34m=\u001b[0m \u001b[0mnp\u001b[0m\u001b[0;34m.\u001b[0m\u001b[0marray\u001b[0m\u001b[0;34m(\u001b[0m\u001b[0mt_experiment_id\u001b[0m\u001b[0;34m)\u001b[0m\u001b[0;34m\u001b[0m\u001b[0;34m\u001b[0m\u001b[0m\n",
            "\u001b[0;31mNameError\u001b[0m: name 't_activity' is not defined"
          ]
        }
      ]
    },
    {
      "cell_type": "markdown",
      "metadata": {
        "id": "vIK2DRCWAkdG"
      },
      "source": [
        "초(sec)을 분(minute)으로 환산"
      ]
    },
    {
      "cell_type": "code",
      "metadata": {
        "id": "fSC3cFEYAh1i"
      },
      "source": [
        "t_activity = t_activity/60\n",
        "t_users = t_users/60\n",
        "t_experiment_id = t_experiment_id/60"
      ],
      "execution_count": null,
      "outputs": []
    },
    {
      "cell_type": "code",
      "metadata": {
        "id": "qoRtBTBRxhWH"
      },
      "source": [
        "fig, ((ax1,ax2,ax3)) = plt.subplots(3,1, figsize=(15,8))\n",
        "plt.tight_layout(pad=2)\n",
        "\n",
        "t = [ x+1 for x in range(61)]\n",
        "sns.barplot(t, t_experiment_id, ax= ax1)\n",
        "\n",
        "t = [ x+1 for x in range(30)]\n",
        "sns.barplot(t, t_users, ax= ax2)\n",
        "\n",
        "t = [ x+1 for x in range(n_classes)]\n",
        "sns.barplot(t, t_activity, ax= ax3)\n",
        "\n",
        "ax1.set(ylabel='Time (min)',title=\"Experiment number ID\")\n",
        "ax2.set(ylabel='Time (min)',title=\"User number ID\")\n",
        "ax3.set(ylabel='Time (min)',title=\"Activity number ID\")"
      ],
      "execution_count": null,
      "outputs": []
    },
    {
      "cell_type": "markdown",
      "metadata": {
        "id": "kLgjb_RdxhWH"
      },
      "source": [
        "알게된 것\n",
        "* end point - strat point를 해서 interval을 구해보면 동작을 수행한 시간이 나오는데, 단위는 ms이다.\n",
        "* 첫번째 그래프를 보면 대부분의 실험은 4분 정도 수행됐다.\n",
        "* 두번째 그래프를 보면 대부분의 참가자는 10분 정도의 데이터를 모았다.\n",
        "* 세번째 그래프를 보면 1 ~ 6번 클래스는 30분 이상 모였으며, 7 ~ 12번 클래스는 대략 5분 정도 모인것을 알 수 있다."
      ]
    },
    {
      "cell_type": "markdown",
      "metadata": {
        "id": "vSsUuX_mxhWH"
      },
      "source": [
        "### 시간 분포보기"
      ]
    },
    {
      "cell_type": "markdown",
      "metadata": {
        "id": "7HX6l7MsxhWH"
      },
      "source": [
        "* 각 실험마다 한 동작의 수행 시간"
      ]
    },
    {
      "cell_type": "code",
      "metadata": {
        "scrolled": true,
        "colab": {
          "base_uri": "https://localhost:8080/",
          "height": 423
        },
        "id": "EInOb9oZxhWI",
        "outputId": "449f3d9a-4701-4923-e053-0e7ec8a2a3c1"
      },
      "source": [
        "df[['interval', 'experiment number ID','activity number ID']]"
      ],
      "execution_count": null,
      "outputs": [
        {
          "output_type": "execute_result",
          "data": {
            "text/html": [
              "<div>\n",
              "<style scoped>\n",
              "    .dataframe tbody tr th:only-of-type {\n",
              "        vertical-align: middle;\n",
              "    }\n",
              "\n",
              "    .dataframe tbody tr th {\n",
              "        vertical-align: top;\n",
              "    }\n",
              "\n",
              "    .dataframe thead th {\n",
              "        text-align: right;\n",
              "    }\n",
              "</style>\n",
              "<table border=\"1\" class=\"dataframe\">\n",
              "  <thead>\n",
              "    <tr style=\"text-align: right;\">\n",
              "      <th></th>\n",
              "      <th>interval</th>\n",
              "      <th>experiment number ID</th>\n",
              "      <th>activity number ID</th>\n",
              "    </tr>\n",
              "  </thead>\n",
              "  <tbody>\n",
              "    <tr>\n",
              "      <th>0</th>\n",
              "      <td>19.64</td>\n",
              "      <td>1</td>\n",
              "      <td>5</td>\n",
              "    </tr>\n",
              "    <tr>\n",
              "      <th>1</th>\n",
              "      <td>3.18</td>\n",
              "      <td>1</td>\n",
              "      <td>7</td>\n",
              "    </tr>\n",
              "    <tr>\n",
              "      <th>2</th>\n",
              "      <td>16.02</td>\n",
              "      <td>1</td>\n",
              "      <td>4</td>\n",
              "    </tr>\n",
              "    <tr>\n",
              "      <th>3</th>\n",
              "      <td>3.28</td>\n",
              "      <td>1</td>\n",
              "      <td>8</td>\n",
              "    </tr>\n",
              "    <tr>\n",
              "      <th>4</th>\n",
              "      <td>20.28</td>\n",
              "      <td>1</td>\n",
              "      <td>5</td>\n",
              "    </tr>\n",
              "    <tr>\n",
              "      <th>...</th>\n",
              "      <td>...</td>\n",
              "      <td>...</td>\n",
              "      <td>...</td>\n",
              "    </tr>\n",
              "    <tr>\n",
              "      <th>1209</th>\n",
              "      <td>14.64</td>\n",
              "      <td>61</td>\n",
              "      <td>2</td>\n",
              "    </tr>\n",
              "    <tr>\n",
              "      <th>1210</th>\n",
              "      <td>13.52</td>\n",
              "      <td>61</td>\n",
              "      <td>3</td>\n",
              "    </tr>\n",
              "    <tr>\n",
              "      <th>1211</th>\n",
              "      <td>14.62</td>\n",
              "      <td>61</td>\n",
              "      <td>2</td>\n",
              "    </tr>\n",
              "    <tr>\n",
              "      <th>1212</th>\n",
              "      <td>14.08</td>\n",
              "      <td>61</td>\n",
              "      <td>3</td>\n",
              "    </tr>\n",
              "    <tr>\n",
              "      <th>1213</th>\n",
              "      <td>14.06</td>\n",
              "      <td>61</td>\n",
              "      <td>2</td>\n",
              "    </tr>\n",
              "  </tbody>\n",
              "</table>\n",
              "<p>1214 rows × 3 columns</p>\n",
              "</div>"
            ],
            "text/plain": [
              "      interval  experiment number ID  activity number ID\n",
              "0        19.64                     1                   5\n",
              "1         3.18                     1                   7\n",
              "2        16.02                     1                   4\n",
              "3         3.28                     1                   8\n",
              "4        20.28                     1                   5\n",
              "...        ...                   ...                 ...\n",
              "1209     14.64                    61                   2\n",
              "1210     13.52                    61                   3\n",
              "1211     14.62                    61                   2\n",
              "1212     14.08                    61                   3\n",
              "1213     14.06                    61                   2\n",
              "\n",
              "[1214 rows x 3 columns]"
            ]
          },
          "metadata": {},
          "execution_count": 37
        }
      ]
    },
    {
      "cell_type": "markdown",
      "metadata": {
        "id": "VywIEZUa4FPQ"
      },
      "source": [
        "#### Categorical plot (catplot) 그려보기"
      ]
    },
    {
      "cell_type": "markdown",
      "metadata": {
        "id": "sdfEX9pADRX3"
      },
      "source": [
        "* 각 실험마다 수행한 동작에 대한 시간"
      ]
    },
    {
      "cell_type": "code",
      "metadata": {
        "colab": {
          "base_uri": "https://localhost:8080/",
          "height": 387
        },
        "id": "_BeiJKSlxhWI",
        "outputId": "e51e19ff-29be-4081-93e4-91515f1fcfa4"
      },
      "source": [
        "e_graph = sns.catplot(x = \"experiment number ID\", y = \"interval\", data = df, aspect=2.5)#\n",
        "e_graph.set_axis_labels(\"Experiment number ID\", \"Time(sec)\")"
      ],
      "execution_count": null,
      "outputs": [
        {
          "output_type": "execute_result",
          "data": {
            "text/plain": [
              "<seaborn.axisgrid.FacetGrid at 0x7ff1d22d9290>"
            ]
          },
          "metadata": {},
          "execution_count": 38
        },
        {
          "output_type": "display_data",
          "data": {
            "image/png": "[encoded data removed]",
            "text/plain": [
              "<Figure size 900x360 with 1 Axes>"
            ]
          },
          "metadata": {
            "needs_background": "light"
          }
        }
      ]
    },
    {
      "cell_type": "markdown",
      "metadata": {
        "id": "dMU9kPabxhWI"
      },
      "source": [
        "* 각 사람마다 몇 번의 동작을 오래 수행했는지에 대한 시간"
      ]
    },
    {
      "cell_type": "code",
      "metadata": {
        "colab": {
          "base_uri": "https://localhost:8080/",
          "height": 387
        },
        "id": "Xecjqo_mxhWI",
        "outputId": "6e54ef79-b0cb-4912-e6fc-b5179d2ce249"
      },
      "source": [
        "u_graph = sns.catplot(x = \"user number ID\", y = \"interval\", hue = \"activity number ID\", data = df, aspect=1.5)\n",
        "u_graph.set_axis_labels(\"User number ID\", \"Time(sec)\")"
      ],
      "execution_count": null,
      "outputs": [
        {
          "output_type": "execute_result",
          "data": {
            "text/plain": [
              "<seaborn.axisgrid.FacetGrid at 0x7ff1cf2473d0>"
            ]
          },
          "metadata": {},
          "execution_count": 39
        },
        {
          "output_type": "display_data",
          "data": {
            "image/png": "[encoded data removed]",
            "text/plain": [
              "<Figure size 640.625x360 with 1 Axes>"
            ]
          },
          "metadata": {
            "needs_background": "light"
          }
        }
      ]
    },
    {
      "cell_type": "markdown",
      "metadata": {
        "id": "2OsKrNOoxhWI"
      },
      "source": [
        "* 동작별 지속 시간"
      ]
    },
    {
      "cell_type": "code",
      "metadata": {
        "colab": {
          "base_uri": "https://localhost:8080/",
          "height": 459
        },
        "id": "O6O_HUn8xhWJ",
        "outputId": "687c8c3d-da15-4d5f-f070-645921c0ea72"
      },
      "source": [
        "a_graph = sns.catplot(x = \"activity number ID\", y = \"interval\", data = df, height=6)\n",
        "a_graph.set_axis_labels(\"Activity number ID\", \"Time(sec)\")\n",
        "plt.legend(motionname)"
      ],
      "execution_count": null,
      "outputs": [
        {
          "output_type": "execute_result",
          "data": {
            "text/plain": [
              "<matplotlib.legend.Legend at 0x7ff1bdd68b10>"
            ]
          },
          "metadata": {},
          "execution_count": 40
        },
        {
          "output_type": "display_data",
          "data": {
            "image/png": "[encoded data removed]",
            "text/plain": [
              "<Figure size 432x432 with 1 Axes>"
            ]
          },
          "metadata": {
            "needs_background": "light"
          }
        }
      ]
    }
  ]
}